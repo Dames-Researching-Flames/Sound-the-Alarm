{
 "cells": [
  {
   "cell_type": "code",
   "execution_count": 1,
   "id": "99ad45b4",
   "metadata": {},
   "outputs": [],
   "source": [
    "# imports\n",
    "import pandas as pd\n",
    "import numpy as np\n",
    "import matplotlib.pyplot as plt\n",
    "import seaborn as sns\n",
    "from wrangle import wrangle_fires"
   ]
  },
  {
   "cell_type": "code",
   "execution_count": 2,
   "id": "630eda30",
   "metadata": {},
   "outputs": [
    {
     "name": "stderr",
     "output_type": "stream",
     "text": [
      "/opt/homebrew/anaconda3/lib/python3.8/site-packages/IPython/core/interactiveshell.py:3437: DtypeWarning: Columns (8,10,11,12,13,14,15,16,17,18,25,26,35,37) have mixed types.Specify dtype option on import or set low_memory=False.\n",
      "  exec(code_obj, self.user_global_ns, self.user_ns)\n",
      "/opt/homebrew/anaconda3/lib/python3.8/site-packages/numpy/lib/arraysetops.py:583: FutureWarning: elementwise comparison failed; returning scalar instead, but in the future will perform elementwise comparison\n",
      "  mask |= (ar1 == a)\n"
     ]
    },
    {
     "data": {
      "text/html": [
       "<div>\n",
       "<style scoped>\n",
       "    .dataframe tbody tr th:only-of-type {\n",
       "        vertical-align: middle;\n",
       "    }\n",
       "\n",
       "    .dataframe tbody tr th {\n",
       "        vertical-align: top;\n",
       "    }\n",
       "\n",
       "    .dataframe thead th {\n",
       "        text-align: right;\n",
       "    }\n",
       "</style>\n",
       "<table border=\"1\" class=\"dataframe\">\n",
       "  <thead>\n",
       "    <tr style=\"text-align: right;\">\n",
       "      <th></th>\n",
       "      <th>fire_year</th>\n",
       "      <th>discovery_date</th>\n",
       "      <th>general_cause</th>\n",
       "      <th>containment_date</th>\n",
       "      <th>fire_size</th>\n",
       "      <th>latitude</th>\n",
       "      <th>longitude</th>\n",
       "      <th>state</th>\n",
       "    </tr>\n",
       "  </thead>\n",
       "  <tbody>\n",
       "    <tr>\n",
       "      <th>0</th>\n",
       "      <td>2005</td>\n",
       "      <td>2005-02-02</td>\n",
       "      <td>Power generation/transmission/distribution</td>\n",
       "      <td>2005-02-02</td>\n",
       "      <td>0.10</td>\n",
       "      <td>40.036944</td>\n",
       "      <td>-121.005833</td>\n",
       "      <td>CA</td>\n",
       "    </tr>\n",
       "    <tr>\n",
       "      <th>1</th>\n",
       "      <td>2004</td>\n",
       "      <td>2004-05-12</td>\n",
       "      <td>Natural</td>\n",
       "      <td>2004-05-12</td>\n",
       "      <td>0.25</td>\n",
       "      <td>38.933056</td>\n",
       "      <td>-120.404444</td>\n",
       "      <td>CA</td>\n",
       "    </tr>\n",
       "    <tr>\n",
       "      <th>2</th>\n",
       "      <td>2004</td>\n",
       "      <td>2004-05-31</td>\n",
       "      <td>Debris and open burning</td>\n",
       "      <td>2004-05-31</td>\n",
       "      <td>0.10</td>\n",
       "      <td>38.984167</td>\n",
       "      <td>-120.735556</td>\n",
       "      <td>CA</td>\n",
       "    </tr>\n",
       "    <tr>\n",
       "      <th>3</th>\n",
       "      <td>2004</td>\n",
       "      <td>2004-06-28</td>\n",
       "      <td>Natural</td>\n",
       "      <td>2004-07-03</td>\n",
       "      <td>0.10</td>\n",
       "      <td>38.559167</td>\n",
       "      <td>-119.913333</td>\n",
       "      <td>CA</td>\n",
       "    </tr>\n",
       "    <tr>\n",
       "      <th>4</th>\n",
       "      <td>2004</td>\n",
       "      <td>2004-06-28</td>\n",
       "      <td>Natural</td>\n",
       "      <td>2004-07-03</td>\n",
       "      <td>0.10</td>\n",
       "      <td>38.559167</td>\n",
       "      <td>-119.933056</td>\n",
       "      <td>CA</td>\n",
       "    </tr>\n",
       "  </tbody>\n",
       "</table>\n",
       "</div>"
      ],
      "text/plain": [
       "   fire_year discovery_date                               general_cause  \\\n",
       "0       2005     2005-02-02  Power generation/transmission/distribution   \n",
       "1       2004     2004-05-12                                     Natural   \n",
       "2       2004     2004-05-31                     Debris and open burning   \n",
       "3       2004     2004-06-28                                     Natural   \n",
       "4       2004     2004-06-28                                     Natural   \n",
       "\n",
       "  containment_date  fire_size   latitude   longitude state  \n",
       "0       2005-02-02       0.10  40.036944 -121.005833    CA  \n",
       "1       2004-05-12       0.25  38.933056 -120.404444    CA  \n",
       "2       2004-05-31       0.10  38.984167 -120.735556    CA  \n",
       "3       2004-07-03       0.10  38.559167 -119.913333    CA  \n",
       "4       2004-07-03       0.10  38.559167 -119.933056    CA  "
      ]
     },
     "execution_count": 2,
     "metadata": {},
     "output_type": "execute_result"
    }
   ],
   "source": [
    "# wrangle data\n",
    "fires = wrangle_fires()\n",
    "fires.head()"
   ]
  },
  {
   "cell_type": "markdown",
   "id": "446ebf60",
   "metadata": {},
   "source": [
    "# Exploration"
   ]
  },
  {
   "cell_type": "markdown",
   "id": "a3a9f9ac",
   "metadata": {},
   "source": [
    "**Initial Questions**\n",
    "\n",
    "- Are wildfires more destructive now than they were in the past? \n",
    "\n",
    "- What are the most common causes of wildfires? \n",
    "\n",
    "- Is there anything that can be done to prevent that?"
   ]
  },
  {
   "cell_type": "code",
   "execution_count": 3,
   "id": "d5ef5831",
   "metadata": {},
   "outputs": [
    {
     "data": {
      "text/plain": [
       "0.100        2.493639e-01\n",
       "1.000        1.172169e-01\n",
       "0.500        5.800523e-02\n",
       "2.000        5.577655e-02\n",
       "0.200        3.774542e-02\n",
       "                 ...     \n",
       "10484.000    4.615201e-07\n",
       "2.011        4.615201e-07\n",
       "220.800      4.615201e-07\n",
       "232.400      4.615201e-07\n",
       "209.600      4.615201e-07\n",
       "Name: fire_size, Length: 17055, dtype: float64"
      ]
     },
     "execution_count": 3,
     "metadata": {},
     "output_type": "execute_result"
    }
   ],
   "source": [
    "fires.fire_size.value_counts(normalize = True)\n"
   ]
  },
  {
   "cell_type": "code",
   "execution_count": 4,
   "id": "03c19ca3",
   "metadata": {},
   "outputs": [
    {
     "data": {
      "text/plain": [
       "2006    0.054433\n",
       "2011    0.045646\n",
       "2007    0.045615\n",
       "2000    0.044489\n",
       "2005    0.042885\n",
       "1999    0.041237\n",
       "2008    0.040755\n",
       "2001    0.040153\n",
       "2010    0.039496\n",
       "2017    0.037973\n",
       "2016    0.037842\n",
       "2009    0.037610\n",
       "2018    0.037320\n",
       "2015    0.035664\n",
       "2002    0.035135\n",
       "1994    0.035044\n",
       "1996    0.034873\n",
       "2012    0.034272\n",
       "1995    0.032971\n",
       "2014    0.032528\n",
       "2004    0.032016\n",
       "1998    0.031548\n",
       "2003    0.031510\n",
       "1992    0.031365\n",
       "2013    0.030661\n",
       "1993    0.028603\n",
       "1997    0.028357\n",
       "Name: fire_year, dtype: float64"
      ]
     },
     "execution_count": 4,
     "metadata": {},
     "output_type": "execute_result"
    }
   ],
   "source": [
    "fires.fire_year.value_counts(normalize = True)\n",
    "\n"
   ]
  },
  {
   "cell_type": "code",
   "execution_count": 5,
   "id": "15288bb2",
   "metadata": {},
   "outputs": [
    {
     "data": {
      "image/png": "[encoded data removed]",
      "text/plain": [
       "<Figure size 720x576 with 1 Axes>"
      ]
     },
     "metadata": {
      "needs_background": "light"
     },
     "output_type": "display_data"
    }
   ],
   "source": [
    "# plot data for fires vs state\n",
    "\n",
    "fig = plt.figure(figsize=(10, 8))\n",
    "ax = fires.state.value_counts().plot.bar(width=.7, ec='black', color = 'orange')\n",
    "ax.set(title='# of Fires vs State', ylabel='Number of Fires', xlabel='State')\n",
    "plt.savefig(\"Dist.png\")"
   ]
  },
  {
   "cell_type": "code",
   "execution_count": 6,
   "id": "87e2d8c6",
   "metadata": {},
   "outputs": [
    {
     "data": {
      "image/png": "[encoded data removed]",
      "text/plain": [
       "<Figure size 720x576 with 1 Axes>"
      ]
     },
     "metadata": {
      "needs_background": "light"
     },
     "output_type": "display_data"
    }
   ],
   "source": [
    "# plotted data for cause of wildfire and # of fires\n",
    "\n",
    "fig = plt.figure(figsize=(10, 8))\n",
    "ax = fires.general_cause.value_counts().plot.bar(width=.7, ec='black', color='red')\n",
    "ax.set(title='# of Fires vs cause', ylabel='Number of Fires', xlabel='cause')\n",
    "plt.savefig(\"Dist.png\")"
   ]
  },
  {
   "cell_type": "markdown",
   "id": "fff1b6d6",
   "metadata": {},
   "source": [
    "# Largest cause of wildfires is \"missing data/not specified/undetermined\"\n",
    "- Debris and open burning, Natural, Arson are causes for most wildfires"
   ]
  },
  {
   "cell_type": "code",
   "execution_count": 7,
   "id": "f8fa15b3",
   "metadata": {},
   "outputs": [
    {
     "data": {
      "text/html": [
       "<div>\n",
       "<style scoped>\n",
       "    .dataframe tbody tr th:only-of-type {\n",
       "        vertical-align: middle;\n",
       "    }\n",
       "\n",
       "    .dataframe tbody tr th {\n",
       "        vertical-align: top;\n",
       "    }\n",
       "\n",
       "    .dataframe thead th {\n",
       "        text-align: right;\n",
       "    }\n",
       "</style>\n",
       "<table border=\"1\" class=\"dataframe\">\n",
       "  <thead>\n",
       "    <tr style=\"text-align: right;\">\n",
       "      <th></th>\n",
       "      <th>fire_year</th>\n",
       "      <th>discovery_date</th>\n",
       "      <th>general_cause</th>\n",
       "      <th>containment_date</th>\n",
       "      <th>fire_size</th>\n",
       "      <th>latitude</th>\n",
       "      <th>longitude</th>\n",
       "      <th>state</th>\n",
       "    </tr>\n",
       "  </thead>\n",
       "  <tbody>\n",
       "    <tr>\n",
       "      <th>696811</th>\n",
       "      <td>1992</td>\n",
       "      <td>1992-05-17</td>\n",
       "      <td>Arson/incendiarism</td>\n",
       "      <td>1992-05-17</td>\n",
       "      <td>2.0000</td>\n",
       "      <td>31.023204</td>\n",
       "      <td>-89.452709</td>\n",
       "      <td>MS</td>\n",
       "    </tr>\n",
       "    <tr>\n",
       "      <th>762318</th>\n",
       "      <td>1992</td>\n",
       "      <td>1992-06-14</td>\n",
       "      <td>Debris and open burning</td>\n",
       "      <td>NaT</td>\n",
       "      <td>0.1000</td>\n",
       "      <td>45.637770</td>\n",
       "      <td>-122.241150</td>\n",
       "      <td>WA</td>\n",
       "    </tr>\n",
       "    <tr>\n",
       "      <th>762317</th>\n",
       "      <td>1992</td>\n",
       "      <td>1992-06-16</td>\n",
       "      <td>Debris and open burning</td>\n",
       "      <td>NaT</td>\n",
       "      <td>0.1000</td>\n",
       "      <td>45.723490</td>\n",
       "      <td>-121.592050</td>\n",
       "      <td>WA</td>\n",
       "    </tr>\n",
       "    <tr>\n",
       "      <th>762316</th>\n",
       "      <td>1992</td>\n",
       "      <td>1992-09-15</td>\n",
       "      <td>Smoking</td>\n",
       "      <td>NaT</td>\n",
       "      <td>2.1000</td>\n",
       "      <td>47.515890</td>\n",
       "      <td>-122.899630</td>\n",
       "      <td>WA</td>\n",
       "    </tr>\n",
       "    <tr>\n",
       "      <th>762315</th>\n",
       "      <td>1992</td>\n",
       "      <td>1992-09-10</td>\n",
       "      <td>Other causes</td>\n",
       "      <td>NaT</td>\n",
       "      <td>1.0000</td>\n",
       "      <td>47.441770</td>\n",
       "      <td>-122.830120</td>\n",
       "      <td>WA</td>\n",
       "    </tr>\n",
       "    <tr>\n",
       "      <th>...</th>\n",
       "      <td>...</td>\n",
       "      <td>...</td>\n",
       "      <td>...</td>\n",
       "      <td>...</td>\n",
       "      <td>...</td>\n",
       "      <td>...</td>\n",
       "      <td>...</td>\n",
       "      <td>...</td>\n",
       "    </tr>\n",
       "    <tr>\n",
       "      <th>2097751</th>\n",
       "      <td>2018</td>\n",
       "      <td>2018-02-04</td>\n",
       "      <td>Missing data/not specified/undetermined</td>\n",
       "      <td>2018-02-04</td>\n",
       "      <td>0.0250</td>\n",
       "      <td>41.144960</td>\n",
       "      <td>-73.934180</td>\n",
       "      <td>NY</td>\n",
       "    </tr>\n",
       "    <tr>\n",
       "      <th>2097750</th>\n",
       "      <td>2018</td>\n",
       "      <td>2018-02-04</td>\n",
       "      <td>Missing data/not specified/undetermined</td>\n",
       "      <td>2018-02-04</td>\n",
       "      <td>0.0010</td>\n",
       "      <td>38.490000</td>\n",
       "      <td>-105.324800</td>\n",
       "      <td>CO</td>\n",
       "    </tr>\n",
       "    <tr>\n",
       "      <th>2097749</th>\n",
       "      <td>2018</td>\n",
       "      <td>2018-02-04</td>\n",
       "      <td>Missing data/not specified/undetermined</td>\n",
       "      <td>2018-02-04</td>\n",
       "      <td>0.1000</td>\n",
       "      <td>39.124090</td>\n",
       "      <td>-95.637404</td>\n",
       "      <td>KS</td>\n",
       "    </tr>\n",
       "    <tr>\n",
       "      <th>2097759</th>\n",
       "      <td>2018</td>\n",
       "      <td>2018-02-04</td>\n",
       "      <td>Missing data/not specified/undetermined</td>\n",
       "      <td>2018-02-04</td>\n",
       "      <td>1.1000</td>\n",
       "      <td>33.990200</td>\n",
       "      <td>-109.188000</td>\n",
       "      <td>AZ</td>\n",
       "    </tr>\n",
       "    <tr>\n",
       "      <th>2094918</th>\n",
       "      <td>2018</td>\n",
       "      <td>2018-07-16</td>\n",
       "      <td>Arson/incendiarism</td>\n",
       "      <td>2018-07-16</td>\n",
       "      <td>0.0519</td>\n",
       "      <td>40.776850</td>\n",
       "      <td>-72.850050</td>\n",
       "      <td>NY</td>\n",
       "    </tr>\n",
       "  </tbody>\n",
       "</table>\n",
       "<p>2166753 rows × 8 columns</p>\n",
       "</div>"
      ],
      "text/plain": [
       "         fire_year discovery_date                            general_cause  \\\n",
       "696811        1992     1992-05-17                       Arson/incendiarism   \n",
       "762318        1992     1992-06-14                  Debris and open burning   \n",
       "762317        1992     1992-06-16                  Debris and open burning   \n",
       "762316        1992     1992-09-15                                  Smoking   \n",
       "762315        1992     1992-09-10                             Other causes   \n",
       "...            ...            ...                                      ...   \n",
       "2097751       2018     2018-02-04  Missing data/not specified/undetermined   \n",
       "2097750       2018     2018-02-04  Missing data/not specified/undetermined   \n",
       "2097749       2018     2018-02-04  Missing data/not specified/undetermined   \n",
       "2097759       2018     2018-02-04  Missing data/not specified/undetermined   \n",
       "2094918       2018     2018-07-16                       Arson/incendiarism   \n",
       "\n",
       "        containment_date  fire_size   latitude   longitude state  \n",
       "696811        1992-05-17     2.0000  31.023204  -89.452709    MS  \n",
       "762318               NaT     0.1000  45.637770 -122.241150    WA  \n",
       "762317               NaT     0.1000  45.723490 -121.592050    WA  \n",
       "762316               NaT     2.1000  47.515890 -122.899630    WA  \n",
       "762315               NaT     1.0000  47.441770 -122.830120    WA  \n",
       "...                  ...        ...        ...         ...   ...  \n",
       "2097751       2018-02-04     0.0250  41.144960  -73.934180    NY  \n",
       "2097750       2018-02-04     0.0010  38.490000 -105.324800    CO  \n",
       "2097749       2018-02-04     0.1000  39.124090  -95.637404    KS  \n",
       "2097759       2018-02-04     1.1000  33.990200 -109.188000    AZ  \n",
       "2094918       2018-07-16     0.0519  40.776850  -72.850050    NY  \n",
       "\n",
       "[2166753 rows x 8 columns]"
      ]
     },
     "execution_count": 7,
     "metadata": {},
     "output_type": "execute_result"
    }
   ],
   "source": [
    "sorted_df = fires.sort_values(by=['fire_year'], ascending=True)\n",
    "sorted_df"
   ]
  },
  {
   "cell_type": "code",
   "execution_count": 8,
   "id": "0b8ae069",
   "metadata": {},
   "outputs": [
    {
     "data": {
      "image/png": "[encoded data removed]",
      "text/plain": [
       "<Figure size 720x576 with 1 Axes>"
      ]
     },
     "metadata": {
      "needs_background": "light"
     },
     "output_type": "display_data"
    }
   ],
   "source": [
    "# plot comparison of fire size over span of years\n",
    "\n",
    "x = fires.fire_year\n",
    "y = fires.fire_size\n",
    "\n",
    "fig = plt.figure(figsize=(10, 8))\n",
    "plt.plot(x, y, color='red', marker='.')\n",
    "plt.title('Fire Size Vs Year', fontsize=14)\n",
    "plt.xlabel('Year', fontsize=14)\n",
    "plt.ylabel('size', fontsize=14)\n",
    "plt.grid(True)\n",
    "plt.show()"
   ]
  },
  {
   "cell_type": "code",
   "execution_count": 9,
   "id": "2a14e388",
   "metadata": {},
   "outputs": [
    {
     "data": {
      "text/plain": [
       "[Text(0, 0, '1992'),\n",
       " Text(1, 0, '1993'),\n",
       " Text(2, 0, '1994'),\n",
       " Text(3, 0, '1995'),\n",
       " Text(4, 0, '1996'),\n",
       " Text(5, 0, '1997'),\n",
       " Text(6, 0, '1998'),\n",
       " Text(7, 0, '1999'),\n",
       " Text(8, 0, '2000'),\n",
       " Text(9, 0, '2001'),\n",
       " Text(10, 0, '2002'),\n",
       " Text(11, 0, '2003'),\n",
       " Text(12, 0, '2004'),\n",
       " Text(13, 0, '2005'),\n",
       " Text(14, 0, '2006'),\n",
       " Text(15, 0, '2007'),\n",
       " Text(16, 0, '2008'),\n",
       " Text(17, 0, '2009'),\n",
       " Text(18, 0, '2010'),\n",
       " Text(19, 0, '2011'),\n",
       " Text(20, 0, '2012'),\n",
       " Text(21, 0, '2013'),\n",
       " Text(22, 0, '2014'),\n",
       " Text(23, 0, '2015'),\n",
       " Text(24, 0, '2016'),\n",
       " Text(25, 0, '2017'),\n",
       " Text(26, 0, '2018')]"
      ]
     },
     "execution_count": 9,
     "metadata": {},
     "output_type": "execute_result"
    },
    {
     "data": {
      "image/png": "[encoded data removed]",
      "text/plain": [
       "<Figure size 432x288 with 1 Axes>"
      ]
     },
     "metadata": {
      "needs_background": "light"
     },
     "output_type": "display_data"
    }
   ],
   "source": [
    "firesizeyear=sns.barplot(x=\"fire_year\", y=\"fire_size\", data=fires,color='red')\n",
    "firesizeyear.set_title('fire size per year')\n",
    "firesizeyear.set_xticklabels(firesizeyear.get_xticklabels(),rotation=90)"
   ]
  },
  {
   "cell_type": "markdown",
   "id": "bf97ec1e",
   "metadata": {},
   "source": [
    "# Takeaways:\n",
    "\n",
    "- Top 5 US states with the most wildfires in ascending order are: California, Georgia, Texas, North Carolina, Florida.\n",
    "\n",
    "\n",
    "- There does not seem to be a consistent trend for the size of fires vs. time, the sizes of the wildfires do not show they are getting bigger or smaller as time progresses.\n",
    "\n"
   ]
  },
  {
   "cell_type": "code",
   "execution_count": 10,
   "id": "aff4f52a",
   "metadata": {},
   "outputs": [
    {
     "data": {
      "text/html": [
       "<div>\n",
       "<style scoped>\n",
       "    .dataframe tbody tr th:only-of-type {\n",
       "        vertical-align: middle;\n",
       "    }\n",
       "\n",
       "    .dataframe tbody tr th {\n",
       "        vertical-align: top;\n",
       "    }\n",
       "\n",
       "    .dataframe thead th {\n",
       "        text-align: right;\n",
       "    }\n",
       "</style>\n",
       "<table border=\"1\" class=\"dataframe\">\n",
       "  <thead>\n",
       "    <tr style=\"text-align: right;\">\n",
       "      <th></th>\n",
       "      <th>fire_year</th>\n",
       "      <th>discovery_date</th>\n",
       "      <th>general_cause</th>\n",
       "      <th>containment_date</th>\n",
       "      <th>fire_size</th>\n",
       "      <th>latitude</th>\n",
       "      <th>longitude</th>\n",
       "      <th>state</th>\n",
       "    </tr>\n",
       "  </thead>\n",
       "  <tbody>\n",
       "    <tr>\n",
       "      <th>0</th>\n",
       "      <td>2005</td>\n",
       "      <td>2005-02-02</td>\n",
       "      <td>Power generation/transmission/distribution</td>\n",
       "      <td>2005-02-02</td>\n",
       "      <td>0.10</td>\n",
       "      <td>40.036944</td>\n",
       "      <td>-121.005833</td>\n",
       "      <td>CA</td>\n",
       "    </tr>\n",
       "    <tr>\n",
       "      <th>1</th>\n",
       "      <td>2004</td>\n",
       "      <td>2004-05-12</td>\n",
       "      <td>Natural</td>\n",
       "      <td>2004-05-12</td>\n",
       "      <td>0.25</td>\n",
       "      <td>38.933056</td>\n",
       "      <td>-120.404444</td>\n",
       "      <td>CA</td>\n",
       "    </tr>\n",
       "    <tr>\n",
       "      <th>2</th>\n",
       "      <td>2004</td>\n",
       "      <td>2004-05-31</td>\n",
       "      <td>Debris and open burning</td>\n",
       "      <td>2004-05-31</td>\n",
       "      <td>0.10</td>\n",
       "      <td>38.984167</td>\n",
       "      <td>-120.735556</td>\n",
       "      <td>CA</td>\n",
       "    </tr>\n",
       "    <tr>\n",
       "      <th>3</th>\n",
       "      <td>2004</td>\n",
       "      <td>2004-06-28</td>\n",
       "      <td>Natural</td>\n",
       "      <td>2004-07-03</td>\n",
       "      <td>0.10</td>\n",
       "      <td>38.559167</td>\n",
       "      <td>-119.913333</td>\n",
       "      <td>CA</td>\n",
       "    </tr>\n",
       "    <tr>\n",
       "      <th>4</th>\n",
       "      <td>2004</td>\n",
       "      <td>2004-06-28</td>\n",
       "      <td>Natural</td>\n",
       "      <td>2004-07-03</td>\n",
       "      <td>0.10</td>\n",
       "      <td>38.559167</td>\n",
       "      <td>-119.933056</td>\n",
       "      <td>CA</td>\n",
       "    </tr>\n",
       "  </tbody>\n",
       "</table>\n",
       "</div>"
      ],
      "text/plain": [
       "   fire_year discovery_date                               general_cause  \\\n",
       "0       2005     2005-02-02  Power generation/transmission/distribution   \n",
       "1       2004     2004-05-12                                     Natural   \n",
       "2       2004     2004-05-31                     Debris and open burning   \n",
       "3       2004     2004-06-28                                     Natural   \n",
       "4       2004     2004-06-28                                     Natural   \n",
       "\n",
       "  containment_date  fire_size   latitude   longitude state  \n",
       "0       2005-02-02       0.10  40.036944 -121.005833    CA  \n",
       "1       2004-05-12       0.25  38.933056 -120.404444    CA  \n",
       "2       2004-05-31       0.10  38.984167 -120.735556    CA  \n",
       "3       2004-07-03       0.10  38.559167 -119.913333    CA  \n",
       "4       2004-07-03       0.10  38.559167 -119.933056    CA  "
      ]
     },
     "execution_count": 10,
     "metadata": {},
     "output_type": "execute_result"
    }
   ],
   "source": [
    "# overview of dataframe\n",
    "\n",
    "fires.head()"
   ]
  },
  {
   "cell_type": "code",
   "execution_count": 11,
   "id": "31c4ecc1",
   "metadata": {},
   "outputs": [
    {
     "data": {
      "text/plain": [
       "4173.00     4.615201e-07\n",
       "348.20      4.615201e-07\n",
       "3195.00     4.615201e-07\n",
       "94.38       4.615201e-07\n",
       "89366.00    4.615201e-07\n",
       "                ...     \n",
       "0.20        3.774542e-02\n",
       "2.00        5.577655e-02\n",
       "0.50        5.800523e-02\n",
       "1.00        1.172169e-01\n",
       "0.10        2.493639e-01\n",
       "Name: fire_size, Length: 17055, dtype: float64"
      ]
     },
     "execution_count": 11,
     "metadata": {},
     "output_type": "execute_result"
    }
   ],
   "source": [
    "fires.fire_size.value_counts(normalize = True, ascending=True)\n",
    "\n"
   ]
  },
  {
   "cell_type": "markdown",
   "id": "e7d34503",
   "metadata": {},
   "source": [
    "### Do any features strongly correlate with fire size?"
   ]
  },
  {
   "cell_type": "code",
   "execution_count": 12,
   "id": "22fe4724",
   "metadata": {},
   "outputs": [
    {
     "name": "stdout",
     "output_type": "stream",
     "text": [
      "Object `relationship` not found.\n"
     ]
    },
    {
     "data": {
      "image/png": "[encoded data removed]",
      "text/plain": [
       "<Figure size 432x288 with 1 Axes>"
      ]
     },
     "metadata": {
      "needs_background": "light"
     },
     "output_type": "display_data"
    }
   ],
   "source": [
    "# barplot shows a significantly larger fire in one particular state\n",
    "\n",
    "sns.barplot(x = 'state',y='fire_size',data=fires)\n",
    "- Is it a linear relationship or is there no relationship?"
   ]
  },
  {
   "cell_type": "code",
   "execution_count": 13,
   "id": "132eb6dd",
   "metadata": {},
   "outputs": [
    {
     "data": {
      "text/html": [
       "<div>\n",
       "<style scoped>\n",
       "    .dataframe tbody tr th:only-of-type {\n",
       "        vertical-align: middle;\n",
       "    }\n",
       "\n",
       "    .dataframe tbody tr th {\n",
       "        vertical-align: top;\n",
       "    }\n",
       "\n",
       "    .dataframe thead th {\n",
       "        text-align: right;\n",
       "    }\n",
       "</style>\n",
       "<table border=\"1\" class=\"dataframe\">\n",
       "  <thead>\n",
       "    <tr style=\"text-align: right;\">\n",
       "      <th></th>\n",
       "      <th>fire_year</th>\n",
       "      <th>discovery_date</th>\n",
       "      <th>general_cause</th>\n",
       "      <th>containment_date</th>\n",
       "      <th>fire_size</th>\n",
       "      <th>latitude</th>\n",
       "      <th>longitude</th>\n",
       "      <th>state</th>\n",
       "    </tr>\n",
       "  </thead>\n",
       "  <tbody>\n",
       "    <tr>\n",
       "      <th>2042982</th>\n",
       "      <td>2017</td>\n",
       "      <td>2017-03-07</td>\n",
       "      <td>Missing data/not specified/undetermined</td>\n",
       "      <td>NaT</td>\n",
       "      <td>662700.00000</td>\n",
       "      <td>36.774470</td>\n",
       "      <td>-100.175200</td>\n",
       "      <td>OK</td>\n",
       "    </tr>\n",
       "    <tr>\n",
       "      <th>211267</th>\n",
       "      <td>1997</td>\n",
       "      <td>1997-06-25</td>\n",
       "      <td>Natural</td>\n",
       "      <td>1997-09-09</td>\n",
       "      <td>606945.00000</td>\n",
       "      <td>61.982700</td>\n",
       "      <td>-157.085700</td>\n",
       "      <td>AK</td>\n",
       "    </tr>\n",
       "    <tr>\n",
       "      <th>1578391</th>\n",
       "      <td>2012</td>\n",
       "      <td>2012-07-08</td>\n",
       "      <td>Natural</td>\n",
       "      <td>2012-07-30</td>\n",
       "      <td>558198.30000</td>\n",
       "      <td>42.391894</td>\n",
       "      <td>-117.893687</td>\n",
       "      <td>OR</td>\n",
       "    </tr>\n",
       "    <tr>\n",
       "      <th>1458491</th>\n",
       "      <td>2011</td>\n",
       "      <td>2011-05-29</td>\n",
       "      <td>Recreation and ceremony</td>\n",
       "      <td>2011-07-12</td>\n",
       "      <td>538049.00000</td>\n",
       "      <td>33.606111</td>\n",
       "      <td>-109.449722</td>\n",
       "      <td>AZ</td>\n",
       "    </tr>\n",
       "    <tr>\n",
       "      <th>305530</th>\n",
       "      <td>2004</td>\n",
       "      <td>2004-06-13</td>\n",
       "      <td>Natural</td>\n",
       "      <td>2004-09-30</td>\n",
       "      <td>537627.00000</td>\n",
       "      <td>65.266300</td>\n",
       "      <td>-146.885800</td>\n",
       "      <td>AK</td>\n",
       "    </tr>\n",
       "    <tr>\n",
       "      <th>...</th>\n",
       "      <td>...</td>\n",
       "      <td>...</td>\n",
       "      <td>...</td>\n",
       "      <td>...</td>\n",
       "      <td>...</td>\n",
       "      <td>...</td>\n",
       "      <td>...</td>\n",
       "      <td>...</td>\n",
       "    </tr>\n",
       "    <tr>\n",
       "      <th>537776</th>\n",
       "      <td>2008</td>\n",
       "      <td>2008-07-16</td>\n",
       "      <td>Power generation/transmission/distribution</td>\n",
       "      <td>2008-07-16</td>\n",
       "      <td>0.00010</td>\n",
       "      <td>41.205460</td>\n",
       "      <td>-96.786640</td>\n",
       "      <td>NE</td>\n",
       "    </tr>\n",
       "    <tr>\n",
       "      <th>1844100</th>\n",
       "      <td>2015</td>\n",
       "      <td>2015-07-16</td>\n",
       "      <td>Missing data/not specified/undetermined</td>\n",
       "      <td>2015-07-16</td>\n",
       "      <td>0.00010</td>\n",
       "      <td>42.270000</td>\n",
       "      <td>-95.600000</td>\n",
       "      <td>IA</td>\n",
       "    </tr>\n",
       "    <tr>\n",
       "      <th>1773809</th>\n",
       "      <td>2014</td>\n",
       "      <td>2014-03-10</td>\n",
       "      <td>Missing data/not specified/undetermined</td>\n",
       "      <td>2014-03-10</td>\n",
       "      <td>0.00010</td>\n",
       "      <td>40.872220</td>\n",
       "      <td>-97.591620</td>\n",
       "      <td>NE</td>\n",
       "    </tr>\n",
       "    <tr>\n",
       "      <th>571841</th>\n",
       "      <td>2004</td>\n",
       "      <td>2004-05-12</td>\n",
       "      <td>Misuse of fire by a minor</td>\n",
       "      <td>2004-05-12</td>\n",
       "      <td>0.00009</td>\n",
       "      <td>40.952110</td>\n",
       "      <td>-78.220390</td>\n",
       "      <td>PA</td>\n",
       "    </tr>\n",
       "    <tr>\n",
       "      <th>1656612</th>\n",
       "      <td>2013</td>\n",
       "      <td>2013-12-18</td>\n",
       "      <td>Missing data/not specified/undetermined</td>\n",
       "      <td>NaT</td>\n",
       "      <td>0.00001</td>\n",
       "      <td>44.997000</td>\n",
       "      <td>-101.233300</td>\n",
       "      <td>SD</td>\n",
       "    </tr>\n",
       "  </tbody>\n",
       "</table>\n",
       "<p>2166753 rows × 8 columns</p>\n",
       "</div>"
      ],
      "text/plain": [
       "         fire_year discovery_date                               general_cause  \\\n",
       "2042982       2017     2017-03-07     Missing data/not specified/undetermined   \n",
       "211267        1997     1997-06-25                                     Natural   \n",
       "1578391       2012     2012-07-08                                     Natural   \n",
       "1458491       2011     2011-05-29                     Recreation and ceremony   \n",
       "305530        2004     2004-06-13                                     Natural   \n",
       "...            ...            ...                                         ...   \n",
       "537776        2008     2008-07-16  Power generation/transmission/distribution   \n",
       "1844100       2015     2015-07-16     Missing data/not specified/undetermined   \n",
       "1773809       2014     2014-03-10     Missing data/not specified/undetermined   \n",
       "571841        2004     2004-05-12                   Misuse of fire by a minor   \n",
       "1656612       2013     2013-12-18     Missing data/not specified/undetermined   \n",
       "\n",
       "        containment_date     fire_size   latitude   longitude state  \n",
       "2042982              NaT  662700.00000  36.774470 -100.175200    OK  \n",
       "211267        1997-09-09  606945.00000  61.982700 -157.085700    AK  \n",
       "1578391       2012-07-30  558198.30000  42.391894 -117.893687    OR  \n",
       "1458491       2011-07-12  538049.00000  33.606111 -109.449722    AZ  \n",
       "305530        2004-09-30  537627.00000  65.266300 -146.885800    AK  \n",
       "...                  ...           ...        ...         ...   ...  \n",
       "537776        2008-07-16       0.00010  41.205460  -96.786640    NE  \n",
       "1844100       2015-07-16       0.00010  42.270000  -95.600000    IA  \n",
       "1773809       2014-03-10       0.00010  40.872220  -97.591620    NE  \n",
       "571841        2004-05-12       0.00009  40.952110  -78.220390    PA  \n",
       "1656612              NaT       0.00001  44.997000 -101.233300    SD  \n",
       "\n",
       "[2166753 rows x 8 columns]"
      ]
     },
     "execution_count": 13,
     "metadata": {},
     "output_type": "execute_result"
    }
   ],
   "source": [
    "# create dataframe sorted by fire size from largest to smallest fire.\n",
    "\n",
    "sorted_df = fires.sort_values(by=['fire_size'], ascending=False)\n",
    "sorted_df"
   ]
  },
  {
   "cell_type": "markdown",
   "id": "f0fe6b48",
   "metadata": {},
   "source": [
    "### Largest fire: Occurred in 2017 in the state of Oklahoma and was 55,755 acres more than previously recorded largest fire that occurred in Arkansas in 1997.\n",
    "\n"
   ]
  },
  {
   "cell_type": "markdown",
   "id": "da74ba5f",
   "metadata": {},
   "source": [
    "# When and where are fires most likely to occur?\n"
   ]
  },
  {
   "cell_type": "code",
   "execution_count": 14,
   "id": "03e9a13a",
   "metadata": {},
   "outputs": [
    {
     "name": "stdout",
     "output_type": "stream",
     "text": [
      "0          Wednesday\n",
      "1          Wednesday\n",
      "2             Monday\n",
      "3             Monday\n",
      "4             Monday\n",
      "             ...    \n",
      "2166748      Tuesday\n",
      "2166749     Saturday\n",
      "2166750       Sunday\n",
      "2166751     Thursday\n",
      "2166752       Monday\n",
      "Name: day_of_week, Length: 2166753, dtype: object\n"
     ]
    }
   ],
   "source": [
    "# add new column for day of the week\n",
    "\n",
    "fires['discovery_date'].dt.day_name()\n",
    "print(fires['day_of_week'])"
   ]
  },
  {
   "cell_type": "code",
   "execution_count": 51,
   "id": "f9706e08",
   "metadata": {},
   "outputs": [
    {
     "data": {
      "text/html": [
       "<div>\n",
       "<style scoped>\n",
       "    .dataframe tbody tr th:only-of-type {\n",
       "        vertical-align: middle;\n",
       "    }\n",
       "\n",
       "    .dataframe tbody tr th {\n",
       "        vertical-align: top;\n",
       "    }\n",
       "\n",
       "    .dataframe thead th {\n",
       "        text-align: right;\n",
       "    }\n",
       "</style>\n",
       "<table border=\"1\" class=\"dataframe\">\n",
       "  <thead>\n",
       "    <tr style=\"text-align: right;\">\n",
       "      <th></th>\n",
       "      <th>day_of_week</th>\n",
       "      <th>count</th>\n",
       "    </tr>\n",
       "  </thead>\n",
       "  <tbody>\n",
       "    <tr>\n",
       "      <th>4</th>\n",
       "      <td>Thursday</td>\n",
       "      <td>294758</td>\n",
       "    </tr>\n",
       "    <tr>\n",
       "      <th>6</th>\n",
       "      <td>Wednesday</td>\n",
       "      <td>297252</td>\n",
       "    </tr>\n",
       "    <tr>\n",
       "      <th>0</th>\n",
       "      <td>Friday</td>\n",
       "      <td>297890</td>\n",
       "    </tr>\n",
       "    <tr>\n",
       "      <th>5</th>\n",
       "      <td>Tuesday</td>\n",
       "      <td>299950</td>\n",
       "    </tr>\n",
       "    <tr>\n",
       "      <th>1</th>\n",
       "      <td>Monday</td>\n",
       "      <td>313742</td>\n",
       "    </tr>\n",
       "    <tr>\n",
       "      <th>3</th>\n",
       "      <td>Sunday</td>\n",
       "      <td>318870</td>\n",
       "    </tr>\n",
       "    <tr>\n",
       "      <th>2</th>\n",
       "      <td>Saturday</td>\n",
       "      <td>344291</td>\n",
       "    </tr>\n",
       "  </tbody>\n",
       "</table>\n",
       "</div>"
      ],
      "text/plain": [
       "  day_of_week   count\n",
       "4    Thursday  294758\n",
       "6   Wednesday  297252\n",
       "0      Friday  297890\n",
       "5     Tuesday  299950\n",
       "1      Monday  313742\n",
       "3      Sunday  318870\n",
       "2    Saturday  344291"
      ]
     },
     "execution_count": 51,
     "metadata": {},
     "output_type": "execute_result"
    }
   ],
   "source": [
    "# create dataframe for the count of fires occuring per each day of the week\n",
    "day_of_week = fires.groupby(['day_of_week']).size().reset_index(name = 'count').sort_values('count')\n",
    "day_of_week\n"
   ]
  },
  {
   "cell_type": "code",
   "execution_count": 15,
   "id": "f8aa81e2",
   "metadata": {},
   "outputs": [
    {
     "data": {
      "text/plain": [
       "Text(0.5, 1.0, '# of fires for day of the week')"
      ]
     },
     "execution_count": 15,
     "metadata": {},
     "output_type": "execute_result"
    },
    {
     "data": {
      "image/png": "[encoded data removed]",
      "text/plain": [
       "<Figure size 1008x360 with 1 Axes>"
      ]
     },
     "metadata": {
      "needs_background": "light"
     },
     "output_type": "display_data"
    }
   ],
   "source": [
    "# plot the number of fires per day of week to visualize\n",
    "\n",
    "plt.figure(figsize=(14,5))\n",
    "g = sns.barplot(data = day_of_week, y = 'count', x = 'day_of_week')\n",
    "plt.xlabel('Day of the week')\n",
    "plt.ylabel('Number of wildfires')\n",
    "g.axes.set_title('# of fires for day of the week',fontsize=20)"
   ]
  },
  {
   "cell_type": "markdown",
   "id": "17612283",
   "metadata": {},
   "source": [
    "# Takeaways:\n",
    "\n",
    "- The number of wildfires occurring is consistent Tuesday-Friday, however there is a significant raise from Saturday-Monday\n",
    "\n",
    "\n",
    "- I'd like to further explore causes of wildfires for Saturday, Sunday & Monday to see the reason why these days of the week are higher."
   ]
  },
  {
   "cell_type": "code",
   "execution_count": 16,
   "id": "36103965",
   "metadata": {},
   "outputs": [
    {
     "data": {
      "text/html": [
       "<div>\n",
       "<style scoped>\n",
       "    .dataframe tbody tr th:only-of-type {\n",
       "        vertical-align: middle;\n",
       "    }\n",
       "\n",
       "    .dataframe tbody tr th {\n",
       "        vertical-align: top;\n",
       "    }\n",
       "\n",
       "    .dataframe thead th {\n",
       "        text-align: right;\n",
       "    }\n",
       "</style>\n",
       "<table border=\"1\" class=\"dataframe\">\n",
       "  <thead>\n",
       "    <tr style=\"text-align: right;\">\n",
       "      <th></th>\n",
       "      <th>day_of_week</th>\n",
       "      <th>count</th>\n",
       "    </tr>\n",
       "  </thead>\n",
       "  <tbody>\n",
       "    <tr>\n",
       "      <th>4</th>\n",
       "      <td>Thursday</td>\n",
       "      <td>41467</td>\n",
       "    </tr>\n",
       "    <tr>\n",
       "      <th>0</th>\n",
       "      <td>Friday</td>\n",
       "      <td>41969</td>\n",
       "    </tr>\n",
       "    <tr>\n",
       "      <th>6</th>\n",
       "      <td>Wednesday</td>\n",
       "      <td>42119</td>\n",
       "    </tr>\n",
       "    <tr>\n",
       "      <th>5</th>\n",
       "      <td>Tuesday</td>\n",
       "      <td>42179</td>\n",
       "    </tr>\n",
       "    <tr>\n",
       "      <th>1</th>\n",
       "      <td>Monday</td>\n",
       "      <td>44858</td>\n",
       "    </tr>\n",
       "    <tr>\n",
       "      <th>2</th>\n",
       "      <td>Saturday</td>\n",
       "      <td>48074</td>\n",
       "    </tr>\n",
       "    <tr>\n",
       "      <th>3</th>\n",
       "      <td>Sunday</td>\n",
       "      <td>49654</td>\n",
       "    </tr>\n",
       "  </tbody>\n",
       "</table>\n",
       "</div>"
      ],
      "text/plain": [
       "  day_of_week  count\n",
       "4    Thursday  41467\n",
       "0      Friday  41969\n",
       "6   Wednesday  42119\n",
       "5     Tuesday  42179\n",
       "1      Monday  44858\n",
       "2    Saturday  48074\n",
       "3      Sunday  49654"
      ]
     },
     "execution_count": 16,
     "metadata": {},
     "output_type": "execute_result"
    }
   ],
   "source": [
    "# create dataframe for number of fires during each day of the week that was caused specifically by Arson\n",
    "\n",
    "arson_over_weekends = fires[fires['general_cause'] == 'Arson/incendiarism'].groupby(['day_of_week']).size().reset_index(name = 'count').sort_values('count')\n",
    "arson_over_weekends"
   ]
  },
  {
   "cell_type": "code",
   "execution_count": 17,
   "id": "52a0fd14",
   "metadata": {},
   "outputs": [
    {
     "data": {
      "text/plain": [
       "Text(0.5, 1.0, '# of wildfire per day of week caused by arson')"
      ]
     },
     "execution_count": 17,
     "metadata": {},
     "output_type": "execute_result"
    },
    {
     "data": {
      "image/png": "[encoded data removed]",
      "text/plain": [
       "<Figure size 1008x360 with 1 Axes>"
      ]
     },
     "metadata": {
      "needs_background": "light"
     },
     "output_type": "display_data"
    }
   ],
   "source": [
    "# plot number of fires caused by arson over days of the week\n",
    "\n",
    "plt.figure(figsize=(14,5))\n",
    "g = sns.barplot(data = arson_over_weekends, y = 'count', x = 'day_of_week')\n",
    "plt.xlabel('Day of week')\n",
    "plt.ylabel('Number of wildfire cases due to arson')\n",
    "g.axes.set_title('# of wildfire per day of week caused by arson',fontsize=20)"
   ]
  },
  {
   "cell_type": "code",
   "execution_count": 18,
   "id": "07694a19",
   "metadata": {},
   "outputs": [
    {
     "data": {
      "text/html": [
       "<div>\n",
       "<style scoped>\n",
       "    .dataframe tbody tr th:only-of-type {\n",
       "        vertical-align: middle;\n",
       "    }\n",
       "\n",
       "    .dataframe tbody tr th {\n",
       "        vertical-align: top;\n",
       "    }\n",
       "\n",
       "    .dataframe thead th {\n",
       "        text-align: right;\n",
       "    }\n",
       "</style>\n",
       "<table border=\"1\" class=\"dataframe\">\n",
       "  <thead>\n",
       "    <tr style=\"text-align: right;\">\n",
       "      <th></th>\n",
       "      <th>day_of_week</th>\n",
       "      <th>count</th>\n",
       "    </tr>\n",
       "  </thead>\n",
       "  <tbody>\n",
       "    <tr>\n",
       "      <th>3</th>\n",
       "      <td>Sunday</td>\n",
       "      <td>43174</td>\n",
       "    </tr>\n",
       "    <tr>\n",
       "      <th>2</th>\n",
       "      <td>Saturday</td>\n",
       "      <td>43361</td>\n",
       "    </tr>\n",
       "    <tr>\n",
       "      <th>1</th>\n",
       "      <td>Monday</td>\n",
       "      <td>44337</td>\n",
       "    </tr>\n",
       "    <tr>\n",
       "      <th>5</th>\n",
       "      <td>Tuesday</td>\n",
       "      <td>44703</td>\n",
       "    </tr>\n",
       "    <tr>\n",
       "      <th>4</th>\n",
       "      <td>Thursday</td>\n",
       "      <td>45418</td>\n",
       "    </tr>\n",
       "    <tr>\n",
       "      <th>0</th>\n",
       "      <td>Friday</td>\n",
       "      <td>45432</td>\n",
       "    </tr>\n",
       "    <tr>\n",
       "      <th>6</th>\n",
       "      <td>Wednesday</td>\n",
       "      <td>46382</td>\n",
       "    </tr>\n",
       "  </tbody>\n",
       "</table>\n",
       "</div>"
      ],
      "text/plain": [
       "  day_of_week  count\n",
       "3      Sunday  43174\n",
       "2    Saturday  43361\n",
       "1      Monday  44337\n",
       "5     Tuesday  44703\n",
       "4    Thursday  45418\n",
       "0      Friday  45432\n",
       "6   Wednesday  46382"
      ]
     },
     "execution_count": 18,
     "metadata": {},
     "output_type": "execute_result"
    }
   ],
   "source": [
    "# create dataframe for number of fires during each day of the week that was caused specifically by \"natural\"\n",
    "\n",
    "natural_over_weekends = fires[fires['general_cause'] == 'Natural'].groupby(['day_of_week']).size().reset_index(name = 'count').sort_values('count')\n",
    "natural_over_weekends"
   ]
  },
  {
   "cell_type": "code",
   "execution_count": 19,
   "id": "d5f271ba",
   "metadata": {},
   "outputs": [
    {
     "data": {
      "text/plain": [
       "Text(0.5, 1.0, '# of wildfire per day of week caused by natural causes')"
      ]
     },
     "execution_count": 19,
     "metadata": {},
     "output_type": "execute_result"
    },
    {
     "data": {
      "image/png": "[encoded data removed]",
      "text/plain": [
       "<Figure size 1008x360 with 1 Axes>"
      ]
     },
     "metadata": {
      "needs_background": "light"
     },
     "output_type": "display_data"
    }
   ],
   "source": [
    "# plot number of fires caused by natural causes over days of the week\n",
    "\n",
    "plt.figure(figsize=(14,5))\n",
    "g = sns.barplot(data = natural_over_weekends, y = 'count', x = 'day_of_week')\n",
    "plt.xlabel('Day of week')\n",
    "plt.ylabel('Number of wildfire cases due to Natural Causes')\n",
    "g.axes.set_title('# of wildfire per day of week caused by natural causes',fontsize=20)"
   ]
  },
  {
   "cell_type": "code",
   "execution_count": 20,
   "id": "a6f914e6",
   "metadata": {},
   "outputs": [
    {
     "data": {
      "text/html": [
       "<div>\n",
       "<style scoped>\n",
       "    .dataframe tbody tr th:only-of-type {\n",
       "        vertical-align: middle;\n",
       "    }\n",
       "\n",
       "    .dataframe tbody tr th {\n",
       "        vertical-align: top;\n",
       "    }\n",
       "\n",
       "    .dataframe thead th {\n",
       "        text-align: right;\n",
       "    }\n",
       "</style>\n",
       "<table border=\"1\" class=\"dataframe\">\n",
       "  <thead>\n",
       "    <tr style=\"text-align: right;\">\n",
       "      <th></th>\n",
       "      <th>day_of_week</th>\n",
       "      <th>count</th>\n",
       "    </tr>\n",
       "  </thead>\n",
       "  <tbody>\n",
       "    <tr>\n",
       "      <th>4</th>\n",
       "      <td>Thursday</td>\n",
       "      <td>68412</td>\n",
       "    </tr>\n",
       "    <tr>\n",
       "      <th>6</th>\n",
       "      <td>Wednesday</td>\n",
       "      <td>68744</td>\n",
       "    </tr>\n",
       "    <tr>\n",
       "      <th>3</th>\n",
       "      <td>Sunday</td>\n",
       "      <td>68914</td>\n",
       "    </tr>\n",
       "    <tr>\n",
       "      <th>0</th>\n",
       "      <td>Friday</td>\n",
       "      <td>69238</td>\n",
       "    </tr>\n",
       "    <tr>\n",
       "      <th>5</th>\n",
       "      <td>Tuesday</td>\n",
       "      <td>70230</td>\n",
       "    </tr>\n",
       "    <tr>\n",
       "      <th>1</th>\n",
       "      <td>Monday</td>\n",
       "      <td>73182</td>\n",
       "    </tr>\n",
       "    <tr>\n",
       "      <th>2</th>\n",
       "      <td>Saturday</td>\n",
       "      <td>88499</td>\n",
       "    </tr>\n",
       "  </tbody>\n",
       "</table>\n",
       "</div>"
      ],
      "text/plain": [
       "  day_of_week  count\n",
       "4    Thursday  68412\n",
       "6   Wednesday  68744\n",
       "3      Sunday  68914\n",
       "0      Friday  69238\n",
       "5     Tuesday  70230\n",
       "1      Monday  73182\n",
       "2    Saturday  88499"
      ]
     },
     "execution_count": 20,
     "metadata": {},
     "output_type": "execute_result"
    }
   ],
   "source": [
    "# create dataframe for number of fires during each day of the week \n",
    "# that was caused specifically by \"debris and open burning\"\n",
    "\n",
    "\n",
    "debris_over_weekday = fires[fires['general_cause'] == 'Debris and open burning'].groupby(['day_of_week']).size().reset_index(name = 'count').sort_values('count')\n",
    "debris_over_weekday"
   ]
  },
  {
   "cell_type": "code",
   "execution_count": 21,
   "id": "40528d3a",
   "metadata": {},
   "outputs": [
    {
     "data": {
      "text/plain": [
       "Text(0.5, 1.0, '# of wildfire per day of week caused by debris and open burning')"
      ]
     },
     "execution_count": 21,
     "metadata": {},
     "output_type": "execute_result"
    },
    {
     "data": {
      "image/png": "[encoded data removed]",
      "text/plain": [
       "<Figure size 1008x360 with 1 Axes>"
      ]
     },
     "metadata": {
      "needs_background": "light"
     },
     "output_type": "display_data"
    }
   ],
   "source": [
    "# plot number of fires caused by debris and open burning over days of the week\n",
    "\n",
    "\n",
    "plt.figure(figsize=(14,5))\n",
    "g = sns.barplot(data = debris_over_weekday, y = 'count', x = 'day_of_week')\n",
    "plt.xlabel('Day of week')\n",
    "plt.ylabel('Number of wildfire cases due to Debris')\n",
    "g.axes.set_title('# of wildfire per day of week caused by debris and open burning',fontsize=20)"
   ]
  },
  {
   "cell_type": "markdown",
   "id": "a43b80f8",
   "metadata": {},
   "source": [
    "# Takeaways pt. 2\n",
    "\n",
    "- Wildfires caused by Arson/Incendiarism are significantly higher on Saturday-Monday\n",
    "\n",
    "\n",
    "- As predicted, wildfires caused by natural causes are not varied and have an even distribution of occurrences throughout the week\n",
    "\n",
    "\n",
    "- Wildfires caused by debris/open burning are highest on Saturday followed by Monday and are consistent every other day of the week"
   ]
  },
  {
   "cell_type": "markdown",
   "id": "38507deb",
   "metadata": {},
   "source": [
    "## Part 2: Where ?"
   ]
  },
  {
   "cell_type": "code",
   "execution_count": 22,
   "id": "7b2b3620",
   "metadata": {},
   "outputs": [
    {
     "data": {
      "text/html": [
       "<div>\n",
       "<style scoped>\n",
       "    .dataframe tbody tr th:only-of-type {\n",
       "        vertical-align: middle;\n",
       "    }\n",
       "\n",
       "    .dataframe tbody tr th {\n",
       "        vertical-align: top;\n",
       "    }\n",
       "\n",
       "    .dataframe thead th {\n",
       "        text-align: right;\n",
       "    }\n",
       "</style>\n",
       "<table border=\"1\" class=\"dataframe\">\n",
       "  <thead>\n",
       "    <tr style=\"text-align: right;\">\n",
       "      <th></th>\n",
       "      <th>fire_year</th>\n",
       "      <th>discovery_date</th>\n",
       "      <th>general_cause</th>\n",
       "      <th>containment_date</th>\n",
       "      <th>fire_size</th>\n",
       "      <th>latitude</th>\n",
       "      <th>longitude</th>\n",
       "      <th>state</th>\n",
       "      <th>day_of_week</th>\n",
       "    </tr>\n",
       "  </thead>\n",
       "  <tbody>\n",
       "    <tr>\n",
       "      <th>0</th>\n",
       "      <td>2005</td>\n",
       "      <td>2005-02-02</td>\n",
       "      <td>Power generation/transmission/distribution</td>\n",
       "      <td>2005-02-02</td>\n",
       "      <td>0.10</td>\n",
       "      <td>40.036944</td>\n",
       "      <td>-121.005833</td>\n",
       "      <td>CA</td>\n",
       "      <td>Wednesday</td>\n",
       "    </tr>\n",
       "    <tr>\n",
       "      <th>1</th>\n",
       "      <td>2004</td>\n",
       "      <td>2004-05-12</td>\n",
       "      <td>Natural</td>\n",
       "      <td>2004-05-12</td>\n",
       "      <td>0.25</td>\n",
       "      <td>38.933056</td>\n",
       "      <td>-120.404444</td>\n",
       "      <td>CA</td>\n",
       "      <td>Wednesday</td>\n",
       "    </tr>\n",
       "    <tr>\n",
       "      <th>2</th>\n",
       "      <td>2004</td>\n",
       "      <td>2004-05-31</td>\n",
       "      <td>Debris and open burning</td>\n",
       "      <td>2004-05-31</td>\n",
       "      <td>0.10</td>\n",
       "      <td>38.984167</td>\n",
       "      <td>-120.735556</td>\n",
       "      <td>CA</td>\n",
       "      <td>Monday</td>\n",
       "    </tr>\n",
       "    <tr>\n",
       "      <th>3</th>\n",
       "      <td>2004</td>\n",
       "      <td>2004-06-28</td>\n",
       "      <td>Natural</td>\n",
       "      <td>2004-07-03</td>\n",
       "      <td>0.10</td>\n",
       "      <td>38.559167</td>\n",
       "      <td>-119.913333</td>\n",
       "      <td>CA</td>\n",
       "      <td>Monday</td>\n",
       "    </tr>\n",
       "    <tr>\n",
       "      <th>4</th>\n",
       "      <td>2004</td>\n",
       "      <td>2004-06-28</td>\n",
       "      <td>Natural</td>\n",
       "      <td>2004-07-03</td>\n",
       "      <td>0.10</td>\n",
       "      <td>38.559167</td>\n",
       "      <td>-119.933056</td>\n",
       "      <td>CA</td>\n",
       "      <td>Monday</td>\n",
       "    </tr>\n",
       "    <tr>\n",
       "      <th>...</th>\n",
       "      <td>...</td>\n",
       "      <td>...</td>\n",
       "      <td>...</td>\n",
       "      <td>...</td>\n",
       "      <td>...</td>\n",
       "      <td>...</td>\n",
       "      <td>...</td>\n",
       "      <td>...</td>\n",
       "      <td>...</td>\n",
       "    </tr>\n",
       "    <tr>\n",
       "      <th>2166707</th>\n",
       "      <td>2017</td>\n",
       "      <td>2017-06-29</td>\n",
       "      <td>Missing data/not specified/undetermined</td>\n",
       "      <td>NaT</td>\n",
       "      <td>1200.00</td>\n",
       "      <td>35.957900</td>\n",
       "      <td>-121.270100</td>\n",
       "      <td>CA</td>\n",
       "      <td>Thursday</td>\n",
       "    </tr>\n",
       "    <tr>\n",
       "      <th>2166709</th>\n",
       "      <td>2017</td>\n",
       "      <td>2017-08-20</td>\n",
       "      <td>Missing data/not specified/undetermined</td>\n",
       "      <td>NaT</td>\n",
       "      <td>950.00</td>\n",
       "      <td>39.120278</td>\n",
       "      <td>-121.318889</td>\n",
       "      <td>CA</td>\n",
       "      <td>Sunday</td>\n",
       "    </tr>\n",
       "    <tr>\n",
       "      <th>2166733</th>\n",
       "      <td>2015</td>\n",
       "      <td>2015-07-05</td>\n",
       "      <td>Missing data/not specified/undetermined</td>\n",
       "      <td>NaT</td>\n",
       "      <td>224.00</td>\n",
       "      <td>35.811944</td>\n",
       "      <td>-118.794167</td>\n",
       "      <td>CA</td>\n",
       "      <td>Sunday</td>\n",
       "    </tr>\n",
       "    <tr>\n",
       "      <th>2166740</th>\n",
       "      <td>2015</td>\n",
       "      <td>2015-06-22</td>\n",
       "      <td>Missing data/not specified/undetermined</td>\n",
       "      <td>NaT</td>\n",
       "      <td>164.00</td>\n",
       "      <td>34.342500</td>\n",
       "      <td>-119.065833</td>\n",
       "      <td>CA</td>\n",
       "      <td>Monday</td>\n",
       "    </tr>\n",
       "    <tr>\n",
       "      <th>2166742</th>\n",
       "      <td>2014</td>\n",
       "      <td>2014-06-22</td>\n",
       "      <td>Missing data/not specified/undetermined</td>\n",
       "      <td>NaT</td>\n",
       "      <td>150.00</td>\n",
       "      <td>34.182500</td>\n",
       "      <td>-118.276389</td>\n",
       "      <td>CA</td>\n",
       "      <td>Sunday</td>\n",
       "    </tr>\n",
       "  </tbody>\n",
       "</table>\n",
       "<p>235229 rows × 9 columns</p>\n",
       "</div>"
      ],
      "text/plain": [
       "         fire_year discovery_date                               general_cause  \\\n",
       "0             2005     2005-02-02  Power generation/transmission/distribution   \n",
       "1             2004     2004-05-12                                     Natural   \n",
       "2             2004     2004-05-31                     Debris and open burning   \n",
       "3             2004     2004-06-28                                     Natural   \n",
       "4             2004     2004-06-28                                     Natural   \n",
       "...            ...            ...                                         ...   \n",
       "2166707       2017     2017-06-29     Missing data/not specified/undetermined   \n",
       "2166709       2017     2017-08-20     Missing data/not specified/undetermined   \n",
       "2166733       2015     2015-07-05     Missing data/not specified/undetermined   \n",
       "2166740       2015     2015-06-22     Missing data/not specified/undetermined   \n",
       "2166742       2014     2014-06-22     Missing data/not specified/undetermined   \n",
       "\n",
       "        containment_date  fire_size   latitude   longitude state day_of_week  \n",
       "0             2005-02-02       0.10  40.036944 -121.005833    CA   Wednesday  \n",
       "1             2004-05-12       0.25  38.933056 -120.404444    CA   Wednesday  \n",
       "2             2004-05-31       0.10  38.984167 -120.735556    CA      Monday  \n",
       "3             2004-07-03       0.10  38.559167 -119.913333    CA      Monday  \n",
       "4             2004-07-03       0.10  38.559167 -119.933056    CA      Monday  \n",
       "...                  ...        ...        ...         ...   ...         ...  \n",
       "2166707              NaT    1200.00  35.957900 -121.270100    CA    Thursday  \n",
       "2166709              NaT     950.00  39.120278 -121.318889    CA      Sunday  \n",
       "2166733              NaT     224.00  35.811944 -118.794167    CA      Sunday  \n",
       "2166740              NaT     164.00  34.342500 -119.065833    CA      Monday  \n",
       "2166742              NaT     150.00  34.182500 -118.276389    CA      Sunday  \n",
       "\n",
       "[235229 rows x 9 columns]"
      ]
     },
     "execution_count": 22,
     "metadata": {},
     "output_type": "execute_result"
    }
   ],
   "source": [
    "CA_fires = fires[fires['state'] == 'CA']\n",
    "CA_fires"
   ]
  },
  {
   "cell_type": "code",
   "execution_count": null,
   "id": "a40c58fd",
   "metadata": {},
   "outputs": [],
   "source": []
  },
  {
   "cell_type": "code",
   "execution_count": 30,
   "id": "d7047ac4",
   "metadata": {},
   "outputs": [
    {
     "data": {
      "text/plain": [
       "[Text(0, 0, 'Power generation/transmission/distribution'),\n",
       " Text(1, 0, 'Natural'),\n",
       " Text(2, 0, 'Debris and open burning'),\n",
       " Text(3, 0, 'Missing data/not specified/undetermined'),\n",
       " Text(4, 0, 'Recreation and ceremony'),\n",
       " Text(5, 0, 'Equipment and vehicle use'),\n",
       " Text(6, 0, 'Other causes'),\n",
       " Text(7, 0, 'Fireworks'),\n",
       " Text(8, 0, 'Arson/incendiarism'),\n",
       " Text(9, 0, 'Smoking'),\n",
       " Text(10, 0, 'Misuse of fire by a minor'),\n",
       " Text(11, 0, 'Firearms and explosives use'),\n",
       " Text(12, 0, 'Railroad operations and maintenance')]"
      ]
     },
     "execution_count": 30,
     "metadata": {},
     "output_type": "execute_result"
    },
    {
     "data": {
      "image/png": "[encoded data removed]",
      "text/plain": [
       "<Figure size 1800x720 with 1 Axes>"
      ]
     },
     "metadata": {
      "needs_background": "light"
     },
     "output_type": "display_data"
    }
   ],
   "source": [
    "plt.figure(figsize=(25,10))\n",
    "size_cause = sns.barplot(data = CA_fires, y = 'fire_size', x = 'general_cause')\n",
    "plt.xlabel('Causes', fontsize = 15)\n",
    "plt.ylabel('Size of fire', fontsize = 15)\n",
    "size_cause.axes.set_title('Graph showing size of wildfire per cause',fontsize=20)\n",
    "\n",
    "size_cause.set_xticklabels(size_cause.get_xticklabels(),rotation=40)"
   ]
  },
  {
   "cell_type": "code",
   "execution_count": 59,
   "id": "681e54be",
   "metadata": {},
   "outputs": [
    {
     "data": {
      "text/html": [
       "<div>\n",
       "<style scoped>\n",
       "    .dataframe tbody tr th:only-of-type {\n",
       "        vertical-align: middle;\n",
       "    }\n",
       "\n",
       "    .dataframe tbody tr th {\n",
       "        vertical-align: top;\n",
       "    }\n",
       "\n",
       "    .dataframe thead th {\n",
       "        text-align: right;\n",
       "    }\n",
       "</style>\n",
       "<table border=\"1\" class=\"dataframe\">\n",
       "  <thead>\n",
       "    <tr style=\"text-align: right;\">\n",
       "      <th></th>\n",
       "      <th>general_cause</th>\n",
       "      <th>count</th>\n",
       "    </tr>\n",
       "  </thead>\n",
       "  <tbody>\n",
       "    <tr>\n",
       "      <th>3</th>\n",
       "      <td>Firearms and explosives use</td>\n",
       "      <td>251</td>\n",
       "    </tr>\n",
       "    <tr>\n",
       "      <th>4</th>\n",
       "      <td>Fireworks</td>\n",
       "      <td>600</td>\n",
       "    </tr>\n",
       "    <tr>\n",
       "      <th>8</th>\n",
       "      <td>Other causes</td>\n",
       "      <td>755</td>\n",
       "    </tr>\n",
       "    <tr>\n",
       "      <th>10</th>\n",
       "      <td>Railroad operations and maintenance</td>\n",
       "      <td>769</td>\n",
       "    </tr>\n",
       "    <tr>\n",
       "      <th>9</th>\n",
       "      <td>Power generation/transmission/distribution</td>\n",
       "      <td>3250</td>\n",
       "    </tr>\n",
       "    <tr>\n",
       "      <th>12</th>\n",
       "      <td>Smoking</td>\n",
       "      <td>8075</td>\n",
       "    </tr>\n",
       "    <tr>\n",
       "      <th>6</th>\n",
       "      <td>Misuse of fire by a minor</td>\n",
       "      <td>8744</td>\n",
       "    </tr>\n",
       "    <tr>\n",
       "      <th>11</th>\n",
       "      <td>Recreation and ceremony</td>\n",
       "      <td>10969</td>\n",
       "    </tr>\n",
       "    <tr>\n",
       "      <th>1</th>\n",
       "      <td>Debris and open burning</td>\n",
       "      <td>19423</td>\n",
       "    </tr>\n",
       "    <tr>\n",
       "      <th>0</th>\n",
       "      <td>Arson/incendiarism</td>\n",
       "      <td>22734</td>\n",
       "    </tr>\n",
       "    <tr>\n",
       "      <th>7</th>\n",
       "      <td>Natural</td>\n",
       "      <td>29194</td>\n",
       "    </tr>\n",
       "    <tr>\n",
       "      <th>2</th>\n",
       "      <td>Equipment and vehicle use</td>\n",
       "      <td>44129</td>\n",
       "    </tr>\n",
       "    <tr>\n",
       "      <th>5</th>\n",
       "      <td>Missing data/not specified/undetermined</td>\n",
       "      <td>86336</td>\n",
       "    </tr>\n",
       "  </tbody>\n",
       "</table>\n",
       "</div>"
      ],
      "text/plain": [
       "                                 general_cause  count\n",
       "3                  Firearms and explosives use    251\n",
       "4                                    Fireworks    600\n",
       "8                                 Other causes    755\n",
       "10         Railroad operations and maintenance    769\n",
       "9   Power generation/transmission/distribution   3250\n",
       "12                                     Smoking   8075\n",
       "6                    Misuse of fire by a minor   8744\n",
       "11                     Recreation and ceremony  10969\n",
       "1                      Debris and open burning  19423\n",
       "0                           Arson/incendiarism  22734\n",
       "7                                      Natural  29194\n",
       "2                    Equipment and vehicle use  44129\n",
       "5      Missing data/not specified/undetermined  86336"
      ]
     },
     "execution_count": 59,
     "metadata": {},
     "output_type": "execute_result"
    }
   ],
   "source": [
    "cause_CA_fires = CA_fires.groupby(['general_cause']).size().reset_index(name = 'count').sort_values('count')\n",
    "cause_CA_fires"
   ]
  },
  {
   "cell_type": "code",
   "execution_count": 62,
   "id": "de16bfbd",
   "metadata": {},
   "outputs": [
    {
     "data": {
      "text/plain": [
       "[Text(0, 0, 'Firearms and explosives use'),\n",
       " Text(1, 0, 'Fireworks'),\n",
       " Text(2, 0, 'Other causes'),\n",
       " Text(3, 0, 'Railroad operations and maintenance'),\n",
       " Text(4, 0, 'Power generation/transmission/distribution'),\n",
       " Text(5, 0, 'Smoking'),\n",
       " Text(6, 0, 'Misuse of fire by a minor'),\n",
       " Text(7, 0, 'Recreation and ceremony'),\n",
       " Text(8, 0, 'Debris and open burning'),\n",
       " Text(9, 0, 'Arson/incendiarism'),\n",
       " Text(10, 0, 'Natural'),\n",
       " Text(11, 0, 'Equipment and vehicle use'),\n",
       " Text(12, 0, 'Missing data/not specified/undetermined')]"
      ]
     },
     "execution_count": 62,
     "metadata": {},
     "output_type": "execute_result"
    },
    {
     "data": {
      "image/png": "[encoded data removed]",
      "text/plain": [
       "<Figure size 1800x720 with 1 Axes>"
      ]
     },
     "metadata": {
      "needs_background": "light"
     },
     "output_type": "display_data"
    }
   ],
   "source": [
    "plt.figure(figsize=(25,10))\n",
    "size_cause = sns.barplot(data = cause_CA_fires, y = 'count', x = 'general_cause')\n",
    "plt.xlabel('Causes', fontsize = 15)\n",
    "plt.ylabel('Numbner of Fires', fontsize = 15)\n",
    "size_cause.axes.set_title('Graph showing number of Fires by Cause in CA',fontsize=20)\n",
    "\n",
    "size_cause.set_xticklabels(size_cause.get_xticklabels(),rotation=40)"
   ]
  },
  {
   "cell_type": "code",
   "execution_count": null,
   "id": "c292739f",
   "metadata": {},
   "outputs": [],
   "source": []
  }
 ],
 "metadata": {
  "kernelspec": {
   "display_name": "Python 3",
   "language": "python",
   "name": "python3"
  },
  "language_info": {
   "codemirror_mode": {
    "name": "ipython",
    "version": 3
   },
   "file_extension": ".py",
   "mimetype": "text/x-python",
   "name": "python",
   "nbconvert_exporter": "python",
   "pygments_lexer": "ipython3",
   "version": "3.8.8"
  }
 },
 "nbformat": 4,
 "nbformat_minor": 5
}
