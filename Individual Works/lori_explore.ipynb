{
 "cells": [
  {
   "cell_type": "code",
   "execution_count": 1,
   "id": "0d39f102",
   "metadata": {},
   "outputs": [],
   "source": [
    "import pandas as pd\n",
    "import numpy as np\n",
    "\n",
    "import matplotlib.pyplot as plt\n",
    "import seaborn as sns\n",
    "\n",
    "from datetime import datetime\n",
    "\n",
    "import wrangle\n",
    "import explore\n",
    "\n",
    "import warnings\n",
    "warnings.filterwarnings('ignore')"
   ]
  },
  {
   "cell_type": "code",
   "execution_count": 2,
   "id": "f9269415",
   "metadata": {},
   "outputs": [],
   "source": [
    "# set style defaults\n",
    "plt.rc('figure', figsize=(13, 7))\n",
    "plt.style.use('seaborn-darkgrid')"
   ]
  },
  {
   "cell_type": "code",
   "execution_count": 3,
   "id": "a2fc8eec",
   "metadata": {},
   "outputs": [],
   "source": [
    "# change setting to view all columns in jupyter notebook\n",
    "pd.set_option('display.max_columns', None)"
   ]
  },
  {
   "cell_type": "code",
   "execution_count": 4,
   "id": "5fd30f71",
   "metadata": {},
   "outputs": [
    {
     "data": {
      "text/html": [
       "<div>\n",
       "<style scoped>\n",
       "    .dataframe tbody tr th:only-of-type {\n",
       "        vertical-align: middle;\n",
       "    }\n",
       "\n",
       "    .dataframe tbody tr th {\n",
       "        vertical-align: top;\n",
       "    }\n",
       "\n",
       "    .dataframe thead th {\n",
       "        text-align: right;\n",
       "    }\n",
       "</style>\n",
       "<table border=\"1\" class=\"dataframe\">\n",
       "  <thead>\n",
       "    <tr style=\"text-align: right;\">\n",
       "      <th></th>\n",
       "      <th>fire_year</th>\n",
       "      <th>discovery_date</th>\n",
       "      <th>general_cause</th>\n",
       "      <th>containment_date</th>\n",
       "      <th>fire_size</th>\n",
       "      <th>latitude</th>\n",
       "      <th>longitude</th>\n",
       "      <th>state</th>\n",
       "      <th>state_size</th>\n",
       "      <th>region</th>\n",
       "      <th>region_size</th>\n",
       "      <th>fire_size_cat</th>\n",
       "    </tr>\n",
       "  </thead>\n",
       "  <tbody>\n",
       "    <tr>\n",
       "      <th>0</th>\n",
       "      <td>2005</td>\n",
       "      <td>2005-02-02</td>\n",
       "      <td>Power generation/transmission/distribution</td>\n",
       "      <td>2005-02-02</td>\n",
       "      <td>0.10</td>\n",
       "      <td>40.036944</td>\n",
       "      <td>-121.005833</td>\n",
       "      <td>CA</td>\n",
       "      <td>101676000.0</td>\n",
       "      <td>west</td>\n",
       "      <td>1.008831e+09</td>\n",
       "      <td>small</td>\n",
       "    </tr>\n",
       "    <tr>\n",
       "      <th>1</th>\n",
       "      <td>2004</td>\n",
       "      <td>2004-05-12</td>\n",
       "      <td>Natural</td>\n",
       "      <td>2004-05-12</td>\n",
       "      <td>0.25</td>\n",
       "      <td>38.933056</td>\n",
       "      <td>-120.404444</td>\n",
       "      <td>CA</td>\n",
       "      <td>101676000.0</td>\n",
       "      <td>west</td>\n",
       "      <td>1.008831e+09</td>\n",
       "      <td>small</td>\n",
       "    </tr>\n",
       "    <tr>\n",
       "      <th>2</th>\n",
       "      <td>2004</td>\n",
       "      <td>2004-05-31</td>\n",
       "      <td>Debris and open burning</td>\n",
       "      <td>2004-05-31</td>\n",
       "      <td>0.10</td>\n",
       "      <td>38.984167</td>\n",
       "      <td>-120.735556</td>\n",
       "      <td>CA</td>\n",
       "      <td>101676000.0</td>\n",
       "      <td>west</td>\n",
       "      <td>1.008831e+09</td>\n",
       "      <td>small</td>\n",
       "    </tr>\n",
       "    <tr>\n",
       "      <th>3</th>\n",
       "      <td>2004</td>\n",
       "      <td>2004-06-28</td>\n",
       "      <td>Natural</td>\n",
       "      <td>2004-07-03</td>\n",
       "      <td>0.10</td>\n",
       "      <td>38.559167</td>\n",
       "      <td>-119.913333</td>\n",
       "      <td>CA</td>\n",
       "      <td>101676000.0</td>\n",
       "      <td>west</td>\n",
       "      <td>1.008831e+09</td>\n",
       "      <td>small</td>\n",
       "    </tr>\n",
       "    <tr>\n",
       "      <th>4</th>\n",
       "      <td>2004</td>\n",
       "      <td>2004-06-28</td>\n",
       "      <td>Natural</td>\n",
       "      <td>2004-07-03</td>\n",
       "      <td>0.10</td>\n",
       "      <td>38.559167</td>\n",
       "      <td>-119.933056</td>\n",
       "      <td>CA</td>\n",
       "      <td>101676000.0</td>\n",
       "      <td>west</td>\n",
       "      <td>1.008831e+09</td>\n",
       "      <td>small</td>\n",
       "    </tr>\n",
       "  </tbody>\n",
       "</table>\n",
       "</div>"
      ],
      "text/plain": [
       "   fire_year discovery_date                               general_cause  \\\n",
       "0       2005     2005-02-02  Power generation/transmission/distribution   \n",
       "1       2004     2004-05-12                                     Natural   \n",
       "2       2004     2004-05-31                     Debris and open burning   \n",
       "3       2004     2004-06-28                                     Natural   \n",
       "4       2004     2004-06-28                                     Natural   \n",
       "\n",
       "  containment_date  fire_size   latitude   longitude state   state_size  \\\n",
       "0       2005-02-02       0.10  40.036944 -121.005833    CA  101676000.0   \n",
       "1       2004-05-12       0.25  38.933056 -120.404444    CA  101676000.0   \n",
       "2       2004-05-31       0.10  38.984167 -120.735556    CA  101676000.0   \n",
       "3       2004-07-03       0.10  38.559167 -119.913333    CA  101676000.0   \n",
       "4       2004-07-03       0.10  38.559167 -119.933056    CA  101676000.0   \n",
       "\n",
       "  region   region_size fire_size_cat  \n",
       "0   west  1.008831e+09         small  \n",
       "1   west  1.008831e+09         small  \n",
       "2   west  1.008831e+09         small  \n",
       "3   west  1.008831e+09         small  \n",
       "4   west  1.008831e+09         small  "
      ]
     },
     "execution_count": 4,
     "metadata": {},
     "output_type": "execute_result"
    }
   ],
   "source": [
    "# use a function to pull in the data\n",
    "fires = wrangle.wrangle_fires()\n",
    "fires.head()"
   ]
  },
  {
   "cell_type": "markdown",
   "id": "2a3b2225",
   "metadata": {},
   "source": [
    "# Univariate Analysis"
   ]
  },
  {
   "cell_type": "code",
   "execution_count": null,
   "id": "5762c5ac",
   "metadata": {},
   "outputs": [],
   "source": [
    "# check info\n",
    "fires.info()"
   ]
  },
  {
   "cell_type": "code",
   "execution_count": null,
   "id": "e9d495e4",
   "metadata": {},
   "outputs": [],
   "source": [
    "# set discovery date as index\n",
    "df = fires.set_index('discovery_date').sort_index()\n",
    "df.head(2)"
   ]
  },
  {
   "cell_type": "code",
   "execution_count": null,
   "id": "73edb1db",
   "metadata": {},
   "outputs": [],
   "source": [
    "# check oldest and newest discovery dates in the dataset\n",
    "print(df.index.min(), df.index.max())"
   ]
  },
  {
   "cell_type": "markdown",
   "id": "a2c78996",
   "metadata": {},
   "source": [
    "### We have 27 years of data."
   ]
  },
  {
   "cell_type": "code",
   "execution_count": null,
   "id": "b79d3ecf",
   "metadata": {},
   "outputs": [],
   "source": [
    "# create a year and month column\n",
    "df['year'] = df.index.year\n",
    "df['month'] = df.index.month_name()\n",
    "df.head()"
   ]
  },
  {
   "cell_type": "code",
   "execution_count": null,
   "id": "2e37409e",
   "metadata": {},
   "outputs": [],
   "source": [
    "# check counts for each cause\n",
    "df.general_cause.value_counts()"
   ]
  },
  {
   "cell_type": "markdown",
   "id": "5ff2044e",
   "metadata": {},
   "source": [
    "### It looks like a good chunk of our data has no specified cause."
   ]
  },
  {
   "cell_type": "code",
   "execution_count": null,
   "id": "e7b99c64",
   "metadata": {},
   "outputs": [],
   "source": [
    "# plot fire size\n",
    "df.fire_size.hist()"
   ]
  },
  {
   "cell_type": "code",
   "execution_count": null,
   "id": "5b42e560",
   "metadata": {},
   "outputs": [],
   "source": [
    "# get statistics for fire size\n",
    "df.fire_size.describe().apply(lambda x: format(x, 'f'))"
   ]
  },
  {
   "cell_type": "code",
   "execution_count": null,
   "id": "9aa4c0e6",
   "metadata": {},
   "outputs": [],
   "source": []
  },
  {
   "cell_type": "code",
   "execution_count": null,
   "id": "903bda92",
   "metadata": {},
   "outputs": [],
   "source": []
  },
  {
   "cell_type": "markdown",
   "id": "1e75bd2e",
   "metadata": {},
   "source": [
    "### The data contains some outliers when it comes to fire size"
   ]
  },
  {
   "cell_type": "code",
   "execution_count": null,
   "id": "c670d3ba",
   "metadata": {},
   "outputs": [],
   "source": [
    "# # create a scatter plot of fire by latitude and longitude\n",
    "# sns.scatterplot(x='longitude', y='latitude', hue='state', data=df)"
   ]
  },
  {
   "cell_type": "code",
   "execution_count": null,
   "id": "747f9f0d",
   "metadata": {},
   "outputs": [],
   "source": [
    "# check value counts by state\n",
    "df.state.value_counts()"
   ]
  },
  {
   "cell_type": "markdown",
   "id": "ef490947",
   "metadata": {},
   "source": [
    "### States in the NorthEastern part of the United States have the least wildfires. Not surprisingly, California has the most. Other states with the most wildfires seem to be primarily in the South."
   ]
  },
  {
   "cell_type": "markdown",
   "id": "3f965d06",
   "metadata": {},
   "source": [
    "# How has the occurrence of wildfires changed over time? How does wildfire seasonality vary by location?"
   ]
  },
  {
   "cell_type": "markdown",
   "id": "f8826711",
   "metadata": {},
   "source": [
    "### What is the number of fires per year for all years we have in the data?"
   ]
  },
  {
   "cell_type": "code",
   "execution_count": null,
   "id": "f9a6b741",
   "metadata": {},
   "outputs": [],
   "source": [
    "# plot counts by year\n",
    "sns.countplot(data=df, x='year')"
   ]
  },
  {
   "cell_type": "markdown",
   "id": "b9842efa",
   "metadata": {},
   "source": [
    "### 2006, 2007, and 2011 had the most wildfires. There does almost appear to be a cycle of 5-6 years for the amount of wildfires."
   ]
  },
  {
   "cell_type": "markdown",
   "id": "17f329cf",
   "metadata": {},
   "source": [
    "### Are wildfires more prevalent at certain times of year?"
   ]
  },
  {
   "cell_type": "code",
   "execution_count": null,
   "id": "a4b812c6",
   "metadata": {},
   "outputs": [],
   "source": [
    "# plot counts by month\n",
    "sns.countplot(data=df, x='month')"
   ]
  },
  {
   "cell_type": "markdown",
   "id": "49f49e75",
   "metadata": {},
   "source": [
    "### Not surprisingly, July & August tend to have more fires which is likely due to heat, camping, and dry weather. It is surprising to see that March & April have a higher number of fires as well."
   ]
  },
  {
   "cell_type": "markdown",
   "id": "f5b478f8",
   "metadata": {},
   "source": [
    "### Get visualization of value counts by state"
   ]
  },
  {
   "cell_type": "code",
   "execution_count": null,
   "id": "bd823780",
   "metadata": {},
   "outputs": [],
   "source": [
    "# plot counts by state\n",
    "plt.figure(figsize=(10,20))\n",
    "sns.countplot(data=df, y='state', order=df.state.value_counts().index)"
   ]
  },
  {
   "cell_type": "code",
   "execution_count": null,
   "id": "2248ebca",
   "metadata": {},
   "outputs": [],
   "source": [
    "# find out what percentage of fires occur in each state\n",
    "df.state.value_counts(normalize=True)"
   ]
  },
  {
   "cell_type": "code",
   "execution_count": null,
   "id": "6fea7e32",
   "metadata": {},
   "outputs": [],
   "source": [
    "x = pd.DataFrame(df.groupby(['year', 'state']).fire_year.count()/df.groupby('year').fire_year.count())\n",
    "x.index"
   ]
  },
  {
   "cell_type": "markdown",
   "id": "97d5d86d",
   "metadata": {},
   "source": [
    "### What does the number of fires and size of fires look like by month?"
   ]
  },
  {
   "cell_type": "code",
   "execution_count": null,
   "id": "de056c00",
   "metadata": {},
   "outputs": [],
   "source": [
    "# resample by month and get count of wildfires by month\n",
    "num_fires_by_month = df.resample('M').fire_year.count()\n",
    "num_fires_by_month.head()"
   ]
  },
  {
   "cell_type": "code",
   "execution_count": null,
   "id": "fc36e38c",
   "metadata": {},
   "outputs": [],
   "source": [
    "# check number of rows\n",
    "num_fires_by_month.shape"
   ]
  },
  {
   "cell_type": "code",
   "execution_count": null,
   "id": "696dc475",
   "metadata": {},
   "outputs": [],
   "source": [
    "# check which month and year combination had the most fires\n",
    "num_fires_by_month.idxmax()"
   ]
  },
  {
   "cell_type": "code",
   "execution_count": null,
   "id": "36e88a4e",
   "metadata": {},
   "outputs": [],
   "source": [
    "# check how many fires happened that month\n",
    "num_fires_by_month.max()"
   ]
  },
  {
   "cell_type": "markdown",
   "id": "edc09b34",
   "metadata": {},
   "source": [
    "### March 2006 had the highest number of fires within the dataset with slightly over 19K fires occurring in that month."
   ]
  },
  {
   "cell_type": "code",
   "execution_count": null,
   "id": "5ddc07a7",
   "metadata": {},
   "outputs": [],
   "source": [
    "# plot monthly number of fires over the years\n",
    "num_fires_by_month.plot()"
   ]
  },
  {
   "cell_type": "code",
   "execution_count": null,
   "id": "2294eb50",
   "metadata": {},
   "outputs": [],
   "source": [
    "# plot number of fires over the years resampled by 6 months\n",
    "num_fires_by_month.resample('6M').mean().plot(marker='o')"
   ]
  },
  {
   "cell_type": "code",
   "execution_count": null,
   "id": "8cfdea7e",
   "metadata": {},
   "outputs": [],
   "source": [
    "# plot number of fires over the years resampled by a year\n",
    "num_fires_by_month.resample('Y').mean().plot(marker='o')"
   ]
  },
  {
   "cell_type": "code",
   "execution_count": null,
   "id": "e3e969b8",
   "metadata": {},
   "outputs": [],
   "source": [
    "df.head()"
   ]
  },
  {
   "cell_type": "code",
   "execution_count": null,
   "id": "80778010",
   "metadata": {},
   "outputs": [],
   "source": [
    "# resample by month and get summed size of wildfires by month\n",
    "size_fires_by_month = df.resample('M').fire_size.sum()\n",
    "size_fires_by_month.head()"
   ]
  },
  {
   "cell_type": "code",
   "execution_count": null,
   "id": "717f522b",
   "metadata": {},
   "outputs": [],
   "source": [
    "# check which month and year combination had the largest summed size of wildfires\n",
    "size_fires_by_month.idxmax()"
   ]
  },
  {
   "cell_type": "code",
   "execution_count": null,
   "id": "64677003",
   "metadata": {},
   "outputs": [],
   "source": [
    "# check total sum of fire sizes that month\n",
    "size_fires_by_month.max()"
   ]
  },
  {
   "cell_type": "markdown",
   "id": "90bbc0bd",
   "metadata": {},
   "source": [
    "### Figure out how much this is and determine a good reference so audience can understand the impact"
   ]
  },
  {
   "cell_type": "code",
   "execution_count": null,
   "id": "bb14b7da",
   "metadata": {},
   "outputs": [],
   "source": [
    "# plot monthly summed size of fires over the years\n",
    "df.groupby('year').fire_size.sum().plot()"
   ]
  },
  {
   "cell_type": "code",
   "execution_count": null,
   "id": "5cf929a1",
   "metadata": {},
   "outputs": [],
   "source": [
    "# plot monthly average size of fires over the years\n",
    "df.resample('M').fire_size.mean().plot()"
   ]
  },
  {
   "cell_type": "code",
   "execution_count": null,
   "id": "dd4b996d",
   "metadata": {},
   "outputs": [],
   "source": [
    "# plot yearly average size of fires over the years\n",
    "df.resample('Y').fire_size.mean().plot()"
   ]
  },
  {
   "cell_type": "markdown",
   "id": "5615cb85",
   "metadata": {},
   "source": [
    "### When resampling by year, there is not a clear trend in the *number* of wildfires however, we do see that the average *size* of wildfires is on an upward trend"
   ]
  },
  {
   "cell_type": "code",
   "execution_count": null,
   "id": "d20f44b0",
   "metadata": {},
   "outputs": [],
   "source": [
    "df.head()"
   ]
  },
  {
   "cell_type": "code",
   "execution_count": null,
   "id": "790b2616",
   "metadata": {},
   "outputs": [],
   "source": [
    "# get statistics for fire size\n",
    "df.fire_size.describe().apply(lambda x: format(x, 'f'))"
   ]
  },
  {
   "cell_type": "code",
   "execution_count": null,
   "id": "8a98bcc9",
   "metadata": {},
   "outputs": [],
   "source": [
    "df[df.fire_size > 100]"
   ]
  },
  {
   "cell_type": "code",
   "execution_count": null,
   "id": "2ee70ec0",
   "metadata": {},
   "outputs": [],
   "source": [
    "df.head()"
   ]
  },
  {
   "cell_type": "code",
   "execution_count": null,
   "id": "840b07e8",
   "metadata": {},
   "outputs": [],
   "source": [
    "top_five_wildfire_states = df.state.value_counts().head(5).index.to_list()\n",
    "top_five_wildfire_states"
   ]
  },
  {
   "cell_type": "code",
   "execution_count": null,
   "id": "0b83f5ee",
   "metadata": {},
   "outputs": [],
   "source": [
    "num_fires_by_year = df[df.state.isin(top_five_wildfire_states)]\\\n",
    ".groupby(['year', 'state']).count().reset_index()\\\n",
    ".iloc[:, 0:3].rename(columns={'fire_year':'num_fires'})\n",
    "num_fires_by_year"
   ]
  },
  {
   "cell_type": "code",
   "execution_count": null,
   "id": "e137d182",
   "metadata": {},
   "outputs": [],
   "source": [
    "\n",
    "sns.lineplot(data=num_fires_by_year, x='year', y='num_fires', hue='state')"
   ]
  },
  {
   "cell_type": "code",
   "execution_count": null,
   "id": "bf565159",
   "metadata": {},
   "outputs": [],
   "source": [
    "\n",
    "top_causes_of_wildfires = df.general_cause.value_counts().head()\n",
    "top_causes_of_wildfires"
   ]
  },
  {
   "cell_type": "code",
   "execution_count": null,
   "id": "38f307db",
   "metadata": {},
   "outputs": [],
   "source": [
    "top_causes_of_wildfires[1:].index.to_list()"
   ]
  },
  {
   "cell_type": "code",
   "execution_count": null,
   "id": "6da2461a",
   "metadata": {},
   "outputs": [],
   "source": [
    "# create a new dataframe that groups by year and gets a count by year of the top causes for wildfires\n",
    "num_causes_by_year = df[df.general_cause.isin(top_causes_of_wildfires[1:].index.to_list())]\\\n",
    ".groupby(['year', 'general_cause']).count().reset_index().iloc[:, 0:3]\\\n",
    ".rename(columns={'fire_year':'num_occurrences'})\n",
    "num_causes_by_year"
   ]
  },
  {
   "cell_type": "code",
   "execution_count": null,
   "id": "e0bfd5cf",
   "metadata": {},
   "outputs": [],
   "source": [
    "# plot trends over the years by the top four causes of wildfires, excluding observations where cause was not specified\n",
    "sns.lineplot(data=num_causes_by_year, x='year', y='num_occurrences', hue='general_cause')"
   ]
  },
  {
   "cell_type": "code",
   "execution_count": null,
   "id": "160587a1",
   "metadata": {},
   "outputs": [],
   "source": [
    "num_causes_by_year.head()"
   ]
  },
  {
   "cell_type": "code",
   "execution_count": null,
   "id": "9d2e59b2",
   "metadata": {},
   "outputs": [],
   "source": [
    "num_causes_by_year.to_csv('num_causes_by_year')"
   ]
  },
  {
   "cell_type": "code",
   "execution_count": null,
   "id": "43586ea0",
   "metadata": {},
   "outputs": [],
   "source": [
    "num_causes_by_year.shape"
   ]
  },
  {
   "cell_type": "code",
   "execution_count": null,
   "id": "73521340",
   "metadata": {},
   "outputs": [],
   "source": [
    "natural = num_causes_by_year[num_causes_by_year.general_cause == \"Natural\"]\n",
    "arson = num_causes_by_year[num_causes_by_year.general_cause == \"Arson/incendiarism\"]\n",
    "debris = num_causes_by_year[num_causes_by_year.general_cause == \"Debris and open burning\"]\n",
    "equipment = num_causes_by_year[num_causes_by_year.general_cause == \"Equipment and vehicle use\"]\n",
    "\n",
    "natural = natural.set_index(\"year\")\n",
    "arson = arson.set_index(\"year\")\n",
    "equipment = equipment.set_index(\"year\")\n",
    "debris = debris.set_index(\"year\")\n",
    "\n",
    "fig, ax = plt.subplots()\n",
    "labels = arson.index\n",
    "\n",
    "ax.bar(labels, arson.num_occurrences, label=\"Arson/incendiarism\")\n",
    "ax.bar(labels, natural.num_occurrences, label=\"Natural Causes\", bottom=arson.num_occurrences)\n",
    "ax.bar(labels, debris.num_occurrences, label=\"Debris & Open Burning\", bottom=natural.num_occurrences + arson.num_occurrences)\n",
    "ax.bar(labels, equipment.num_occurrences, label=\"Equipment & Vehicle Use\", bottom=debris.num_occurrences + natural.num_occurrences + arson.num_occurrences)\n",
    "\n",
    "ax.legend()\n",
    "ax.set_ylabel(\"n occurrences\")\n",
    "ax.set_title(\"Top Causes Of Wildfires Across The U.S.\")"
   ]
  },
  {
   "cell_type": "code",
   "execution_count": null,
   "id": "49e83ca4",
   "metadata": {
    "scrolled": false
   },
   "outputs": [],
   "source": [
    "# plot wildfires caused by natural causes by year\n",
    "sns.countplot(data=df[df.general_cause == 'Natural'], y='year')"
   ]
  },
  {
   "cell_type": "markdown",
   "id": "ad6a5011",
   "metadata": {},
   "source": [
    "### In recent years, we have seen a decrease in number of wildfires that were caused by natural causes"
   ]
  },
  {
   "cell_type": "code",
   "execution_count": null,
   "id": "975897ed",
   "metadata": {},
   "outputs": [],
   "source": [
    "# plot wildfires caused by Debris and open burning by year\n",
    "sns.countplot(data=df[df.general_cause == 'Debris and open burning'], y='year')"
   ]
  },
  {
   "cell_type": "markdown",
   "id": "0b118915",
   "metadata": {},
   "source": [
    "### There appears to be a slight upward trend in debris and open burning as a cause of wildfires"
   ]
  },
  {
   "cell_type": "code",
   "execution_count": null,
   "id": "841e9889",
   "metadata": {},
   "outputs": [],
   "source": [
    "# plot wildfires caused by Arson/incendiarism by year\n",
    "sns.countplot(data=df[df.general_cause == 'Arson/incendiarism'], y='year')"
   ]
  },
  {
   "cell_type": "markdown",
   "id": "c272db2d",
   "metadata": {},
   "source": [
    "### There are some spikes but otherwise a downward trend in arson/incendiarism as a cause for wildfires"
   ]
  },
  {
   "cell_type": "code",
   "execution_count": null,
   "id": "6904c9df",
   "metadata": {},
   "outputs": [],
   "source": [
    "# plot wildfires caused by Equipment and vehicle use by year\n",
    "sns.countplot(data=df[df.general_cause == 'Equipment and vehicle use'], y='year')"
   ]
  },
  {
   "cell_type": "markdown",
   "id": "4be41e2c",
   "metadata": {},
   "source": [
    "### There are no obvious trends or anything that really stands out in this plot for equipment and vehicle use as a cause for wildfires. \n",
    "\n",
    "### There's no one cause for the higher number of fires in 2006. All causes have higher numbers for this year."
   ]
  },
  {
   "cell_type": "code",
   "execution_count": null,
   "id": "97fafd70",
   "metadata": {},
   "outputs": [],
   "source": [
    "# get statistics for fire size\n",
    "df.fire_size.describe().apply(lambda x: format(x, 'f'))"
   ]
  },
  {
   "cell_type": "markdown",
   "id": "607c4a47",
   "metadata": {},
   "source": [
    "### I want to get a better understanding of range of wildfire sizes"
   ]
  },
  {
   "cell_type": "code",
   "execution_count": null,
   "id": "7f7ef25f",
   "metadata": {},
   "outputs": [],
   "source": [
    "print(f'The 10th percentile is: {df.fire_size.quantile(.1)}')\n",
    "print(f'The 20th percentile is: {df.fire_size.quantile(.2)}')\n",
    "print(f'The 25th percentile is: {df.fire_size.quantile(.25)}')\n",
    "print(f'The 30th percentile is: {df.fire_size.quantile(.3)}')\n",
    "print(f'The 40th percentile is: {df.fire_size.quantile(.4)}')\n",
    "print(f'The 50th percentile is: {df.fire_size.quantile(.5)}')\n",
    "print(f'The 60th percentile is: {df.fire_size.quantile(.6)}')\n",
    "print(f'The 70th percentile is: {df.fire_size.quantile(.7)}')\n",
    "print(f'The 75th percentile is: {df.fire_size.quantile(.75)}')\n",
    "print(f'The 80th percentile is: {df.fire_size.quantile(.8)}')\n",
    "print(f'The 90th percentile is: {df.fire_size.quantile(.9)}')\n",
    "print(f'The 100th percentile is: {df.fire_size.quantile(1)}')"
   ]
  },
  {
   "cell_type": "code",
   "execution_count": null,
   "id": "a974e246",
   "metadata": {},
   "outputs": [],
   "source": [
    "df.fire_size.hist()"
   ]
  },
  {
   "cell_type": "code",
   "execution_count": null,
   "id": "0dda6734",
   "metadata": {},
   "outputs": [],
   "source": [
    "df[df.fire_size > 100000].shape"
   ]
  },
  {
   "cell_type": "code",
   "execution_count": null,
   "id": "97bbe967",
   "metadata": {},
   "outputs": [],
   "source": [
    "# check \n",
    "df[df.fire_size > 100000].fire_size.hist()"
   ]
  },
  {
   "cell_type": "code",
   "execution_count": null,
   "id": "5a768fb4",
   "metadata": {},
   "outputs": [],
   "source": [
    "# plot counts of large fires by year\n",
    "sns.countplot(data=df[df.fire_size > 100000], x='year')"
   ]
  },
  {
   "cell_type": "code",
   "execution_count": null,
   "id": "58038388",
   "metadata": {},
   "outputs": [],
   "source": []
  },
  {
   "cell_type": "markdown",
   "id": "f70f3405",
   "metadata": {},
   "source": [
    "### I want to graph the average size of wildfires per decade to see if I can clearly represent the trend to our audience."
   ]
  },
  {
   "cell_type": "code",
   "execution_count": null,
   "id": "f26da92a",
   "metadata": {},
   "outputs": [],
   "source": [
    "# create another column categorizing decade\n",
    "conditions = [df.year < 2000, df.year <2010, df.year <2020]\n",
    "choices = ['1992 - 1999', '2000 - 2009', '2010 - ']\n",
    "df['decade'] = np.select(conditions, choices)\n",
    "df.head()"
   ]
  },
  {
   "cell_type": "code",
   "execution_count": null,
   "id": "0c06f64b",
   "metadata": {},
   "outputs": [],
   "source": [
    "# plot average fire size by decade\n",
    "sns.barplot(data=df, x='decade', y='fire_size')"
   ]
  },
  {
   "cell_type": "markdown",
   "id": "d4fb7cfb",
   "metadata": {},
   "source": [
    "### I am also going to try to graph average fire size per quinquennial between 1995-2015 to see if that also represents this trend"
   ]
  },
  {
   "cell_type": "code",
   "execution_count": null,
   "id": "137934fd",
   "metadata": {},
   "outputs": [],
   "source": [
    "# create another dataframe where I can chunk the data into 5-year periods\n",
    "df2 = df[(df.year >=1996) & (df.year <=2015)]\n",
    "df2.year.value_counts().sort_index()"
   ]
  },
  {
   "cell_type": "code",
   "execution_count": null,
   "id": "99c67a5a",
   "metadata": {},
   "outputs": [],
   "source": [
    "# create another column categorizing quinquennial\n",
    "conditions = [df2.year <= 2000, df2.year <= 2005, df2.year <= 2010, df2.year <= 2015]\n",
    "choices = ['1996 - 2000', '2001 - 2005', '2006 - 2010', '2011 - 2015']\n",
    "df2['quinquennial'] = np.select(conditions, choices)\n",
    "df2.head()"
   ]
  },
  {
   "cell_type": "code",
   "execution_count": null,
   "id": "a0407a5c",
   "metadata": {},
   "outputs": [],
   "source": [
    "# plot average fire size by quinquennial\n",
    "sns.barplot(data=df2, x='quinquennial', y='fire_size')"
   ]
  },
  {
   "cell_type": "code",
   "execution_count": null,
   "id": "7007d04d",
   "metadata": {},
   "outputs": [],
   "source": [
    "yearly_mean_fire_size = df.groupby('year').fire_size.mean().reset_index()"
   ]
  },
  {
   "cell_type": "code",
   "execution_count": null,
   "id": "fb815f8c",
   "metadata": {},
   "outputs": [],
   "source": [
    "# # plot scatterplot with regression line\n",
    "# # sns.color_palette(\"rocket\", as_cmap=True)\n",
    "# sns.lmplot(x='year', y='fire_size', data=yearly_mean_fire_size, height=8, markers='x', seed=321, robust=True)\n",
    "# plt.title('Annual Average Acres Burned Is Increasing', size=14, color_palette='rocket')\n",
    "# plt.xlabel('Year')\n",
    "# plt.ylabel('Acres Burned');"
   ]
  },
  {
   "cell_type": "code",
   "execution_count": null,
   "id": "8aecd1a5",
   "metadata": {},
   "outputs": [],
   "source": [
    "df.groupby('year').mean()"
   ]
  },
  {
   "cell_type": "markdown",
   "id": "57a7d9f7",
   "metadata": {},
   "source": [
    "The smallest wildfire is only about 4.5 square feet\n",
    "\n",
    "25% of fires are less than 1/10 of an acre\n",
    "\n",
    "50% are less than one acre\n",
    "\n",
    "75% are less than three acres\n",
    "\n",
    "20% of fires are greater than 5 acres which is equivalent to three and a quarter football fields.\n",
    "\n",
    "The largest wildfire is larger than 500,000 football fields or 85% of Rhode Island, our smallest state"
   ]
  },
  {
   "cell_type": "markdown",
   "id": "04005a17",
   "metadata": {},
   "source": [
    "---"
   ]
  },
  {
   "cell_type": "markdown",
   "id": "39a4f135",
   "metadata": {},
   "source": [
    "#### I am going to create a column categorizing the fires as:\n",
    "\n",
    "* small: up to the size of two tennis courts\n",
    "* medium: up to the size of a football field\n",
    "* large: up to the size of 4 football fields\n",
    "* extra_lg: anything larger than this"
   ]
  },
  {
   "cell_type": "code",
   "execution_count": null,
   "id": "c1063a83",
   "metadata": {},
   "outputs": [],
   "source": [
    "# create another column categorizing fire size\n",
    "conditions = [df.fire_size <=.13, df.fire_size <=1.3, df.fire_size <=5.2, df.fire_size >5.2]\n",
    "choices = ['small', 'medium', 'large', 'extra_lg']\n",
    "df['size_category'] = np.select(conditions, choices)\n",
    "df.head()"
   ]
  },
  {
   "cell_type": "code",
   "execution_count": null,
   "id": "c2c08190",
   "metadata": {},
   "outputs": [],
   "source": [
    "df.size_category.value_counts(normalize=True)"
   ]
  },
  {
   "cell_type": "code",
   "execution_count": null,
   "id": "5d279625",
   "metadata": {
    "scrolled": false
   },
   "outputs": [],
   "source": [
    "# plot size of fires by latitude and longitude\n",
    "sns.scatterplot(x='longitude', y='latitude', hue='size_category', data=df)"
   ]
  },
  {
   "cell_type": "markdown",
   "id": "91489998",
   "metadata": {},
   "source": [
    "### With all the fires plotted across all the years, we see that the large majority seems to be smaller fires. Alaska does have a large amount of extra-large fires"
   ]
  },
  {
   "cell_type": "code",
   "execution_count": null,
   "id": "44e86d1b",
   "metadata": {},
   "outputs": [],
   "source": [
    "# checking to see what the fire size and location looks like for 2006\n",
    "sns.scatterplot(x='longitude', y='latitude', hue='size_category', data=df[df.year == 2006])"
   ]
  },
  {
   "cell_type": "markdown",
   "id": "167e2a14",
   "metadata": {},
   "source": [
    "### It appears that the majority of the largest wildfires in 2006 happened in the central area of the US"
   ]
  },
  {
   "cell_type": "code",
   "execution_count": null,
   "id": "16c8bc1b",
   "metadata": {},
   "outputs": [],
   "source": [
    "df.head()"
   ]
  },
  {
   "cell_type": "code",
   "execution_count": null,
   "id": "572569a9",
   "metadata": {},
   "outputs": [],
   "source": [
    "df.groupby('state').fire_size.sum().sort_values(ascending=False).head()"
   ]
  },
  {
   "cell_type": "code",
   "execution_count": null,
   "id": "864926f2",
   "metadata": {},
   "outputs": [],
   "source": [
    "y = df.groupby('state').fire_size.sum().sort_values(ascending=False).head(10).reset_index()\n",
    "y.fire_size = round(y.fire_size/1_000_000)\n",
    "y"
   ]
  },
  {
   "cell_type": "code",
   "execution_count": null,
   "id": "1fcd3171",
   "metadata": {},
   "outputs": [],
   "source": [
    "sns.barplot(x='state', y='fire_size', data=y)"
   ]
  },
  {
   "cell_type": "code",
   "execution_count": null,
   "id": "5e462f4b",
   "metadata": {},
   "outputs": [],
   "source": [
    "df[df.state == 'AK'].fire_size.sum()"
   ]
  },
  {
   "cell_type": "markdown",
   "id": "e918d4a2",
   "metadata": {},
   "source": [
    "### I am going to further explore extra-large fires to see if there's anything there."
   ]
  },
  {
   "cell_type": "code",
   "execution_count": null,
   "id": "6b7d6f57",
   "metadata": {},
   "outputs": [],
   "source": [
    "lg_df = df[df.size_category == 'extra_lg']\n",
    "lg_df.info()"
   ]
  },
  {
   "cell_type": "code",
   "execution_count": null,
   "id": "8bd0a8b0",
   "metadata": {},
   "outputs": [],
   "source": [
    "\n",
    "lg_df.fire_size.describe()"
   ]
  },
  {
   "cell_type": "code",
   "execution_count": null,
   "id": "49a70325",
   "metadata": {},
   "outputs": [],
   "source": [
    "lg_df.general_cause.value_counts()"
   ]
  },
  {
   "cell_type": "code",
   "execution_count": null,
   "id": "1cc6f5b6",
   "metadata": {},
   "outputs": [],
   "source": [
    "x = df[df.fire_size > 9]\n",
    "x.general_cause.value_counts()"
   ]
  },
  {
   "cell_type": "code",
   "execution_count": null,
   "id": "9e26f281",
   "metadata": {},
   "outputs": [],
   "source": [
    "\n",
    "df[df.general_cause == 'Debris and open burning'].fire_size.describe()"
   ]
  },
  {
   "cell_type": "code",
   "execution_count": null,
   "id": "45dad239",
   "metadata": {},
   "outputs": [],
   "source": [
    "\n",
    "df[df.general_cause == 'Debris and open burning'].fire_size.hist()"
   ]
  },
  {
   "cell_type": "code",
   "execution_count": null,
   "id": "940384a4",
   "metadata": {},
   "outputs": [],
   "source": [
    "\n",
    "df[(df.general_cause == 'Debris and open burning') & (df.fire_size > 50_000)].info()"
   ]
  },
  {
   "cell_type": "code",
   "execution_count": null,
   "id": "6840ee0b",
   "metadata": {},
   "outputs": [],
   "source": [
    "\n",
    "df[df.general_cause == 'Natural'].fire_size.describe()"
   ]
  },
  {
   "cell_type": "code",
   "execution_count": null,
   "id": "6cd27428",
   "metadata": {},
   "outputs": [],
   "source": [
    "\n",
    "df[df.general_cause == 'Natural'].fire_size.hist()"
   ]
  },
  {
   "cell_type": "code",
   "execution_count": null,
   "id": "e8dcd4dd",
   "metadata": {},
   "outputs": [],
   "source": [
    "df[(df.general_cause == 'Natural') & (df.fire_size > 50_000)].info()"
   ]
  },
  {
   "cell_type": "code",
   "execution_count": null,
   "id": "9e8287fd",
   "metadata": {},
   "outputs": [],
   "source": [
    "\n",
    "df[df.general_cause == 'Arson/incendiarism'].fire_size.describe()"
   ]
  },
  {
   "cell_type": "code",
   "execution_count": null,
   "id": "8bc9760c",
   "metadata": {},
   "outputs": [],
   "source": [
    "df[df.general_cause == 'Arson/incendiarism'].fire_size.hist()"
   ]
  },
  {
   "cell_type": "code",
   "execution_count": null,
   "id": "e098b3ef",
   "metadata": {},
   "outputs": [],
   "source": [
    "\n",
    "df[(df.general_cause == 'Arson/incendiarism') & (df.fire_size > 50_000)].info()"
   ]
  },
  {
   "cell_type": "markdown",
   "id": "cc6c4eb7",
   "metadata": {},
   "source": [
    "### Below is a list of states with the most and fewest amount of fires for each year in our dataset. Washington DC is most often the place with the fewest fires per year. Apart from DC, the states with the fewest fires per year include New England states such as Maryland, Vermont, Delaware, and Massachusetts; Puerto Rico had the fewest fires in 1996. California, Georgia, and Texas are the states with the greatest number of fires for every year except for 2018, during which Arizona had 9,738 fires."
   ]
  },
  {
   "cell_type": "code",
   "execution_count": null,
   "id": "c9d2d438",
   "metadata": {},
   "outputs": [],
   "source": [
    "# # Sophia\n",
    "# # print max and min for num fires/year\n",
    "# for year in list(range(1992, 2019)):\n",
    "#     print(year)\n",
    "#     print('Fewest fires:', df[df.fire_year == year].groupby('state').fire_size.count().idxmin(), df[df.fire_year == year].groupby('state').fire_size.count().min())\n",
    "#     print('Most fires:',df[df.fire_year == year].groupby('state').fire_size.count().idxmax(), df[df.fire_year == year].groupby('state').fire_size.count().max())\n",
    "#     print() b"
   ]
  },
  {
   "cell_type": "markdown",
   "id": "367b6f1e",
   "metadata": {},
   "source": [
    "### A teammate discovered that the annual number of wildfires for TX  that we had in our database almost doubled for each year for the period 2005 and after vs 1992 - 2004. I am going to do a little exploring to see if I can discover why there's such a difference."
   ]
  },
  {
   "cell_type": "code",
   "execution_count": null,
   "id": "c3ee765a",
   "metadata": {},
   "outputs": [],
   "source": [
    "# create separate dataframes for each period\n",
    "texas_92 = df[(df.state == 'TX') & (df.fire_year < 2005)]\n",
    "texas_05 = df[(df.state == 'TX') & (df.fire_year >= 2005)]\n",
    "texas_05.head()"
   ]
  },
  {
   "cell_type": "code",
   "execution_count": null,
   "id": "bacadb28",
   "metadata": {},
   "outputs": [],
   "source": [
    "# plot counts by year for period prior to 2005\n",
    "sns.countplot(data=texas_92, x='year')"
   ]
  },
  {
   "cell_type": "code",
   "execution_count": null,
   "id": "df1d52cb",
   "metadata": {},
   "outputs": [],
   "source": [
    "# plot counts by year for period 2005 and after\n",
    "sns.countplot(data=texas_05, x='year')"
   ]
  },
  {
   "cell_type": "markdown",
   "id": "cb370def",
   "metadata": {},
   "source": [
    "### If we look at the numbers on the y-axis, the year with the most fires, 1996, in period pre-2005 is less than the year with the least fires 2007, in period 2005 and after. This is a huge jump and slightly suspicious. Climate change is causing an increase in wildfires but not with that much of a difference from one year to the next."
   ]
  },
  {
   "cell_type": "code",
   "execution_count": null,
   "id": "c59a9ea7",
   "metadata": {},
   "outputs": [],
   "source": [
    "# check value counts for cause and normalize\n",
    "texas_92.general_cause.value_counts(normalize=True)"
   ]
  },
  {
   "cell_type": "code",
   "execution_count": null,
   "id": "5988e964",
   "metadata": {},
   "outputs": [],
   "source": [
    "# check value counts for cause and normalize\n",
    "texas_05.general_cause.value_counts(normalize=True)"
   ]
  },
  {
   "cell_type": "markdown",
   "id": "0a041409",
   "metadata": {},
   "source": [
    "Debris and open burning as a cause is down 6%\n",
    "\n",
    "Missing data as a cause is up 100%\n",
    "\n",
    "Equipment and vehicle use as a cause is up 7%\n",
    "\n",
    "### There's nothing here that stands out as the reason for more fires. The significant increase in missing data makes me wonder if there may just have been a change in recording wildfires."
   ]
  },
  {
   "cell_type": "code",
   "execution_count": null,
   "id": "4330491b",
   "metadata": {},
   "outputs": [],
   "source": [
    "# check stats for wildfire size to see if there's a difference\n",
    "texas_92.fire_size.describe()"
   ]
  },
  {
   "cell_type": "code",
   "execution_count": null,
   "id": "c2c4a2f1",
   "metadata": {},
   "outputs": [],
   "source": [
    "# check stats for wildfire size to see if there's a difference\n",
    "texas_05.fire_size.describe()"
   ]
  },
  {
   "cell_type": "markdown",
   "id": "82dee5f1",
   "metadata": {},
   "source": [
    "### The fact that there are many more smaller fires reaffirms my suspicions. It could be that prior to 2005 many of the smaller fires that were quicky contained were not documented and 2005 was when they started being more comprehensive in their documentation of fires. "
   ]
  },
  {
   "cell_type": "code",
   "execution_count": null,
   "id": "50e982a8",
   "metadata": {},
   "outputs": [],
   "source": [
    "df[(df.state == 'TX') & (df.fire_year == 2004)].general_cause.value_counts(normalize=True)"
   ]
  },
  {
   "cell_type": "code",
   "execution_count": null,
   "id": "54c68d22",
   "metadata": {},
   "outputs": [],
   "source": [
    "df[(df.state == 'TX') & (df.fire_year == 2005)].general_cause.value_counts(normalize=True)"
   ]
  },
  {
   "cell_type": "code",
   "execution_count": null,
   "id": "ea8d2865",
   "metadata": {},
   "outputs": [],
   "source": [
    "df[(df.state == 'TX') & (df.fire_year == 2004)].fire_size.describe()"
   ]
  },
  {
   "cell_type": "code",
   "execution_count": null,
   "id": "cae6df91",
   "metadata": {},
   "outputs": [],
   "source": [
    "df[(df.state == 'TX') & (df.fire_year == 2005)].fire_size.describe()"
   ]
  },
  {
   "cell_type": "code",
   "execution_count": null,
   "id": "f9b1380e",
   "metadata": {},
   "outputs": [],
   "source": [
    "df = pd.read_csv('fires.csv', index_col=0)\n",
    "df.head()"
   ]
  },
  {
   "cell_type": "code",
   "execution_count": null,
   "id": "80ac34f6",
   "metadata": {},
   "outputs": [],
   "source": [
    "df[df.FIRE_SIZE_CLASS == 'G'].sort_values('FIRE_SIZE')"
   ]
  },
  {
   "cell_type": "code",
   "execution_count": null,
   "id": "717cc876",
   "metadata": {},
   "outputs": [],
   "source": [
    "df.FIRE_SIZE.sum()"
   ]
  },
  {
   "cell_type": "code",
   "execution_count": null,
   "id": "4ab43605",
   "metadata": {},
   "outputs": [],
   "source": [
    "df[df.FIRE_SIZE_CLASS == 'G'].FIRE_SIZE.sum()"
   ]
  },
  {
   "cell_type": "code",
   "execution_count": null,
   "id": "54431af4",
   "metadata": {},
   "outputs": [],
   "source": [
    "df[df.FIRE_SIZE_CLASS != 'G'].FIRE_SIZE.sum()"
   ]
  },
  {
   "cell_type": "code",
   "execution_count": null,
   "id": "0bd00661",
   "metadata": {},
   "outputs": [],
   "source": [
    "df[df.FIRE_SIZE_CLASS == 'G'].FIRE_SIZE.sum() / df.FIRE_SIZE.sum()"
   ]
  },
  {
   "cell_type": "code",
   "execution_count": null,
   "id": "fd171ce9",
   "metadata": {},
   "outputs": [],
   "source": [
    "df[df.FIRE_SIZE_CLASS == 'G'].NWCG_GENERAL_CAUSE.value_counts()"
   ]
  },
  {
   "cell_type": "code",
   "execution_count": null,
   "id": "9f2a98bb",
   "metadata": {},
   "outputs": [],
   "source": [
    "# plot counts by year\n",
    "sns.countplot(data=df[df.FIRE_SIZE_CLASS == 'G'], x='FIRE_YEAR')"
   ]
  },
  {
   "cell_type": "code",
   "execution_count": null,
   "id": "7d3f6e2d",
   "metadata": {},
   "outputs": [],
   "source": [
    "# plot counts by month\n",
    "sns.countplot(data=df, x='month')"
   ]
  }
 ],
 "metadata": {
  "kernelspec": {
   "display_name": "Python 3",
   "language": "python",
   "name": "python3"
  },
  "language_info": {
   "codemirror_mode": {
    "name": "ipython",
    "version": 3
   },
   "file_extension": ".py",
   "mimetype": "text/x-python",
   "name": "python",
   "nbconvert_exporter": "python",
   "pygments_lexer": "ipython3",
   "version": "3.8.8"
  }
 },
 "nbformat": 4,
 "nbformat_minor": 5
}
