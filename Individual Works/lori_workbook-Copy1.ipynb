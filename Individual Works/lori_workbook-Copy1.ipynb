{
 "cells": [
  {
   "cell_type": "code",
   "execution_count": 1,
   "id": "0d39f102",
   "metadata": {},
   "outputs": [],
   "source": [
    "import pandas as pd\n",
    "import numpy as np\n",
    "\n",
    "import matplotlib.pyplot as plt\n",
    "import seaborn as sns\n",
    "\n",
    "from datetime import datetime\n",
    "\n",
    "import wrangle\n",
    "import explore\n",
    "\n",
    "import warnings\n",
    "warnings.filterwarnings('ignore')"
   ]
  },
  {
   "cell_type": "code",
   "execution_count": 2,
   "id": "f9269415",
   "metadata": {},
   "outputs": [],
   "source": [
    "# set style defaults\n",
    "plt.rc('figure', figsize=(13, 7))\n",
    "plt.style.use('seaborn-darkgrid')"
   ]
  },
  {
   "cell_type": "code",
   "execution_count": 3,
   "id": "a2fc8eec",
   "metadata": {},
   "outputs": [],
   "source": [
    "# change setting to view all columns in jupyter notebook\n",
    "pd.set_option('display.max_columns', None)"
   ]
  },
  {
   "cell_type": "code",
   "execution_count": 4,
   "id": "5fd30f71",
   "metadata": {},
   "outputs": [
    {
     "data": {
      "text/html": [
       "<div>\n",
       "<style scoped>\n",
       "    .dataframe tbody tr th:only-of-type {\n",
       "        vertical-align: middle;\n",
       "    }\n",
       "\n",
       "    .dataframe tbody tr th {\n",
       "        vertical-align: top;\n",
       "    }\n",
       "\n",
       "    .dataframe thead th {\n",
       "        text-align: right;\n",
       "    }\n",
       "</style>\n",
       "<table border=\"1\" class=\"dataframe\">\n",
       "  <thead>\n",
       "    <tr style=\"text-align: right;\">\n",
       "      <th></th>\n",
       "      <th>fire_year</th>\n",
       "      <th>discovery_date</th>\n",
       "      <th>general_cause</th>\n",
       "      <th>containment_date</th>\n",
       "      <th>fire_size</th>\n",
       "      <th>latitude</th>\n",
       "      <th>longitude</th>\n",
       "      <th>state</th>\n",
       "      <th>state_size</th>\n",
       "      <th>region</th>\n",
       "      <th>region_size</th>\n",
       "      <th>fire_size_cat</th>\n",
       "    </tr>\n",
       "  </thead>\n",
       "  <tbody>\n",
       "    <tr>\n",
       "      <th>0</th>\n",
       "      <td>2005</td>\n",
       "      <td>2005-02-02</td>\n",
       "      <td>Power generation/transmission/distribution</td>\n",
       "      <td>2005-02-02</td>\n",
       "      <td>0.10</td>\n",
       "      <td>40.036944</td>\n",
       "      <td>-121.005833</td>\n",
       "      <td>CA</td>\n",
       "      <td>101676000.0</td>\n",
       "      <td>west</td>\n",
       "      <td>1.008831e+09</td>\n",
       "      <td>small</td>\n",
       "    </tr>\n",
       "    <tr>\n",
       "      <th>1</th>\n",
       "      <td>2004</td>\n",
       "      <td>2004-05-12</td>\n",
       "      <td>Natural</td>\n",
       "      <td>2004-05-12</td>\n",
       "      <td>0.25</td>\n",
       "      <td>38.933056</td>\n",
       "      <td>-120.404444</td>\n",
       "      <td>CA</td>\n",
       "      <td>101676000.0</td>\n",
       "      <td>west</td>\n",
       "      <td>1.008831e+09</td>\n",
       "      <td>small</td>\n",
       "    </tr>\n",
       "    <tr>\n",
       "      <th>2</th>\n",
       "      <td>2004</td>\n",
       "      <td>2004-05-31</td>\n",
       "      <td>Debris and open burning</td>\n",
       "      <td>2004-05-31</td>\n",
       "      <td>0.10</td>\n",
       "      <td>38.984167</td>\n",
       "      <td>-120.735556</td>\n",
       "      <td>CA</td>\n",
       "      <td>101676000.0</td>\n",
       "      <td>west</td>\n",
       "      <td>1.008831e+09</td>\n",
       "      <td>small</td>\n",
       "    </tr>\n",
       "    <tr>\n",
       "      <th>3</th>\n",
       "      <td>2004</td>\n",
       "      <td>2004-06-28</td>\n",
       "      <td>Natural</td>\n",
       "      <td>2004-07-03</td>\n",
       "      <td>0.10</td>\n",
       "      <td>38.559167</td>\n",
       "      <td>-119.913333</td>\n",
       "      <td>CA</td>\n",
       "      <td>101676000.0</td>\n",
       "      <td>west</td>\n",
       "      <td>1.008831e+09</td>\n",
       "      <td>small</td>\n",
       "    </tr>\n",
       "    <tr>\n",
       "      <th>4</th>\n",
       "      <td>2004</td>\n",
       "      <td>2004-06-28</td>\n",
       "      <td>Natural</td>\n",
       "      <td>2004-07-03</td>\n",
       "      <td>0.10</td>\n",
       "      <td>38.559167</td>\n",
       "      <td>-119.933056</td>\n",
       "      <td>CA</td>\n",
       "      <td>101676000.0</td>\n",
       "      <td>west</td>\n",
       "      <td>1.008831e+09</td>\n",
       "      <td>small</td>\n",
       "    </tr>\n",
       "  </tbody>\n",
       "</table>\n",
       "</div>"
      ],
      "text/plain": [
       "   fire_year discovery_date                               general_cause  \\\n",
       "0       2005     2005-02-02  Power generation/transmission/distribution   \n",
       "1       2004     2004-05-12                                     Natural   \n",
       "2       2004     2004-05-31                     Debris and open burning   \n",
       "3       2004     2004-06-28                                     Natural   \n",
       "4       2004     2004-06-28                                     Natural   \n",
       "\n",
       "  containment_date  fire_size   latitude   longitude state   state_size  \\\n",
       "0       2005-02-02       0.10  40.036944 -121.005833    CA  101676000.0   \n",
       "1       2004-05-12       0.25  38.933056 -120.404444    CA  101676000.0   \n",
       "2       2004-05-31       0.10  38.984167 -120.735556    CA  101676000.0   \n",
       "3       2004-07-03       0.10  38.559167 -119.913333    CA  101676000.0   \n",
       "4       2004-07-03       0.10  38.559167 -119.933056    CA  101676000.0   \n",
       "\n",
       "  region   region_size fire_size_cat  \n",
       "0   west  1.008831e+09         small  \n",
       "1   west  1.008831e+09         small  \n",
       "2   west  1.008831e+09         small  \n",
       "3   west  1.008831e+09         small  \n",
       "4   west  1.008831e+09         small  "
      ]
     },
     "execution_count": 4,
     "metadata": {},
     "output_type": "execute_result"
    }
   ],
   "source": [
    "# use a function to pull in the data\n",
    "fires = wrangle.wrangle_fires()\n",
    "fires.head()"
   ]
  },
  {
   "cell_type": "code",
   "execution_count": 5,
   "id": "e9d495e4",
   "metadata": {},
   "outputs": [
    {
     "data": {
      "text/html": [
       "<div>\n",
       "<style scoped>\n",
       "    .dataframe tbody tr th:only-of-type {\n",
       "        vertical-align: middle;\n",
       "    }\n",
       "\n",
       "    .dataframe tbody tr th {\n",
       "        vertical-align: top;\n",
       "    }\n",
       "\n",
       "    .dataframe thead th {\n",
       "        text-align: right;\n",
       "    }\n",
       "</style>\n",
       "<table border=\"1\" class=\"dataframe\">\n",
       "  <thead>\n",
       "    <tr style=\"text-align: right;\">\n",
       "      <th></th>\n",
       "      <th>fire_year</th>\n",
       "      <th>general_cause</th>\n",
       "      <th>containment_date</th>\n",
       "      <th>fire_size</th>\n",
       "      <th>latitude</th>\n",
       "      <th>longitude</th>\n",
       "      <th>state</th>\n",
       "      <th>state_size</th>\n",
       "      <th>region</th>\n",
       "      <th>region_size</th>\n",
       "      <th>fire_size_cat</th>\n",
       "    </tr>\n",
       "    <tr>\n",
       "      <th>discovery_date</th>\n",
       "      <th></th>\n",
       "      <th></th>\n",
       "      <th></th>\n",
       "      <th></th>\n",
       "      <th></th>\n",
       "      <th></th>\n",
       "      <th></th>\n",
       "      <th></th>\n",
       "      <th></th>\n",
       "      <th></th>\n",
       "      <th></th>\n",
       "    </tr>\n",
       "  </thead>\n",
       "  <tbody>\n",
       "    <tr>\n",
       "      <th>1992-01-01</th>\n",
       "      <td>1992</td>\n",
       "      <td>Smoking</td>\n",
       "      <td>1992-01-01</td>\n",
       "      <td>0.07</td>\n",
       "      <td>32.201000</td>\n",
       "      <td>-82.498700</td>\n",
       "      <td>GA</td>\n",
       "      <td>37745000.0</td>\n",
       "      <td>southeast</td>\n",
       "      <td>3.670760e+08</td>\n",
       "      <td>small</td>\n",
       "    </tr>\n",
       "    <tr>\n",
       "      <th>1992-01-01</th>\n",
       "      <td>1992</td>\n",
       "      <td>Missing data/not specified/undetermined</td>\n",
       "      <td>NaT</td>\n",
       "      <td>0.50</td>\n",
       "      <td>41.196201</td>\n",
       "      <td>-105.641502</td>\n",
       "      <td>WY</td>\n",
       "      <td>62604000.0</td>\n",
       "      <td>west</td>\n",
       "      <td>1.008831e+09</td>\n",
       "      <td>small</td>\n",
       "    </tr>\n",
       "  </tbody>\n",
       "</table>\n",
       "</div>"
      ],
      "text/plain": [
       "                fire_year                            general_cause  \\\n",
       "discovery_date                                                       \n",
       "1992-01-01           1992                                  Smoking   \n",
       "1992-01-01           1992  Missing data/not specified/undetermined   \n",
       "\n",
       "               containment_date  fire_size   latitude   longitude state  \\\n",
       "discovery_date                                                            \n",
       "1992-01-01           1992-01-01       0.07  32.201000  -82.498700    GA   \n",
       "1992-01-01                  NaT       0.50  41.196201 -105.641502    WY   \n",
       "\n",
       "                state_size     region   region_size fire_size_cat  \n",
       "discovery_date                                                     \n",
       "1992-01-01      37745000.0  southeast  3.670760e+08         small  \n",
       "1992-01-01      62604000.0       west  1.008831e+09         small  "
      ]
     },
     "execution_count": 5,
     "metadata": {},
     "output_type": "execute_result"
    }
   ],
   "source": [
    "# set discovery date as index\n",
    "df = fires.set_index('discovery_date').sort_index()\n",
    "df.head(2)"
   ]
  },
  {
   "cell_type": "code",
   "execution_count": 17,
   "id": "b79d3ecf",
   "metadata": {},
   "outputs": [],
   "source": [
    "# # create a year and month column\n",
    "# # df['year'] = df.index.year\n",
    "df['month'] = df.index.month_name()"
   ]
  },
  {
   "cell_type": "code",
   "execution_count": 14,
   "id": "747f9f0d",
   "metadata": {},
   "outputs": [],
   "source": [
    "# # check value counts by state\n",
    "# df.state.value_counts()"
   ]
  },
  {
   "cell_type": "markdown",
   "id": "ef490947",
   "metadata": {},
   "source": [
    "### States in the NorthEastern part of the United States have the least wildfires. Not surprisingly, California has the most. Other states with the most wildfires seem to be primarily in the South."
   ]
  },
  {
   "cell_type": "markdown",
   "id": "3f965d06",
   "metadata": {},
   "source": [
    "# How has the number and size of wildfires changed over time?"
   ]
  },
  {
   "cell_type": "markdown",
   "id": "f8826711",
   "metadata": {},
   "source": [
    "### What is the number of fires per year for all years we have in the data?"
   ]
  },
  {
   "cell_type": "code",
   "execution_count": 15,
   "id": "f9a6b741",
   "metadata": {},
   "outputs": [],
   "source": [
    "# # plot counts by year\n",
    "\n",
    "# sns.countplot(data=df, x='fire_year', color='crimson');"
   ]
  },
  {
   "cell_type": "markdown",
   "id": "b9842efa",
   "metadata": {},
   "source": [
    "### 2006, 2007, and 2011 had the most wildfires. There does almost appear to be a cycle of 5-6 years for the amount of wildfires."
   ]
  },
  {
   "cell_type": "markdown",
   "id": "17f329cf",
   "metadata": {},
   "source": [
    "### Are wildfires more prevalent at certain times of year?"
   ]
  },
  {
   "cell_type": "code",
   "execution_count": 18,
   "id": "a4b812c6",
   "metadata": {},
   "outputs": [
    {
     "data": {
      "text/plain": [
       "<AxesSubplot:xlabel='month', ylabel='count'>"
      ]
     },
     "execution_count": 18,
     "metadata": {},
     "output_type": "execute_result"
    },
    {
     "data": {
      "image/png": "[encoded data removed]",
      "text/plain": [
       "<Figure size 936x504 with 1 Axes>"
      ]
     },
     "metadata": {},
     "output_type": "display_data"
    }
   ],
   "source": [
    "# plot counts by month\n",
    "sns.countplot(data=df, x='month')"
   ]
  },
  {
   "cell_type": "markdown",
   "id": "49f49e75",
   "metadata": {},
   "source": [
    "### Not surprisingly, July & August tend to have more fires which is likely due to heat, camping, and dry weather. It is surprising to see that March & April have a higher number of fires as well."
   ]
  },
  {
   "cell_type": "markdown",
   "id": "f5b478f8",
   "metadata": {},
   "source": [
    "### Get visualization of value counts by state"
   ]
  },
  {
   "cell_type": "code",
   "execution_count": 19,
   "id": "bd823780",
   "metadata": {},
   "outputs": [
    {
     "data": {
      "text/plain": [
       "<AxesSubplot:xlabel='count', ylabel='state'>"
      ]
     },
     "execution_count": 19,
     "metadata": {},
     "output_type": "execute_result"
    },
    {
     "data": {
      "image/png": "[encoded data removed]",
      "text/plain": [
       "<Figure size 720x1440 with 1 Axes>"
      ]
     },
     "metadata": {},
     "output_type": "display_data"
    }
   ],
   "source": [
    "# plot counts by state\n",
    "plt.figure(figsize=(10,20))\n",
    "sns.countplot(data=df, y='state', order=df.state.value_counts().index)"
   ]
  },
  {
   "cell_type": "code",
   "execution_count": 20,
   "id": "2248ebca",
   "metadata": {},
   "outputs": [
    {
     "data": {
      "text/plain": [
       "CA    0.108563\n",
       "GA    0.083154\n",
       "TX    0.077102\n",
       "NC    0.057133\n",
       "FL    0.045855\n",
       "AZ    0.043114\n",
       "NY    0.043000\n",
       "SC    0.039700\n",
       "MS    0.038355\n",
       "AL    0.033452\n",
       "OR    0.030994\n",
       "CO    0.028257\n",
       "MN    0.022466\n",
       "OK    0.022218\n",
       "MT    0.021812\n",
       "NM    0.019011\n",
       "ID    0.018532\n",
       "WA    0.017440\n",
       "AR    0.016928\n",
       "WI    0.016299\n",
       "SD    0.016052\n",
       "UT    0.015843\n",
       "TN    0.015512\n",
       "LA    0.014881\n",
       "NJ    0.014101\n",
       "KY    0.013666\n",
       "VA    0.010960\n",
       "WV    0.010952\n",
       "PR    0.010227\n",
       "MO    0.010153\n",
       "NV    0.008711\n",
       "ND    0.008450\n",
       "WY    0.008093\n",
       "KS    0.008064\n",
       "ME    0.006888\n",
       "MI    0.006538\n",
       "AK    0.006519\n",
       "PA    0.004986\n",
       "NE    0.004779\n",
       "HI    0.004592\n",
       "MA    0.003128\n",
       "CT    0.002772\n",
       "IA    0.002351\n",
       "OH    0.002182\n",
       "MD    0.001822\n",
       "NH    0.001355\n",
       "IL    0.001299\n",
       "IN    0.001018\n",
       "VT    0.000310\n",
       "RI    0.000291\n",
       "DE    0.000086\n",
       "DC    0.000037\n",
       "Name: state, dtype: float64"
      ]
     },
     "execution_count": 20,
     "metadata": {},
     "output_type": "execute_result"
    }
   ],
   "source": [
    "# find out what percentage of fires occur in each state\n",
    "df.state.value_counts(normalize=True)"
   ]
  },
  {
   "cell_type": "markdown",
   "id": "97d5d86d",
   "metadata": {},
   "source": [
    "### What does the number of fires and size of fires look like by month?"
   ]
  },
  {
   "cell_type": "code",
   "execution_count": 21,
   "id": "de056c00",
   "metadata": {},
   "outputs": [
    {
     "data": {
      "text/plain": [
       "discovery_date\n",
       "1992-01-31    3603\n",
       "1992-02-29    7114\n",
       "1992-03-31    8706\n",
       "1992-04-30    7807\n",
       "1992-05-31    8572\n",
       "Freq: M, Name: fire_year, dtype: int64"
      ]
     },
     "execution_count": 21,
     "metadata": {},
     "output_type": "execute_result"
    }
   ],
   "source": [
    "# resample by month and get count of wildfires by month\n",
    "num_fires_by_month = df.resample('M').fire_year.count()\n",
    "num_fires_by_month.head()"
   ]
  },
  {
   "cell_type": "code",
   "execution_count": 22,
   "id": "fc36e38c",
   "metadata": {},
   "outputs": [
    {
     "data": {
      "text/plain": [
       "(324,)"
      ]
     },
     "execution_count": 22,
     "metadata": {},
     "output_type": "execute_result"
    }
   ],
   "source": [
    "# check number of rows\n",
    "num_fires_by_month.shape"
   ]
  },
  {
   "cell_type": "code",
   "execution_count": 23,
   "id": "696dc475",
   "metadata": {},
   "outputs": [
    {
     "data": {
      "text/plain": [
       "Timestamp('2006-03-31 00:00:00', freq='M')"
      ]
     },
     "execution_count": 23,
     "metadata": {},
     "output_type": "execute_result"
    }
   ],
   "source": [
    "# check which month and year combination had the most fires\n",
    "num_fires_by_month.idxmax()"
   ]
  },
  {
   "cell_type": "code",
   "execution_count": 24,
   "id": "36e88a4e",
   "metadata": {},
   "outputs": [
    {
     "data": {
      "text/plain": [
       "19001"
      ]
     },
     "execution_count": 24,
     "metadata": {},
     "output_type": "execute_result"
    }
   ],
   "source": [
    "# check how many fires happened that month\n",
    "num_fires_by_month.max()"
   ]
  },
  {
   "cell_type": "markdown",
   "id": "edc09b34",
   "metadata": {},
   "source": [
    "### March 2006 had the highest number of fires within the dataset with slightly over 19K fires occurring in that month."
   ]
  },
  {
   "cell_type": "code",
   "execution_count": 25,
   "id": "80778010",
   "metadata": {},
   "outputs": [
    {
     "data": {
      "text/plain": [
       "discovery_date\n",
       "1992-01-31     32394.200\n",
       "1992-02-29     84918.650\n",
       "1992-03-31    129638.123\n",
       "1992-04-30     94382.285\n",
       "1992-05-31    124084.533\n",
       "Freq: M, Name: fire_size, dtype: float64"
      ]
     },
     "execution_count": 25,
     "metadata": {},
     "output_type": "execute_result"
    }
   ],
   "source": [
    "# resample by month and get summed size of wildfires by month\n",
    "size_fires_by_month = df.resample('M').fire_size.sum()\n",
    "size_fires_by_month.head()"
   ]
  },
  {
   "cell_type": "code",
   "execution_count": 26,
   "id": "717f522b",
   "metadata": {},
   "outputs": [
    {
     "data": {
      "text/plain": [
       "Timestamp('2015-06-30 00:00:00', freq='M')"
      ]
     },
     "execution_count": 26,
     "metadata": {},
     "output_type": "execute_result"
    }
   ],
   "source": [
    "# check which month and year combination had the largest summed size of wildfires\n",
    "size_fires_by_month.idxmax()"
   ]
  },
  {
   "cell_type": "code",
   "execution_count": 27,
   "id": "64677003",
   "metadata": {},
   "outputs": [
    {
     "data": {
      "text/plain": [
       "5248481.509999639"
      ]
     },
     "execution_count": 27,
     "metadata": {},
     "output_type": "execute_result"
    }
   ],
   "source": [
    "# check total sum of fire sizes that month\n",
    "size_fires_by_month.max()"
   ]
  },
  {
   "cell_type": "markdown",
   "id": "90bbc0bd",
   "metadata": {},
   "source": [
    "### June 2015 had the largest area burned by wildfires within the dataset with slightly over 5.2M acres burned that month. "
   ]
  },
  {
   "cell_type": "code",
   "execution_count": 30,
   "id": "bb14b7da",
   "metadata": {},
   "outputs": [
    {
     "data": {
      "text/plain": [
       "<AxesSubplot:xlabel='fire_year'>"
      ]
     },
     "execution_count": 30,
     "metadata": {},
     "output_type": "execute_result"
    },
    {
     "data": {
      "image/png": "[encoded data removed]",
      "text/plain": [
       "<Figure size 936x504 with 1 Axes>"
      ]
     },
     "metadata": {},
     "output_type": "display_data"
    }
   ],
   "source": [
    "# plot monthly summed size of fires over the years\n",
    "df.groupby('fire_year').fire_size.sum().plot()"
   ]
  },
  {
   "cell_type": "code",
   "execution_count": 31,
   "id": "5cf929a1",
   "metadata": {},
   "outputs": [
    {
     "data": {
      "text/plain": [
       "<AxesSubplot:xlabel='discovery_date'>"
      ]
     },
     "execution_count": 31,
     "metadata": {},
     "output_type": "execute_result"
    },
    {
     "data": {
      "image/png": "[encoded data removed]",
      "text/plain": [
       "<Figure size 936x504 with 1 Axes>"
      ]
     },
     "metadata": {},
     "output_type": "display_data"
    }
   ],
   "source": [
    "# plot monthly average size of fires over the years\n",
    "df.resample('M').fire_size.mean().plot()"
   ]
  },
  {
   "cell_type": "code",
   "execution_count": 32,
   "id": "dd4b996d",
   "metadata": {},
   "outputs": [
    {
     "data": {
      "text/plain": [
       "<AxesSubplot:xlabel='discovery_date'>"
      ]
     },
     "execution_count": 32,
     "metadata": {},
     "output_type": "execute_result"
    },
    {
     "data": {
      "image/png": "[encoded data removed]",
      "text/plain": [
       "<Figure size 936x504 with 1 Axes>"
      ]
     },
     "metadata": {},
     "output_type": "display_data"
    }
   ],
   "source": [
    "# plot yearly average size of fires over the years\n",
    "df.resample('Y').fire_size.mean().plot()"
   ]
  },
  {
   "cell_type": "code",
   "execution_count": 33,
   "id": "3d7e4d51",
   "metadata": {},
   "outputs": [
    {
     "data": {
      "text/html": [
       "<div>\n",
       "<style scoped>\n",
       "    .dataframe tbody tr th:only-of-type {\n",
       "        vertical-align: middle;\n",
       "    }\n",
       "\n",
       "    .dataframe tbody tr th {\n",
       "        vertical-align: top;\n",
       "    }\n",
       "\n",
       "    .dataframe thead th {\n",
       "        text-align: right;\n",
       "    }\n",
       "</style>\n",
       "<table border=\"1\" class=\"dataframe\">\n",
       "  <thead>\n",
       "    <tr style=\"text-align: right;\">\n",
       "      <th></th>\n",
       "      <th>fire_year</th>\n",
       "      <th>general_cause</th>\n",
       "      <th>containment_date</th>\n",
       "      <th>fire_size</th>\n",
       "      <th>latitude</th>\n",
       "      <th>longitude</th>\n",
       "      <th>state</th>\n",
       "      <th>state_size</th>\n",
       "      <th>region</th>\n",
       "      <th>region_size</th>\n",
       "      <th>fire_size_cat</th>\n",
       "      <th>month</th>\n",
       "    </tr>\n",
       "    <tr>\n",
       "      <th>discovery_date</th>\n",
       "      <th></th>\n",
       "      <th></th>\n",
       "      <th></th>\n",
       "      <th></th>\n",
       "      <th></th>\n",
       "      <th></th>\n",
       "      <th></th>\n",
       "      <th></th>\n",
       "      <th></th>\n",
       "      <th></th>\n",
       "      <th></th>\n",
       "      <th></th>\n",
       "    </tr>\n",
       "  </thead>\n",
       "  <tbody>\n",
       "    <tr>\n",
       "      <th>1992-01-01</th>\n",
       "      <td>1992</td>\n",
       "      <td>Smoking</td>\n",
       "      <td>1992-01-01</td>\n",
       "      <td>0.07</td>\n",
       "      <td>32.201000</td>\n",
       "      <td>-82.498700</td>\n",
       "      <td>GA</td>\n",
       "      <td>37745000.0</td>\n",
       "      <td>southeast</td>\n",
       "      <td>3.670760e+08</td>\n",
       "      <td>small</td>\n",
       "      <td>January</td>\n",
       "    </tr>\n",
       "    <tr>\n",
       "      <th>1992-01-01</th>\n",
       "      <td>1992</td>\n",
       "      <td>Missing data/not specified/undetermined</td>\n",
       "      <td>NaT</td>\n",
       "      <td>0.50</td>\n",
       "      <td>41.196201</td>\n",
       "      <td>-105.641502</td>\n",
       "      <td>WY</td>\n",
       "      <td>62604000.0</td>\n",
       "      <td>west</td>\n",
       "      <td>1.008831e+09</td>\n",
       "      <td>small</td>\n",
       "      <td>January</td>\n",
       "    </tr>\n",
       "    <tr>\n",
       "      <th>1992-01-01</th>\n",
       "      <td>1992</td>\n",
       "      <td>Missing data/not specified/undetermined</td>\n",
       "      <td>NaT</td>\n",
       "      <td>0.25</td>\n",
       "      <td>41.063980</td>\n",
       "      <td>-109.302200</td>\n",
       "      <td>WY</td>\n",
       "      <td>62604000.0</td>\n",
       "      <td>west</td>\n",
       "      <td>1.008831e+09</td>\n",
       "      <td>small</td>\n",
       "      <td>January</td>\n",
       "    </tr>\n",
       "    <tr>\n",
       "      <th>1992-01-01</th>\n",
       "      <td>1992</td>\n",
       "      <td>Missing data/not specified/undetermined</td>\n",
       "      <td>NaT</td>\n",
       "      <td>8.00</td>\n",
       "      <td>41.734581</td>\n",
       "      <td>-104.197502</td>\n",
       "      <td>WY</td>\n",
       "      <td>62604000.0</td>\n",
       "      <td>west</td>\n",
       "      <td>1.008831e+09</td>\n",
       "      <td>small</td>\n",
       "      <td>January</td>\n",
       "    </tr>\n",
       "    <tr>\n",
       "      <th>1992-01-01</th>\n",
       "      <td>1992</td>\n",
       "      <td>Missing data/not specified/undetermined</td>\n",
       "      <td>NaT</td>\n",
       "      <td>7.00</td>\n",
       "      <td>41.734581</td>\n",
       "      <td>-104.409698</td>\n",
       "      <td>WY</td>\n",
       "      <td>62604000.0</td>\n",
       "      <td>west</td>\n",
       "      <td>1.008831e+09</td>\n",
       "      <td>small</td>\n",
       "      <td>January</td>\n",
       "    </tr>\n",
       "  </tbody>\n",
       "</table>\n",
       "</div>"
      ],
      "text/plain": [
       "                fire_year                            general_cause  \\\n",
       "discovery_date                                                       \n",
       "1992-01-01           1992                                  Smoking   \n",
       "1992-01-01           1992  Missing data/not specified/undetermined   \n",
       "1992-01-01           1992  Missing data/not specified/undetermined   \n",
       "1992-01-01           1992  Missing data/not specified/undetermined   \n",
       "1992-01-01           1992  Missing data/not specified/undetermined   \n",
       "\n",
       "               containment_date  fire_size   latitude   longitude state  \\\n",
       "discovery_date                                                            \n",
       "1992-01-01           1992-01-01       0.07  32.201000  -82.498700    GA   \n",
       "1992-01-01                  NaT       0.50  41.196201 -105.641502    WY   \n",
       "1992-01-01                  NaT       0.25  41.063980 -109.302200    WY   \n",
       "1992-01-01                  NaT       8.00  41.734581 -104.197502    WY   \n",
       "1992-01-01                  NaT       7.00  41.734581 -104.409698    WY   \n",
       "\n",
       "                state_size     region   region_size fire_size_cat    month  \n",
       "discovery_date                                                              \n",
       "1992-01-01      37745000.0  southeast  3.670760e+08         small  January  \n",
       "1992-01-01      62604000.0       west  1.008831e+09         small  January  \n",
       "1992-01-01      62604000.0       west  1.008831e+09         small  January  \n",
       "1992-01-01      62604000.0       west  1.008831e+09         small  January  \n",
       "1992-01-01      62604000.0       west  1.008831e+09         small  January  "
      ]
     },
     "execution_count": 33,
     "metadata": {},
     "output_type": "execute_result"
    }
   ],
   "source": [
    "df.head()"
   ]
  },
  {
   "cell_type": "markdown",
   "id": "559787bd",
   "metadata": {},
   "source": [
    "### Plot trend line of size of fires over the years vs number of fires over the years."
   ]
  },
  {
   "cell_type": "code",
   "execution_count": 36,
   "id": "91b22bc5",
   "metadata": {},
   "outputs": [
    {
     "data": {
      "text/plain": [
       "<AxesSubplot:xlabel='discovery_date', ylabel='fire_size'>"
      ]
     },
     "execution_count": 36,
     "metadata": {},
     "output_type": "execute_result"
    },
    {
     "data": {
      "image/png": "[encoded data removed]",
      "text/plain": [
       "<Figure size 936x504 with 1 Axes>"
      ]
     },
     "metadata": {},
     "output_type": "display_data"
    }
   ],
   "source": [
    "sns.scatterplot(data=df, x=df.index, y='fire_size', hue='fire_size_cat', alpha=.5, hue_order=['large', 'small'])"
   ]
  },
  {
   "cell_type": "code",
   "execution_count": 37,
   "id": "86a8d1ce",
   "metadata": {},
   "outputs": [],
   "source": [
    "# create dataframe of total sum of fire_size by year\n",
    "yearly_mean_fire_size = df.groupby('fire_year').fire_size.sum().reset_index()"
   ]
  },
  {
   "cell_type": "code",
   "execution_count": 38,
   "id": "aac11f7f",
   "metadata": {},
   "outputs": [
    {
     "data": {
      "text/html": [
       "<div>\n",
       "<style scoped>\n",
       "    .dataframe tbody tr th:only-of-type {\n",
       "        vertical-align: middle;\n",
       "    }\n",
       "\n",
       "    .dataframe tbody tr th {\n",
       "        vertical-align: top;\n",
       "    }\n",
       "\n",
       "    .dataframe thead th {\n",
       "        text-align: right;\n",
       "    }\n",
       "</style>\n",
       "<table border=\"1\" class=\"dataframe\">\n",
       "  <thead>\n",
       "    <tr style=\"text-align: right;\">\n",
       "      <th></th>\n",
       "      <th>fire_year</th>\n",
       "      <th>fire_size</th>\n",
       "    </tr>\n",
       "  </thead>\n",
       "  <tbody>\n",
       "    <tr>\n",
       "      <th>0</th>\n",
       "      <td>1992</td>\n",
       "      <td>2.20</td>\n",
       "    </tr>\n",
       "    <tr>\n",
       "      <th>1</th>\n",
       "      <td>1993</td>\n",
       "      <td>2.19</td>\n",
       "    </tr>\n",
       "    <tr>\n",
       "      <th>2</th>\n",
       "      <td>1994</td>\n",
       "      <td>4.12</td>\n",
       "    </tr>\n",
       "    <tr>\n",
       "      <th>3</th>\n",
       "      <td>1995</td>\n",
       "      <td>2.05</td>\n",
       "    </tr>\n",
       "    <tr>\n",
       "      <th>4</th>\n",
       "      <td>1996</td>\n",
       "      <td>6.00</td>\n",
       "    </tr>\n",
       "    <tr>\n",
       "      <th>5</th>\n",
       "      <td>1997</td>\n",
       "      <td>3.23</td>\n",
       "    </tr>\n",
       "    <tr>\n",
       "      <th>6</th>\n",
       "      <td>1998</td>\n",
       "      <td>2.02</td>\n",
       "    </tr>\n",
       "    <tr>\n",
       "      <th>7</th>\n",
       "      <td>1999</td>\n",
       "      <td>6.14</td>\n",
       "    </tr>\n",
       "    <tr>\n",
       "      <th>8</th>\n",
       "      <td>2000</td>\n",
       "      <td>7.78</td>\n",
       "    </tr>\n",
       "    <tr>\n",
       "      <th>9</th>\n",
       "      <td>2001</td>\n",
       "      <td>3.84</td>\n",
       "    </tr>\n",
       "    <tr>\n",
       "      <th>10</th>\n",
       "      <td>2002</td>\n",
       "      <td>6.82</td>\n",
       "    </tr>\n",
       "    <tr>\n",
       "      <th>11</th>\n",
       "      <td>2003</td>\n",
       "      <td>4.51</td>\n",
       "    </tr>\n",
       "    <tr>\n",
       "      <th>12</th>\n",
       "      <td>2004</td>\n",
       "      <td>8.25</td>\n",
       "    </tr>\n",
       "    <tr>\n",
       "      <th>13</th>\n",
       "      <td>2005</td>\n",
       "      <td>9.71</td>\n",
       "    </tr>\n",
       "    <tr>\n",
       "      <th>14</th>\n",
       "      <td>2006</td>\n",
       "      <td>10.08</td>\n",
       "    </tr>\n",
       "    <tr>\n",
       "      <th>15</th>\n",
       "      <td>2007</td>\n",
       "      <td>9.28</td>\n",
       "    </tr>\n",
       "    <tr>\n",
       "      <th>16</th>\n",
       "      <td>2008</td>\n",
       "      <td>5.43</td>\n",
       "    </tr>\n",
       "    <tr>\n",
       "      <th>17</th>\n",
       "      <td>2009</td>\n",
       "      <td>6.09</td>\n",
       "    </tr>\n",
       "    <tr>\n",
       "      <th>18</th>\n",
       "      <td>2010</td>\n",
       "      <td>3.53</td>\n",
       "    </tr>\n",
       "    <tr>\n",
       "      <th>19</th>\n",
       "      <td>2011</td>\n",
       "      <td>9.69</td>\n",
       "    </tr>\n",
       "    <tr>\n",
       "      <th>20</th>\n",
       "      <td>2012</td>\n",
       "      <td>9.45</td>\n",
       "    </tr>\n",
       "    <tr>\n",
       "      <th>21</th>\n",
       "      <td>2013</td>\n",
       "      <td>4.49</td>\n",
       "    </tr>\n",
       "    <tr>\n",
       "      <th>22</th>\n",
       "      <td>2014</td>\n",
       "      <td>3.68</td>\n",
       "    </tr>\n",
       "    <tr>\n",
       "      <th>23</th>\n",
       "      <td>2015</td>\n",
       "      <td>10.23</td>\n",
       "    </tr>\n",
       "    <tr>\n",
       "      <th>24</th>\n",
       "      <td>2016</td>\n",
       "      <td>5.36</td>\n",
       "    </tr>\n",
       "    <tr>\n",
       "      <th>25</th>\n",
       "      <td>2017</td>\n",
       "      <td>10.25</td>\n",
       "    </tr>\n",
       "    <tr>\n",
       "      <th>26</th>\n",
       "      <td>2018</td>\n",
       "      <td>8.24</td>\n",
       "    </tr>\n",
       "  </tbody>\n",
       "</table>\n",
       "</div>"
      ],
      "text/plain": [
       "    fire_year  fire_size\n",
       "0        1992       2.20\n",
       "1        1993       2.19\n",
       "2        1994       4.12\n",
       "3        1995       2.05\n",
       "4        1996       6.00\n",
       "5        1997       3.23\n",
       "6        1998       2.02\n",
       "7        1999       6.14\n",
       "8        2000       7.78\n",
       "9        2001       3.84\n",
       "10       2002       6.82\n",
       "11       2003       4.51\n",
       "12       2004       8.25\n",
       "13       2005       9.71\n",
       "14       2006      10.08\n",
       "15       2007       9.28\n",
       "16       2008       5.43\n",
       "17       2009       6.09\n",
       "18       2010       3.53\n",
       "19       2011       9.69\n",
       "20       2012       9.45\n",
       "21       2013       4.49\n",
       "22       2014       3.68\n",
       "23       2015      10.23\n",
       "24       2016       5.36\n",
       "25       2017      10.25\n",
       "26       2018       8.24"
      ]
     },
     "execution_count": 38,
     "metadata": {},
     "output_type": "execute_result"
    }
   ],
   "source": [
    "yearly_mean_fire_size.fire_size = round((yearly_mean_fire_size.fire_size / 1_000_000), 2)\n",
    "yearly_mean_fire_size"
   ]
  },
  {
   "cell_type": "code",
   "execution_count": 39,
   "id": "d165e7e7",
   "metadata": {},
   "outputs": [
    {
     "data": {
      "image/png": "[encoded data removed]",
      "text/plain": [
       "<Figure size 576x576 with 1 Axes>"
      ]
     },
     "metadata": {},
     "output_type": "display_data"
    }
   ],
   "source": [
    "# plot trend of fire size by year\n",
    "sns.lmplot(x='fire_year', y='fire_size', data=yearly_mean_fire_size, height=8, markers='x', seed=321, robust=True, scatter_kws={'color': 'crimson'}, line_kws={'color': 'crimson'})\n",
    "sns.set(font_scale = 2)\n",
    "plt.ylabel('Millions')\n",
    "plt.xlabel(' ');"
   ]
  },
  {
   "cell_type": "code",
   "execution_count": 40,
   "id": "9df57aec",
   "metadata": {},
   "outputs": [],
   "source": [
    "# # create dataframe of total count of fires by year\n",
    "# yearly_fire_count = df.groupby('fire_year').fire_size.count().reset_index().rename()"
   ]
  },
  {
   "cell_type": "code",
   "execution_count": 41,
   "id": "6adb6aea",
   "metadata": {},
   "outputs": [],
   "source": [
    "# yearly_fire_count.fire_size = round(yearly_fire_count.fire_size / 1_000)\n",
    "# yearly_fire_count"
   ]
  },
  {
   "cell_type": "code",
   "execution_count": 42,
   "id": "5dfa7dcc",
   "metadata": {},
   "outputs": [],
   "source": [
    "# # plot trend of fire count by year\n",
    "# sns.lmplot(x='year', y='fire_size', data=yearly_fire_count, height=8, markers='x', seed=321, robust=True, scatter_kws={'color': 'crimson'}, line_kws={'color': 'crimson'})\n",
    "# plt.ylabel('Thousands')\n",
    "# plt.xlabel(' ');"
   ]
  },
  {
   "cell_type": "code",
   "execution_count": 43,
   "id": "6ff093a0",
   "metadata": {},
   "outputs": [],
   "source": [
    "# df2 = df[df.fire_size < 5000].groupby('fire_year').fire_size.count().to_frame().rename(columns={'fire_size':'fire_count'})\n",
    "# df2.fire_count = round(df2.fire_count / 1000)\n",
    "# df2.head()"
   ]
  },
  {
   "cell_type": "code",
   "execution_count": 44,
   "id": "eaaa4470",
   "metadata": {},
   "outputs": [],
   "source": [
    "# sns.set_style('white')\n",
    "\n",
    "# plt.figure(figsize = (20,8))\n",
    "# plt.subplot(121)\n",
    "# plt.plot(df2, color='salmon', ls='--', lw=3)\n",
    "\n",
    "# plt.gca().spines['top'].set_visible(False)\n",
    "# plt.gca().spines['right'].set_visible(False)\n",
    "# plt.ylabel('(Thousands)')\n",
    "\n",
    "# plt.subplot(122)\n",
    "# df[df.fire_size >= 5000].groupby('fire_year').fire_size.count().plot(color='crimson', lw=3)\n",
    "# plt.gca().spines['top'].set_visible(False)\n",
    "# plt.gca().spines['right'].set_visible(False)\n",
    "# plt.xlabel(' ');"
   ]
  },
  {
   "cell_type": "code",
   "execution_count": 45,
   "id": "b3d65929",
   "metadata": {},
   "outputs": [],
   "source": [
    "num_sm_fires = df[df.fire_size < 5000].shape[0]\n",
    "num_lg_fires = df[df.fire_size >= 5000].shape[0]\n",
    "acres_sm_fires = df[df.fire_size < 5000].fire_size.sum()\n",
    "acres_lg_fires = df[df.fire_size >= 5000].fire_size.sum()"
   ]
  },
  {
   "cell_type": "code",
   "execution_count": 46,
   "id": "689bbf59",
   "metadata": {},
   "outputs": [
    {
     "data": {
      "text/plain": [
       "4455"
      ]
     },
     "execution_count": 46,
     "metadata": {},
     "output_type": "execute_result"
    }
   ],
   "source": [
    "num_lg_fires"
   ]
  },
  {
   "cell_type": "code",
   "execution_count": 47,
   "id": "9b59ca68",
   "metadata": {},
   "outputs": [
    {
     "name": "stdout",
     "output_type": "stream",
     "text": [
      "0.0020560719195958192\n",
      "0.9979439280804042\n"
     ]
    }
   ],
   "source": [
    "print(num_lg_fires / df.shape[0])\n",
    "print(1 - (num_lg_fires / df.shape[0]))"
   ]
  },
  {
   "cell_type": "code",
   "execution_count": null,
   "id": "f23b8015",
   "metadata": {},
   "outputs": [],
   "source": []
  },
  {
   "cell_type": "code",
   "execution_count": 48,
   "id": "3f8c2d82",
   "metadata": {},
   "outputs": [
    {
     "data": {
      "text/plain": [
       "0.7427143601866459"
      ]
     },
     "execution_count": 48,
     "metadata": {},
     "output_type": "execute_result"
    }
   ],
   "source": [
    "acres_lg_fires / df.fire_size.sum()"
   ]
  },
  {
   "cell_type": "markdown",
   "id": "c8750649",
   "metadata": {},
   "source": [
    "### While accounting for only .02% of the number of wildfires, large fires (those greater than 5,000 acres) account for about 74% of all acreage burned"
   ]
  },
  {
   "cell_type": "code",
   "execution_count": 49,
   "id": "fc266bdb",
   "metadata": {},
   "outputs": [
    {
     "data": {
      "text/html": [
       "<div>\n",
       "<style scoped>\n",
       "    .dataframe tbody tr th:only-of-type {\n",
       "        vertical-align: middle;\n",
       "    }\n",
       "\n",
       "    .dataframe tbody tr th {\n",
       "        vertical-align: top;\n",
       "    }\n",
       "\n",
       "    .dataframe thead th {\n",
       "        text-align: right;\n",
       "    }\n",
       "</style>\n",
       "<table border=\"1\" class=\"dataframe\">\n",
       "  <thead>\n",
       "    <tr style=\"text-align: right;\">\n",
       "      <th></th>\n",
       "      <th>fire_year</th>\n",
       "      <th>general_cause</th>\n",
       "      <th>containment_date</th>\n",
       "      <th>fire_size</th>\n",
       "      <th>latitude</th>\n",
       "      <th>longitude</th>\n",
       "      <th>state</th>\n",
       "      <th>state_size</th>\n",
       "      <th>region</th>\n",
       "      <th>region_size</th>\n",
       "      <th>fire_size_cat</th>\n",
       "      <th>month</th>\n",
       "    </tr>\n",
       "    <tr>\n",
       "      <th>discovery_date</th>\n",
       "      <th></th>\n",
       "      <th></th>\n",
       "      <th></th>\n",
       "      <th></th>\n",
       "      <th></th>\n",
       "      <th></th>\n",
       "      <th></th>\n",
       "      <th></th>\n",
       "      <th></th>\n",
       "      <th></th>\n",
       "      <th></th>\n",
       "      <th></th>\n",
       "    </tr>\n",
       "  </thead>\n",
       "  <tbody>\n",
       "    <tr>\n",
       "      <th>1992-01-01</th>\n",
       "      <td>1992</td>\n",
       "      <td>Smoking</td>\n",
       "      <td>1992-01-01</td>\n",
       "      <td>0.07</td>\n",
       "      <td>32.201000</td>\n",
       "      <td>-82.498700</td>\n",
       "      <td>GA</td>\n",
       "      <td>37745000.0</td>\n",
       "      <td>southeast</td>\n",
       "      <td>3.670760e+08</td>\n",
       "      <td>small</td>\n",
       "      <td>January</td>\n",
       "    </tr>\n",
       "    <tr>\n",
       "      <th>1992-01-01</th>\n",
       "      <td>1992</td>\n",
       "      <td>Missing data/not specified/undetermined</td>\n",
       "      <td>NaT</td>\n",
       "      <td>0.50</td>\n",
       "      <td>41.196201</td>\n",
       "      <td>-105.641502</td>\n",
       "      <td>WY</td>\n",
       "      <td>62604000.0</td>\n",
       "      <td>west</td>\n",
       "      <td>1.008831e+09</td>\n",
       "      <td>small</td>\n",
       "      <td>January</td>\n",
       "    </tr>\n",
       "    <tr>\n",
       "      <th>1992-01-01</th>\n",
       "      <td>1992</td>\n",
       "      <td>Missing data/not specified/undetermined</td>\n",
       "      <td>NaT</td>\n",
       "      <td>0.25</td>\n",
       "      <td>41.063980</td>\n",
       "      <td>-109.302200</td>\n",
       "      <td>WY</td>\n",
       "      <td>62604000.0</td>\n",
       "      <td>west</td>\n",
       "      <td>1.008831e+09</td>\n",
       "      <td>small</td>\n",
       "      <td>January</td>\n",
       "    </tr>\n",
       "    <tr>\n",
       "      <th>1992-01-01</th>\n",
       "      <td>1992</td>\n",
       "      <td>Missing data/not specified/undetermined</td>\n",
       "      <td>NaT</td>\n",
       "      <td>8.00</td>\n",
       "      <td>41.734581</td>\n",
       "      <td>-104.197502</td>\n",
       "      <td>WY</td>\n",
       "      <td>62604000.0</td>\n",
       "      <td>west</td>\n",
       "      <td>1.008831e+09</td>\n",
       "      <td>small</td>\n",
       "      <td>January</td>\n",
       "    </tr>\n",
       "    <tr>\n",
       "      <th>1992-01-01</th>\n",
       "      <td>1992</td>\n",
       "      <td>Missing data/not specified/undetermined</td>\n",
       "      <td>NaT</td>\n",
       "      <td>7.00</td>\n",
       "      <td>41.734581</td>\n",
       "      <td>-104.409698</td>\n",
       "      <td>WY</td>\n",
       "      <td>62604000.0</td>\n",
       "      <td>west</td>\n",
       "      <td>1.008831e+09</td>\n",
       "      <td>small</td>\n",
       "      <td>January</td>\n",
       "    </tr>\n",
       "  </tbody>\n",
       "</table>\n",
       "</div>"
      ],
      "text/plain": [
       "                fire_year                            general_cause  \\\n",
       "discovery_date                                                       \n",
       "1992-01-01           1992                                  Smoking   \n",
       "1992-01-01           1992  Missing data/not specified/undetermined   \n",
       "1992-01-01           1992  Missing data/not specified/undetermined   \n",
       "1992-01-01           1992  Missing data/not specified/undetermined   \n",
       "1992-01-01           1992  Missing data/not specified/undetermined   \n",
       "\n",
       "               containment_date  fire_size   latitude   longitude state  \\\n",
       "discovery_date                                                            \n",
       "1992-01-01           1992-01-01       0.07  32.201000  -82.498700    GA   \n",
       "1992-01-01                  NaT       0.50  41.196201 -105.641502    WY   \n",
       "1992-01-01                  NaT       0.25  41.063980 -109.302200    WY   \n",
       "1992-01-01                  NaT       8.00  41.734581 -104.197502    WY   \n",
       "1992-01-01                  NaT       7.00  41.734581 -104.409698    WY   \n",
       "\n",
       "                state_size     region   region_size fire_size_cat    month  \n",
       "discovery_date                                                              \n",
       "1992-01-01      37745000.0  southeast  3.670760e+08         small  January  \n",
       "1992-01-01      62604000.0       west  1.008831e+09         small  January  \n",
       "1992-01-01      62604000.0       west  1.008831e+09         small  January  \n",
       "1992-01-01      62604000.0       west  1.008831e+09         small  January  \n",
       "1992-01-01      62604000.0       west  1.008831e+09         small  January  "
      ]
     },
     "execution_count": 49,
     "metadata": {},
     "output_type": "execute_result"
    }
   ],
   "source": [
    "df.head()"
   ]
  },
  {
   "cell_type": "code",
   "execution_count": 50,
   "id": "2a54232a",
   "metadata": {},
   "outputs": [
    {
     "data": {
      "text/html": [
       "<div>\n",
       "<style scoped>\n",
       "    .dataframe tbody tr th:only-of-type {\n",
       "        vertical-align: middle;\n",
       "    }\n",
       "\n",
       "    .dataframe tbody tr th {\n",
       "        vertical-align: top;\n",
       "    }\n",
       "\n",
       "    .dataframe thead th {\n",
       "        text-align: right;\n",
       "    }\n",
       "</style>\n",
       "<table border=\"1\" class=\"dataframe\">\n",
       "  <thead>\n",
       "    <tr style=\"text-align: right;\">\n",
       "      <th></th>\n",
       "      <th>general_cause</th>\n",
       "      <th>containment_date</th>\n",
       "      <th>fire_size</th>\n",
       "      <th>latitude</th>\n",
       "      <th>longitude</th>\n",
       "      <th>state</th>\n",
       "      <th>state_size</th>\n",
       "      <th>region</th>\n",
       "      <th>region_size</th>\n",
       "      <th>fire_size_cat</th>\n",
       "      <th>month</th>\n",
       "    </tr>\n",
       "    <tr>\n",
       "      <th>fire_year</th>\n",
       "      <th></th>\n",
       "      <th></th>\n",
       "      <th></th>\n",
       "      <th></th>\n",
       "      <th></th>\n",
       "      <th></th>\n",
       "      <th></th>\n",
       "      <th></th>\n",
       "      <th></th>\n",
       "      <th></th>\n",
       "      <th></th>\n",
       "    </tr>\n",
       "  </thead>\n",
       "  <tbody>\n",
       "    <tr>\n",
       "      <th>1992</th>\n",
       "      <td>67961</td>\n",
       "      <td>42369</td>\n",
       "      <td>67961</td>\n",
       "      <td>67961</td>\n",
       "      <td>67961</td>\n",
       "      <td>67961</td>\n",
       "      <td>67961</td>\n",
       "      <td>67961</td>\n",
       "      <td>67961</td>\n",
       "      <td>67961</td>\n",
       "      <td>67961</td>\n",
       "    </tr>\n",
       "    <tr>\n",
       "      <th>1993</th>\n",
       "      <td>61975</td>\n",
       "      <td>39592</td>\n",
       "      <td>61975</td>\n",
       "      <td>61975</td>\n",
       "      <td>61975</td>\n",
       "      <td>61975</td>\n",
       "      <td>61975</td>\n",
       "      <td>61975</td>\n",
       "      <td>61975</td>\n",
       "      <td>61975</td>\n",
       "      <td>61975</td>\n",
       "    </tr>\n",
       "    <tr>\n",
       "      <th>1994</th>\n",
       "      <td>75932</td>\n",
       "      <td>46715</td>\n",
       "      <td>75932</td>\n",
       "      <td>75932</td>\n",
       "      <td>75932</td>\n",
       "      <td>75932</td>\n",
       "      <td>75932</td>\n",
       "      <td>75932</td>\n",
       "      <td>75932</td>\n",
       "      <td>75932</td>\n",
       "      <td>75932</td>\n",
       "    </tr>\n",
       "    <tr>\n",
       "      <th>1995</th>\n",
       "      <td>71440</td>\n",
       "      <td>43844</td>\n",
       "      <td>71440</td>\n",
       "      <td>71440</td>\n",
       "      <td>71440</td>\n",
       "      <td>71440</td>\n",
       "      <td>71440</td>\n",
       "      <td>71440</td>\n",
       "      <td>71440</td>\n",
       "      <td>71440</td>\n",
       "      <td>71440</td>\n",
       "    </tr>\n",
       "    <tr>\n",
       "      <th>1996</th>\n",
       "      <td>75561</td>\n",
       "      <td>48593</td>\n",
       "      <td>75561</td>\n",
       "      <td>75561</td>\n",
       "      <td>75561</td>\n",
       "      <td>75561</td>\n",
       "      <td>75561</td>\n",
       "      <td>75561</td>\n",
       "      <td>75561</td>\n",
       "      <td>75561</td>\n",
       "      <td>75561</td>\n",
       "    </tr>\n",
       "    <tr>\n",
       "      <th>1997</th>\n",
       "      <td>61442</td>\n",
       "      <td>28070</td>\n",
       "      <td>61442</td>\n",
       "      <td>61442</td>\n",
       "      <td>61442</td>\n",
       "      <td>61442</td>\n",
       "      <td>61442</td>\n",
       "      <td>61442</td>\n",
       "      <td>61442</td>\n",
       "      <td>61442</td>\n",
       "      <td>61442</td>\n",
       "    </tr>\n",
       "    <tr>\n",
       "      <th>1998</th>\n",
       "      <td>68356</td>\n",
       "      <td>26694</td>\n",
       "      <td>68356</td>\n",
       "      <td>68356</td>\n",
       "      <td>68356</td>\n",
       "      <td>68356</td>\n",
       "      <td>68356</td>\n",
       "      <td>68356</td>\n",
       "      <td>68356</td>\n",
       "      <td>68356</td>\n",
       "      <td>68356</td>\n",
       "    </tr>\n",
       "    <tr>\n",
       "      <th>1999</th>\n",
       "      <td>89350</td>\n",
       "      <td>33511</td>\n",
       "      <td>89350</td>\n",
       "      <td>89350</td>\n",
       "      <td>89350</td>\n",
       "      <td>89350</td>\n",
       "      <td>89350</td>\n",
       "      <td>89350</td>\n",
       "      <td>89350</td>\n",
       "      <td>89350</td>\n",
       "      <td>89350</td>\n",
       "    </tr>\n",
       "    <tr>\n",
       "      <th>2000</th>\n",
       "      <td>96397</td>\n",
       "      <td>46970</td>\n",
       "      <td>96397</td>\n",
       "      <td>96397</td>\n",
       "      <td>96397</td>\n",
       "      <td>96397</td>\n",
       "      <td>96397</td>\n",
       "      <td>96397</td>\n",
       "      <td>96397</td>\n",
       "      <td>96397</td>\n",
       "      <td>96397</td>\n",
       "    </tr>\n",
       "    <tr>\n",
       "      <th>2001</th>\n",
       "      <td>87001</td>\n",
       "      <td>47162</td>\n",
       "      <td>87001</td>\n",
       "      <td>87001</td>\n",
       "      <td>87001</td>\n",
       "      <td>87001</td>\n",
       "      <td>87001</td>\n",
       "      <td>87001</td>\n",
       "      <td>87001</td>\n",
       "      <td>87001</td>\n",
       "      <td>87001</td>\n",
       "    </tr>\n",
       "    <tr>\n",
       "      <th>2002</th>\n",
       "      <td>76128</td>\n",
       "      <td>45309</td>\n",
       "      <td>76128</td>\n",
       "      <td>76128</td>\n",
       "      <td>76128</td>\n",
       "      <td>76128</td>\n",
       "      <td>76128</td>\n",
       "      <td>76128</td>\n",
       "      <td>76128</td>\n",
       "      <td>76128</td>\n",
       "      <td>76128</td>\n",
       "    </tr>\n",
       "    <tr>\n",
       "      <th>2003</th>\n",
       "      <td>68275</td>\n",
       "      <td>42975</td>\n",
       "      <td>68275</td>\n",
       "      <td>68275</td>\n",
       "      <td>68275</td>\n",
       "      <td>68275</td>\n",
       "      <td>68275</td>\n",
       "      <td>68275</td>\n",
       "      <td>68275</td>\n",
       "      <td>68275</td>\n",
       "      <td>68275</td>\n",
       "    </tr>\n",
       "    <tr>\n",
       "      <th>2004</th>\n",
       "      <td>69370</td>\n",
       "      <td>39948</td>\n",
       "      <td>69370</td>\n",
       "      <td>69370</td>\n",
       "      <td>69370</td>\n",
       "      <td>69370</td>\n",
       "      <td>69370</td>\n",
       "      <td>69370</td>\n",
       "      <td>69370</td>\n",
       "      <td>69370</td>\n",
       "      <td>69370</td>\n",
       "    </tr>\n",
       "    <tr>\n",
       "      <th>2005</th>\n",
       "      <td>92921</td>\n",
       "      <td>54841</td>\n",
       "      <td>92921</td>\n",
       "      <td>92921</td>\n",
       "      <td>92921</td>\n",
       "      <td>92921</td>\n",
       "      <td>92921</td>\n",
       "      <td>92921</td>\n",
       "      <td>92921</td>\n",
       "      <td>92921</td>\n",
       "      <td>92921</td>\n",
       "    </tr>\n",
       "    <tr>\n",
       "      <th>2006</th>\n",
       "      <td>117943</td>\n",
       "      <td>56886</td>\n",
       "      <td>117943</td>\n",
       "      <td>117943</td>\n",
       "      <td>117943</td>\n",
       "      <td>117943</td>\n",
       "      <td>117943</td>\n",
       "      <td>117943</td>\n",
       "      <td>117943</td>\n",
       "      <td>117943</td>\n",
       "      <td>117943</td>\n",
       "    </tr>\n",
       "    <tr>\n",
       "      <th>2007</th>\n",
       "      <td>98837</td>\n",
       "      <td>48095</td>\n",
       "      <td>98837</td>\n",
       "      <td>98837</td>\n",
       "      <td>98837</td>\n",
       "      <td>98837</td>\n",
       "      <td>98837</td>\n",
       "      <td>98837</td>\n",
       "      <td>98837</td>\n",
       "      <td>98837</td>\n",
       "      <td>98837</td>\n",
       "    </tr>\n",
       "    <tr>\n",
       "      <th>2008</th>\n",
       "      <td>88306</td>\n",
       "      <td>39255</td>\n",
       "      <td>88306</td>\n",
       "      <td>88306</td>\n",
       "      <td>88306</td>\n",
       "      <td>88306</td>\n",
       "      <td>88306</td>\n",
       "      <td>88306</td>\n",
       "      <td>88306</td>\n",
       "      <td>88306</td>\n",
       "      <td>88306</td>\n",
       "    </tr>\n",
       "    <tr>\n",
       "      <th>2009</th>\n",
       "      <td>81492</td>\n",
       "      <td>47955</td>\n",
       "      <td>81492</td>\n",
       "      <td>81492</td>\n",
       "      <td>81492</td>\n",
       "      <td>81492</td>\n",
       "      <td>81492</td>\n",
       "      <td>81492</td>\n",
       "      <td>81492</td>\n",
       "      <td>81492</td>\n",
       "      <td>81492</td>\n",
       "    </tr>\n",
       "    <tr>\n",
       "      <th>2010</th>\n",
       "      <td>85579</td>\n",
       "      <td>51703</td>\n",
       "      <td>85579</td>\n",
       "      <td>85579</td>\n",
       "      <td>85579</td>\n",
       "      <td>85579</td>\n",
       "      <td>85579</td>\n",
       "      <td>85579</td>\n",
       "      <td>85579</td>\n",
       "      <td>85579</td>\n",
       "      <td>85579</td>\n",
       "    </tr>\n",
       "    <tr>\n",
       "      <th>2011</th>\n",
       "      <td>98904</td>\n",
       "      <td>63687</td>\n",
       "      <td>98904</td>\n",
       "      <td>98904</td>\n",
       "      <td>98904</td>\n",
       "      <td>98904</td>\n",
       "      <td>98904</td>\n",
       "      <td>98904</td>\n",
       "      <td>98904</td>\n",
       "      <td>98904</td>\n",
       "      <td>98904</td>\n",
       "    </tr>\n",
       "    <tr>\n",
       "      <th>2012</th>\n",
       "      <td>74258</td>\n",
       "      <td>57744</td>\n",
       "      <td>74258</td>\n",
       "      <td>74258</td>\n",
       "      <td>74258</td>\n",
       "      <td>74258</td>\n",
       "      <td>74258</td>\n",
       "      <td>74258</td>\n",
       "      <td>74258</td>\n",
       "      <td>74258</td>\n",
       "      <td>74258</td>\n",
       "    </tr>\n",
       "    <tr>\n",
       "      <th>2013</th>\n",
       "      <td>66434</td>\n",
       "      <td>52418</td>\n",
       "      <td>66434</td>\n",
       "      <td>66434</td>\n",
       "      <td>66434</td>\n",
       "      <td>66434</td>\n",
       "      <td>66434</td>\n",
       "      <td>66434</td>\n",
       "      <td>66434</td>\n",
       "      <td>66434</td>\n",
       "      <td>66434</td>\n",
       "    </tr>\n",
       "    <tr>\n",
       "      <th>2014</th>\n",
       "      <td>70480</td>\n",
       "      <td>53024</td>\n",
       "      <td>70480</td>\n",
       "      <td>70480</td>\n",
       "      <td>70480</td>\n",
       "      <td>70480</td>\n",
       "      <td>70480</td>\n",
       "      <td>70480</td>\n",
       "      <td>70480</td>\n",
       "      <td>70480</td>\n",
       "      <td>70480</td>\n",
       "    </tr>\n",
       "    <tr>\n",
       "      <th>2015</th>\n",
       "      <td>77275</td>\n",
       "      <td>64947</td>\n",
       "      <td>77275</td>\n",
       "      <td>77275</td>\n",
       "      <td>77275</td>\n",
       "      <td>77275</td>\n",
       "      <td>77275</td>\n",
       "      <td>77275</td>\n",
       "      <td>77275</td>\n",
       "      <td>77275</td>\n",
       "      <td>77275</td>\n",
       "    </tr>\n",
       "    <tr>\n",
       "      <th>2016</th>\n",
       "      <td>81994</td>\n",
       "      <td>65814</td>\n",
       "      <td>81994</td>\n",
       "      <td>81994</td>\n",
       "      <td>81994</td>\n",
       "      <td>81994</td>\n",
       "      <td>81994</td>\n",
       "      <td>81994</td>\n",
       "      <td>81994</td>\n",
       "      <td>81994</td>\n",
       "      <td>81994</td>\n",
       "    </tr>\n",
       "    <tr>\n",
       "      <th>2017</th>\n",
       "      <td>82279</td>\n",
       "      <td>61945</td>\n",
       "      <td>82279</td>\n",
       "      <td>82279</td>\n",
       "      <td>82279</td>\n",
       "      <td>82279</td>\n",
       "      <td>82279</td>\n",
       "      <td>82279</td>\n",
       "      <td>82279</td>\n",
       "      <td>82279</td>\n",
       "      <td>82279</td>\n",
       "    </tr>\n",
       "    <tr>\n",
       "      <th>2018</th>\n",
       "      <td>80863</td>\n",
       "      <td>62106</td>\n",
       "      <td>80863</td>\n",
       "      <td>80863</td>\n",
       "      <td>80863</td>\n",
       "      <td>80863</td>\n",
       "      <td>80863</td>\n",
       "      <td>80863</td>\n",
       "      <td>80863</td>\n",
       "      <td>80863</td>\n",
       "      <td>80863</td>\n",
       "    </tr>\n",
       "  </tbody>\n",
       "</table>\n",
       "</div>"
      ],
      "text/plain": [
       "           general_cause  containment_date  fire_size  latitude  longitude  \\\n",
       "fire_year                                                                    \n",
       "1992               67961             42369      67961     67961      67961   \n",
       "1993               61975             39592      61975     61975      61975   \n",
       "1994               75932             46715      75932     75932      75932   \n",
       "1995               71440             43844      71440     71440      71440   \n",
       "1996               75561             48593      75561     75561      75561   \n",
       "1997               61442             28070      61442     61442      61442   \n",
       "1998               68356             26694      68356     68356      68356   \n",
       "1999               89350             33511      89350     89350      89350   \n",
       "2000               96397             46970      96397     96397      96397   \n",
       "2001               87001             47162      87001     87001      87001   \n",
       "2002               76128             45309      76128     76128      76128   \n",
       "2003               68275             42975      68275     68275      68275   \n",
       "2004               69370             39948      69370     69370      69370   \n",
       "2005               92921             54841      92921     92921      92921   \n",
       "2006              117943             56886     117943    117943     117943   \n",
       "2007               98837             48095      98837     98837      98837   \n",
       "2008               88306             39255      88306     88306      88306   \n",
       "2009               81492             47955      81492     81492      81492   \n",
       "2010               85579             51703      85579     85579      85579   \n",
       "2011               98904             63687      98904     98904      98904   \n",
       "2012               74258             57744      74258     74258      74258   \n",
       "2013               66434             52418      66434     66434      66434   \n",
       "2014               70480             53024      70480     70480      70480   \n",
       "2015               77275             64947      77275     77275      77275   \n",
       "2016               81994             65814      81994     81994      81994   \n",
       "2017               82279             61945      82279     82279      82279   \n",
       "2018               80863             62106      80863     80863      80863   \n",
       "\n",
       "            state  state_size  region  region_size  fire_size_cat   month  \n",
       "fire_year                                                                  \n",
       "1992        67961       67961   67961        67961          67961   67961  \n",
       "1993        61975       61975   61975        61975          61975   61975  \n",
       "1994        75932       75932   75932        75932          75932   75932  \n",
       "1995        71440       71440   71440        71440          71440   71440  \n",
       "1996        75561       75561   75561        75561          75561   75561  \n",
       "1997        61442       61442   61442        61442          61442   61442  \n",
       "1998        68356       68356   68356        68356          68356   68356  \n",
       "1999        89350       89350   89350        89350          89350   89350  \n",
       "2000        96397       96397   96397        96397          96397   96397  \n",
       "2001        87001       87001   87001        87001          87001   87001  \n",
       "2002        76128       76128   76128        76128          76128   76128  \n",
       "2003        68275       68275   68275        68275          68275   68275  \n",
       "2004        69370       69370   69370        69370          69370   69370  \n",
       "2005        92921       92921   92921        92921          92921   92921  \n",
       "2006       117943      117943  117943       117943         117943  117943  \n",
       "2007        98837       98837   98837        98837          98837   98837  \n",
       "2008        88306       88306   88306        88306          88306   88306  \n",
       "2009        81492       81492   81492        81492          81492   81492  \n",
       "2010        85579       85579   85579        85579          85579   85579  \n",
       "2011        98904       98904   98904        98904          98904   98904  \n",
       "2012        74258       74258   74258        74258          74258   74258  \n",
       "2013        66434       66434   66434        66434          66434   66434  \n",
       "2014        70480       70480   70480        70480          70480   70480  \n",
       "2015        77275       77275   77275        77275          77275   77275  \n",
       "2016        81994       81994   81994        81994          81994   81994  \n",
       "2017        82279       82279   82279        82279          82279   82279  \n",
       "2018        80863       80863   80863        80863          80863   80863  "
      ]
     },
     "execution_count": 50,
     "metadata": {},
     "output_type": "execute_result"
    }
   ],
   "source": [
    "df.groupby('fire_year').count()"
   ]
  },
  {
   "cell_type": "code",
   "execution_count": 51,
   "id": "7a0d5592",
   "metadata": {},
   "outputs": [
    {
     "data": {
      "text/plain": [
       "<seaborn.axisgrid.FacetGrid at 0x7fa6948c1370>"
      ]
     },
     "execution_count": 51,
     "metadata": {},
     "output_type": "execute_result"
    },
    {
     "data": {
      "image/png": "[encoded data removed]",
      "text/plain": [
       "<Figure size 576x576 with 1 Axes>"
      ]
     },
     "metadata": {},
     "output_type": "display_data"
    }
   ],
   "source": [
    "# plot trend of fire count by year\n",
    "sns.relplot(x=df.groupby('fire_year').fire_size.count(), y=df.groupby('fire_year').fire_size.sum(), data=df, height=8, markers='x')"
   ]
  },
  {
   "cell_type": "code",
   "execution_count": 52,
   "id": "de3e6783",
   "metadata": {},
   "outputs": [
    {
     "data": {
      "image/png": "[encoded data removed]",
      "text/plain": [
       "<Figure size 1440x576 with 2 Axes>"
      ]
     },
     "metadata": {},
     "output_type": "display_data"
    }
   ],
   "source": [
    "labels=['Small Fires', 'Large Fires']\n",
    "colors = ['tomato', 'crimson']\n",
    "\n",
    "plt.figure(figsize = (20,8))\n",
    "plt.subplot(121)\n",
    "plt.pie(x = [num_sm_fires, num_lg_fires], colors = colors, textprops = {'size':14}, explode=(0,.05), shadow=True)\n",
    "# plt.title('Number of Large Fires vs Small Fires', size=15)\n",
    "\n",
    "plt.subplot(122)\n",
    "plt.pie(x = [acres_sm_fires, acres_lg_fires], colors = colors, textprops = {'size':14}, shadow=True)\n",
    "# plt.title('Acres Burned By Large Fires vs Small Fires', size=15)\n",
    "plt.figlegend(labels, fontsize =15)\n",
    "plt.show()"
   ]
  },
  {
   "cell_type": "code",
   "execution_count": 53,
   "id": "876ceacb",
   "metadata": {},
   "outputs": [
    {
     "data": {
      "image/png": "[encoded data removed]",
      "text/plain": [
       "<Figure size 1440x576 with 2 Axes>"
      ]
     },
     "metadata": {},
     "output_type": "display_data"
    }
   ],
   "source": [
    "labels=['Small Fires', 'Large Fires']\n",
    "\n",
    "plt.figure(figsize = (20,8))\n",
    "plt.subplot(121)\n",
    "plt.pie(x = [num_sm_fires, num_lg_fires], colors = ['salmon', 'crimson'], textprops = {'size':14}, explode=(0,.05))\n",
    "plt.figlegend(labels, fontsize =15)\n",
    "# plt.title('Number of Large Fires vs Small Fires', size=15)\n",
    "\n",
    "plt.subplot(122)\n",
    "plt.pie(x = [acres_sm_fires, acres_lg_fires], colors = ['salmon', 'crimson'], textprops = {'size':14})\n",
    "# plt.title('Acres Burned By Large Fires vs Small Fires', size=15)\n",
    "plt.show()"
   ]
  },
  {
   "cell_type": "code",
   "execution_count": 54,
   "id": "2bb36c1b",
   "metadata": {
    "scrolled": true
   },
   "outputs": [
    {
     "data": {
      "image/png": "[encoded data removed]",
      "text/plain": [
       "<Figure size 1440x576 with 2 Axes>"
      ]
     },
     "metadata": {},
     "output_type": "display_data"
    }
   ],
   "source": [
    "plt.figure(figsize = (20,8))\n",
    "plt.subplot(121)\n",
    "plt.bar(x = ['num_sm_fires', 'num_lg_fires'], height=[num_sm_fires, num_lg_fires])\n",
    "plt.title('Number of Large Fires vs Small Fires', size=15)\n",
    "\n",
    "plt.subplot(122)\n",
    "plt.bar(x = ['acres_sm_fires', 'acres_lg_fires'], height=[acres_sm_fires, acres_lg_fires])\n",
    "plt.title('Acres Burned By Large Fires vs Small Fires', size=15)\n",
    "plt.show()"
   ]
  },
  {
   "cell_type": "markdown",
   "id": "5615cb85",
   "metadata": {},
   "source": [
    "### When resampling by year, there is not a clear trend in the *number* of wildfires however, we do see that the average *size* of wildfires is on an upward trend"
   ]
  },
  {
   "cell_type": "code",
   "execution_count": 55,
   "id": "1f7eba55",
   "metadata": {},
   "outputs": [
    {
     "data": {
      "text/html": [
       "<div>\n",
       "<style scoped>\n",
       "    .dataframe tbody tr th:only-of-type {\n",
       "        vertical-align: middle;\n",
       "    }\n",
       "\n",
       "    .dataframe tbody tr th {\n",
       "        vertical-align: top;\n",
       "    }\n",
       "\n",
       "    .dataframe thead th {\n",
       "        text-align: right;\n",
       "    }\n",
       "</style>\n",
       "<table border=\"1\" class=\"dataframe\">\n",
       "  <thead>\n",
       "    <tr style=\"text-align: right;\">\n",
       "      <th></th>\n",
       "      <th>fire_year</th>\n",
       "      <th>general_cause</th>\n",
       "      <th>containment_date</th>\n",
       "      <th>fire_size</th>\n",
       "      <th>latitude</th>\n",
       "      <th>longitude</th>\n",
       "      <th>state</th>\n",
       "      <th>state_size</th>\n",
       "      <th>region</th>\n",
       "      <th>region_size</th>\n",
       "      <th>fire_size_cat</th>\n",
       "      <th>month</th>\n",
       "    </tr>\n",
       "    <tr>\n",
       "      <th>discovery_date</th>\n",
       "      <th></th>\n",
       "      <th></th>\n",
       "      <th></th>\n",
       "      <th></th>\n",
       "      <th></th>\n",
       "      <th></th>\n",
       "      <th></th>\n",
       "      <th></th>\n",
       "      <th></th>\n",
       "      <th></th>\n",
       "      <th></th>\n",
       "      <th></th>\n",
       "    </tr>\n",
       "  </thead>\n",
       "  <tbody>\n",
       "    <tr>\n",
       "      <th>1992-01-01</th>\n",
       "      <td>1992</td>\n",
       "      <td>Smoking</td>\n",
       "      <td>1992-01-01</td>\n",
       "      <td>0.07</td>\n",
       "      <td>32.201000</td>\n",
       "      <td>-82.498700</td>\n",
       "      <td>GA</td>\n",
       "      <td>37745000.0</td>\n",
       "      <td>southeast</td>\n",
       "      <td>3.670760e+08</td>\n",
       "      <td>small</td>\n",
       "      <td>January</td>\n",
       "    </tr>\n",
       "    <tr>\n",
       "      <th>1992-01-01</th>\n",
       "      <td>1992</td>\n",
       "      <td>Missing data/not specified/undetermined</td>\n",
       "      <td>NaT</td>\n",
       "      <td>0.50</td>\n",
       "      <td>41.196201</td>\n",
       "      <td>-105.641502</td>\n",
       "      <td>WY</td>\n",
       "      <td>62604000.0</td>\n",
       "      <td>west</td>\n",
       "      <td>1.008831e+09</td>\n",
       "      <td>small</td>\n",
       "      <td>January</td>\n",
       "    </tr>\n",
       "    <tr>\n",
       "      <th>1992-01-01</th>\n",
       "      <td>1992</td>\n",
       "      <td>Missing data/not specified/undetermined</td>\n",
       "      <td>NaT</td>\n",
       "      <td>0.25</td>\n",
       "      <td>41.063980</td>\n",
       "      <td>-109.302200</td>\n",
       "      <td>WY</td>\n",
       "      <td>62604000.0</td>\n",
       "      <td>west</td>\n",
       "      <td>1.008831e+09</td>\n",
       "      <td>small</td>\n",
       "      <td>January</td>\n",
       "    </tr>\n",
       "    <tr>\n",
       "      <th>1992-01-01</th>\n",
       "      <td>1992</td>\n",
       "      <td>Missing data/not specified/undetermined</td>\n",
       "      <td>NaT</td>\n",
       "      <td>8.00</td>\n",
       "      <td>41.734581</td>\n",
       "      <td>-104.197502</td>\n",
       "      <td>WY</td>\n",
       "      <td>62604000.0</td>\n",
       "      <td>west</td>\n",
       "      <td>1.008831e+09</td>\n",
       "      <td>small</td>\n",
       "      <td>January</td>\n",
       "    </tr>\n",
       "    <tr>\n",
       "      <th>1992-01-01</th>\n",
       "      <td>1992</td>\n",
       "      <td>Missing data/not specified/undetermined</td>\n",
       "      <td>NaT</td>\n",
       "      <td>7.00</td>\n",
       "      <td>41.734581</td>\n",
       "      <td>-104.409698</td>\n",
       "      <td>WY</td>\n",
       "      <td>62604000.0</td>\n",
       "      <td>west</td>\n",
       "      <td>1.008831e+09</td>\n",
       "      <td>small</td>\n",
       "      <td>January</td>\n",
       "    </tr>\n",
       "  </tbody>\n",
       "</table>\n",
       "</div>"
      ],
      "text/plain": [
       "                fire_year                            general_cause  \\\n",
       "discovery_date                                                       \n",
       "1992-01-01           1992                                  Smoking   \n",
       "1992-01-01           1992  Missing data/not specified/undetermined   \n",
       "1992-01-01           1992  Missing data/not specified/undetermined   \n",
       "1992-01-01           1992  Missing data/not specified/undetermined   \n",
       "1992-01-01           1992  Missing data/not specified/undetermined   \n",
       "\n",
       "               containment_date  fire_size   latitude   longitude state  \\\n",
       "discovery_date                                                            \n",
       "1992-01-01           1992-01-01       0.07  32.201000  -82.498700    GA   \n",
       "1992-01-01                  NaT       0.50  41.196201 -105.641502    WY   \n",
       "1992-01-01                  NaT       0.25  41.063980 -109.302200    WY   \n",
       "1992-01-01                  NaT       8.00  41.734581 -104.197502    WY   \n",
       "1992-01-01                  NaT       7.00  41.734581 -104.409698    WY   \n",
       "\n",
       "                state_size     region   region_size fire_size_cat    month  \n",
       "discovery_date                                                              \n",
       "1992-01-01      37745000.0  southeast  3.670760e+08         small  January  \n",
       "1992-01-01      62604000.0       west  1.008831e+09         small  January  \n",
       "1992-01-01      62604000.0       west  1.008831e+09         small  January  \n",
       "1992-01-01      62604000.0       west  1.008831e+09         small  January  \n",
       "1992-01-01      62604000.0       west  1.008831e+09         small  January  "
      ]
     },
     "execution_count": 55,
     "metadata": {},
     "output_type": "execute_result"
    }
   ],
   "source": [
    "df.head()"
   ]
  },
  {
   "cell_type": "code",
   "execution_count": 56,
   "id": "790b2616",
   "metadata": {},
   "outputs": [
    {
     "data": {
      "text/plain": [
       "count    2166753.000000\n",
       "mean          75.990398\n",
       "std         2536.041295\n",
       "min            0.000010\n",
       "25%            0.100000\n",
       "50%            0.970000\n",
       "75%            3.000000\n",
       "max       662700.000000\n",
       "Name: fire_size, dtype: object"
      ]
     },
     "execution_count": 56,
     "metadata": {},
     "output_type": "execute_result"
    }
   ],
   "source": [
    "# get statistics for fire size\n",
    "df.fire_size.describe().apply(lambda x: format(x, 'f'))"
   ]
  },
  {
   "cell_type": "code",
   "execution_count": 57,
   "id": "8a98bcc9",
   "metadata": {},
   "outputs": [
    {
     "data": {
      "text/html": [
       "<div>\n",
       "<style scoped>\n",
       "    .dataframe tbody tr th:only-of-type {\n",
       "        vertical-align: middle;\n",
       "    }\n",
       "\n",
       "    .dataframe tbody tr th {\n",
       "        vertical-align: top;\n",
       "    }\n",
       "\n",
       "    .dataframe thead th {\n",
       "        text-align: right;\n",
       "    }\n",
       "</style>\n",
       "<table border=\"1\" class=\"dataframe\">\n",
       "  <thead>\n",
       "    <tr style=\"text-align: right;\">\n",
       "      <th></th>\n",
       "      <th>fire_year</th>\n",
       "      <th>general_cause</th>\n",
       "      <th>containment_date</th>\n",
       "      <th>fire_size</th>\n",
       "      <th>latitude</th>\n",
       "      <th>longitude</th>\n",
       "      <th>state</th>\n",
       "      <th>state_size</th>\n",
       "      <th>region</th>\n",
       "      <th>region_size</th>\n",
       "      <th>fire_size_cat</th>\n",
       "      <th>month</th>\n",
       "    </tr>\n",
       "    <tr>\n",
       "      <th>discovery_date</th>\n",
       "      <th></th>\n",
       "      <th></th>\n",
       "      <th></th>\n",
       "      <th></th>\n",
       "      <th></th>\n",
       "      <th></th>\n",
       "      <th></th>\n",
       "      <th></th>\n",
       "      <th></th>\n",
       "      <th></th>\n",
       "      <th></th>\n",
       "      <th></th>\n",
       "    </tr>\n",
       "  </thead>\n",
       "  <tbody>\n",
       "    <tr>\n",
       "      <th>1992-01-01</th>\n",
       "      <td>1992</td>\n",
       "      <td>Missing data/not specified/undetermined</td>\n",
       "      <td>NaT</td>\n",
       "      <td>150.0</td>\n",
       "      <td>41.167488</td>\n",
       "      <td>-105.813500</td>\n",
       "      <td>WY</td>\n",
       "      <td>62604000.0</td>\n",
       "      <td>west</td>\n",
       "      <td>1.008831e+09</td>\n",
       "      <td>small</td>\n",
       "      <td>January</td>\n",
       "    </tr>\n",
       "    <tr>\n",
       "      <th>1992-01-01</th>\n",
       "      <td>1992</td>\n",
       "      <td>Natural</td>\n",
       "      <td>NaT</td>\n",
       "      <td>400.0</td>\n",
       "      <td>42.946171</td>\n",
       "      <td>-105.897697</td>\n",
       "      <td>WY</td>\n",
       "      <td>62604000.0</td>\n",
       "      <td>west</td>\n",
       "      <td>1.008831e+09</td>\n",
       "      <td>small</td>\n",
       "      <td>January</td>\n",
       "    </tr>\n",
       "    <tr>\n",
       "      <th>1992-01-03</th>\n",
       "      <td>1992</td>\n",
       "      <td>Equipment and vehicle use</td>\n",
       "      <td>NaT</td>\n",
       "      <td>175.0</td>\n",
       "      <td>28.500000</td>\n",
       "      <td>-81.700000</td>\n",
       "      <td>FL</td>\n",
       "      <td>38392000.0</td>\n",
       "      <td>southeast</td>\n",
       "      <td>3.670760e+08</td>\n",
       "      <td>small</td>\n",
       "      <td>January</td>\n",
       "    </tr>\n",
       "    <tr>\n",
       "      <th>1992-01-04</th>\n",
       "      <td>1992</td>\n",
       "      <td>Missing data/not specified/undetermined</td>\n",
       "      <td>NaT</td>\n",
       "      <td>240.0</td>\n",
       "      <td>29.790000</td>\n",
       "      <td>-84.950000</td>\n",
       "      <td>FL</td>\n",
       "      <td>38392000.0</td>\n",
       "      <td>southeast</td>\n",
       "      <td>3.670760e+08</td>\n",
       "      <td>small</td>\n",
       "      <td>January</td>\n",
       "    </tr>\n",
       "    <tr>\n",
       "      <th>1992-01-04</th>\n",
       "      <td>1992</td>\n",
       "      <td>Missing data/not specified/undetermined</td>\n",
       "      <td>NaT</td>\n",
       "      <td>300.0</td>\n",
       "      <td>41.239269</td>\n",
       "      <td>-104.820198</td>\n",
       "      <td>WY</td>\n",
       "      <td>62604000.0</td>\n",
       "      <td>west</td>\n",
       "      <td>1.008831e+09</td>\n",
       "      <td>small</td>\n",
       "      <td>January</td>\n",
       "    </tr>\n",
       "    <tr>\n",
       "      <th>...</th>\n",
       "      <td>...</td>\n",
       "      <td>...</td>\n",
       "      <td>...</td>\n",
       "      <td>...</td>\n",
       "      <td>...</td>\n",
       "      <td>...</td>\n",
       "      <td>...</td>\n",
       "      <td>...</td>\n",
       "      <td>...</td>\n",
       "      <td>...</td>\n",
       "      <td>...</td>\n",
       "      <td>...</td>\n",
       "    </tr>\n",
       "    <tr>\n",
       "      <th>2018-12-20</th>\n",
       "      <td>2018</td>\n",
       "      <td>Missing data/not specified/undetermined</td>\n",
       "      <td>2018-12-20</td>\n",
       "      <td>110.0</td>\n",
       "      <td>35.651100</td>\n",
       "      <td>-98.389700</td>\n",
       "      <td>OK</td>\n",
       "      <td>44738000.0</td>\n",
       "      <td>southwest</td>\n",
       "      <td>3.665820e+08</td>\n",
       "      <td>small</td>\n",
       "      <td>December</td>\n",
       "    </tr>\n",
       "    <tr>\n",
       "      <th>2018-12-20</th>\n",
       "      <td>2018</td>\n",
       "      <td>Missing data/not specified/undetermined</td>\n",
       "      <td>2018-12-22</td>\n",
       "      <td>420.0</td>\n",
       "      <td>36.670800</td>\n",
       "      <td>-96.732200</td>\n",
       "      <td>OK</td>\n",
       "      <td>44738000.0</td>\n",
       "      <td>southwest</td>\n",
       "      <td>3.665820e+08</td>\n",
       "      <td>small</td>\n",
       "      <td>December</td>\n",
       "    </tr>\n",
       "    <tr>\n",
       "      <th>2018-12-23</th>\n",
       "      <td>2018</td>\n",
       "      <td>Missing data/not specified/undetermined</td>\n",
       "      <td>2018-12-23</td>\n",
       "      <td>559.0</td>\n",
       "      <td>29.562045</td>\n",
       "      <td>-94.466741</td>\n",
       "      <td>TX</td>\n",
       "      <td>171057000.0</td>\n",
       "      <td>southwest</td>\n",
       "      <td>3.665820e+08</td>\n",
       "      <td>small</td>\n",
       "      <td>December</td>\n",
       "    </tr>\n",
       "    <tr>\n",
       "      <th>2018-12-25</th>\n",
       "      <td>2018</td>\n",
       "      <td>Arson/incendiarism</td>\n",
       "      <td>2018-12-26</td>\n",
       "      <td>363.0</td>\n",
       "      <td>36.294200</td>\n",
       "      <td>-94.924400</td>\n",
       "      <td>OK</td>\n",
       "      <td>44738000.0</td>\n",
       "      <td>southwest</td>\n",
       "      <td>3.665820e+08</td>\n",
       "      <td>small</td>\n",
       "      <td>December</td>\n",
       "    </tr>\n",
       "    <tr>\n",
       "      <th>2018-12-28</th>\n",
       "      <td>2018</td>\n",
       "      <td>Arson/incendiarism</td>\n",
       "      <td>2019-01-02</td>\n",
       "      <td>353.0</td>\n",
       "      <td>26.953500</td>\n",
       "      <td>-81.120100</td>\n",
       "      <td>FL</td>\n",
       "      <td>38392000.0</td>\n",
       "      <td>southeast</td>\n",
       "      <td>3.670760e+08</td>\n",
       "      <td>small</td>\n",
       "      <td>December</td>\n",
       "    </tr>\n",
       "  </tbody>\n",
       "</table>\n",
       "<p>57247 rows × 12 columns</p>\n",
       "</div>"
      ],
      "text/plain": [
       "                fire_year                            general_cause  \\\n",
       "discovery_date                                                       \n",
       "1992-01-01           1992  Missing data/not specified/undetermined   \n",
       "1992-01-01           1992                                  Natural   \n",
       "1992-01-03           1992                Equipment and vehicle use   \n",
       "1992-01-04           1992  Missing data/not specified/undetermined   \n",
       "1992-01-04           1992  Missing data/not specified/undetermined   \n",
       "...                   ...                                      ...   \n",
       "2018-12-20           2018  Missing data/not specified/undetermined   \n",
       "2018-12-20           2018  Missing data/not specified/undetermined   \n",
       "2018-12-23           2018  Missing data/not specified/undetermined   \n",
       "2018-12-25           2018                       Arson/incendiarism   \n",
       "2018-12-28           2018                       Arson/incendiarism   \n",
       "\n",
       "               containment_date  fire_size   latitude   longitude state  \\\n",
       "discovery_date                                                            \n",
       "1992-01-01                  NaT      150.0  41.167488 -105.813500    WY   \n",
       "1992-01-01                  NaT      400.0  42.946171 -105.897697    WY   \n",
       "1992-01-03                  NaT      175.0  28.500000  -81.700000    FL   \n",
       "1992-01-04                  NaT      240.0  29.790000  -84.950000    FL   \n",
       "1992-01-04                  NaT      300.0  41.239269 -104.820198    WY   \n",
       "...                         ...        ...        ...         ...   ...   \n",
       "2018-12-20           2018-12-20      110.0  35.651100  -98.389700    OK   \n",
       "2018-12-20           2018-12-22      420.0  36.670800  -96.732200    OK   \n",
       "2018-12-23           2018-12-23      559.0  29.562045  -94.466741    TX   \n",
       "2018-12-25           2018-12-26      363.0  36.294200  -94.924400    OK   \n",
       "2018-12-28           2019-01-02      353.0  26.953500  -81.120100    FL   \n",
       "\n",
       "                 state_size     region   region_size fire_size_cat     month  \n",
       "discovery_date                                                                \n",
       "1992-01-01       62604000.0       west  1.008831e+09         small   January  \n",
       "1992-01-01       62604000.0       west  1.008831e+09         small   January  \n",
       "1992-01-03       38392000.0  southeast  3.670760e+08         small   January  \n",
       "1992-01-04       38392000.0  southeast  3.670760e+08         small   January  \n",
       "1992-01-04       62604000.0       west  1.008831e+09         small   January  \n",
       "...                     ...        ...           ...           ...       ...  \n",
       "2018-12-20       44738000.0  southwest  3.665820e+08         small  December  \n",
       "2018-12-20       44738000.0  southwest  3.665820e+08         small  December  \n",
       "2018-12-23      171057000.0  southwest  3.665820e+08         small  December  \n",
       "2018-12-25       44738000.0  southwest  3.665820e+08         small  December  \n",
       "2018-12-28       38392000.0  southeast  3.670760e+08         small  December  \n",
       "\n",
       "[57247 rows x 12 columns]"
      ]
     },
     "execution_count": 57,
     "metadata": {},
     "output_type": "execute_result"
    }
   ],
   "source": [
    "df[df.fire_size > 100]"
   ]
  },
  {
   "cell_type": "code",
   "execution_count": 58,
   "id": "2ee70ec0",
   "metadata": {},
   "outputs": [
    {
     "data": {
      "text/html": [
       "<div>\n",
       "<style scoped>\n",
       "    .dataframe tbody tr th:only-of-type {\n",
       "        vertical-align: middle;\n",
       "    }\n",
       "\n",
       "    .dataframe tbody tr th {\n",
       "        vertical-align: top;\n",
       "    }\n",
       "\n",
       "    .dataframe thead th {\n",
       "        text-align: right;\n",
       "    }\n",
       "</style>\n",
       "<table border=\"1\" class=\"dataframe\">\n",
       "  <thead>\n",
       "    <tr style=\"text-align: right;\">\n",
       "      <th></th>\n",
       "      <th>fire_year</th>\n",
       "      <th>general_cause</th>\n",
       "      <th>containment_date</th>\n",
       "      <th>fire_size</th>\n",
       "      <th>latitude</th>\n",
       "      <th>longitude</th>\n",
       "      <th>state</th>\n",
       "      <th>state_size</th>\n",
       "      <th>region</th>\n",
       "      <th>region_size</th>\n",
       "      <th>fire_size_cat</th>\n",
       "      <th>month</th>\n",
       "    </tr>\n",
       "    <tr>\n",
       "      <th>discovery_date</th>\n",
       "      <th></th>\n",
       "      <th></th>\n",
       "      <th></th>\n",
       "      <th></th>\n",
       "      <th></th>\n",
       "      <th></th>\n",
       "      <th></th>\n",
       "      <th></th>\n",
       "      <th></th>\n",
       "      <th></th>\n",
       "      <th></th>\n",
       "      <th></th>\n",
       "    </tr>\n",
       "  </thead>\n",
       "  <tbody>\n",
       "    <tr>\n",
       "      <th>1992-01-01</th>\n",
       "      <td>1992</td>\n",
       "      <td>Smoking</td>\n",
       "      <td>1992-01-01</td>\n",
       "      <td>0.07</td>\n",
       "      <td>32.201000</td>\n",
       "      <td>-82.498700</td>\n",
       "      <td>GA</td>\n",
       "      <td>37745000.0</td>\n",
       "      <td>southeast</td>\n",
       "      <td>3.670760e+08</td>\n",
       "      <td>small</td>\n",
       "      <td>January</td>\n",
       "    </tr>\n",
       "    <tr>\n",
       "      <th>1992-01-01</th>\n",
       "      <td>1992</td>\n",
       "      <td>Missing data/not specified/undetermined</td>\n",
       "      <td>NaT</td>\n",
       "      <td>0.50</td>\n",
       "      <td>41.196201</td>\n",
       "      <td>-105.641502</td>\n",
       "      <td>WY</td>\n",
       "      <td>62604000.0</td>\n",
       "      <td>west</td>\n",
       "      <td>1.008831e+09</td>\n",
       "      <td>small</td>\n",
       "      <td>January</td>\n",
       "    </tr>\n",
       "    <tr>\n",
       "      <th>1992-01-01</th>\n",
       "      <td>1992</td>\n",
       "      <td>Missing data/not specified/undetermined</td>\n",
       "      <td>NaT</td>\n",
       "      <td>0.25</td>\n",
       "      <td>41.063980</td>\n",
       "      <td>-109.302200</td>\n",
       "      <td>WY</td>\n",
       "      <td>62604000.0</td>\n",
       "      <td>west</td>\n",
       "      <td>1.008831e+09</td>\n",
       "      <td>small</td>\n",
       "      <td>January</td>\n",
       "    </tr>\n",
       "    <tr>\n",
       "      <th>1992-01-01</th>\n",
       "      <td>1992</td>\n",
       "      <td>Missing data/not specified/undetermined</td>\n",
       "      <td>NaT</td>\n",
       "      <td>8.00</td>\n",
       "      <td>41.734581</td>\n",
       "      <td>-104.197502</td>\n",
       "      <td>WY</td>\n",
       "      <td>62604000.0</td>\n",
       "      <td>west</td>\n",
       "      <td>1.008831e+09</td>\n",
       "      <td>small</td>\n",
       "      <td>January</td>\n",
       "    </tr>\n",
       "    <tr>\n",
       "      <th>1992-01-01</th>\n",
       "      <td>1992</td>\n",
       "      <td>Missing data/not specified/undetermined</td>\n",
       "      <td>NaT</td>\n",
       "      <td>7.00</td>\n",
       "      <td>41.734581</td>\n",
       "      <td>-104.409698</td>\n",
       "      <td>WY</td>\n",
       "      <td>62604000.0</td>\n",
       "      <td>west</td>\n",
       "      <td>1.008831e+09</td>\n",
       "      <td>small</td>\n",
       "      <td>January</td>\n",
       "    </tr>\n",
       "  </tbody>\n",
       "</table>\n",
       "</div>"
      ],
      "text/plain": [
       "                fire_year                            general_cause  \\\n",
       "discovery_date                                                       \n",
       "1992-01-01           1992                                  Smoking   \n",
       "1992-01-01           1992  Missing data/not specified/undetermined   \n",
       "1992-01-01           1992  Missing data/not specified/undetermined   \n",
       "1992-01-01           1992  Missing data/not specified/undetermined   \n",
       "1992-01-01           1992  Missing data/not specified/undetermined   \n",
       "\n",
       "               containment_date  fire_size   latitude   longitude state  \\\n",
       "discovery_date                                                            \n",
       "1992-01-01           1992-01-01       0.07  32.201000  -82.498700    GA   \n",
       "1992-01-01                  NaT       0.50  41.196201 -105.641502    WY   \n",
       "1992-01-01                  NaT       0.25  41.063980 -109.302200    WY   \n",
       "1992-01-01                  NaT       8.00  41.734581 -104.197502    WY   \n",
       "1992-01-01                  NaT       7.00  41.734581 -104.409698    WY   \n",
       "\n",
       "                state_size     region   region_size fire_size_cat    month  \n",
       "discovery_date                                                              \n",
       "1992-01-01      37745000.0  southeast  3.670760e+08         small  January  \n",
       "1992-01-01      62604000.0       west  1.008831e+09         small  January  \n",
       "1992-01-01      62604000.0       west  1.008831e+09         small  January  \n",
       "1992-01-01      62604000.0       west  1.008831e+09         small  January  \n",
       "1992-01-01      62604000.0       west  1.008831e+09         small  January  "
      ]
     },
     "execution_count": 58,
     "metadata": {},
     "output_type": "execute_result"
    }
   ],
   "source": [
    "df.head()"
   ]
  },
  {
   "cell_type": "code",
   "execution_count": 59,
   "id": "840b07e8",
   "metadata": {},
   "outputs": [
    {
     "data": {
      "text/plain": [
       "['CA', 'GA', 'TX', 'NC', 'FL']"
      ]
     },
     "execution_count": 59,
     "metadata": {},
     "output_type": "execute_result"
    }
   ],
   "source": [
    "top_five_wildfire_states = df.state.value_counts().head(5).index.to_list()\n",
    "top_five_wildfire_states"
   ]
  },
  {
   "cell_type": "code",
   "execution_count": 63,
   "id": "0b83f5ee",
   "metadata": {},
   "outputs": [
    {
     "data": {
      "text/html": [
       "<div>\n",
       "<style scoped>\n",
       "    .dataframe tbody tr th:only-of-type {\n",
       "        vertical-align: middle;\n",
       "    }\n",
       "\n",
       "    .dataframe tbody tr th {\n",
       "        vertical-align: top;\n",
       "    }\n",
       "\n",
       "    .dataframe thead th {\n",
       "        text-align: right;\n",
       "    }\n",
       "</style>\n",
       "<table border=\"1\" class=\"dataframe\">\n",
       "  <thead>\n",
       "    <tr style=\"text-align: right;\">\n",
       "      <th></th>\n",
       "      <th>fire_year</th>\n",
       "      <th>state</th>\n",
       "      <th>num_fires</th>\n",
       "    </tr>\n",
       "  </thead>\n",
       "  <tbody>\n",
       "    <tr>\n",
       "      <th>0</th>\n",
       "      <td>1992</td>\n",
       "      <td>CA</td>\n",
       "      <td>10831</td>\n",
       "    </tr>\n",
       "    <tr>\n",
       "      <th>1</th>\n",
       "      <td>1992</td>\n",
       "      <td>FL</td>\n",
       "      <td>4222</td>\n",
       "    </tr>\n",
       "    <tr>\n",
       "      <th>2</th>\n",
       "      <td>1992</td>\n",
       "      <td>GA</td>\n",
       "      <td>6458</td>\n",
       "    </tr>\n",
       "    <tr>\n",
       "      <th>3</th>\n",
       "      <td>1992</td>\n",
       "      <td>NC</td>\n",
       "      <td>5696</td>\n",
       "    </tr>\n",
       "    <tr>\n",
       "      <th>4</th>\n",
       "      <td>1992</td>\n",
       "      <td>TX</td>\n",
       "      <td>1168</td>\n",
       "    </tr>\n",
       "    <tr>\n",
       "      <th>...</th>\n",
       "      <td>...</td>\n",
       "      <td>...</td>\n",
       "      <td>...</td>\n",
       "    </tr>\n",
       "    <tr>\n",
       "      <th>130</th>\n",
       "      <td>2018</td>\n",
       "      <td>CA</td>\n",
       "      <td>9488</td>\n",
       "    </tr>\n",
       "    <tr>\n",
       "      <th>131</th>\n",
       "      <td>2018</td>\n",
       "      <td>FL</td>\n",
       "      <td>2072</td>\n",
       "    </tr>\n",
       "    <tr>\n",
       "      <th>132</th>\n",
       "      <td>2018</td>\n",
       "      <td>GA</td>\n",
       "      <td>2574</td>\n",
       "    </tr>\n",
       "    <tr>\n",
       "      <th>133</th>\n",
       "      <td>2018</td>\n",
       "      <td>NC</td>\n",
       "      <td>3085</td>\n",
       "    </tr>\n",
       "    <tr>\n",
       "      <th>134</th>\n",
       "      <td>2018</td>\n",
       "      <td>TX</td>\n",
       "      <td>7533</td>\n",
       "    </tr>\n",
       "  </tbody>\n",
       "</table>\n",
       "<p>135 rows × 3 columns</p>\n",
       "</div>"
      ],
      "text/plain": [
       "     fire_year state  num_fires\n",
       "0         1992    CA      10831\n",
       "1         1992    FL       4222\n",
       "2         1992    GA       6458\n",
       "3         1992    NC       5696\n",
       "4         1992    TX       1168\n",
       "..         ...   ...        ...\n",
       "130       2018    CA       9488\n",
       "131       2018    FL       2072\n",
       "132       2018    GA       2574\n",
       "133       2018    NC       3085\n",
       "134       2018    TX       7533\n",
       "\n",
       "[135 rows x 3 columns]"
      ]
     },
     "execution_count": 63,
     "metadata": {},
     "output_type": "execute_result"
    }
   ],
   "source": [
    "num_fires_by_year = df[df.state.isin(top_five_wildfire_states)]\\\n",
    ".groupby(['fire_year', 'state']).count().reset_index()\\\n",
    ".iloc[:, 0:3].rename(columns={'general_cause':'num_fires'})\n",
    "num_fires_by_year"
   ]
  },
  {
   "cell_type": "code",
   "execution_count": 65,
   "id": "e137d182",
   "metadata": {},
   "outputs": [
    {
     "data": {
      "text/plain": [
       "<AxesSubplot:xlabel='fire_year', ylabel='num_fires'>"
      ]
     },
     "execution_count": 65,
     "metadata": {},
     "output_type": "execute_result"
    },
    {
     "data": {
      "image/png": "[encoded data removed]",
      "text/plain": [
       "<Figure size 936x504 with 1 Axes>"
      ]
     },
     "metadata": {},
     "output_type": "display_data"
    }
   ],
   "source": [
    "\n",
    "sns.lineplot(data=num_fires_by_year, x='fire_year', y='num_fires', hue='state')"
   ]
  },
  {
   "cell_type": "code",
   "execution_count": 66,
   "id": "bf565159",
   "metadata": {},
   "outputs": [
    {
     "data": {
      "text/plain": [
       "Missing data/not specified/undetermined    547438\n",
       "Debris and open burning                    507219\n",
       "Natural                                    312807\n",
       "Arson/incendiarism                         310320\n",
       "Equipment and vehicle use                  175824\n",
       "Name: general_cause, dtype: int64"
      ]
     },
     "execution_count": 66,
     "metadata": {},
     "output_type": "execute_result"
    }
   ],
   "source": [
    "\n",
    "top_causes_of_wildfires = df.general_cause.value_counts().head()\n",
    "top_causes_of_wildfires"
   ]
  },
  {
   "cell_type": "code",
   "execution_count": 67,
   "id": "38f307db",
   "metadata": {},
   "outputs": [
    {
     "data": {
      "text/plain": [
       "['Debris and open burning',\n",
       " 'Natural',\n",
       " 'Arson/incendiarism',\n",
       " 'Equipment and vehicle use']"
      ]
     },
     "execution_count": 67,
     "metadata": {},
     "output_type": "execute_result"
    }
   ],
   "source": [
    "top_causes_of_wildfires[1:].index.to_list()"
   ]
  },
  {
   "cell_type": "code",
   "execution_count": 71,
   "id": "6da2461a",
   "metadata": {},
   "outputs": [
    {
     "data": {
      "text/html": [
       "<div>\n",
       "<style scoped>\n",
       "    .dataframe tbody tr th:only-of-type {\n",
       "        vertical-align: middle;\n",
       "    }\n",
       "\n",
       "    .dataframe tbody tr th {\n",
       "        vertical-align: top;\n",
       "    }\n",
       "\n",
       "    .dataframe thead th {\n",
       "        text-align: right;\n",
       "    }\n",
       "</style>\n",
       "<table border=\"1\" class=\"dataframe\">\n",
       "  <thead>\n",
       "    <tr style=\"text-align: right;\">\n",
       "      <th></th>\n",
       "      <th>fire_year</th>\n",
       "      <th>general_cause</th>\n",
       "      <th>num_occurrences</th>\n",
       "    </tr>\n",
       "  </thead>\n",
       "  <tbody>\n",
       "    <tr>\n",
       "      <th>0</th>\n",
       "      <td>1992</td>\n",
       "      <td>Arson/incendiarism</td>\n",
       "      <td>7154</td>\n",
       "    </tr>\n",
       "    <tr>\n",
       "      <th>1</th>\n",
       "      <td>1992</td>\n",
       "      <td>Debris and open burning</td>\n",
       "      <td>7078</td>\n",
       "    </tr>\n",
       "    <tr>\n",
       "      <th>2</th>\n",
       "      <td>1992</td>\n",
       "      <td>Equipment and vehicle use</td>\n",
       "      <td>1927</td>\n",
       "    </tr>\n",
       "    <tr>\n",
       "      <th>3</th>\n",
       "      <td>1992</td>\n",
       "      <td>Natural</td>\n",
       "      <td>10852</td>\n",
       "    </tr>\n",
       "    <tr>\n",
       "      <th>4</th>\n",
       "      <td>1993</td>\n",
       "      <td>Arson/incendiarism</td>\n",
       "      <td>7660</td>\n",
       "    </tr>\n",
       "    <tr>\n",
       "      <th>...</th>\n",
       "      <td>...</td>\n",
       "      <td>...</td>\n",
       "      <td>...</td>\n",
       "    </tr>\n",
       "    <tr>\n",
       "      <th>103</th>\n",
       "      <td>2017</td>\n",
       "      <td>Natural</td>\n",
       "      <td>7213</td>\n",
       "    </tr>\n",
       "    <tr>\n",
       "      <th>104</th>\n",
       "      <td>2018</td>\n",
       "      <td>Arson/incendiarism</td>\n",
       "      <td>5469</td>\n",
       "    </tr>\n",
       "    <tr>\n",
       "      <th>105</th>\n",
       "      <td>2018</td>\n",
       "      <td>Debris and open burning</td>\n",
       "      <td>14736</td>\n",
       "    </tr>\n",
       "    <tr>\n",
       "      <th>106</th>\n",
       "      <td>2018</td>\n",
       "      <td>Equipment and vehicle use</td>\n",
       "      <td>5034</td>\n",
       "    </tr>\n",
       "    <tr>\n",
       "      <th>107</th>\n",
       "      <td>2018</td>\n",
       "      <td>Natural</td>\n",
       "      <td>6112</td>\n",
       "    </tr>\n",
       "  </tbody>\n",
       "</table>\n",
       "<p>108 rows × 3 columns</p>\n",
       "</div>"
      ],
      "text/plain": [
       "     fire_year              general_cause  num_occurrences\n",
       "0         1992         Arson/incendiarism             7154\n",
       "1         1992    Debris and open burning             7078\n",
       "2         1992  Equipment and vehicle use             1927\n",
       "3         1992                    Natural            10852\n",
       "4         1993         Arson/incendiarism             7660\n",
       "..         ...                        ...              ...\n",
       "103       2017                    Natural             7213\n",
       "104       2018         Arson/incendiarism             5469\n",
       "105       2018    Debris and open burning            14736\n",
       "106       2018  Equipment and vehicle use             5034\n",
       "107       2018                    Natural             6112\n",
       "\n",
       "[108 rows x 3 columns]"
      ]
     },
     "execution_count": 71,
     "metadata": {},
     "output_type": "execute_result"
    }
   ],
   "source": [
    "# create a new dataframe that groups by year and gets a count by year of the top causes for wildfires\n",
    "num_causes_by_year = df[df.general_cause.isin(top_causes_of_wildfires[1:].index.to_list())]\\\n",
    ".groupby(['fire_year', 'general_cause']).count().reset_index().iloc[:, 0:3]\\\n",
    ".rename(columns={'containment_date':'num_occurrences'})\n",
    "num_causes_by_year"
   ]
  },
  {
   "cell_type": "code",
   "execution_count": 72,
   "id": "e0bfd5cf",
   "metadata": {},
   "outputs": [
    {
     "data": {
      "text/plain": [
       "<AxesSubplot:xlabel='fire_year', ylabel='num_occurrences'>"
      ]
     },
     "execution_count": 72,
     "metadata": {},
     "output_type": "execute_result"
    },
    {
     "data": {
      "image/png": "[encoded data removed]",
      "text/plain": [
       "<Figure size 936x504 with 1 Axes>"
      ]
     },
     "metadata": {},
     "output_type": "display_data"
    }
   ],
   "source": [
    "# plot trends over the years by the top four causes of wildfires, excluding observations where cause was not specified\n",
    "sns.lineplot(data=num_causes_by_year, x='fire_year', y='num_occurrences', hue='general_cause')"
   ]
  },
  {
   "cell_type": "code",
   "execution_count": null,
   "id": "160587a1",
   "metadata": {},
   "outputs": [],
   "source": [
    "num_causes_by_year.head()"
   ]
  },
  {
   "cell_type": "code",
   "execution_count": null,
   "id": "9d2e59b2",
   "metadata": {},
   "outputs": [],
   "source": [
    "num_causes_by_year.to_csv('num_causes_by_year')"
   ]
  },
  {
   "cell_type": "code",
   "execution_count": null,
   "id": "43586ea0",
   "metadata": {},
   "outputs": [],
   "source": [
    "num_causes_by_year.shape"
   ]
  },
  {
   "cell_type": "code",
   "execution_count": null,
   "id": "73521340",
   "metadata": {},
   "outputs": [],
   "source": [
    "natural = num_causes_by_year[num_causes_by_year.general_cause == \"Natural\"]\n",
    "arson = num_causes_by_year[num_causes_by_year.general_cause == \"Arson/incendiarism\"]\n",
    "debris = num_causes_by_year[num_causes_by_year.general_cause == \"Debris and open burning\"]\n",
    "equipment = num_causes_by_year[num_causes_by_year.general_cause == \"Equipment and vehicle use\"]\n",
    "\n",
    "natural = natural.set_index(\"fire_year\")\n",
    "arson = arson.set_index(\"fire_year\")\n",
    "equipment = equipment.set_index(\"fire_year\")\n",
    "debris = debris.set_index(\"fire_year\")\n",
    "\n",
    "fig, ax = plt.subplots()\n",
    "labels = arson.index\n",
    "\n",
    "ax.bar(labels, arson.num_occurrences, label=\"Arson/incendiarism\")\n",
    "ax.bar(labels, natural.num_occurrences, label=\"Natural Causes\", bottom=arson.num_occurrences)\n",
    "ax.bar(labels, debris.num_occurrences, label=\"Debris & Open Burning\", bottom=natural.num_occurrences + arson.num_occurrences)\n",
    "ax.bar(labels, equipment.num_occurrences, label=\"Equipment & Vehicle Use\", bottom=debris.num_occurrences + natural.num_occurrences + arson.num_occurrences)\n",
    "\n",
    "ax.legend()\n",
    "ax.set_ylabel(\"n occurrences\")\n",
    "ax.set_title(\"Top Causes Of Wildfires Across The U.S.\")"
   ]
  },
  {
   "cell_type": "code",
   "execution_count": null,
   "id": "49e83ca4",
   "metadata": {
    "scrolled": false
   },
   "outputs": [],
   "source": [
    "# plot wildfires caused by natural causes by year\n",
    "sns.countplot(data=df[df.general_cause == 'Natural'], y='fire_year')"
   ]
  },
  {
   "cell_type": "markdown",
   "id": "ad6a5011",
   "metadata": {},
   "source": [
    "### In recent years, we have seen a decrease in number of wildfires that were caused by natural causes"
   ]
  },
  {
   "cell_type": "code",
   "execution_count": null,
   "id": "975897ed",
   "metadata": {},
   "outputs": [],
   "source": [
    "# plot wildfires caused by Debris and open burning by year\n",
    "sns.countplot(data=df[df.general_cause == 'Debris and open burning'], y='fire_year')"
   ]
  },
  {
   "cell_type": "markdown",
   "id": "0b118915",
   "metadata": {},
   "source": [
    "### There appears to be a slight upward trend in debris and open burning as a cause of wildfires"
   ]
  },
  {
   "cell_type": "code",
   "execution_count": null,
   "id": "841e9889",
   "metadata": {},
   "outputs": [],
   "source": [
    "# plot wildfires caused by Arson/incendiarism by year\n",
    "sns.countplot(data=df[df.general_cause == 'Arson/incendiarism'], y='fire_year')"
   ]
  },
  {
   "cell_type": "markdown",
   "id": "c272db2d",
   "metadata": {},
   "source": [
    "### There are some spikes but otherwise a downward trend in arson/incendiarism as a cause for wildfires"
   ]
  },
  {
   "cell_type": "code",
   "execution_count": null,
   "id": "6904c9df",
   "metadata": {},
   "outputs": [],
   "source": [
    "# plot wildfires caused by Equipment and vehicle use by year\n",
    "sns.countplot(data=df[df.general_cause == 'Equipment and vehicle use'], y='fire_year')"
   ]
  },
  {
   "cell_type": "markdown",
   "id": "4be41e2c",
   "metadata": {},
   "source": [
    "### There are no obvious trends or anything that really stands out in this plot for equipment and vehicle use as a cause for wildfires. \n",
    "\n",
    "### There's no one cause for the higher number of fires in 2006. All causes have higher numbers for this year."
   ]
  },
  {
   "cell_type": "code",
   "execution_count": null,
   "id": "97fafd70",
   "metadata": {},
   "outputs": [],
   "source": [
    "# get statistics for fire size\n",
    "df.fire_size.describe().apply(lambda x: format(x, 'f'))"
   ]
  },
  {
   "cell_type": "markdown",
   "id": "607c4a47",
   "metadata": {},
   "source": [
    "### I want to get a better understanding of range of wildfire sizes"
   ]
  },
  {
   "cell_type": "code",
   "execution_count": null,
   "id": "7f7ef25f",
   "metadata": {},
   "outputs": [],
   "source": [
    "print(f'The 10th percentile is: {df.fire_size.quantile(.1)}')\n",
    "print(f'The 20th percentile is: {df.fire_size.quantile(.2)}')\n",
    "print(f'The 25th percentile is: {df.fire_size.quantile(.25)}')\n",
    "print(f'The 30th percentile is: {df.fire_size.quantile(.3)}')\n",
    "print(f'The 40th percentile is: {df.fire_size.quantile(.4)}')\n",
    "print(f'The 50th percentile is: {df.fire_size.quantile(.5)}')\n",
    "print(f'The 60th percentile is: {df.fire_size.quantile(.6)}')\n",
    "print(f'The 70th percentile is: {df.fire_size.quantile(.7)}')\n",
    "print(f'The 75th percentile is: {df.fire_size.quantile(.75)}')\n",
    "print(f'The 80th percentile is: {df.fire_size.quantile(.8)}')\n",
    "print(f'The 90th percentile is: {df.fire_size.quantile(.9)}')\n",
    "print(f'The 100th percentile is: {df.fire_size.quantile(1)}')"
   ]
  },
  {
   "cell_type": "code",
   "execution_count": null,
   "id": "a974e246",
   "metadata": {},
   "outputs": [],
   "source": [
    "df.fire_size.hist()"
   ]
  },
  {
   "cell_type": "code",
   "execution_count": null,
   "id": "0dda6734",
   "metadata": {},
   "outputs": [],
   "source": [
    "df[df.fire_size > 100000].shape"
   ]
  },
  {
   "cell_type": "code",
   "execution_count": null,
   "id": "97bbe967",
   "metadata": {},
   "outputs": [],
   "source": [
    "# check \n",
    "df[df.fire_size > 100000].fire_size.hist()"
   ]
  },
  {
   "cell_type": "code",
   "execution_count": null,
   "id": "5a768fb4",
   "metadata": {},
   "outputs": [],
   "source": [
    "# plot counts of large fires by year\n",
    "sns.countplot(data=df[df.fire_size > 100000], x='fire_year')"
   ]
  },
  {
   "cell_type": "code",
   "execution_count": null,
   "id": "58038388",
   "metadata": {},
   "outputs": [],
   "source": []
  },
  {
   "cell_type": "markdown",
   "id": "f70f3405",
   "metadata": {},
   "source": [
    "### I want to graph the average size of wildfires per decade to see if I can clearly represent the trend to our audience."
   ]
  },
  {
   "cell_type": "code",
   "execution_count": null,
   "id": "f26da92a",
   "metadata": {},
   "outputs": [],
   "source": [
    "# create another column categorizing decade\n",
    "conditions = [df.fire_year < 2000, df.fire_year <2010, df.fire_year <2020]\n",
    "choices = ['1992 - 1999', '2000 - 2009', '2010 - ']\n",
    "df['decade'] = np.select(conditions, choices)\n",
    "df.head()"
   ]
  },
  {
   "cell_type": "code",
   "execution_count": null,
   "id": "0c06f64b",
   "metadata": {},
   "outputs": [],
   "source": [
    "# plot average fire size by decade\n",
    "sns.barplot(data=df, x='decade', y='fire_size', hue='fire_size_cat')"
   ]
  },
  {
   "cell_type": "markdown",
   "id": "d4fb7cfb",
   "metadata": {},
   "source": [
    "### I am also going to try to graph average fire size per quinquennial between 1995-2015 to see if that also represents this trend"
   ]
  },
  {
   "cell_type": "code",
   "execution_count": null,
   "id": "137934fd",
   "metadata": {},
   "outputs": [],
   "source": [
    "# create another dataframe where I can chunk the data into 5-year periods\n",
    "df2 = df[(df.fire_year >=1996) & (df.fire_year <=2015)]\n",
    "df2.fire_year.value_counts().sort_index()"
   ]
  },
  {
   "cell_type": "code",
   "execution_count": null,
   "id": "99c67a5a",
   "metadata": {},
   "outputs": [],
   "source": [
    "# create another column categorizing quinquennial\n",
    "conditions = [df2.fire_year <= 2000, df2.fire_year <= 2005, df2.fire_year <= 2010, df2.fire_year <= 2015]\n",
    "choices = ['1996 - 2000', '2001 - 2005', '2006 - 2010', '2011 - 2015']\n",
    "df2['quinquennial'] = np.select(conditions, choices)\n",
    "df2.head()"
   ]
  },
  {
   "cell_type": "code",
   "execution_count": null,
   "id": "a0407a5c",
   "metadata": {},
   "outputs": [],
   "source": [
    "# plot average fire size by quinquennial\n",
    "sns.barplot(data=df2, x='quinquennial', y='fire_size')"
   ]
  },
  {
   "cell_type": "code",
   "execution_count": null,
   "id": "e77deb7e",
   "metadata": {},
   "outputs": [],
   "source": [
    "plt.figure(figsize = (20,8))\n",
    "plt.subplot(121)\n",
    "sns.countplot(data=df2[df2.fire_size_cat == 'large'], x='quinquennial')\n",
    "# plt.gca().spines['top'].set_visible(False)\n",
    "# plt.gca().spines['right'].set_visible(False)\n",
    "# plt.ylabel('# of Small Fires')\n",
    "# plt.xlabel('Year')\n",
    "\n",
    "plt.subplot(122)\n",
    "sns.countplot(data=df2[df2.fire_size_cat == 'small'], x='quinquennial')\n",
    "# plt.gca().spines['top'].set_visible(False)\n",
    "# plt.gca().spines['right'].set_visible(False)\n",
    "# plt.ylabel('# of Large Fires')\n",
    "# plt.xlabel('Year');"
   ]
  },
  {
   "cell_type": "code",
   "execution_count": null,
   "id": "268797e3",
   "metadata": {},
   "outputs": [],
   "source": [
    "# create another column categorizing quinquennial\n",
    "conditions = [df.fire_year <= 1994, df.fire_year <= 1997, df.fire_year <= 2000, df.fire_year <= 2003, df.fire_year <= 2006, df.fire_year <= 2009, df.fire_year <= 2012, df.fire_year <= 2015, df.fire_year <= 2018]\n",
    "choices = ['94', '97', '00', '03', '06', '09', '12', '15', '18']\n",
    "df['triennial'] = np.select(conditions, choices)\n",
    "df.head()"
   ]
  },
  {
   "cell_type": "code",
   "execution_count": null,
   "id": "5b671540",
   "metadata": {},
   "outputs": [],
   "source": [
    "# create another column categorizing quinquennial\n",
    "conditions = [df.fire_year <= 2000, df.fire_year <= 2009, df.fire_year <= 2018]\n",
    "choices = ['1992 - ', '97', '00']\n",
    "df['nine_years'] = np.select(conditions, choices)\n",
    "df.head()"
   ]
  },
  {
   "cell_type": "code",
   "execution_count": null,
   "id": "0ff127be",
   "metadata": {},
   "outputs": [],
   "source": []
  },
  {
   "cell_type": "code",
   "execution_count": null,
   "id": "0945a79e",
   "metadata": {},
   "outputs": [],
   "source": []
  },
  {
   "cell_type": "code",
   "execution_count": null,
   "id": "ee94b81c",
   "metadata": {},
   "outputs": [],
   "source": [
    "plt.figure(figsize = (20,8))\n",
    "plt.subplot(121)\n",
    "sns.countplot(data=df[df.fire_size_cat == 'small'], x='nine_years')\n",
    "# plt.ylabel('# of Large Fires')\n",
    "# plt.xlabel('Year');\n",
    "\n",
    "plt.subplot(122)\n",
    "sns.countplot(data=df[df.fire_size_cat == 'large'], x='nine_years')\n",
    "# plt.ylabel('# of Small Fires')\n",
    "# plt.xlabel('Year')"
   ]
  },
  {
   "cell_type": "code",
   "execution_count": null,
   "id": "1a62f021",
   "metadata": {},
   "outputs": [],
   "source": [
    "plt.figure(figsize = (20,8))\n",
    "plt.subplot(121)\n",
    "sns.countplot(data=df[df.fire_size_cat == 'large'], x='triennial')\n",
    "# plt.gca().spines['top'].set_visible(False)\n",
    "# plt.gca().spines['right'].set_visible(False)\n",
    "# plt.ylabel('# of Small Fires')\n",
    "# plt.xlabel('Year')\n",
    "\n",
    "plt.subplot(122)\n",
    "sns.countplot(data=df[df.fire_size_cat == 'small'], x='triennial')\n",
    "# plt.gca().spines['top'].set_visible(False)\n",
    "# plt.gca().spines['right'].set_visible(False)\n",
    "# plt.ylabel('# of Large Fires')\n",
    "# plt.xlabel('Year');"
   ]
  },
  {
   "cell_type": "code",
   "execution_count": null,
   "id": "d04d3ce6",
   "metadata": {},
   "outputs": [],
   "source": [
    "df2.quinquennial.value_counts()"
   ]
  },
  {
   "cell_type": "code",
   "execution_count": null,
   "id": "ccdc3b8c",
   "metadata": {},
   "outputs": [],
   "source": [
    "# US fire size category total fire size, over time\n",
    "# group by fire_size_cat, sum fire_size, show year\n",
    "sizes = df2.groupby(['fire_size_cat', 'quinquennial']).fire_size.sum()\n",
    "sizes"
   ]
  },
  {
   "cell_type": "code",
   "execution_count": null,
   "id": "48c6c4e4",
   "metadata": {},
   "outputs": [],
   "source": [
    "sizes = df2.groupby(['quinquennial', 'fire_size_cat']).fire_size.sum().to_frame().reset_index()\n",
    "sizes"
   ]
  },
  {
   "cell_type": "code",
   "execution_count": null,
   "id": "93a4da2c",
   "metadata": {},
   "outputs": [],
   "source": [
    "size = sizes.pivot(index='quinquennial', columns='fire_size_cat').reset_index()\n",
    "size"
   ]
  },
  {
   "cell_type": "code",
   "execution_count": null,
   "id": "d625723b",
   "metadata": {},
   "outputs": [],
   "source": [
    "# size = sizes.reset_index().pivot(index='quinquennial', columns='fire_size_cat').reset_index()\n",
    "# size"
   ]
  },
  {
   "cell_type": "code",
   "execution_count": null,
   "id": "d284a5fc",
   "metadata": {},
   "outputs": [],
   "source": [
    "size.columns"
   ]
  },
  {
   "cell_type": "code",
   "execution_count": null,
   "id": "93fae3f5",
   "metadata": {},
   "outputs": [],
   "source": [
    "size.columns = ['quinquennial', 'large', 'small']"
   ]
  },
  {
   "cell_type": "code",
   "execution_count": null,
   "id": "0efc61ba",
   "metadata": {},
   "outputs": [],
   "source": [
    "size.head()"
   ]
  },
  {
   "cell_type": "code",
   "execution_count": null,
   "id": "9776834c",
   "metadata": {},
   "outputs": [],
   "source": [
    "size['lg_normalized'] = size.large / (size.large + size.small)\n",
    "size['sm_normalized'] = 1 - (size.large / (size.large + size.small))\n",
    "size"
   ]
  },
  {
   "cell_type": "code",
   "execution_count": null,
   "id": "b1c89027",
   "metadata": {},
   "outputs": [],
   "source": [
    "# create the subplots\n",
    "fig, ax = plt.subplots(figsize = (20,8))\n",
    "\n",
    "labels = ['1996 - 2000', '2001 - 2005', '2006 - 2010', '2011 - 2015']\n",
    "# plot the number of occurrences for each cause by year\n",
    "ax.bar(labels, size.sm_normalized, label=\"Small Fires\")\n",
    "ax.bar(labels, size.lg_normalized, label=\"Large Fires\", bottom = size.sm_normalized)\n",
    "\n",
    "ax.legend()\n",
    "ax.set_ylabel(\"% Area Burned\")\n",
    "ax.set_title(\"% of Area Burned by Large Fires vs Small Fires\", fontdict={'fontsize': 24});"
   ]
  },
  {
   "cell_type": "code",
   "execution_count": null,
   "id": "23da458b",
   "metadata": {},
   "outputs": [],
   "source": [
    "sizes.fire_size"
   ]
  },
  {
   "cell_type": "code",
   "execution_count": null,
   "id": "6448e32a",
   "metadata": {},
   "outputs": [],
   "source": [
    "# separate large and small wildfires into their own dataframe\n",
    "small = sizes[sizes.fire_size_cat == 'small']\n",
    "large = sizes[sizes.fire_size_cat == 'large']"
   ]
  },
  {
   "cell_type": "code",
   "execution_count": null,
   "id": "ba8c0c13",
   "metadata": {},
   "outputs": [],
   "source": [
    "large.head()"
   ]
  },
  {
   "cell_type": "code",
   "execution_count": null,
   "id": "2df084b9",
   "metadata": {},
   "outputs": [],
   "source": [
    "small.quinquennial.unique()"
   ]
  },
  {
   "cell_type": "code",
   "execution_count": null,
   "id": "9a5ddf0e",
   "metadata": {},
   "outputs": [],
   "source": [
    "# create the subplots\n",
    "fig, ax = plt.subplots(figsize = (20,8))\n",
    "\n",
    "labels = ['1996 - 2000', '2001 - 2005', '2006 - 2010', '2011 - 2015']\n",
    "# plot the number of occurrences for each cause by year\n",
    "ax.bar(labels, large.fire_size, label=\"Large Fires\")\n",
    "ax.bar(labels, small.fire_size, label=\"Small Fires\", bottom=large.fire_size)\n",
    "\n",
    "ax.legend()\n",
    "ax.set_ylabel(\"fire size\");"
   ]
  },
  {
   "cell_type": "code",
   "execution_count": null,
   "id": "cf1cf56e",
   "metadata": {},
   "outputs": [],
   "source": [
    "counts = df2.groupby(['quinquennial', 'fire_size_cat']).fire_size.count().to_frame().reset_index()\n",
    "counts"
   ]
  },
  {
   "cell_type": "code",
   "execution_count": null,
   "id": "64ad66c5",
   "metadata": {},
   "outputs": [],
   "source": [
    "counts = counts.pivot(index='quinquennial', columns='fire_size_cat').reset_index()\n",
    "counts"
   ]
  },
  {
   "cell_type": "code",
   "execution_count": null,
   "id": "47704435",
   "metadata": {},
   "outputs": [],
   "source": [
    "counts.columns = ['quinquennial', 'large', 'small']\n",
    "counts"
   ]
  },
  {
   "cell_type": "code",
   "execution_count": null,
   "id": "5c12788d",
   "metadata": {},
   "outputs": [],
   "source": [
    "counts['lg_normalized'] = counts.large / (counts.large + counts.small)\n",
    "counts['sm_normalized'] = 1 - (counts.large / (counts.large + counts.small))\n",
    "counts"
   ]
  },
  {
   "cell_type": "code",
   "execution_count": null,
   "id": "1e3a81cd",
   "metadata": {},
   "outputs": [],
   "source": [
    "# create the subplots\n",
    "fig, ax = plt.subplots(figsize = (20,12))\n",
    "\n",
    "labels = ['1996 - 2000', '2001 - 2005', '2006 - 2010', '2011 - 2015']\n",
    "# plot the number of occurrences for each cause by year\n",
    "\n",
    "ax.bar(labels, counts.large, label=\"Large Fires\", log=True)\n",
    "ax.bar(labels, counts.small, label=\"Small Fires\", bottom = counts.large, log=True)\n",
    "\n",
    "ax.legend()\n",
    "ax.set_ylabel(\"% Area Burned\")\n",
    "ax.set_title(\"% of Area Burned by Large Fires vs Small Fires\", fontdict={'fontsize': 24});"
   ]
  },
  {
   "cell_type": "code",
   "execution_count": null,
   "id": "cedffad7",
   "metadata": {},
   "outputs": [],
   "source": []
  },
  {
   "cell_type": "code",
   "execution_count": null,
   "id": "6c53ee5e",
   "metadata": {},
   "outputs": [],
   "source": []
  },
  {
   "cell_type": "code",
   "execution_count": null,
   "id": "7007d04d",
   "metadata": {},
   "outputs": [],
   "source": [
    "yearly_mean_fire_size = df.groupby('fire_year').fire_size.mean().reset_index()"
   ]
  },
  {
   "cell_type": "code",
   "execution_count": null,
   "id": "fb815f8c",
   "metadata": {},
   "outputs": [],
   "source": [
    "# # plot scatterplot with regression line\n",
    "# # sns.color_palette(\"rocket\", as_cmap=True)\n",
    "# sns.lmplot(x='year', y='fire_size', data=yearly_mean_fire_size, height=8, markers='x', seed=321, robust=True)\n",
    "# plt.title('Annual Average Acres Burned Is Increasing', size=14, color_palette='rocket')\n",
    "# plt.xlabel('Year')\n",
    "# plt.ylabel('Acres Burned');"
   ]
  },
  {
   "cell_type": "code",
   "execution_count": null,
   "id": "8aecd1a5",
   "metadata": {},
   "outputs": [],
   "source": [
    "df.groupby('fire_year').mean()"
   ]
  },
  {
   "cell_type": "markdown",
   "id": "57a7d9f7",
   "metadata": {},
   "source": [
    "The smallest wildfire is only about 4.5 square feet\n",
    "\n",
    "25% of fires are less than 1/10 of an acre\n",
    "\n",
    "50% are less than one acre\n",
    "\n",
    "75% are less than three acres\n",
    "\n",
    "20% of fires are greater than 5 acres which is equivalent to three and a quarter football fields.\n",
    "\n",
    "The largest wildfire is larger than 500,000 football fields or 85% of Rhode Island, our smallest state"
   ]
  },
  {
   "cell_type": "markdown",
   "id": "04005a17",
   "metadata": {},
   "source": [
    "---"
   ]
  },
  {
   "cell_type": "markdown",
   "id": "39a4f135",
   "metadata": {},
   "source": [
    "#### I am going to create a column categorizing the fires as:\n",
    "\n",
    "* small: up to the size of two tennis courts\n",
    "* medium: up to the size of a football field\n",
    "* large: up to the size of 4 football fields\n",
    "* extra_lg: anything larger than this"
   ]
  },
  {
   "cell_type": "code",
   "execution_count": null,
   "id": "c1063a83",
   "metadata": {},
   "outputs": [],
   "source": [
    "# create another column categorizing fire size\n",
    "conditions = [df.fire_size <=.13, df.fire_size <=1.3, df.fire_size <=5.2, df.fire_size >5.2]\n",
    "choices = ['small', 'medium', 'large', 'extra_lg']\n",
    "df['size_category'] = np.select(conditions, choices)\n",
    "df.head()"
   ]
  },
  {
   "cell_type": "code",
   "execution_count": null,
   "id": "c2c08190",
   "metadata": {},
   "outputs": [],
   "source": [
    "df.size_category.value_counts(normalize=True)"
   ]
  },
  {
   "cell_type": "code",
   "execution_count": null,
   "id": "5d279625",
   "metadata": {
    "scrolled": false
   },
   "outputs": [],
   "source": [
    "# plot size of fires by latitude and longitude\n",
    "sns.scatterplot(x='longitude', y='latitude', hue='size_category', data=df)"
   ]
  },
  {
   "cell_type": "markdown",
   "id": "91489998",
   "metadata": {},
   "source": [
    "### With all the fires plotted across all the years, we see that the large majority seems to be smaller fires. Alaska does have a large amount of extra-large fires"
   ]
  },
  {
   "cell_type": "code",
   "execution_count": null,
   "id": "44e86d1b",
   "metadata": {},
   "outputs": [],
   "source": [
    "# checking to see what the fire size and location looks like for 2006\n",
    "sns.scatterplot(x='longitude', y='latitude', hue='size_category', data=df[df.fire_year == 2006])"
   ]
  },
  {
   "cell_type": "markdown",
   "id": "167e2a14",
   "metadata": {},
   "source": [
    "### It appears that the majority of the largest wildfires in 2006 happened in the central area of the US"
   ]
  },
  {
   "cell_type": "code",
   "execution_count": null,
   "id": "16c8bc1b",
   "metadata": {},
   "outputs": [],
   "source": [
    "df.head()"
   ]
  },
  {
   "cell_type": "code",
   "execution_count": null,
   "id": "572569a9",
   "metadata": {},
   "outputs": [],
   "source": [
    "df.groupby('state').fire_size.sum().sort_values(ascending=False).head()"
   ]
  },
  {
   "cell_type": "code",
   "execution_count": null,
   "id": "864926f2",
   "metadata": {},
   "outputs": [],
   "source": [
    "y = df.groupby('state').fire_size.sum().sort_values(ascending=False).head(10).reset_index()\n",
    "y.fire_size = round(y.fire_size/1_000_000)\n",
    "y"
   ]
  },
  {
   "cell_type": "code",
   "execution_count": null,
   "id": "1fcd3171",
   "metadata": {},
   "outputs": [],
   "source": [
    "sns.barplot(x='state', y='fire_size', data=y)"
   ]
  },
  {
   "cell_type": "code",
   "execution_count": null,
   "id": "5e462f4b",
   "metadata": {},
   "outputs": [],
   "source": [
    "df[df.state == 'AK'].fire_size.sum()"
   ]
  },
  {
   "cell_type": "markdown",
   "id": "e918d4a2",
   "metadata": {},
   "source": [
    "### I am going to further explore extra-large fires to see if there's anything there."
   ]
  },
  {
   "cell_type": "code",
   "execution_count": null,
   "id": "6b7d6f57",
   "metadata": {},
   "outputs": [],
   "source": [
    "lg_df = df[df.size_category == 'extra_lg']\n",
    "lg_df.info()"
   ]
  },
  {
   "cell_type": "code",
   "execution_count": null,
   "id": "8bd0a8b0",
   "metadata": {},
   "outputs": [],
   "source": [
    "\n",
    "lg_df.fire_size.describe()"
   ]
  },
  {
   "cell_type": "code",
   "execution_count": null,
   "id": "49a70325",
   "metadata": {},
   "outputs": [],
   "source": [
    "lg_df.general_cause.value_counts()"
   ]
  },
  {
   "cell_type": "code",
   "execution_count": null,
   "id": "1cc6f5b6",
   "metadata": {},
   "outputs": [],
   "source": [
    "x = df[df.fire_size > 9]\n",
    "x.general_cause.value_counts()"
   ]
  },
  {
   "cell_type": "code",
   "execution_count": null,
   "id": "9e26f281",
   "metadata": {},
   "outputs": [],
   "source": [
    "\n",
    "df[df.general_cause == 'Debris and open burning'].fire_size.describe()"
   ]
  },
  {
   "cell_type": "code",
   "execution_count": null,
   "id": "45dad239",
   "metadata": {},
   "outputs": [],
   "source": [
    "\n",
    "df[df.general_cause == 'Debris and open burning'].fire_size.hist()"
   ]
  },
  {
   "cell_type": "code",
   "execution_count": null,
   "id": "940384a4",
   "metadata": {},
   "outputs": [],
   "source": [
    "\n",
    "df[(df.general_cause == 'Debris and open burning') & (df.fire_size > 50_000)].info()"
   ]
  },
  {
   "cell_type": "code",
   "execution_count": null,
   "id": "6840ee0b",
   "metadata": {},
   "outputs": [],
   "source": [
    "\n",
    "df[df.general_cause == 'Natural'].fire_size.describe()"
   ]
  },
  {
   "cell_type": "code",
   "execution_count": null,
   "id": "6cd27428",
   "metadata": {},
   "outputs": [],
   "source": [
    "\n",
    "df[df.general_cause == 'Natural'].fire_size.hist()"
   ]
  },
  {
   "cell_type": "code",
   "execution_count": null,
   "id": "e8dcd4dd",
   "metadata": {},
   "outputs": [],
   "source": [
    "df[(df.general_cause == 'Natural') & (df.fire_size > 50_000)].info()"
   ]
  },
  {
   "cell_type": "code",
   "execution_count": null,
   "id": "9e8287fd",
   "metadata": {},
   "outputs": [],
   "source": [
    "\n",
    "df[df.general_cause == 'Arson/incendiarism'].fire_size.describe()"
   ]
  },
  {
   "cell_type": "code",
   "execution_count": null,
   "id": "8bc9760c",
   "metadata": {},
   "outputs": [],
   "source": [
    "df[df.general_cause == 'Arson/incendiarism'].fire_size.hist()"
   ]
  },
  {
   "cell_type": "code",
   "execution_count": null,
   "id": "e098b3ef",
   "metadata": {},
   "outputs": [],
   "source": [
    "\n",
    "df[(df.general_cause == 'Arson/incendiarism') & (df.fire_size > 50_000)].info()"
   ]
  },
  {
   "cell_type": "markdown",
   "id": "cc6c4eb7",
   "metadata": {},
   "source": [
    "### Below is a list of states with the most and fewest amount of fires for each year in our dataset. Washington DC is most often the place with the fewest fires per year. Apart from DC, the states with the fewest fires per year include New England states such as Maryland, Vermont, Delaware, and Massachusetts; Puerto Rico had the fewest fires in 1996. California, Georgia, and Texas are the states with the greatest number of fires for every year except for 2018, during which Arizona had 9,738 fires."
   ]
  },
  {
   "cell_type": "code",
   "execution_count": null,
   "id": "c9d2d438",
   "metadata": {},
   "outputs": [],
   "source": [
    "# # Sophia\n",
    "# # print max and min for num fires/year\n",
    "# for year in list(range(1992, 2019)):\n",
    "#     print(year)\n",
    "#     print('Fewest fires:', df[df.fire_year == year].groupby('state').fire_size.count().idxmin(), df[df.fire_year == year].groupby('state').fire_size.count().min())\n",
    "#     print('Most fires:',df[df.fire_year == year].groupby('state').fire_size.count().idxmax(), df[df.fire_year == year].groupby('state').fire_size.count().max())\n",
    "#     print() b"
   ]
  },
  {
   "cell_type": "markdown",
   "id": "367b6f1e",
   "metadata": {},
   "source": [
    "### A teammate discovered that the annual number of wildfires for TX  that we had in our database almost doubled for each year for the period 2005 and after vs 1992 - 2004. I am going to do a little exploring to see if I can discover why there's such a difference."
   ]
  },
  {
   "cell_type": "code",
   "execution_count": null,
   "id": "c3ee765a",
   "metadata": {},
   "outputs": [],
   "source": [
    "# create separate dataframes for each period\n",
    "texas_92 = df[(df.state == 'TX') & (df.fire_year < 2005)]\n",
    "texas_05 = df[(df.state == 'TX') & (df.fire_year >= 2005)]\n",
    "texas_05.head()"
   ]
  },
  {
   "cell_type": "code",
   "execution_count": null,
   "id": "bacadb28",
   "metadata": {},
   "outputs": [],
   "source": [
    "# plot counts by year for period prior to 2005\n",
    "sns.countplot(data=texas_92, x='fire_year')"
   ]
  },
  {
   "cell_type": "code",
   "execution_count": null,
   "id": "df1d52cb",
   "metadata": {},
   "outputs": [],
   "source": [
    "# plot counts by year for period 2005 and after\n",
    "sns.countplot(data=texas_05, x='fire_year')"
   ]
  },
  {
   "cell_type": "markdown",
   "id": "cb370def",
   "metadata": {},
   "source": [
    "### If we look at the numbers on the y-axis, the year with the most fires, 1996, in period pre-2005 is less than the year with the least fires 2007, in period 2005 and after. This is a huge jump and slightly suspicious. Climate change is causing an increase in wildfires but not with that much of a difference from one year to the next."
   ]
  },
  {
   "cell_type": "code",
   "execution_count": null,
   "id": "c59a9ea7",
   "metadata": {},
   "outputs": [],
   "source": [
    "# check value counts for cause and normalize\n",
    "texas_92.general_cause.value_counts(normalize=True)"
   ]
  },
  {
   "cell_type": "code",
   "execution_count": null,
   "id": "5988e964",
   "metadata": {},
   "outputs": [],
   "source": [
    "# check value counts for cause and normalize\n",
    "texas_05.general_cause.value_counts(normalize=True)"
   ]
  },
  {
   "cell_type": "markdown",
   "id": "0a041409",
   "metadata": {},
   "source": [
    "Debris and open burning as a cause is down 6%\n",
    "\n",
    "Missing data as a cause is up 100%\n",
    "\n",
    "Equipment and vehicle use as a cause is up 7%\n",
    "\n",
    "### There's nothing here that stands out as the reason for more fires. The significant increase in missing data makes me wonder if there may just have been a change in recording wildfires."
   ]
  },
  {
   "cell_type": "code",
   "execution_count": null,
   "id": "4330491b",
   "metadata": {},
   "outputs": [],
   "source": [
    "# check stats for wildfire size to see if there's a difference\n",
    "texas_92.fire_size.describe()"
   ]
  },
  {
   "cell_type": "code",
   "execution_count": null,
   "id": "c2c4a2f1",
   "metadata": {},
   "outputs": [],
   "source": [
    "# check stats for wildfire size to see if there's a difference\n",
    "texas_05.fire_size.describe()"
   ]
  },
  {
   "cell_type": "markdown",
   "id": "82dee5f1",
   "metadata": {},
   "source": [
    "### The fact that there are many more smaller fires reaffirms my suspicions. It could be that prior to 2005 many of the smaller fires that were quicky contained were not documented and 2005 was when they started being more comprehensive in their documentation of fires. "
   ]
  },
  {
   "cell_type": "code",
   "execution_count": null,
   "id": "50e982a8",
   "metadata": {},
   "outputs": [],
   "source": [
    "df[(df.state == 'TX') & (df.fire_year == 2004)].general_cause.value_counts(normalize=True)"
   ]
  },
  {
   "cell_type": "code",
   "execution_count": null,
   "id": "54c68d22",
   "metadata": {},
   "outputs": [],
   "source": [
    "df[(df.state == 'TX') & (df.fire_year == 2005)].general_cause.value_counts(normalize=True)"
   ]
  },
  {
   "cell_type": "code",
   "execution_count": null,
   "id": "ea8d2865",
   "metadata": {},
   "outputs": [],
   "source": [
    "df[(df.state == 'TX') & (df.fire_year == 2004)].fire_size.describe()"
   ]
  },
  {
   "cell_type": "code",
   "execution_count": null,
   "id": "cae6df91",
   "metadata": {},
   "outputs": [],
   "source": [
    "df[(df.state == 'TX') & (df.fire_year == 2005)].fire_size.describe()"
   ]
  },
  {
   "cell_type": "code",
   "execution_count": null,
   "id": "f9b1380e",
   "metadata": {},
   "outputs": [],
   "source": [
    "df = pd.read_csv('fires.csv', index_col=0)\n",
    "df.head()"
   ]
  },
  {
   "cell_type": "code",
   "execution_count": null,
   "id": "80ac34f6",
   "metadata": {},
   "outputs": [],
   "source": [
    "df[df.FIRE_SIZE_CLASS == 'G'].sort_values('FIRE_SIZE')"
   ]
  },
  {
   "cell_type": "code",
   "execution_count": null,
   "id": "717cc876",
   "metadata": {},
   "outputs": [],
   "source": [
    "df.FIRE_SIZE.sum()"
   ]
  },
  {
   "cell_type": "code",
   "execution_count": null,
   "id": "4ab43605",
   "metadata": {},
   "outputs": [],
   "source": [
    "df[df.FIRE_SIZE_CLASS == 'G'].FIRE_SIZE.sum()"
   ]
  },
  {
   "cell_type": "code",
   "execution_count": null,
   "id": "54431af4",
   "metadata": {},
   "outputs": [],
   "source": [
    "df[df.FIRE_SIZE_CLASS != 'G'].FIRE_SIZE.sum()"
   ]
  },
  {
   "cell_type": "code",
   "execution_count": null,
   "id": "0bd00661",
   "metadata": {},
   "outputs": [],
   "source": [
    "df[df.FIRE_SIZE_CLASS == 'G'].FIRE_SIZE.sum() / df.FIRE_SIZE.sum()"
   ]
  },
  {
   "cell_type": "code",
   "execution_count": null,
   "id": "fd171ce9",
   "metadata": {},
   "outputs": [],
   "source": [
    "df[df.FIRE_SIZE_CLASS == 'G'].NWCG_GENERAL_CAUSE.value_counts()"
   ]
  },
  {
   "cell_type": "code",
   "execution_count": null,
   "id": "9f2a98bb",
   "metadata": {},
   "outputs": [],
   "source": [
    "# plot counts by year\n",
    "sns.countplot(data=df[df.FIRE_SIZE_CLASS == 'G'], x='FIRE_YEAR')"
   ]
  },
  {
   "cell_type": "code",
   "execution_count": null,
   "id": "7d3f6e2d",
   "metadata": {},
   "outputs": [],
   "source": [
    "# plot counts by month\n",
    "sns.countplot(data=df, x='month')"
   ]
  },
  {
   "cell_type": "code",
   "execution_count": null,
   "id": "37a2e5e7",
   "metadata": {},
   "outputs": [],
   "source": []
  }
 ],
 "metadata": {
  "kernelspec": {
   "display_name": "Python 3",
   "language": "python",
   "name": "python3"
  },
  "language_info": {
   "codemirror_mode": {
    "name": "ipython",
    "version": 3
   },
   "file_extension": ".py",
   "mimetype": "text/x-python",
   "name": "python",
   "nbconvert_exporter": "python",
   "pygments_lexer": "ipython3",
   "version": "3.8.8"
  }
 },
 "nbformat": 4,
 "nbformat_minor": 5
}
