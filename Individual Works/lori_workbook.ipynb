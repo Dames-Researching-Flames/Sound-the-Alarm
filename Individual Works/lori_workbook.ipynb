{
 "cells": [
  {
   "cell_type": "code",
   "execution_count": 1,
   "id": "0d39f102",
   "metadata": {},
   "outputs": [],
   "source": [
    "import pandas as pd\n",
    "import numpy as np\n",
    "\n",
    "import matplotlib.pyplot as plt\n",
    "import seaborn as sns\n",
    "\n",
    "from datetime import datetime\n",
    "\n",
    "import wrangle\n",
    "import explore\n",
    "\n",
    "import warnings\n",
    "warnings.filterwarnings('ignore')"
   ]
  },
  {
   "cell_type": "code",
   "execution_count": 2,
   "id": "f9269415",
   "metadata": {},
   "outputs": [],
   "source": [
    "# set style defaults\n",
    "plt.rc('figure', figsize=(13, 7))\n",
    "plt.style.use('seaborn-darkgrid')"
   ]
  },
  {
   "cell_type": "code",
   "execution_count": 3,
   "id": "a2fc8eec",
   "metadata": {},
   "outputs": [],
   "source": [
    "# change setting to view all columns in jupyter notebook\n",
    "pd.set_option('display.max_columns', None)"
   ]
  },
  {
   "cell_type": "markdown",
   "id": "f941a523",
   "metadata": {},
   "source": [
    "# Sound The Alarm Project Goal\n",
    "\n",
    "With over two million recorded wildfires and over 164 million acres burned, human intervention is needed to reduce the devastation and destruction caused by wildfires. Our overall goal is to see how US wildfires have changed over the years to promote active solutions to reduce their impact."
   ]
  },
  {
   "cell_type": "markdown",
   "id": "bf3cf0d0",
   "metadata": {},
   "source": [
    "## Acquire & Prepare\n",
    "\n",
    "The team and I already did some cleaning and preparation of the data with those steps in our wrangle file but there are some additional things I want to do to aid with exploration."
   ]
  },
  {
   "cell_type": "code",
   "execution_count": 4,
   "id": "5fd30f71",
   "metadata": {},
   "outputs": [
    {
     "data": {
      "text/html": [
       "<div>\n",
       "<style scoped>\n",
       "    .dataframe tbody tr th:only-of-type {\n",
       "        vertical-align: middle;\n",
       "    }\n",
       "\n",
       "    .dataframe tbody tr th {\n",
       "        vertical-align: top;\n",
       "    }\n",
       "\n",
       "    .dataframe thead th {\n",
       "        text-align: right;\n",
       "    }\n",
       "</style>\n",
       "<table border=\"1\" class=\"dataframe\">\n",
       "  <thead>\n",
       "    <tr style=\"text-align: right;\">\n",
       "      <th></th>\n",
       "      <th>fire_year</th>\n",
       "      <th>discovery_date</th>\n",
       "      <th>general_cause</th>\n",
       "      <th>containment_date</th>\n",
       "      <th>fire_size</th>\n",
       "      <th>latitude</th>\n",
       "      <th>longitude</th>\n",
       "      <th>state</th>\n",
       "      <th>state_size</th>\n",
       "      <th>region</th>\n",
       "      <th>region_size</th>\n",
       "      <th>fire_size_cat</th>\n",
       "    </tr>\n",
       "  </thead>\n",
       "  <tbody>\n",
       "    <tr>\n",
       "      <th>0</th>\n",
       "      <td>2005</td>\n",
       "      <td>2005-02-02</td>\n",
       "      <td>Power generation/transmission/distribution</td>\n",
       "      <td>2005-02-02</td>\n",
       "      <td>0.10</td>\n",
       "      <td>40.036944</td>\n",
       "      <td>-121.005833</td>\n",
       "      <td>CA</td>\n",
       "      <td>101676000.0</td>\n",
       "      <td>west</td>\n",
       "      <td>1.008831e+09</td>\n",
       "      <td>small</td>\n",
       "    </tr>\n",
       "    <tr>\n",
       "      <th>1</th>\n",
       "      <td>2004</td>\n",
       "      <td>2004-05-12</td>\n",
       "      <td>Natural</td>\n",
       "      <td>2004-05-12</td>\n",
       "      <td>0.25</td>\n",
       "      <td>38.933056</td>\n",
       "      <td>-120.404444</td>\n",
       "      <td>CA</td>\n",
       "      <td>101676000.0</td>\n",
       "      <td>west</td>\n",
       "      <td>1.008831e+09</td>\n",
       "      <td>small</td>\n",
       "    </tr>\n",
       "    <tr>\n",
       "      <th>2</th>\n",
       "      <td>2004</td>\n",
       "      <td>2004-05-31</td>\n",
       "      <td>Debris and open burning</td>\n",
       "      <td>2004-05-31</td>\n",
       "      <td>0.10</td>\n",
       "      <td>38.984167</td>\n",
       "      <td>-120.735556</td>\n",
       "      <td>CA</td>\n",
       "      <td>101676000.0</td>\n",
       "      <td>west</td>\n",
       "      <td>1.008831e+09</td>\n",
       "      <td>small</td>\n",
       "    </tr>\n",
       "    <tr>\n",
       "      <th>3</th>\n",
       "      <td>2004</td>\n",
       "      <td>2004-06-28</td>\n",
       "      <td>Natural</td>\n",
       "      <td>2004-07-03</td>\n",
       "      <td>0.10</td>\n",
       "      <td>38.559167</td>\n",
       "      <td>-119.913333</td>\n",
       "      <td>CA</td>\n",
       "      <td>101676000.0</td>\n",
       "      <td>west</td>\n",
       "      <td>1.008831e+09</td>\n",
       "      <td>small</td>\n",
       "    </tr>\n",
       "    <tr>\n",
       "      <th>4</th>\n",
       "      <td>2004</td>\n",
       "      <td>2004-06-28</td>\n",
       "      <td>Natural</td>\n",
       "      <td>2004-07-03</td>\n",
       "      <td>0.10</td>\n",
       "      <td>38.559167</td>\n",
       "      <td>-119.933056</td>\n",
       "      <td>CA</td>\n",
       "      <td>101676000.0</td>\n",
       "      <td>west</td>\n",
       "      <td>1.008831e+09</td>\n",
       "      <td>small</td>\n",
       "    </tr>\n",
       "  </tbody>\n",
       "</table>\n",
       "</div>"
      ],
      "text/plain": [
       "   fire_year discovery_date                               general_cause  \\\n",
       "0       2005     2005-02-02  Power generation/transmission/distribution   \n",
       "1       2004     2004-05-12                                     Natural   \n",
       "2       2004     2004-05-31                     Debris and open burning   \n",
       "3       2004     2004-06-28                                     Natural   \n",
       "4       2004     2004-06-28                                     Natural   \n",
       "\n",
       "  containment_date  fire_size   latitude   longitude state   state_size  \\\n",
       "0       2005-02-02       0.10  40.036944 -121.005833    CA  101676000.0   \n",
       "1       2004-05-12       0.25  38.933056 -120.404444    CA  101676000.0   \n",
       "2       2004-05-31       0.10  38.984167 -120.735556    CA  101676000.0   \n",
       "3       2004-07-03       0.10  38.559167 -119.913333    CA  101676000.0   \n",
       "4       2004-07-03       0.10  38.559167 -119.933056    CA  101676000.0   \n",
       "\n",
       "  region   region_size fire_size_cat  \n",
       "0   west  1.008831e+09         small  \n",
       "1   west  1.008831e+09         small  \n",
       "2   west  1.008831e+09         small  \n",
       "3   west  1.008831e+09         small  \n",
       "4   west  1.008831e+09         small  "
      ]
     },
     "execution_count": 4,
     "metadata": {},
     "output_type": "execute_result"
    }
   ],
   "source": [
    "# use a function to pull in the data\n",
    "fires = wrangle.wrangle_fires()\n",
    "fires.head()"
   ]
  },
  {
   "cell_type": "code",
   "execution_count": 5,
   "id": "5762c5ac",
   "metadata": {},
   "outputs": [
    {
     "name": "stdout",
     "output_type": "stream",
     "text": [
      "<class 'pandas.core.frame.DataFrame'>\n",
      "Int64Index: 2166753 entries, 0 to 2166752\n",
      "Data columns (total 12 columns):\n",
      " #   Column            Dtype         \n",
      "---  ------            -----         \n",
      " 0   fire_year         int64         \n",
      " 1   discovery_date    datetime64[ns]\n",
      " 2   general_cause     object        \n",
      " 3   containment_date  datetime64[ns]\n",
      " 4   fire_size         float64       \n",
      " 5   latitude          float64       \n",
      " 6   longitude         float64       \n",
      " 7   state             object        \n",
      " 8   state_size        float64       \n",
      " 9   region            object        \n",
      " 10  region_size       float64       \n",
      " 11  fire_size_cat     object        \n",
      "dtypes: datetime64[ns](2), float64(5), int64(1), object(4)\n",
      "memory usage: 214.9+ MB\n"
     ]
    }
   ],
   "source": [
    "# check info\n",
    "fires.info()"
   ]
  },
  {
   "cell_type": "code",
   "execution_count": 6,
   "id": "e9d495e4",
   "metadata": {},
   "outputs": [
    {
     "data": {
      "text/html": [
       "<div>\n",
       "<style scoped>\n",
       "    .dataframe tbody tr th:only-of-type {\n",
       "        vertical-align: middle;\n",
       "    }\n",
       "\n",
       "    .dataframe tbody tr th {\n",
       "        vertical-align: top;\n",
       "    }\n",
       "\n",
       "    .dataframe thead th {\n",
       "        text-align: right;\n",
       "    }\n",
       "</style>\n",
       "<table border=\"1\" class=\"dataframe\">\n",
       "  <thead>\n",
       "    <tr style=\"text-align: right;\">\n",
       "      <th></th>\n",
       "      <th>fire_year</th>\n",
       "      <th>general_cause</th>\n",
       "      <th>containment_date</th>\n",
       "      <th>fire_size</th>\n",
       "      <th>latitude</th>\n",
       "      <th>longitude</th>\n",
       "      <th>state</th>\n",
       "      <th>state_size</th>\n",
       "      <th>region</th>\n",
       "      <th>region_size</th>\n",
       "      <th>fire_size_cat</th>\n",
       "    </tr>\n",
       "    <tr>\n",
       "      <th>discovery_date</th>\n",
       "      <th></th>\n",
       "      <th></th>\n",
       "      <th></th>\n",
       "      <th></th>\n",
       "      <th></th>\n",
       "      <th></th>\n",
       "      <th></th>\n",
       "      <th></th>\n",
       "      <th></th>\n",
       "      <th></th>\n",
       "      <th></th>\n",
       "    </tr>\n",
       "  </thead>\n",
       "  <tbody>\n",
       "    <tr>\n",
       "      <th>1992-01-01</th>\n",
       "      <td>1992</td>\n",
       "      <td>Smoking</td>\n",
       "      <td>1992-01-01</td>\n",
       "      <td>0.07</td>\n",
       "      <td>32.201000</td>\n",
       "      <td>-82.498700</td>\n",
       "      <td>GA</td>\n",
       "      <td>37745000.0</td>\n",
       "      <td>southeast</td>\n",
       "      <td>3.670760e+08</td>\n",
       "      <td>small</td>\n",
       "    </tr>\n",
       "    <tr>\n",
       "      <th>1992-01-01</th>\n",
       "      <td>1992</td>\n",
       "      <td>Missing data/not specified/undetermined</td>\n",
       "      <td>NaT</td>\n",
       "      <td>0.50</td>\n",
       "      <td>41.196201</td>\n",
       "      <td>-105.641502</td>\n",
       "      <td>WY</td>\n",
       "      <td>62604000.0</td>\n",
       "      <td>west</td>\n",
       "      <td>1.008831e+09</td>\n",
       "      <td>small</td>\n",
       "    </tr>\n",
       "  </tbody>\n",
       "</table>\n",
       "</div>"
      ],
      "text/plain": [
       "                fire_year                            general_cause  \\\n",
       "discovery_date                                                       \n",
       "1992-01-01           1992                                  Smoking   \n",
       "1992-01-01           1992  Missing data/not specified/undetermined   \n",
       "\n",
       "               containment_date  fire_size   latitude   longitude state  \\\n",
       "discovery_date                                                            \n",
       "1992-01-01           1992-01-01       0.07  32.201000  -82.498700    GA   \n",
       "1992-01-01                  NaT       0.50  41.196201 -105.641502    WY   \n",
       "\n",
       "                state_size     region   region_size fire_size_cat  \n",
       "discovery_date                                                     \n",
       "1992-01-01      37745000.0  southeast  3.670760e+08         small  \n",
       "1992-01-01      62604000.0       west  1.008831e+09         small  "
      ]
     },
     "execution_count": 6,
     "metadata": {},
     "output_type": "execute_result"
    }
   ],
   "source": [
    "# set discovery date as index\n",
    "df = fires.set_index('discovery_date').sort_index()\n",
    "df.head(2)"
   ]
  },
  {
   "cell_type": "code",
   "execution_count": 7,
   "id": "9054f5fb",
   "metadata": {},
   "outputs": [
    {
     "data": {
      "text/html": [
       "<div>\n",
       "<style scoped>\n",
       "    .dataframe tbody tr th:only-of-type {\n",
       "        vertical-align: middle;\n",
       "    }\n",
       "\n",
       "    .dataframe tbody tr th {\n",
       "        vertical-align: top;\n",
       "    }\n",
       "\n",
       "    .dataframe thead th {\n",
       "        text-align: right;\n",
       "    }\n",
       "</style>\n",
       "<table border=\"1\" class=\"dataframe\">\n",
       "  <thead>\n",
       "    <tr style=\"text-align: right;\">\n",
       "      <th></th>\n",
       "      <th>fire_year</th>\n",
       "      <th>general_cause</th>\n",
       "      <th>containment_date</th>\n",
       "      <th>fire_size</th>\n",
       "      <th>latitude</th>\n",
       "      <th>longitude</th>\n",
       "      <th>state</th>\n",
       "      <th>state_size</th>\n",
       "      <th>region</th>\n",
       "      <th>region_size</th>\n",
       "      <th>fire_size_cat</th>\n",
       "      <th>month</th>\n",
       "    </tr>\n",
       "    <tr>\n",
       "      <th>discovery_date</th>\n",
       "      <th></th>\n",
       "      <th></th>\n",
       "      <th></th>\n",
       "      <th></th>\n",
       "      <th></th>\n",
       "      <th></th>\n",
       "      <th></th>\n",
       "      <th></th>\n",
       "      <th></th>\n",
       "      <th></th>\n",
       "      <th></th>\n",
       "      <th></th>\n",
       "    </tr>\n",
       "  </thead>\n",
       "  <tbody>\n",
       "    <tr>\n",
       "      <th>1992-01-01</th>\n",
       "      <td>1992</td>\n",
       "      <td>Smoking</td>\n",
       "      <td>1992-01-01</td>\n",
       "      <td>0.07</td>\n",
       "      <td>32.201000</td>\n",
       "      <td>-82.498700</td>\n",
       "      <td>GA</td>\n",
       "      <td>37745000.0</td>\n",
       "      <td>southeast</td>\n",
       "      <td>3.670760e+08</td>\n",
       "      <td>small</td>\n",
       "      <td>January</td>\n",
       "    </tr>\n",
       "    <tr>\n",
       "      <th>1992-01-01</th>\n",
       "      <td>1992</td>\n",
       "      <td>Missing data/not specified/undetermined</td>\n",
       "      <td>NaT</td>\n",
       "      <td>0.50</td>\n",
       "      <td>41.196201</td>\n",
       "      <td>-105.641502</td>\n",
       "      <td>WY</td>\n",
       "      <td>62604000.0</td>\n",
       "      <td>west</td>\n",
       "      <td>1.008831e+09</td>\n",
       "      <td>small</td>\n",
       "      <td>January</td>\n",
       "    </tr>\n",
       "  </tbody>\n",
       "</table>\n",
       "</div>"
      ],
      "text/plain": [
       "                fire_year                            general_cause  \\\n",
       "discovery_date                                                       \n",
       "1992-01-01           1992                                  Smoking   \n",
       "1992-01-01           1992  Missing data/not specified/undetermined   \n",
       "\n",
       "               containment_date  fire_size   latitude   longitude state  \\\n",
       "discovery_date                                                            \n",
       "1992-01-01           1992-01-01       0.07  32.201000  -82.498700    GA   \n",
       "1992-01-01                  NaT       0.50  41.196201 -105.641502    WY   \n",
       "\n",
       "                state_size     region   region_size fire_size_cat    month  \n",
       "discovery_date                                                              \n",
       "1992-01-01      37745000.0  southeast  3.670760e+08         small  January  \n",
       "1992-01-01      62604000.0       west  1.008831e+09         small  January  "
      ]
     },
     "execution_count": 7,
     "metadata": {},
     "output_type": "execute_result"
    }
   ],
   "source": [
    "# create a month column\n",
    "df['month'] = df.index.month_name()\n",
    "df.head(2)"
   ]
  },
  {
   "cell_type": "markdown",
   "id": "36fd5ac7",
   "metadata": {},
   "source": [
    "## Univariate Analysis"
   ]
  },
  {
   "cell_type": "code",
   "execution_count": 8,
   "id": "73edb1db",
   "metadata": {},
   "outputs": [
    {
     "name": "stdout",
     "output_type": "stream",
     "text": [
      "1992-01-01 00:00:00 2018-12-31 00:00:00\n"
     ]
    }
   ],
   "source": [
    "# check oldest and newest discovery dates in the dataset\n",
    "print(df.index.min(), df.index.max())"
   ]
  },
  {
   "cell_type": "markdown",
   "id": "a2c78996",
   "metadata": {},
   "source": [
    "### We have 27 years of data, all of 1992 through to the end of 2018."
   ]
  },
  {
   "cell_type": "code",
   "execution_count": 9,
   "id": "78930987",
   "metadata": {},
   "outputs": [
    {
     "data": {
      "text/plain": [
       "2006    117943\n",
       "2011     98904\n",
       "2007     98837\n",
       "2000     96397\n",
       "2005     92921\n",
       "1999     89350\n",
       "2008     88306\n",
       "2001     87001\n",
       "2010     85579\n",
       "2017     82279\n",
       "2016     81994\n",
       "2009     81492\n",
       "2018     80863\n",
       "2015     77275\n",
       "2002     76128\n",
       "1994     75932\n",
       "1996     75561\n",
       "2012     74258\n",
       "1995     71440\n",
       "2014     70480\n",
       "2004     69370\n",
       "1998     68356\n",
       "2003     68275\n",
       "1992     67961\n",
       "2013     66434\n",
       "1993     61975\n",
       "1997     61442\n",
       "Name: fire_year, dtype: int64"
      ]
     },
     "execution_count": 9,
     "metadata": {},
     "output_type": "execute_result"
    }
   ],
   "source": [
    "# check value counts for fire year\n",
    "df.fire_year.value_counts()"
   ]
  },
  {
   "cell_type": "markdown",
   "id": "b095bd22",
   "metadata": {},
   "source": [
    "### Just with a quick value counts, it almost seems like the number of wildfires per year is increasing. Granted we do have more \"20..\" years in our dataset but most of the 1990s are listed toward the bottom of this list."
   ]
  },
  {
   "cell_type": "code",
   "execution_count": 10,
   "id": "2e37409e",
   "metadata": {},
   "outputs": [
    {
     "data": {
      "text/plain": [
       "Missing data/not specified/undetermined       547438\n",
       "Debris and open burning                       507219\n",
       "Natural                                       312807\n",
       "Arson/incendiarism                            310320\n",
       "Equipment and vehicle use                     175824\n",
       "Recreation and ceremony                        92725\n",
       "Misuse of fire by a minor                      64630\n",
       "Smoking                                        61689\n",
       "Railroad operations and maintenance            36437\n",
       "Power generation/transmission/distribution     28491\n",
       "Fireworks                                      17205\n",
       "Other causes                                    9763\n",
       "Firearms and explosives use                     2205\n",
       "Name: general_cause, dtype: int64"
      ]
     },
     "execution_count": 10,
     "metadata": {},
     "output_type": "execute_result"
    }
   ],
   "source": [
    "# check counts for each cause\n",
    "df.general_cause.value_counts()"
   ]
  },
  {
   "cell_type": "markdown",
   "id": "5ff2044e",
   "metadata": {},
   "source": [
    "### It looks like almost quarter of our data has no specified cause. The top specified cause is debris/open burning followed by natural causes. It appears human action causes more fires than natural events."
   ]
  },
  {
   "cell_type": "code",
   "execution_count": 11,
   "id": "e7b99c64",
   "metadata": {},
   "outputs": [
    {
     "data": {
      "text/plain": [
       "<AxesSubplot:>"
      ]
     },
     "execution_count": 11,
     "metadata": {},
     "output_type": "execute_result"
    },
    {
     "data": {
      "image/png": "[encoded data removed]",
      "text/plain": [
       "<Figure size 936x504 with 1 Axes>"
      ]
     },
     "metadata": {},
     "output_type": "display_data"
    }
   ],
   "source": [
    "# plot fire size\n",
    "df.fire_size.hist()"
   ]
  },
  {
   "cell_type": "code",
   "execution_count": 12,
   "id": "8212e0f9",
   "metadata": {},
   "outputs": [
    {
     "data": {
      "text/plain": [
       "count    2166753.000000\n",
       "mean          75.990398\n",
       "std         2536.041295\n",
       "min            0.000010\n",
       "25%            0.100000\n",
       "50%            0.970000\n",
       "75%            3.000000\n",
       "max       662700.000000\n",
       "Name: fire_size, dtype: object"
      ]
     },
     "execution_count": 12,
     "metadata": {},
     "output_type": "execute_result"
    }
   ],
   "source": [
    "# get statistics for fire size\n",
    "df.fire_size.describe().apply(lambda x: format(x, 'f'))"
   ]
  },
  {
   "cell_type": "code",
   "execution_count": 13,
   "id": "812e278d",
   "metadata": {},
   "outputs": [
    {
     "data": {
      "text/plain": [
       "75.99039753419058"
      ]
     },
     "execution_count": 13,
     "metadata": {},
     "output_type": "execute_result"
    }
   ],
   "source": [
    "# check average fire size\n",
    "df.fire_size.mean()"
   ]
  },
  {
   "cell_type": "markdown",
   "id": "1e75bd2e",
   "metadata": {},
   "source": [
    "### The data contains some outliers when it comes to fire size. There is a significant difference between the 75th percentile of 3 acres and the max of ~660k acres. I would probably avoid using average fire size as a descriptor because of the skew caused by these outliers."
   ]
  },
  {
   "cell_type": "markdown",
   "id": "6a9fec62",
   "metadata": {},
   "source": [
    "### During our preparation of the data, we did some feature engineering and categorized the fire size as either small or large. We based this on the National Wildfire Coordinating Group (NWCG) size class (listed below) but simplified it and used just two categories with their Class G as our \"large\" fires and anything under that as \"small\".\n",
    "\n",
    "* Class A - one-fourth acre or less;\n",
    "* Class B - more than one-fourth acre, but less than 10 acres;\n",
    "* Class C - 10 acres or more, but less than 100 acres;\n",
    "* Class D - 100 acres or more, but less than 300 acres;\n",
    "* Class E - 300 acres or more, but less than 1,000 acres;\n",
    "* Class F - 1,000 acres or more, but less than 5,000 acres;\n",
    "* Class G - 5,000 acres or more.\n",
    "\n",
    "### These \"large\" fires are only a small proportion of our dataset."
   ]
  },
  {
   "cell_type": "code",
   "execution_count": 14,
   "id": "5f727d3f",
   "metadata": {},
   "outputs": [
    {
     "data": {
      "text/plain": [
       "small    0.997944\n",
       "large    0.002056\n",
       "Name: fire_size_cat, dtype: float64"
      ]
     },
     "execution_count": 14,
     "metadata": {},
     "output_type": "execute_result"
    }
   ],
   "source": [
    "# check proportion of small vs large wildfires\n",
    "df.fire_size_cat.value_counts(normalize=True)"
   ]
  },
  {
   "cell_type": "markdown",
   "id": "c473ca1d",
   "metadata": {},
   "source": [
    "### Which states have the highest and lowest number of wildfires?"
   ]
  },
  {
   "cell_type": "code",
   "execution_count": 15,
   "id": "747f9f0d",
   "metadata": {},
   "outputs": [
    {
     "data": {
      "text/plain": [
       "CA    235229\n",
       "GA    180175\n",
       "TX    167061\n",
       "NC    123793\n",
       "FL     99356\n",
       "AZ     93417\n",
       "NY     93171\n",
       "SC     86021\n",
       "MS     83106\n",
       "AL     72482\n",
       "OR     67157\n",
       "CO     61226\n",
       "MN     48679\n",
       "OK     48140\n",
       "MT     47262\n",
       "NM     41193\n",
       "ID     40154\n",
       "WA     37789\n",
       "AR     36678\n",
       "WI     35316\n",
       "SD     34781\n",
       "UT     34328\n",
       "TN     33611\n",
       "LA     32243\n",
       "NJ     30553\n",
       "KY     29610\n",
       "VA     23747\n",
       "WV     23731\n",
       "PR     22159\n",
       "MO     21998\n",
       "NV     18874\n",
       "ND     18308\n",
       "WY     17535\n",
       "KS     17473\n",
       "ME     14924\n",
       "MI     14166\n",
       "AK     14125\n",
       "PA     10803\n",
       "NE     10354\n",
       "HI      9949\n",
       "MA      6778\n",
       "CT      6006\n",
       "IA      5094\n",
       "OH      4727\n",
       "MD      3947\n",
       "NH      2935\n",
       "IL      2814\n",
       "IN      2206\n",
       "VT       671\n",
       "RI       631\n",
       "DE       187\n",
       "DC        80\n",
       "Name: state, dtype: int64"
      ]
     },
     "execution_count": 15,
     "metadata": {},
     "output_type": "execute_result"
    }
   ],
   "source": [
    "# check value counts by state\n",
    "df.state.value_counts()"
   ]
  },
  {
   "cell_type": "markdown",
   "id": "ef490947",
   "metadata": {},
   "source": [
    "### States in the Northeastern part of the United States have the least wildfires. Not surprisingly, California has the most. Other states with the most wildfires seem to be primarily in the South."
   ]
  },
  {
   "cell_type": "markdown",
   "id": "3f965d06",
   "metadata": {},
   "source": [
    "# How has the number and size of wildfires changed over time?"
   ]
  },
  {
   "cell_type": "markdown",
   "id": "f8826711",
   "metadata": {},
   "source": [
    "### What is the number of fires per year for all years we have in the data?"
   ]
  },
  {
   "cell_type": "code",
   "execution_count": 16,
   "id": "f9a6b741",
   "metadata": {},
   "outputs": [
    {
     "data": {
      "image/png": "[encoded data removed]",
      "text/plain": [
       "<Figure size 936x504 with 1 Axes>"
      ]
     },
     "metadata": {},
     "output_type": "display_data"
    }
   ],
   "source": [
    "# plot counts by year\n",
    "sns.countplot(data=df, x='fire_year', color='crimson')\n",
    "plt.title('Number of Wildfires by Year')\n",
    "plt.xlabel(' ');"
   ]
  },
  {
   "cell_type": "markdown",
   "id": "b9842efa",
   "metadata": {},
   "source": [
    "### 2006, 2007, and 2011 had the most wildfires. There does almost appear to be a cycle of 5-6 years for the amount of wildfires."
   ]
  },
  {
   "cell_type": "markdown",
   "id": "17f329cf",
   "metadata": {},
   "source": [
    "### Are wildfires more prevalent at certain times of year?"
   ]
  },
  {
   "cell_type": "code",
   "execution_count": 17,
   "id": "a4b812c6",
   "metadata": {},
   "outputs": [
    {
     "data": {
      "image/png": "[encoded data removed]",
      "text/plain": [
       "<Figure size 936x504 with 1 Axes>"
      ]
     },
     "metadata": {},
     "output_type": "display_data"
    }
   ],
   "source": [
    "# plot counts by month\n",
    "sns.countplot(data=df, x='month')\n",
    "plt.title('Number of Wildfires by Month')\n",
    "plt.xlabel(' ');"
   ]
  },
  {
   "cell_type": "markdown",
   "id": "49f49e75",
   "metadata": {},
   "source": [
    "### Not surprisingly, July & August tend to have more fires which is likely due to heat, camping, and dry weather. It is surprising to see that March & April have a higher number of fires as well. I'm going to look further into that."
   ]
  },
  {
   "cell_type": "code",
   "execution_count": 18,
   "id": "2d908780",
   "metadata": {},
   "outputs": [
    {
     "data": {
      "text/plain": [
       "Debris and open burning                       182322\n",
       "Missing data/not specified/undetermined       137640\n",
       "Arson/incendiarism                            104502\n",
       "Equipment and vehicle use                      31503\n",
       "Misuse of fire by a minor                      20544\n",
       "Recreation and ceremony                        16478\n",
       "Smoking                                        14994\n",
       "Railroad operations and maintenance            10897\n",
       "Natural                                        10585\n",
       "Power generation/transmission/distribution      6753\n",
       "Other causes                                    2331\n",
       "Fireworks                                       1109\n",
       "Firearms and explosives use                      167\n",
       "Name: general_cause, dtype: int64"
      ]
     },
     "execution_count": 18,
     "metadata": {},
     "output_type": "execute_result"
    }
   ],
   "source": [
    "# check cause for wildfires in March & April\n",
    "df[df.month.isin(['March', 'April'])].general_cause.value_counts()"
   ]
  },
  {
   "cell_type": "code",
   "execution_count": 19,
   "id": "083ae37a",
   "metadata": {},
   "outputs": [
    {
     "data": {
      "text/plain": [
       "GA    53133\n",
       "NC    48069\n",
       "NY    32296\n",
       "SC    30085\n",
       "TX    29412\n",
       "MN    26676\n",
       "MS    25618\n",
       "FL    24927\n",
       "AL    21943\n",
       "OK    17276\n",
       "Name: state, dtype: int64"
      ]
     },
     "execution_count": 19,
     "metadata": {},
     "output_type": "execute_result"
    }
   ],
   "source": [
    "# check if there's certain states that are more prone to wildfires in March & April\n",
    "df[df.month.isin(['March', 'April'])].state.value_counts().head(10)"
   ]
  },
  {
   "cell_type": "markdown",
   "id": "16ce96d0",
   "metadata": {},
   "source": [
    "### Hmm, there is nothing that really stands out. It is a little surprising that this happens in so many Eastern states as they usually do get a bit of rain and aren't known to be very dry and hot. There may be some open burning going on to prevent larger wildfires. This would be the best time of year to do so to prevent the fires from spreading quickly."
   ]
  },
  {
   "cell_type": "markdown",
   "id": "0ccbc245",
   "metadata": {},
   "source": [
    "### How has the number of wildfires changed over the years?"
   ]
  },
  {
   "cell_type": "code",
   "execution_count": 20,
   "id": "45b6282a",
   "metadata": {},
   "outputs": [
    {
     "data": {
      "image/png": "[encoded data removed]",
      "text/plain": [
       "<Figure size 936x504 with 1 Axes>"
      ]
     },
     "metadata": {},
     "output_type": "display_data"
    }
   ],
   "source": [
    "# plot trend of number of fires per month\n",
    "df.resample('M').fire_year.count().plot()\n",
    "plt.title('Number of Wildfires by Month')\n",
    "plt.xlabel(' ')\n",
    "plt.ylabel('Count');"
   ]
  },
  {
   "cell_type": "code",
   "execution_count": 21,
   "id": "8ed6ff71",
   "metadata": {},
   "outputs": [
    {
     "data": {
      "image/png": "[encoded data removed]",
      "text/plain": [
       "<Figure size 936x504 with 1 Axes>"
      ]
     },
     "metadata": {},
     "output_type": "display_data"
    }
   ],
   "source": [
    "# plot trend of number of fires per 6 months\n",
    "df.resample('6M').fire_year.count().plot(marker='o')\n",
    "plt.title('Semi-Annual Number of Wildfires')\n",
    "plt.xlabel(' ')\n",
    "plt.ylabel('Count');"
   ]
  },
  {
   "cell_type": "code",
   "execution_count": 22,
   "id": "8ecc35cb",
   "metadata": {},
   "outputs": [
    {
     "data": {
      "image/png": "[encoded data removed]",
      "text/plain": [
       "<Figure size 936x504 with 1 Axes>"
      ]
     },
     "metadata": {},
     "output_type": "display_data"
    }
   ],
   "source": [
    "# plot trend of number of fires per year\n",
    "df.resample('Y').fire_year.count().plot(marker='o')\n",
    "plt.title('Annual Number of Wildfires')\n",
    "plt.xlabel(' ')\n",
    "plt.ylabel('Count');"
   ]
  },
  {
   "cell_type": "markdown",
   "id": "9c20cb7f",
   "metadata": {},
   "source": [
    "### From these we can clearly see an uptick in the number of wildfires around the 2006 - 2007 time period but it's not entirely clear whether the average number of wildfires is on the rise."
   ]
  },
  {
   "cell_type": "code",
   "execution_count": 23,
   "id": "e49c2fe6",
   "metadata": {},
   "outputs": [
    {
     "ename": "KeyError",
     "evalue": "'year'",
     "output_type": "error",
     "traceback": [
      "\u001b[0;31m---------------------------------------------------------------------------\u001b[0m",
      "\u001b[0;31mKeyError\u001b[0m                                  Traceback (most recent call last)",
      "\u001b[0;32m<ipython-input-23-45e67e6716cb>\u001b[0m in \u001b[0;36m<module>\u001b[0;34m\u001b[0m\n\u001b[1;32m      1\u001b[0m \u001b[0;31m# create dataframe of number of fires by year and\u001b[0m\u001b[0;34m\u001b[0m\u001b[0;34m\u001b[0m\u001b[0;34m\u001b[0m\u001b[0m\n\u001b[0;32m----> 2\u001b[0;31m \u001b[0myearly_fire_count\u001b[0m \u001b[0;34m=\u001b[0m \u001b[0mdf\u001b[0m\u001b[0;34m.\u001b[0m\u001b[0mgroupby\u001b[0m\u001b[0;34m(\u001b[0m\u001b[0;34m'year'\u001b[0m\u001b[0;34m)\u001b[0m\u001b[0;34m.\u001b[0m\u001b[0mfire_size\u001b[0m\u001b[0;34m.\u001b[0m\u001b[0mcount\u001b[0m\u001b[0;34m(\u001b[0m\u001b[0;34m)\u001b[0m\u001b[0;34m.\u001b[0m\u001b[0mreset_index\u001b[0m\u001b[0;34m(\u001b[0m\u001b[0;34m)\u001b[0m\u001b[0;34m\u001b[0m\u001b[0;34m\u001b[0m\u001b[0m\n\u001b[0m\u001b[1;32m      3\u001b[0m \u001b[0myearly_fire_count\u001b[0m\u001b[0;34m.\u001b[0m\u001b[0mfire_size\u001b[0m \u001b[0;34m=\u001b[0m \u001b[0mround\u001b[0m\u001b[0;34m(\u001b[0m\u001b[0myearly_fire_count\u001b[0m\u001b[0;34m.\u001b[0m\u001b[0mfire_size\u001b[0m \u001b[0;34m/\u001b[0m \u001b[0;36m1_000\u001b[0m\u001b[0;34m)\u001b[0m\u001b[0;34m\u001b[0m\u001b[0;34m\u001b[0m\u001b[0m\n",
      "\u001b[0;32m/opt/homebrew/anaconda3/lib/python3.8/site-packages/pandas/core/frame.py\u001b[0m in \u001b[0;36mgroupby\u001b[0;34m(self, by, axis, level, as_index, sort, group_keys, squeeze, observed, dropna)\u001b[0m\n\u001b[1;32m   6715\u001b[0m         \u001b[0maxis\u001b[0m \u001b[0;34m=\u001b[0m \u001b[0mself\u001b[0m\u001b[0;34m.\u001b[0m\u001b[0m_get_axis_number\u001b[0m\u001b[0;34m(\u001b[0m\u001b[0maxis\u001b[0m\u001b[0;34m)\u001b[0m\u001b[0;34m\u001b[0m\u001b[0;34m\u001b[0m\u001b[0m\n\u001b[1;32m   6716\u001b[0m \u001b[0;34m\u001b[0m\u001b[0m\n\u001b[0;32m-> 6717\u001b[0;31m         return DataFrameGroupBy(\n\u001b[0m\u001b[1;32m   6718\u001b[0m             \u001b[0mobj\u001b[0m\u001b[0;34m=\u001b[0m\u001b[0mself\u001b[0m\u001b[0;34m,\u001b[0m\u001b[0;34m\u001b[0m\u001b[0;34m\u001b[0m\u001b[0m\n\u001b[1;32m   6719\u001b[0m             \u001b[0mkeys\u001b[0m\u001b[0;34m=\u001b[0m\u001b[0mby\u001b[0m\u001b[0;34m,\u001b[0m\u001b[0;34m\u001b[0m\u001b[0;34m\u001b[0m\u001b[0m\n",
      "\u001b[0;32m/opt/homebrew/anaconda3/lib/python3.8/site-packages/pandas/core/groupby/groupby.py\u001b[0m in \u001b[0;36m__init__\u001b[0;34m(self, obj, keys, axis, level, grouper, exclusions, selection, as_index, sort, group_keys, squeeze, observed, mutated, dropna)\u001b[0m\n\u001b[1;32m    558\u001b[0m             \u001b[0;32mfrom\u001b[0m \u001b[0mpandas\u001b[0m\u001b[0;34m.\u001b[0m\u001b[0mcore\u001b[0m\u001b[0;34m.\u001b[0m\u001b[0mgroupby\u001b[0m\u001b[0;34m.\u001b[0m\u001b[0mgrouper\u001b[0m \u001b[0;32mimport\u001b[0m \u001b[0mget_grouper\u001b[0m\u001b[0;34m\u001b[0m\u001b[0;34m\u001b[0m\u001b[0m\n\u001b[1;32m    559\u001b[0m \u001b[0;34m\u001b[0m\u001b[0m\n\u001b[0;32m--> 560\u001b[0;31m             grouper, exclusions, obj = get_grouper(\n\u001b[0m\u001b[1;32m    561\u001b[0m                 \u001b[0mobj\u001b[0m\u001b[0;34m,\u001b[0m\u001b[0;34m\u001b[0m\u001b[0;34m\u001b[0m\u001b[0m\n\u001b[1;32m    562\u001b[0m                 \u001b[0mkeys\u001b[0m\u001b[0;34m,\u001b[0m\u001b[0;34m\u001b[0m\u001b[0;34m\u001b[0m\u001b[0m\n",
      "\u001b[0;32m/opt/homebrew/anaconda3/lib/python3.8/site-packages/pandas/core/groupby/grouper.py\u001b[0m in \u001b[0;36mget_grouper\u001b[0;34m(obj, key, axis, level, sort, observed, mutated, validate, dropna)\u001b[0m\n\u001b[1;32m    809\u001b[0m                 \u001b[0min_axis\u001b[0m\u001b[0;34m,\u001b[0m \u001b[0mname\u001b[0m\u001b[0;34m,\u001b[0m \u001b[0mlevel\u001b[0m\u001b[0;34m,\u001b[0m \u001b[0mgpr\u001b[0m \u001b[0;34m=\u001b[0m \u001b[0;32mFalse\u001b[0m\u001b[0;34m,\u001b[0m \u001b[0;32mNone\u001b[0m\u001b[0;34m,\u001b[0m \u001b[0mgpr\u001b[0m\u001b[0;34m,\u001b[0m \u001b[0;32mNone\u001b[0m\u001b[0;34m\u001b[0m\u001b[0;34m\u001b[0m\u001b[0m\n\u001b[1;32m    810\u001b[0m             \u001b[0;32melse\u001b[0m\u001b[0;34m:\u001b[0m\u001b[0;34m\u001b[0m\u001b[0;34m\u001b[0m\u001b[0m\n\u001b[0;32m--> 811\u001b[0;31m                 \u001b[0;32mraise\u001b[0m \u001b[0mKeyError\u001b[0m\u001b[0;34m(\u001b[0m\u001b[0mgpr\u001b[0m\u001b[0;34m)\u001b[0m\u001b[0;34m\u001b[0m\u001b[0;34m\u001b[0m\u001b[0m\n\u001b[0m\u001b[1;32m    812\u001b[0m         \u001b[0;32melif\u001b[0m \u001b[0misinstance\u001b[0m\u001b[0;34m(\u001b[0m\u001b[0mgpr\u001b[0m\u001b[0;34m,\u001b[0m \u001b[0mGrouper\u001b[0m\u001b[0;34m)\u001b[0m \u001b[0;32mand\u001b[0m \u001b[0mgpr\u001b[0m\u001b[0;34m.\u001b[0m\u001b[0mkey\u001b[0m \u001b[0;32mis\u001b[0m \u001b[0;32mnot\u001b[0m \u001b[0;32mNone\u001b[0m\u001b[0;34m:\u001b[0m\u001b[0;34m\u001b[0m\u001b[0;34m\u001b[0m\u001b[0m\n\u001b[1;32m    813\u001b[0m             \u001b[0;31m# Add key to exclusions\u001b[0m\u001b[0;34m\u001b[0m\u001b[0;34m\u001b[0m\u001b[0;34m\u001b[0m\u001b[0m\n",
      "\u001b[0;31mKeyError\u001b[0m: 'year'"
     ]
    }
   ],
   "source": [
    "# create dataframe of number of fires by year and \n",
    "yearly_fire_count = df.groupby('year').fire_size.count().reset_index()\n",
    "yearly_fire_count.fire_size = round(yearly_fire_count.fire_size / 1_000)"
   ]
  },
  {
   "cell_type": "markdown",
   "id": "f5b478f8",
   "metadata": {},
   "source": [
    "### Get visualization of value counts by state"
   ]
  },
  {
   "cell_type": "code",
   "execution_count": null,
   "id": "bd823780",
   "metadata": {},
   "outputs": [],
   "source": [
    "# plot counts by state\n",
    "plt.figure(figsize=(10,20))\n",
    "sns.countplot(data=df, y='state', order=df.state.value_counts().index)\n",
    "plt.title('Number of Wildfires by State');"
   ]
  },
  {
   "cell_type": "code",
   "execution_count": null,
   "id": "2248ebca",
   "metadata": {},
   "outputs": [],
   "source": [
    "# find out what percentage of fires occur in each state\n",
    "df.state.value_counts(normalize=True)"
   ]
  },
  {
   "cell_type": "markdown",
   "id": "97d5d86d",
   "metadata": {},
   "source": [
    "### What does the number of fires and size of fires look like by month?"
   ]
  },
  {
   "cell_type": "code",
   "execution_count": null,
   "id": "de056c00",
   "metadata": {},
   "outputs": [],
   "source": [
    "# resample by month and get count of wildfires by month\n",
    "num_fires_by_month = df.resample('M').fire_year.count()\n",
    "num_fires_by_month.head()"
   ]
  },
  {
   "cell_type": "code",
   "execution_count": null,
   "id": "fc36e38c",
   "metadata": {},
   "outputs": [],
   "source": [
    "# check number of rows\n",
    "num_fires_by_month.shape"
   ]
  },
  {
   "cell_type": "code",
   "execution_count": null,
   "id": "696dc475",
   "metadata": {},
   "outputs": [],
   "source": [
    "# check which month and year combination had the most fires\n",
    "num_fires_by_month.idxmax()"
   ]
  },
  {
   "cell_type": "code",
   "execution_count": null,
   "id": "36e88a4e",
   "metadata": {},
   "outputs": [],
   "source": [
    "# check how many fires happened that month\n",
    "num_fires_by_month.max()"
   ]
  },
  {
   "cell_type": "markdown",
   "id": "edc09b34",
   "metadata": {},
   "source": [
    "### March 2006 had the highest number of fires within the dataset with slightly over 19K fires occurring in that month."
   ]
  },
  {
   "cell_type": "code",
   "execution_count": null,
   "id": "5ddc07a7",
   "metadata": {},
   "outputs": [],
   "source": [
    "# plot monthly number of fires over the years\n",
    "num_fires_by_month.plot()"
   ]
  },
  {
   "cell_type": "code",
   "execution_count": null,
   "id": "2294eb50",
   "metadata": {},
   "outputs": [],
   "source": [
    "# plot number of fires over the years resampled by 6 months\n",
    "num_fires_by_month.resample('6M').mean().plot(marker='o')"
   ]
  },
  {
   "cell_type": "code",
   "execution_count": null,
   "id": "8cfdea7e",
   "metadata": {},
   "outputs": [],
   "source": [
    "# plot number of fires over the years resampled by a year\n",
    "num_fires_by_month.resample('Y').mean().plot(marker='o')"
   ]
  },
  {
   "cell_type": "code",
   "execution_count": null,
   "id": "e3e969b8",
   "metadata": {},
   "outputs": [],
   "source": [
    "df.head()"
   ]
  },
  {
   "cell_type": "code",
   "execution_count": null,
   "id": "80778010",
   "metadata": {},
   "outputs": [],
   "source": [
    "# resample by month and get summed size of wildfires by month\n",
    "size_fires_by_month = df.resample('M').fire_size.sum()\n",
    "size_fires_by_month.head()"
   ]
  },
  {
   "cell_type": "code",
   "execution_count": null,
   "id": "717f522b",
   "metadata": {},
   "outputs": [],
   "source": [
    "# check which month and year combination had the largest summed size of wildfires\n",
    "size_fires_by_month.idxmax()"
   ]
  },
  {
   "cell_type": "code",
   "execution_count": null,
   "id": "64677003",
   "metadata": {},
   "outputs": [],
   "source": [
    "# check total sum of fire sizes that month\n",
    "size_fires_by_month.max()"
   ]
  },
  {
   "cell_type": "markdown",
   "id": "90bbc0bd",
   "metadata": {},
   "source": [
    "### June 2015 had the largest area burned by wildfires within the dataset with slightly over 5.2M acres burned that month. "
   ]
  },
  {
   "cell_type": "code",
   "execution_count": null,
   "id": "bb14b7da",
   "metadata": {},
   "outputs": [],
   "source": [
    "# plot monthly summed size of fires over the years\n",
    "df.groupby('year').fire_size.sum().plot()"
   ]
  },
  {
   "cell_type": "code",
   "execution_count": null,
   "id": "5cf929a1",
   "metadata": {},
   "outputs": [],
   "source": [
    "# plot monthly average size of fires over the years\n",
    "df.resample('M').fire_size.mean().plot()"
   ]
  },
  {
   "cell_type": "code",
   "execution_count": null,
   "id": "dd4b996d",
   "metadata": {},
   "outputs": [],
   "source": [
    "# plot yearly average size of fires over the years\n",
    "df.resample('Y').fire_size.mean().plot()"
   ]
  },
  {
   "cell_type": "code",
   "execution_count": null,
   "id": "3d7e4d51",
   "metadata": {},
   "outputs": [],
   "source": [
    "df.head()"
   ]
  },
  {
   "cell_type": "code",
   "execution_count": null,
   "id": "86a8d1ce",
   "metadata": {},
   "outputs": [],
   "source": [
    "# create dataframe of total sum of fire_size by year\n",
    "yearly_mean_fire_size = df.groupby('year').fire_size.sum().reset_index()"
   ]
  },
  {
   "cell_type": "code",
   "execution_count": null,
   "id": "aac11f7f",
   "metadata": {},
   "outputs": [],
   "source": [
    "yearly_mean_fire_size.fire_size = round((yearly_mean_fire_size.fire_size / 1_000_000), 2)\n",
    "yearly_mean_fire_size"
   ]
  },
  {
   "cell_type": "code",
   "execution_count": null,
   "id": "d165e7e7",
   "metadata": {},
   "outputs": [],
   "source": [
    "# plot trend of fire size by year\n",
    "sns.lmplot(x='year', y='fire_size', data=yearly_mean_fire_size, height=8, markers='x', seed=321, robust=True, scatter_kws={'color': 'crimson'}, line_kws={'color': 'crimson'})\n",
    "sns.set(font_scale = 2)\n",
    "plt.ylabel('Millions')\n",
    "plt.xlabel(' ');"
   ]
  },
  {
   "cell_type": "code",
   "execution_count": null,
   "id": "9df57aec",
   "metadata": {},
   "outputs": [],
   "source": [
    "# create dataframe of total sum of fire_size by year\n",
    "yearly_fire_count = df.groupby('year').fire_size.count().reset_index()"
   ]
  },
  {
   "cell_type": "code",
   "execution_count": null,
   "id": "6adb6aea",
   "metadata": {},
   "outputs": [],
   "source": [
    "yearly_fire_count.fire_size = round(yearly_fire_count.fire_size / 1_000)\n",
    "yearly_fire_count"
   ]
  },
  {
   "cell_type": "code",
   "execution_count": null,
   "id": "5dfa7dcc",
   "metadata": {},
   "outputs": [],
   "source": [
    "# plot trend of fire count by year\n",
    "sns.set_style('white')\n",
    "\n",
    "sns.lmplot(x='year', y='fire_size', data=yearly_fire_count, height=8, markers='x', seed=321, robust=True, scatter_kws={'color': 'crimson'}, line_kws={'color': 'crimson'})\n",
    "plt.ylabel('Thousands', fontsize=18)\n",
    "plt.xlabel(' ');"
   ]
  },
  {
   "cell_type": "code",
   "execution_count": null,
   "id": "eaaa4470",
   "metadata": {},
   "outputs": [],
   "source": [
    "sns.set_style('white')\n",
    "\n",
    "plt.figure(figsize = (20,8))\n",
    "plt.subplot(121)\n",
    "plt.plot(df2, color='salmon', ls='--', lw=3)\n",
    "\n",
    "plt.gca().spines['top'].set_visible(False)\n",
    "plt.gca().spines['right'].set_visible(False)\n",
    "plt.ylabel('(Thousands)')\n",
    "\n",
    "plt.subplot(122)\n",
    "df[df.fire_size >= 5000].groupby('fire_year').fire_size.count().plot(color='crimson', lw=3)\n",
    "plt.gca().spines['top'].set_visible(False)\n",
    "plt.gca().spines['right'].set_visible(False)\n",
    "plt.xlabel(' ');"
   ]
  },
  {
   "cell_type": "code",
   "execution_count": null,
   "id": "b3d65929",
   "metadata": {},
   "outputs": [],
   "source": [
    "num_sm_fires = df[df.fire_size < 5000].shape[0]\n",
    "num_lg_fires = df[df.fire_size >= 5000].shape[0]\n",
    "acres_sm_fires = df[df.fire_size < 5000].fire_size.sum()\n",
    "acres_lg_fires = df[df.fire_size >= 5000].fire_size.sum()"
   ]
  },
  {
   "cell_type": "code",
   "execution_count": null,
   "id": "689bbf59",
   "metadata": {},
   "outputs": [],
   "source": [
    "num_lg_fires"
   ]
  },
  {
   "cell_type": "code",
   "execution_count": null,
   "id": "9b59ca68",
   "metadata": {},
   "outputs": [],
   "source": [
    "print(num_lg_fires / df.shape[0])\n",
    "print(1 - (num_lg_fires / df.shape[0]))"
   ]
  },
  {
   "cell_type": "code",
   "execution_count": null,
   "id": "f23b8015",
   "metadata": {},
   "outputs": [],
   "source": []
  },
  {
   "cell_type": "code",
   "execution_count": null,
   "id": "3f8c2d82",
   "metadata": {},
   "outputs": [],
   "source": [
    "acres_lg_fires / df.fire_size.sum()"
   ]
  },
  {
   "cell_type": "markdown",
   "id": "c8750649",
   "metadata": {},
   "source": [
    "### While accounting for only .02% of the number of wildfires, large fires (those greater than 5,000 acres) account for about 74% of all acreage burned"
   ]
  },
  {
   "cell_type": "code",
   "execution_count": null,
   "id": "fc266bdb",
   "metadata": {},
   "outputs": [],
   "source": [
    "df.head()"
   ]
  },
  {
   "cell_type": "code",
   "execution_count": null,
   "id": "2a54232a",
   "metadata": {},
   "outputs": [],
   "source": [
    "df.groupby('year').count()"
   ]
  },
  {
   "cell_type": "code",
   "execution_count": null,
   "id": "de3e6783",
   "metadata": {},
   "outputs": [],
   "source": [
    "labels=['Small Fires', 'Large Fires']\n",
    "colors = ['tomato', 'crimson']\n",
    "\n",
    "plt.figure(figsize = (20,8))\n",
    "plt.subplot(121)\n",
    "plt.pie(x = [num_sm_fires, num_lg_fires], colors = colors, textprops = {'size':14}, explode=(0,.05), shadow=True)\n",
    "plt.title('Number of Large Fires vs Small Fires', size=15)\n",
    "\n",
    "plt.subplot(122)\n",
    "plt.pie(x = [acres_sm_fires, acres_lg_fires], colors = colors, textprops = {'size':14}, shadow=True)\n",
    "plt.title('Acres Burned By Large Fires vs Small Fires', size=15)\n",
    "plt.figlegend(labels, fontsize =15)\n",
    "plt.show()"
   ]
  },
  {
   "cell_type": "code",
   "execution_count": null,
   "id": "876ceacb",
   "metadata": {},
   "outputs": [],
   "source": [
    "labels=['Small Fires', 'Large Fires']\n",
    "\n",
    "plt.figure(figsize = (20,8))\n",
    "plt.subplot(121)\n",
    "plt.pie(x = [num_sm_fires, num_lg_fires], colors = ['salmon', 'crimson'], textprops = {'size':14}, explode=(0,.05))\n",
    "plt.figlegend(labels, fontsize =15)\n",
    "plt.title('Number of Large Fires vs Small Fires', size=15)\n",
    "\n",
    "plt.subplot(122)\n",
    "plt.pie(x = [acres_sm_fires, acres_lg_fires], colors = ['salmon', 'crimson'], textprops = {'size':14})\n",
    "plt.title('Acres Burned By Large Fires vs Small Fires', size=15)\n",
    "plt.show()"
   ]
  },
  {
   "cell_type": "code",
   "execution_count": null,
   "id": "2bb36c1b",
   "metadata": {
    "scrolled": true
   },
   "outputs": [],
   "source": [
    "plt.figure(figsize = (20,8))\n",
    "plt.subplot(121)\n",
    "plt.bar(x = ['num_sm_fires', 'num_lg_fires'], height=[num_sm_fires, num_lg_fires])\n",
    "plt.title('Number of Large Fires vs Small Fires', size=15)\n",
    "\n",
    "plt.subplot(122)\n",
    "plt.bar(x = ['acres_sm_fires', 'acres_lg_fires'], height=[acres_sm_fires, acres_lg_fires])\n",
    "plt.title('Acres Burned By Large Fires vs Small Fires', size=15)\n",
    "plt.show()"
   ]
  },
  {
   "cell_type": "markdown",
   "id": "5615cb85",
   "metadata": {},
   "source": [
    "### When resampling by year, there is not a clear trend in the *number* of wildfires however, we do see that the average *size* of wildfires is on an upward trend"
   ]
  },
  {
   "cell_type": "code",
   "execution_count": null,
   "id": "1f7eba55",
   "metadata": {},
   "outputs": [],
   "source": [
    "df.head()"
   ]
  },
  {
   "cell_type": "code",
   "execution_count": null,
   "id": "790b2616",
   "metadata": {},
   "outputs": [],
   "source": [
    "# get statistics for fire size\n",
    "df.fire_size.describe().apply(lambda x: format(x, 'f'))"
   ]
  },
  {
   "cell_type": "code",
   "execution_count": null,
   "id": "8a98bcc9",
   "metadata": {},
   "outputs": [],
   "source": [
    "df[df.fire_size > 100]"
   ]
  },
  {
   "cell_type": "code",
   "execution_count": null,
   "id": "2ee70ec0",
   "metadata": {},
   "outputs": [],
   "source": [
    "df.head()"
   ]
  },
  {
   "cell_type": "code",
   "execution_count": null,
   "id": "840b07e8",
   "metadata": {},
   "outputs": [],
   "source": [
    "top_five_wildfire_states = df.state.value_counts().head(5).index.to_list()\n",
    "top_five_wildfire_states"
   ]
  },
  {
   "cell_type": "code",
   "execution_count": null,
   "id": "0b83f5ee",
   "metadata": {},
   "outputs": [],
   "source": [
    "num_fires_by_year = df[df.state.isin(top_five_wildfire_states)]\\\n",
    ".groupby(['year', 'state']).count().reset_index()\\\n",
    ".iloc[:, 0:3].rename(columns={'fire_year':'num_fires'})\n",
    "num_fires_by_year"
   ]
  },
  {
   "cell_type": "code",
   "execution_count": null,
   "id": "e137d182",
   "metadata": {},
   "outputs": [],
   "source": [
    "\n",
    "sns.lineplot(data=num_fires_by_year, x='year', y='num_fires', hue='state')"
   ]
  },
  {
   "cell_type": "code",
   "execution_count": null,
   "id": "bf565159",
   "metadata": {},
   "outputs": [],
   "source": [
    "\n",
    "top_causes_of_wildfires = df.general_cause.value_counts().head()\n",
    "top_causes_of_wildfires"
   ]
  },
  {
   "cell_type": "code",
   "execution_count": null,
   "id": "38f307db",
   "metadata": {},
   "outputs": [],
   "source": [
    "top_causes_of_wildfires[1:].index.to_list()"
   ]
  },
  {
   "cell_type": "code",
   "execution_count": null,
   "id": "6da2461a",
   "metadata": {},
   "outputs": [],
   "source": [
    "# create a new dataframe that groups by year and gets a count by year of the top causes for wildfires\n",
    "num_causes_by_year = df[df.general_cause.isin(top_causes_of_wildfires[1:].index.to_list())]\\\n",
    ".groupby(['year', 'general_cause']).count().reset_index().iloc[:, 0:3]\\\n",
    ".rename(columns={'fire_year':'num_occurrences'})\n",
    "num_causes_by_year"
   ]
  },
  {
   "cell_type": "code",
   "execution_count": null,
   "id": "e0bfd5cf",
   "metadata": {},
   "outputs": [],
   "source": [
    "# plot trends over the years by the top four causes of wildfires, excluding observations where cause was not specified\n",
    "sns.lineplot(data=num_causes_by_year, x='year', y='num_occurrences', hue='general_cause')"
   ]
  },
  {
   "cell_type": "code",
   "execution_count": null,
   "id": "160587a1",
   "metadata": {},
   "outputs": [],
   "source": [
    "num_causes_by_year.head()"
   ]
  },
  {
   "cell_type": "code",
   "execution_count": null,
   "id": "9d2e59b2",
   "metadata": {},
   "outputs": [],
   "source": [
    "num_causes_by_year.to_csv('num_causes_by_year')"
   ]
  },
  {
   "cell_type": "code",
   "execution_count": null,
   "id": "43586ea0",
   "metadata": {},
   "outputs": [],
   "source": [
    "num_causes_by_year.shape"
   ]
  },
  {
   "cell_type": "code",
   "execution_count": null,
   "id": "73521340",
   "metadata": {},
   "outputs": [],
   "source": [
    "natural = num_causes_by_year[num_causes_by_year.general_cause == \"Natural\"]\n",
    "arson = num_causes_by_year[num_causes_by_year.general_cause == \"Arson/incendiarism\"]\n",
    "debris = num_causes_by_year[num_causes_by_year.general_cause == \"Debris and open burning\"]\n",
    "equipment = num_causes_by_year[num_causes_by_year.general_cause == \"Equipment and vehicle use\"]\n",
    "\n",
    "natural = natural.set_index(\"year\")\n",
    "arson = arson.set_index(\"year\")\n",
    "equipment = equipment.set_index(\"year\")\n",
    "debris = debris.set_index(\"year\")\n",
    "\n",
    "fig, ax = plt.subplots()\n",
    "labels = arson.index\n",
    "\n",
    "ax.bar(labels, arson.num_occurrences, label=\"Arson/incendiarism\")\n",
    "ax.bar(labels, natural.num_occurrences, label=\"Natural Causes\", bottom=arson.num_occurrences)\n",
    "ax.bar(labels, debris.num_occurrences, label=\"Debris & Open Burning\", bottom=natural.num_occurrences + arson.num_occurrences)\n",
    "ax.bar(labels, equipment.num_occurrences, label=\"Equipment & Vehicle Use\", bottom=debris.num_occurrences + natural.num_occurrences + arson.num_occurrences)\n",
    "\n",
    "ax.legend()\n",
    "ax.set_ylabel(\"n occurrences\")\n",
    "ax.set_title(\"Top Causes Of Wildfires Across The U.S.\")"
   ]
  },
  {
   "cell_type": "code",
   "execution_count": null,
   "id": "49e83ca4",
   "metadata": {
    "scrolled": false
   },
   "outputs": [],
   "source": [
    "# plot wildfires caused by natural causes by year\n",
    "sns.countplot(data=df[df.general_cause == 'Natural'], y='year')"
   ]
  },
  {
   "cell_type": "markdown",
   "id": "ad6a5011",
   "metadata": {},
   "source": [
    "### In recent years, we have seen a decrease in number of wildfires that were caused by natural causes"
   ]
  },
  {
   "cell_type": "code",
   "execution_count": null,
   "id": "975897ed",
   "metadata": {},
   "outputs": [],
   "source": [
    "# plot wildfires caused by Debris and open burning by year\n",
    "sns.countplot(data=df[df.general_cause == 'Debris and open burning'], y='year')"
   ]
  },
  {
   "cell_type": "markdown",
   "id": "0b118915",
   "metadata": {},
   "source": [
    "### There appears to be a slight upward trend in debris and open burning as a cause of wildfires"
   ]
  },
  {
   "cell_type": "code",
   "execution_count": null,
   "id": "841e9889",
   "metadata": {},
   "outputs": [],
   "source": [
    "# plot wildfires caused by Arson/incendiarism by year\n",
    "sns.countplot(data=df[df.general_cause == 'Arson/incendiarism'], y='year')"
   ]
  },
  {
   "cell_type": "markdown",
   "id": "c272db2d",
   "metadata": {},
   "source": [
    "### There are some spikes but otherwise a downward trend in arson/incendiarism as a cause for wildfires"
   ]
  },
  {
   "cell_type": "code",
   "execution_count": null,
   "id": "6904c9df",
   "metadata": {},
   "outputs": [],
   "source": [
    "# plot wildfires caused by Equipment and vehicle use by year\n",
    "sns.countplot(data=df[df.general_cause == 'Equipment and vehicle use'], y='year')"
   ]
  },
  {
   "cell_type": "markdown",
   "id": "4be41e2c",
   "metadata": {},
   "source": [
    "### There are no obvious trends or anything that really stands out in this plot for equipment and vehicle use as a cause for wildfires. \n",
    "\n",
    "### There's no one cause for the higher number of fires in 2006. All causes have higher numbers for this year."
   ]
  },
  {
   "cell_type": "code",
   "execution_count": null,
   "id": "97fafd70",
   "metadata": {},
   "outputs": [],
   "source": [
    "# get statistics for fire size\n",
    "df.fire_size.describe().apply(lambda x: format(x, 'f'))"
   ]
  },
  {
   "cell_type": "markdown",
   "id": "607c4a47",
   "metadata": {},
   "source": [
    "### I want to get a better understanding of range of wildfire sizes"
   ]
  },
  {
   "cell_type": "code",
   "execution_count": null,
   "id": "7f7ef25f",
   "metadata": {},
   "outputs": [],
   "source": [
    "print(f'The 10th percentile is: {df.fire_size.quantile(.1)}')\n",
    "print(f'The 20th percentile is: {df.fire_size.quantile(.2)}')\n",
    "print(f'The 25th percentile is: {df.fire_size.quantile(.25)}')\n",
    "print(f'The 30th percentile is: {df.fire_size.quantile(.3)}')\n",
    "print(f'The 40th percentile is: {df.fire_size.quantile(.4)}')\n",
    "print(f'The 50th percentile is: {df.fire_size.quantile(.5)}')\n",
    "print(f'The 60th percentile is: {df.fire_size.quantile(.6)}')\n",
    "print(f'The 70th percentile is: {df.fire_size.quantile(.7)}')\n",
    "print(f'The 75th percentile is: {df.fire_size.quantile(.75)}')\n",
    "print(f'The 80th percentile is: {df.fire_size.quantile(.8)}')\n",
    "print(f'The 90th percentile is: {df.fire_size.quantile(.9)}')\n",
    "print(f'The 100th percentile is: {df.fire_size.quantile(1)}')"
   ]
  },
  {
   "cell_type": "code",
   "execution_count": null,
   "id": "a974e246",
   "metadata": {},
   "outputs": [],
   "source": [
    "df.fire_size.hist()"
   ]
  },
  {
   "cell_type": "code",
   "execution_count": null,
   "id": "0dda6734",
   "metadata": {},
   "outputs": [],
   "source": [
    "df[df.fire_size > 100000].shape"
   ]
  },
  {
   "cell_type": "code",
   "execution_count": null,
   "id": "97bbe967",
   "metadata": {},
   "outputs": [],
   "source": [
    "# check \n",
    "df[df.fire_size > 100000].fire_size.hist()"
   ]
  },
  {
   "cell_type": "code",
   "execution_count": null,
   "id": "5a768fb4",
   "metadata": {},
   "outputs": [],
   "source": [
    "# plot counts of large fires by year\n",
    "sns.countplot(data=df[df.fire_size > 100000], x='year')"
   ]
  },
  {
   "cell_type": "code",
   "execution_count": null,
   "id": "58038388",
   "metadata": {},
   "outputs": [],
   "source": []
  },
  {
   "cell_type": "markdown",
   "id": "f70f3405",
   "metadata": {},
   "source": [
    "### I want to graph the average size of wildfires per decade to see if I can clearly represent the trend to our audience."
   ]
  },
  {
   "cell_type": "code",
   "execution_count": null,
   "id": "f26da92a",
   "metadata": {},
   "outputs": [],
   "source": [
    "# create another column categorizing decade\n",
    "conditions = [df.year < 2000, df.year <2010, df.year <2020]\n",
    "choices = ['1992 - 1999', '2000 - 2009', '2010 - ']\n",
    "df['decade'] = np.select(conditions, choices)\n",
    "df.head()"
   ]
  },
  {
   "cell_type": "code",
   "execution_count": null,
   "id": "0c06f64b",
   "metadata": {},
   "outputs": [],
   "source": [
    "# plot average fire size by decade\n",
    "sns.barplot(data=df, x='decade', y='fire_size', hue='fire_size_cat')"
   ]
  },
  {
   "cell_type": "markdown",
   "id": "d4fb7cfb",
   "metadata": {},
   "source": [
    "### I am also going to try to graph average fire size per quinquennial between 1995-2015 to see if that also represents this trend"
   ]
  },
  {
   "cell_type": "code",
   "execution_count": null,
   "id": "137934fd",
   "metadata": {},
   "outputs": [],
   "source": [
    "# create another dataframe where I can chunk the data into 5-year periods\n",
    "df2 = df[(df.year >=1996) & (df.year <=2015)]\n",
    "df2.year.value_counts().sort_index()"
   ]
  },
  {
   "cell_type": "code",
   "execution_count": null,
   "id": "99c67a5a",
   "metadata": {},
   "outputs": [],
   "source": [
    "# create another column categorizing quinquennial\n",
    "conditions = [df2.year <= 2000, df2.year <= 2005, df2.year <= 2010, df2.year <= 2015]\n",
    "choices = ['1996 - 2000', '2001 - 2005', '2006 - 2010', '2011 - 2015']\n",
    "df2['quinquennial'] = np.select(conditions, choices)\n",
    "df2.head()"
   ]
  },
  {
   "cell_type": "code",
   "execution_count": null,
   "id": "a0407a5c",
   "metadata": {},
   "outputs": [],
   "source": [
    "# plot average fire size by quinquennial\n",
    "sns.barplot(data=df2, x='quinquennial', y='fire_size')"
   ]
  },
  {
   "cell_type": "code",
   "execution_count": null,
   "id": "e77deb7e",
   "metadata": {},
   "outputs": [],
   "source": [
    "plt.figure(figsize = (20,8))\n",
    "plt.subplot(121)\n",
    "sns.countplot(data=df2[df2.fire_size_cat == 'large'], x='quinquennial')\n",
    "# plt.gca().spines['top'].set_visible(False)\n",
    "# plt.gca().spines['right'].set_visible(False)\n",
    "# plt.ylabel('# of Small Fires')\n",
    "# plt.xlabel('Year')\n",
    "\n",
    "plt.subplot(122)\n",
    "sns.countplot(data=df2[df2.fire_size_cat == 'small'], x='quinquennial')\n",
    "# plt.gca().spines['top'].set_visible(False)\n",
    "# plt.gca().spines['right'].set_visible(False)\n",
    "# plt.ylabel('# of Large Fires')\n",
    "# plt.xlabel('Year');"
   ]
  },
  {
   "cell_type": "code",
   "execution_count": null,
   "id": "268797e3",
   "metadata": {},
   "outputs": [],
   "source": [
    "# create another column categorizing quinquennial\n",
    "conditions = [df.year <= 1994, df.year <= 1997, df.year <= 2000, df.year <= 2003, df.year <= 2006, df.year <= 2009, df.year <= 2012, df.year <= 2015, df.year <= 2018]\n",
    "choices = ['94', '97', '00', '03', '06', '09', '12', '15', '18']\n",
    "df['triennial'] = np.select(conditions, choices)\n",
    "df.head()"
   ]
  },
  {
   "cell_type": "code",
   "execution_count": null,
   "id": "5b671540",
   "metadata": {},
   "outputs": [],
   "source": [
    "# create another column categorizing quinquennial\n",
    "conditions = [df.year <= 2000, df.year <= 2009, df.year <= 2018]\n",
    "choices = ['1992 - ', '97', '00']\n",
    "df['nine_years'] = np.select(conditions, choices)\n",
    "df.head()"
   ]
  },
  {
   "cell_type": "code",
   "execution_count": null,
   "id": "0ff127be",
   "metadata": {},
   "outputs": [],
   "source": []
  },
  {
   "cell_type": "code",
   "execution_count": null,
   "id": "0945a79e",
   "metadata": {},
   "outputs": [],
   "source": []
  },
  {
   "cell_type": "code",
   "execution_count": null,
   "id": "ee94b81c",
   "metadata": {},
   "outputs": [],
   "source": [
    "plt.figure(figsize = (20,8))\n",
    "plt.subplot(121)\n",
    "sns.countplot(data=df[df.fire_size_cat == 'small'], x='nine_years')\n",
    "# plt.ylabel('# of Large Fires')\n",
    "# plt.xlabel('Year');\n",
    "\n",
    "plt.subplot(122)\n",
    "sns.countplot(data=df[df.fire_size_cat == 'large'], x='nine_years')\n",
    "# plt.ylabel('# of Small Fires')\n",
    "# plt.xlabel('Year')"
   ]
  },
  {
   "cell_type": "code",
   "execution_count": null,
   "id": "1a62f021",
   "metadata": {},
   "outputs": [],
   "source": [
    "plt.figure(figsize = (20,8))\n",
    "plt.subplot(121)\n",
    "sns.countplot(data=df[df.fire_size_cat == 'large'], x='triennial')\n",
    "# plt.gca().spines['top'].set_visible(False)\n",
    "# plt.gca().spines['right'].set_visible(False)\n",
    "# plt.ylabel('# of Small Fires')\n",
    "# plt.xlabel('Year')\n",
    "\n",
    "plt.subplot(122)\n",
    "sns.countplot(data=df[df.fire_size_cat == 'small'], x='triennial')\n",
    "# plt.gca().spines['top'].set_visible(False)\n",
    "# plt.gca().spines['right'].set_visible(False)\n",
    "# plt.ylabel('# of Large Fires')\n",
    "# plt.xlabel('Year');"
   ]
  },
  {
   "cell_type": "code",
   "execution_count": null,
   "id": "d04d3ce6",
   "metadata": {},
   "outputs": [],
   "source": [
    "df2.quinquennial.value_counts()"
   ]
  },
  {
   "cell_type": "code",
   "execution_count": null,
   "id": "ccdc3b8c",
   "metadata": {},
   "outputs": [],
   "source": [
    "# US fire size category total fire size, over time\n",
    "# group by fire_size_cat, sum fire_size, show year\n",
    "sizes = df2.groupby(['fire_size_cat', 'quinquennial']).fire_size.sum()\n",
    "sizes"
   ]
  },
  {
   "cell_type": "code",
   "execution_count": null,
   "id": "48c6c4e4",
   "metadata": {},
   "outputs": [],
   "source": [
    "sizes = df2.groupby(['quinquennial', 'fire_size_cat']).fire_size.sum().to_frame().reset_index()\n",
    "sizes"
   ]
  },
  {
   "cell_type": "code",
   "execution_count": null,
   "id": "93a4da2c",
   "metadata": {},
   "outputs": [],
   "source": [
    "size = sizes.pivot(index='quinquennial', columns='fire_size_cat').reset_index()\n",
    "size"
   ]
  },
  {
   "cell_type": "code",
   "execution_count": null,
   "id": "d625723b",
   "metadata": {},
   "outputs": [],
   "source": [
    "# size = sizes.reset_index().pivot(index='quinquennial', columns='fire_size_cat').reset_index()\n",
    "# size"
   ]
  },
  {
   "cell_type": "code",
   "execution_count": null,
   "id": "d284a5fc",
   "metadata": {},
   "outputs": [],
   "source": [
    "size.columns"
   ]
  },
  {
   "cell_type": "code",
   "execution_count": null,
   "id": "93fae3f5",
   "metadata": {},
   "outputs": [],
   "source": [
    "size.columns = ['quinquennial', 'large', 'small']"
   ]
  },
  {
   "cell_type": "code",
   "execution_count": null,
   "id": "0efc61ba",
   "metadata": {},
   "outputs": [],
   "source": [
    "size.head()"
   ]
  },
  {
   "cell_type": "code",
   "execution_count": null,
   "id": "9776834c",
   "metadata": {},
   "outputs": [],
   "source": [
    "size['lg_normalized'] = size.large / (size.large + size.small)\n",
    "size['sm_normalized'] = 1 - (size.large / (size.large + size.small))\n",
    "size"
   ]
  },
  {
   "cell_type": "code",
   "execution_count": null,
   "id": "b1c89027",
   "metadata": {},
   "outputs": [],
   "source": [
    "# create the subplots\n",
    "fig, ax = plt.subplots(figsize = (20,8))\n",
    "\n",
    "labels = ['1996 - 2000', '2001 - 2005', '2006 - 2010', '2011 - 2015']\n",
    "# plot the number of occurrences for each cause by year\n",
    "ax.bar(labels, size.sm_normalized, label=\"Small Fires\")\n",
    "ax.bar(labels, size.lg_normalized, label=\"Large Fires\", bottom = size.sm_normalized)\n",
    "\n",
    "ax.legend()\n",
    "ax.set_ylabel(\"% Area Burned\")\n",
    "ax.set_title(\"% of Area Burned by Large Fires vs Small Fires\", fontdict={'fontsize': 24});"
   ]
  },
  {
   "cell_type": "code",
   "execution_count": null,
   "id": "23da458b",
   "metadata": {},
   "outputs": [],
   "source": [
    "sizes.fire_size"
   ]
  },
  {
   "cell_type": "code",
   "execution_count": null,
   "id": "6448e32a",
   "metadata": {},
   "outputs": [],
   "source": [
    "# separate large and small wildfires into their own dataframe\n",
    "small = sizes[sizes.fire_size_cat == 'small']\n",
    "large = sizes[sizes.fire_size_cat == 'large']"
   ]
  },
  {
   "cell_type": "code",
   "execution_count": null,
   "id": "ba8c0c13",
   "metadata": {},
   "outputs": [],
   "source": [
    "large.head()"
   ]
  },
  {
   "cell_type": "code",
   "execution_count": null,
   "id": "2df084b9",
   "metadata": {},
   "outputs": [],
   "source": [
    "small.quinquennial.unique()"
   ]
  },
  {
   "cell_type": "code",
   "execution_count": null,
   "id": "9a5ddf0e",
   "metadata": {},
   "outputs": [],
   "source": [
    "# create the subplots\n",
    "fig, ax = plt.subplots(figsize = (20,8))\n",
    "\n",
    "labels = ['1996 - 2000', '2001 - 2005', '2006 - 2010', '2011 - 2015']\n",
    "# plot the number of occurrences for each cause by year\n",
    "ax.bar(labels, large.fire_size, label=\"Large Fires\")\n",
    "ax.bar(labels, small.fire_size, label=\"Small Fires\", bottom=large.fire_size)\n",
    "\n",
    "ax.legend()\n",
    "ax.set_ylabel(\"fire size\");"
   ]
  },
  {
   "cell_type": "code",
   "execution_count": null,
   "id": "cf1cf56e",
   "metadata": {},
   "outputs": [],
   "source": [
    "counts = df2.groupby(['quinquennial', 'fire_size_cat']).fire_size.count().to_frame().reset_index()\n",
    "counts"
   ]
  },
  {
   "cell_type": "code",
   "execution_count": null,
   "id": "64ad66c5",
   "metadata": {},
   "outputs": [],
   "source": [
    "counts = counts.pivot(index='quinquennial', columns='fire_size_cat').reset_index()\n",
    "counts"
   ]
  },
  {
   "cell_type": "code",
   "execution_count": null,
   "id": "47704435",
   "metadata": {},
   "outputs": [],
   "source": [
    "counts.columns = ['quinquennial', 'large', 'small']\n",
    "counts"
   ]
  },
  {
   "cell_type": "code",
   "execution_count": null,
   "id": "5c12788d",
   "metadata": {},
   "outputs": [],
   "source": [
    "counts['lg_normalized'] = counts.large / (counts.large + counts.small)\n",
    "counts['sm_normalized'] = 1 - (counts.large / (counts.large + counts.small))\n",
    "counts"
   ]
  },
  {
   "cell_type": "code",
   "execution_count": null,
   "id": "1e3a81cd",
   "metadata": {},
   "outputs": [],
   "source": [
    "# create the subplots\n",
    "fig, ax = plt.subplots(figsize = (20,12))\n",
    "\n",
    "labels = ['1996 - 2000', '2001 - 2005', '2006 - 2010', '2011 - 2015']\n",
    "# plot the number of occurrences for each cause by year\n",
    "\n",
    "ax.bar(labels, counts.large, label=\"Large Fires\", log=True)\n",
    "ax.bar(labels, counts.small, label=\"Small Fires\", bottom = counts.large, log=True)\n",
    "\n",
    "ax.legend()\n",
    "ax.set_ylabel(\"% Area Burned\")\n",
    "ax.set_title(\"% of Area Burned by Large Fires vs Small Fires\", fontdict={'fontsize': 24});"
   ]
  },
  {
   "cell_type": "code",
   "execution_count": null,
   "id": "cedffad7",
   "metadata": {},
   "outputs": [],
   "source": []
  },
  {
   "cell_type": "code",
   "execution_count": null,
   "id": "6c53ee5e",
   "metadata": {},
   "outputs": [],
   "source": []
  },
  {
   "cell_type": "code",
   "execution_count": null,
   "id": "7007d04d",
   "metadata": {},
   "outputs": [],
   "source": [
    "yearly_mean_fire_size = df.groupby('year').fire_size.mean().reset_index()"
   ]
  },
  {
   "cell_type": "code",
   "execution_count": null,
   "id": "fb815f8c",
   "metadata": {},
   "outputs": [],
   "source": [
    "# # plot scatterplot with regression line\n",
    "# # sns.color_palette(\"rocket\", as_cmap=True)\n",
    "# sns.lmplot(x='year', y='fire_size', data=yearly_mean_fire_size, height=8, markers='x', seed=321, robust=True)\n",
    "# plt.title('Annual Average Acres Burned Is Increasing', size=14, color_palette='rocket')\n",
    "# plt.xlabel('Year')\n",
    "# plt.ylabel('Acres Burned');"
   ]
  },
  {
   "cell_type": "code",
   "execution_count": null,
   "id": "8aecd1a5",
   "metadata": {},
   "outputs": [],
   "source": [
    "df.groupby('year').mean()"
   ]
  },
  {
   "cell_type": "markdown",
   "id": "57a7d9f7",
   "metadata": {},
   "source": [
    "The smallest wildfire is only about 4.5 square feet\n",
    "\n",
    "25% of fires are less than 1/10 of an acre\n",
    "\n",
    "50% are less than one acre\n",
    "\n",
    "75% are less than three acres\n",
    "\n",
    "20% of fires are greater than 5 acres which is equivalent to three and a quarter football fields.\n",
    "\n",
    "The largest wildfire is larger than 500,000 football fields or 85% of Rhode Island, our smallest state"
   ]
  },
  {
   "cell_type": "markdown",
   "id": "04005a17",
   "metadata": {},
   "source": [
    "---"
   ]
  },
  {
   "cell_type": "markdown",
   "id": "39a4f135",
   "metadata": {},
   "source": [
    "#### I am going to create a column categorizing the fires as:\n",
    "\n",
    "* small: up to the size of two tennis courts\n",
    "* medium: up to the size of a football field\n",
    "* large: up to the size of 4 football fields\n",
    "* extra_lg: anything larger than this"
   ]
  },
  {
   "cell_type": "code",
   "execution_count": null,
   "id": "c1063a83",
   "metadata": {},
   "outputs": [],
   "source": [
    "# create another column categorizing fire size\n",
    "conditions = [df.fire_size <=.13, df.fire_size <=1.3, df.fire_size <=5.2, df.fire_size >5.2]\n",
    "choices = ['small', 'medium', 'large', 'extra_lg']\n",
    "df['size_category'] = np.select(conditions, choices)\n",
    "df.head()"
   ]
  },
  {
   "cell_type": "code",
   "execution_count": null,
   "id": "c2c08190",
   "metadata": {},
   "outputs": [],
   "source": [
    "df.size_category.value_counts(normalize=True)"
   ]
  },
  {
   "cell_type": "code",
   "execution_count": null,
   "id": "5d279625",
   "metadata": {
    "scrolled": false
   },
   "outputs": [],
   "source": [
    "# plot size of fires by latitude and longitude\n",
    "sns.scatterplot(x='longitude', y='latitude', hue='size_category', data=df)"
   ]
  },
  {
   "cell_type": "markdown",
   "id": "91489998",
   "metadata": {},
   "source": [
    "### With all the fires plotted across all the years, we see that the large majority seems to be smaller fires. Alaska does have a large amount of extra-large fires"
   ]
  },
  {
   "cell_type": "code",
   "execution_count": null,
   "id": "44e86d1b",
   "metadata": {},
   "outputs": [],
   "source": [
    "# checking to see what the fire size and location looks like for 2006\n",
    "sns.scatterplot(x='longitude', y='latitude', hue='size_category', data=df[df.year == 2006])"
   ]
  },
  {
   "cell_type": "markdown",
   "id": "167e2a14",
   "metadata": {},
   "source": [
    "### It appears that the majority of the largest wildfires in 2006 happened in the central area of the US"
   ]
  },
  {
   "cell_type": "code",
   "execution_count": null,
   "id": "16c8bc1b",
   "metadata": {},
   "outputs": [],
   "source": [
    "df.head()"
   ]
  },
  {
   "cell_type": "code",
   "execution_count": null,
   "id": "572569a9",
   "metadata": {},
   "outputs": [],
   "source": [
    "df.groupby('state').fire_size.sum().sort_values(ascending=False).head()"
   ]
  },
  {
   "cell_type": "code",
   "execution_count": null,
   "id": "864926f2",
   "metadata": {},
   "outputs": [],
   "source": [
    "y = df.groupby('state').fire_size.sum().sort_values(ascending=False).head(10).reset_index()\n",
    "y.fire_size = round(y.fire_size/1_000_000)\n",
    "y"
   ]
  },
  {
   "cell_type": "code",
   "execution_count": null,
   "id": "1fcd3171",
   "metadata": {},
   "outputs": [],
   "source": [
    "sns.barplot(x='state', y='fire_size', data=y)"
   ]
  },
  {
   "cell_type": "code",
   "execution_count": null,
   "id": "5e462f4b",
   "metadata": {},
   "outputs": [],
   "source": [
    "df[df.state == 'AK'].fire_size.sum()"
   ]
  },
  {
   "cell_type": "markdown",
   "id": "e918d4a2",
   "metadata": {},
   "source": [
    "### I am going to further explore extra-large fires to see if there's anything there."
   ]
  },
  {
   "cell_type": "code",
   "execution_count": null,
   "id": "6b7d6f57",
   "metadata": {},
   "outputs": [],
   "source": [
    "lg_df = df[df.size_category == 'extra_lg']\n",
    "lg_df.info()"
   ]
  },
  {
   "cell_type": "code",
   "execution_count": null,
   "id": "8bd0a8b0",
   "metadata": {},
   "outputs": [],
   "source": [
    "\n",
    "lg_df.fire_size.describe()"
   ]
  },
  {
   "cell_type": "code",
   "execution_count": null,
   "id": "49a70325",
   "metadata": {},
   "outputs": [],
   "source": [
    "lg_df.general_cause.value_counts()"
   ]
  },
  {
   "cell_type": "code",
   "execution_count": null,
   "id": "1cc6f5b6",
   "metadata": {},
   "outputs": [],
   "source": [
    "x = df[df.fire_size > 9]\n",
    "x.general_cause.value_counts()"
   ]
  },
  {
   "cell_type": "code",
   "execution_count": null,
   "id": "9e26f281",
   "metadata": {},
   "outputs": [],
   "source": [
    "\n",
    "df[df.general_cause == 'Debris and open burning'].fire_size.describe()"
   ]
  },
  {
   "cell_type": "code",
   "execution_count": null,
   "id": "45dad239",
   "metadata": {},
   "outputs": [],
   "source": [
    "\n",
    "df[df.general_cause == 'Debris and open burning'].fire_size.hist()"
   ]
  },
  {
   "cell_type": "code",
   "execution_count": null,
   "id": "940384a4",
   "metadata": {},
   "outputs": [],
   "source": [
    "\n",
    "df[(df.general_cause == 'Debris and open burning') & (df.fire_size > 50_000)].info()"
   ]
  },
  {
   "cell_type": "code",
   "execution_count": null,
   "id": "6840ee0b",
   "metadata": {},
   "outputs": [],
   "source": [
    "\n",
    "df[df.general_cause == 'Natural'].fire_size.describe()"
   ]
  },
  {
   "cell_type": "code",
   "execution_count": null,
   "id": "6cd27428",
   "metadata": {},
   "outputs": [],
   "source": [
    "\n",
    "df[df.general_cause == 'Natural'].fire_size.hist()"
   ]
  },
  {
   "cell_type": "code",
   "execution_count": null,
   "id": "e8dcd4dd",
   "metadata": {},
   "outputs": [],
   "source": [
    "df[(df.general_cause == 'Natural') & (df.fire_size > 50_000)].info()"
   ]
  },
  {
   "cell_type": "code",
   "execution_count": null,
   "id": "9e8287fd",
   "metadata": {},
   "outputs": [],
   "source": [
    "\n",
    "df[df.general_cause == 'Arson/incendiarism'].fire_size.describe()"
   ]
  },
  {
   "cell_type": "code",
   "execution_count": null,
   "id": "8bc9760c",
   "metadata": {},
   "outputs": [],
   "source": [
    "df[df.general_cause == 'Arson/incendiarism'].fire_size.hist()"
   ]
  },
  {
   "cell_type": "code",
   "execution_count": null,
   "id": "e098b3ef",
   "metadata": {},
   "outputs": [],
   "source": [
    "\n",
    "df[(df.general_cause == 'Arson/incendiarism') & (df.fire_size > 50_000)].info()"
   ]
  },
  {
   "cell_type": "markdown",
   "id": "cc6c4eb7",
   "metadata": {},
   "source": [
    "### Below is a list of states with the most and fewest amount of fires for each year in our dataset. Washington DC is most often the place with the fewest fires per year. Apart from DC, the states with the fewest fires per year include New England states such as Maryland, Vermont, Delaware, and Massachusetts; Puerto Rico had the fewest fires in 1996. California, Georgia, and Texas are the states with the greatest number of fires for every year except for 2018, during which Arizona had 9,738 fires."
   ]
  },
  {
   "cell_type": "code",
   "execution_count": null,
   "id": "c9d2d438",
   "metadata": {},
   "outputs": [],
   "source": [
    "# # Sophia\n",
    "# # print max and min for num fires/year\n",
    "# for year in list(range(1992, 2019)):\n",
    "#     print(year)\n",
    "#     print('Fewest fires:', df[df.fire_year == year].groupby('state').fire_size.count().idxmin(), df[df.fire_year == year].groupby('state').fire_size.count().min())\n",
    "#     print('Most fires:',df[df.fire_year == year].groupby('state').fire_size.count().idxmax(), df[df.fire_year == year].groupby('state').fire_size.count().max())\n",
    "#     print() b"
   ]
  },
  {
   "cell_type": "markdown",
   "id": "367b6f1e",
   "metadata": {},
   "source": [
    "### A teammate discovered that the annual number of wildfires for TX  that we had in our database almost doubled for each year for the period 2005 and after vs 1992 - 2004. I am going to do a little exploring to see if I can discover why there's such a difference."
   ]
  },
  {
   "cell_type": "code",
   "execution_count": null,
   "id": "c3ee765a",
   "metadata": {},
   "outputs": [],
   "source": [
    "# create separate dataframes for each period\n",
    "texas_92 = df[(df.state == 'TX') & (df.fire_year < 2005)]\n",
    "texas_05 = df[(df.state == 'TX') & (df.fire_year >= 2005)]\n",
    "texas_05.head()"
   ]
  },
  {
   "cell_type": "code",
   "execution_count": null,
   "id": "bacadb28",
   "metadata": {},
   "outputs": [],
   "source": [
    "# plot counts by year for period prior to 2005\n",
    "sns.countplot(data=texas_92, x='year')"
   ]
  },
  {
   "cell_type": "code",
   "execution_count": null,
   "id": "df1d52cb",
   "metadata": {},
   "outputs": [],
   "source": [
    "# plot counts by year for period 2005 and after\n",
    "sns.countplot(data=texas_05, x='year')"
   ]
  },
  {
   "cell_type": "markdown",
   "id": "cb370def",
   "metadata": {},
   "source": [
    "### If we look at the numbers on the y-axis, the year with the most fires, 1996, in period pre-2005 is less than the year with the least fires 2007, in period 2005 and after. This is a huge jump and slightly suspicious. Climate change is causing an increase in wildfires but not with that much of a difference from one year to the next."
   ]
  },
  {
   "cell_type": "code",
   "execution_count": null,
   "id": "c59a9ea7",
   "metadata": {},
   "outputs": [],
   "source": [
    "# check value counts for cause and normalize\n",
    "texas_92.general_cause.value_counts(normalize=True)"
   ]
  },
  {
   "cell_type": "code",
   "execution_count": null,
   "id": "5988e964",
   "metadata": {},
   "outputs": [],
   "source": [
    "# check value counts for cause and normalize\n",
    "texas_05.general_cause.value_counts(normalize=True)"
   ]
  },
  {
   "cell_type": "markdown",
   "id": "0a041409",
   "metadata": {},
   "source": [
    "Debris and open burning as a cause is down 6%\n",
    "\n",
    "Missing data as a cause is up 100%\n",
    "\n",
    "Equipment and vehicle use as a cause is up 7%\n",
    "\n",
    "### There's nothing here that stands out as the reason for more fires. The significant increase in missing data makes me wonder if there may just have been a change in recording wildfires."
   ]
  },
  {
   "cell_type": "code",
   "execution_count": null,
   "id": "4330491b",
   "metadata": {},
   "outputs": [],
   "source": [
    "# check stats for wildfire size to see if there's a difference\n",
    "texas_92.fire_size.describe()"
   ]
  },
  {
   "cell_type": "code",
   "execution_count": null,
   "id": "c2c4a2f1",
   "metadata": {},
   "outputs": [],
   "source": [
    "# check stats for wildfire size to see if there's a difference\n",
    "texas_05.fire_size.describe()"
   ]
  },
  {
   "cell_type": "markdown",
   "id": "82dee5f1",
   "metadata": {},
   "source": [
    "### The fact that there are many more smaller fires reaffirms my suspicions. It could be that prior to 2005 many of the smaller fires that were quicky contained were not documented and 2005 was when they started being more comprehensive in their documentation of fires. "
   ]
  },
  {
   "cell_type": "code",
   "execution_count": null,
   "id": "50e982a8",
   "metadata": {},
   "outputs": [],
   "source": [
    "df[(df.state == 'TX') & (df.fire_year == 2004)].general_cause.value_counts(normalize=True)"
   ]
  },
  {
   "cell_type": "code",
   "execution_count": null,
   "id": "54c68d22",
   "metadata": {},
   "outputs": [],
   "source": [
    "df[(df.state == 'TX') & (df.fire_year == 2005)].general_cause.value_counts(normalize=True)"
   ]
  },
  {
   "cell_type": "code",
   "execution_count": null,
   "id": "ea8d2865",
   "metadata": {},
   "outputs": [],
   "source": [
    "df[(df.state == 'TX') & (df.fire_year == 2004)].fire_size.describe()"
   ]
  },
  {
   "cell_type": "code",
   "execution_count": null,
   "id": "cae6df91",
   "metadata": {},
   "outputs": [],
   "source": [
    "df[(df.state == 'TX') & (df.fire_year == 2005)].fire_size.describe()"
   ]
  }
 ],
 "metadata": {
  "kernelspec": {
   "display_name": "Python 3",
   "language": "python",
   "name": "python3"
  },
  "language_info": {
   "codemirror_mode": {
    "name": "ipython",
    "version": 3
   },
   "file_extension": ".py",
   "mimetype": "text/x-python",
   "name": "python",
   "nbconvert_exporter": "python",
   "pygments_lexer": "ipython3",
   "version": "3.8.8"
  }
 },
 "nbformat": 4,
 "nbformat_minor": 5
}
