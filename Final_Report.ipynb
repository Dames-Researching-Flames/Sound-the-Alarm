{
 "cells": [
  {
   "cell_type": "markdown",
   "id": "6bcf2f9c",
   "metadata": {},
   "source": [
    "\n",
    "<img width= \"300\" src=\"https://cdn.discordapp.com/attachments/392490318798389248/945695517004951633/jeanettes_fireart.png\" alt=\"US Fires Logo\">\n",
    "\n",
    "# Analyzing US Wildfires: Final Report\n",
    "\n",
    "### by Lori Ainslie, Jeanette Schulz, Kristine Cabanela, and Sophia Stewart \n",
    "### Last Updated: 23 February 2022"
   ]
  },
  {
   "cell_type": "code",
   "execution_count": 1,
   "id": "48ef0d2d",
   "metadata": {},
   "outputs": [],
   "source": [
    "# Data Science Libraries\n",
    "import pandas as pd\n",
    "import numpy as np\n",
    "import seaborn as sns\n",
    "import matplotlib.pyplot as plt\n",
    "\n",
    "# Group-made functions\n",
    "from wrangle import *\n",
    "\n",
    "# Blocking Warning Boxes\n",
    "import warnings\n",
    "warnings.filterwarnings(\"ignore\")\n",
    "\n",
    "# Remove Limits On Viewing Dataframes\n",
    "pd.set_option('display.max_columns', None)\n"
   ]
  },
  {
   "cell_type": "markdown",
   "id": "1e0603e1",
   "metadata": {},
   "source": [
    "---\n",
    "# Acquire\n",
    "---"
   ]
  },
  {
   "cell_type": "markdown",
   "id": "da8d7063",
   "metadata": {},
   "source": [
    "# Information on where we found the data"
   ]
  },
  {
   "cell_type": "code",
   "execution_count": 2,
   "id": "4ef90f09",
   "metadata": {},
   "outputs": [
    {
     "data": {
      "text/html": [
       "<div>\n",
       "<style scoped>\n",
       "    .dataframe tbody tr th:only-of-type {\n",
       "        vertical-align: middle;\n",
       "    }\n",
       "\n",
       "    .dataframe tbody tr th {\n",
       "        vertical-align: top;\n",
       "    }\n",
       "\n",
       "    .dataframe thead th {\n",
       "        text-align: right;\n",
       "    }\n",
       "</style>\n",
       "<table border=\"1\" class=\"dataframe\">\n",
       "  <thead>\n",
       "    <tr style=\"text-align: right;\">\n",
       "      <th></th>\n",
       "      <th>fire_year</th>\n",
       "      <th>discovery_date</th>\n",
       "      <th>general_cause</th>\n",
       "      <th>containment_date</th>\n",
       "      <th>fire_size</th>\n",
       "      <th>latitude</th>\n",
       "      <th>longitude</th>\n",
       "      <th>state</th>\n",
       "    </tr>\n",
       "  </thead>\n",
       "  <tbody>\n",
       "    <tr>\n",
       "      <th>0</th>\n",
       "      <td>2005</td>\n",
       "      <td>2005-02-02</td>\n",
       "      <td>Power generation/transmission/distribution</td>\n",
       "      <td>2005-02-02</td>\n",
       "      <td>0.10</td>\n",
       "      <td>40.036944</td>\n",
       "      <td>-121.005833</td>\n",
       "      <td>CA</td>\n",
       "    </tr>\n",
       "    <tr>\n",
       "      <th>1</th>\n",
       "      <td>2004</td>\n",
       "      <td>2004-05-12</td>\n",
       "      <td>Natural</td>\n",
       "      <td>2004-05-12</td>\n",
       "      <td>0.25</td>\n",
       "      <td>38.933056</td>\n",
       "      <td>-120.404444</td>\n",
       "      <td>CA</td>\n",
       "    </tr>\n",
       "    <tr>\n",
       "      <th>2</th>\n",
       "      <td>2004</td>\n",
       "      <td>2004-05-31</td>\n",
       "      <td>Debris and open burning</td>\n",
       "      <td>2004-05-31</td>\n",
       "      <td>0.10</td>\n",
       "      <td>38.984167</td>\n",
       "      <td>-120.735556</td>\n",
       "      <td>CA</td>\n",
       "    </tr>\n",
       "    <tr>\n",
       "      <th>3</th>\n",
       "      <td>2004</td>\n",
       "      <td>2004-06-28</td>\n",
       "      <td>Natural</td>\n",
       "      <td>2004-07-03</td>\n",
       "      <td>0.10</td>\n",
       "      <td>38.559167</td>\n",
       "      <td>-119.913333</td>\n",
       "      <td>CA</td>\n",
       "    </tr>\n",
       "    <tr>\n",
       "      <th>4</th>\n",
       "      <td>2004</td>\n",
       "      <td>2004-06-28</td>\n",
       "      <td>Natural</td>\n",
       "      <td>2004-07-03</td>\n",
       "      <td>0.10</td>\n",
       "      <td>38.559167</td>\n",
       "      <td>-119.933056</td>\n",
       "      <td>CA</td>\n",
       "    </tr>\n",
       "  </tbody>\n",
       "</table>\n",
       "</div>"
      ],
      "text/plain": [
       "   fire_year discovery_date                               general_cause  \\\n",
       "0       2005     2005-02-02  Power generation/transmission/distribution   \n",
       "1       2004     2004-05-12                                     Natural   \n",
       "2       2004     2004-05-31                     Debris and open burning   \n",
       "3       2004     2004-06-28                                     Natural   \n",
       "4       2004     2004-06-28                                     Natural   \n",
       "\n",
       "  containment_date  fire_size   latitude   longitude state  \n",
       "0       2005-02-02       0.10  40.036944 -121.005833    CA  \n",
       "1       2004-05-12       0.25  38.933056 -120.404444    CA  \n",
       "2       2004-05-31       0.10  38.984167 -120.735556    CA  \n",
       "3       2004-07-03       0.10  38.559167 -119.913333    CA  \n",
       "4       2004-07-03       0.10  38.559167 -119.933056    CA  "
      ]
     },
     "execution_count": 2,
     "metadata": {},
     "output_type": "execute_result"
    }
   ],
   "source": [
    "# Acquiring the data from our wrangle\n",
    "df = acquire_fires()\n",
    "df.head()"
   ]
  },
  {
   "cell_type": "markdown",
   "id": "e8d6015b",
   "metadata": {},
   "source": [
    "---\n",
    "# Prepare\n",
    "---"
   ]
  },
  {
   "cell_type": "markdown",
   "id": "7d2118b0",
   "metadata": {},
   "source": [
    "We started by preparing the data as a team. All decisions made were as a group to ensure our wrangled data would benefit each of our future exploration needs.\n",
    "\n",
    "We started by dropped columns with large amount of null values:\n",
    "\n",
    "- LOCAL_FIRE_REPORT_ID\n",
    "- LOCAL_INCIDENT_ID\n",
    "- FIRE_CODE\n",
    "- FIRE_NAME\n",
    "- ICS_209_PLUS_INCIDENT_JOIN_ID\n",
    "- ICS_209_PLUS_COMPLEX_JOIN_ID\n",
    "- MTBS_ID\n",
    "- MTBS_FIRE_NAME\n",
    "- COMPLEX_NAME\n",
    "- DISCOVERY_TIME\n",
    "- NWCG_CAUSE_AGE_CATEGORY\n",
    "- CONT_TIME\n",
    "- COUNTY\n",
    "- FIPS_CODE\n",
    "- FIPS_NAME\n",
    "\n",
    "Next, this data set came with a lot of columns that had additional information. This included columns such as the `NWCG_REPORTING_AGENCY` (superfluous information) and `DISCOVERY_DOY` (uneccesarry if we keep `DISCOVERY_DATE`). Thus, we dropped these additonal columns as follows:  \n",
    "\n",
    "- FOD_ID\n",
    "- FPA_ID\n",
    "- SOURCE_SYSTEM_TYPE\n",
    "- SOURCE_SYSTEM\n",
    "- NWCG_REPORTING_AGENCY\n",
    "- NWCG_REPORTING_UNIT_ID\n",
    "- NWCG_REPORTING_UNIT_NAME\n",
    "- SOURCE_REPORTING_UNIT\n",
    "- SOURCE_REPORTING_UNIT_NAME\n",
    "- FIRE_SIZE_CLASS\n",
    "- NWCG_CAUSE_CLASSIFICATION\n",
    "- CONT_DOY\n",
    "- DISCOVERY_DOY\n",
    "- OWNER_DESCR\n",
    "\n",
    "Now that we had the columns we wanted to keep, it was time to make sure they were the correct dtype and format. We made sure `DISCOVERY_DATE` and `CONT_DATE` were datetime dtypes. In addition, we renamed `nwcg_general_cause` and `cont_date` to `general_cause` and `containment_date`. Then, finally, we changed all the names of the columns to be lowercase so they would be easier to code.   \n",
    "Here is what our cleaned dataframe looked like:"
   ]
  },
  {
   "cell_type": "code",
   "execution_count": 3,
   "id": "99f0c159",
   "metadata": {},
   "outputs": [
    {
     "ename": "KeyError",
     "evalue": "\"['LOCAL_FIRE_REPORT_ID' 'LOCAL_INCIDENT_ID' 'FIRE_CODE' 'FIRE_NAME'\\n 'ICS_209_PLUS_INCIDENT_JOIN_ID' 'ICS_209_PLUS_COMPLEX_JOIN_ID' 'MTBS_ID'\\n 'MTBS_FIRE_NAME' 'COMPLEX_NAME' 'DISCOVERY_TIME'\\n 'NWCG_CAUSE_AGE_CATEGORY' 'CONT_TIME' 'COUNTY' 'FIPS_CODE' 'FIPS_NAME'] not found in axis\"",
     "output_type": "error",
     "traceback": [
      "\u001b[0;31m---------------------------------------------------------------------------\u001b[0m",
      "\u001b[0;31mKeyError\u001b[0m                                  Traceback (most recent call last)",
      "\u001b[0;32m<ipython-input-3-fc0b1738fcfe>\u001b[0m in \u001b[0;36m<module>\u001b[0;34m\u001b[0m\n\u001b[0;32m----> 1\u001b[0;31m \u001b[0mdf\u001b[0m \u001b[0;34m=\u001b[0m \u001b[0mwrangle_fires\u001b[0m\u001b[0;34m(\u001b[0m\u001b[0;34m)\u001b[0m\u001b[0;34m\u001b[0m\u001b[0;34m\u001b[0m\u001b[0m\n\u001b[0m\u001b[1;32m      2\u001b[0m \u001b[0mdf\u001b[0m\u001b[0;34m.\u001b[0m\u001b[0mhead\u001b[0m\u001b[0;34m(\u001b[0m\u001b[0;34m)\u001b[0m\u001b[0;34m\u001b[0m\u001b[0;34m\u001b[0m\u001b[0m\n",
      "\u001b[0;32m~/codeup-data-science/predicting-us-wildfires/wrangle.py\u001b[0m in \u001b[0;36mwrangle_fires\u001b[0;34m()\u001b[0m\n\u001b[1;32m     69\u001b[0m     \u001b[0mThis\u001b[0m \u001b[0mfunction\u001b[0m \u001b[0macquires\u001b[0m \u001b[0;32mand\u001b[0m \u001b[0mprepares\u001b[0m \u001b[0mwildfire\u001b[0m \u001b[0mdata\u001b[0m \u001b[0;32mfrom\u001b[0m \u001b[0;36m1992\u001b[0m\u001b[0;34m-\u001b[0m\u001b[0;36m2018\u001b[0m \u001b[0;32mfor\u001b[0m \u001b[0mour\u001b[0m \u001b[0mMVP\u001b[0m\u001b[0;34m.\u001b[0m\u001b[0;34m\u001b[0m\u001b[0;34m\u001b[0m\u001b[0m\n\u001b[1;32m     70\u001b[0m     '''\n\u001b[0;32m---> 71\u001b[0;31m     \u001b[0;32mreturn\u001b[0m \u001b[0mprep_fires\u001b[0m\u001b[0;34m(\u001b[0m\u001b[0macquire_fires\u001b[0m\u001b[0;34m(\u001b[0m\u001b[0;34m)\u001b[0m\u001b[0;34m)\u001b[0m\u001b[0;34m\u001b[0m\u001b[0;34m\u001b[0m\u001b[0m\n\u001b[0m",
      "\u001b[0;32m~/codeup-data-science/predicting-us-wildfires/wrangle.py\u001b[0m in \u001b[0;36mprep_fires\u001b[0;34m(fires)\u001b[0m\n\u001b[1;32m     26\u001b[0m     '''\n\u001b[1;32m     27\u001b[0m     \u001b[0;31m# drop columns due to null values\u001b[0m\u001b[0;34m\u001b[0m\u001b[0;34m\u001b[0m\u001b[0;34m\u001b[0m\u001b[0m\n\u001b[0;32m---> 28\u001b[0;31m     fires.drop(columns=['LOCAL_FIRE_REPORT_ID',\n\u001b[0m\u001b[1;32m     29\u001b[0m                    \u001b[0;34m'LOCAL_INCIDENT_ID'\u001b[0m\u001b[0;34m,\u001b[0m\u001b[0;34m\u001b[0m\u001b[0;34m\u001b[0m\u001b[0m\n\u001b[1;32m     30\u001b[0m                    \u001b[0;34m'FIRE_CODE'\u001b[0m\u001b[0;34m,\u001b[0m\u001b[0;34m\u001b[0m\u001b[0;34m\u001b[0m\u001b[0m\n",
      "\u001b[0;32m/opt/homebrew/anaconda3/lib/python3.8/site-packages/pandas/core/frame.py\u001b[0m in \u001b[0;36mdrop\u001b[0;34m(self, labels, axis, index, columns, level, inplace, errors)\u001b[0m\n\u001b[1;32m   4306\u001b[0m                 \u001b[0mweight\u001b[0m  \u001b[0;36m1.0\u001b[0m     \u001b[0;36m0.8\u001b[0m\u001b[0;34m\u001b[0m\u001b[0;34m\u001b[0m\u001b[0m\n\u001b[1;32m   4307\u001b[0m         \"\"\"\n\u001b[0;32m-> 4308\u001b[0;31m         return super().drop(\n\u001b[0m\u001b[1;32m   4309\u001b[0m             \u001b[0mlabels\u001b[0m\u001b[0;34m=\u001b[0m\u001b[0mlabels\u001b[0m\u001b[0;34m,\u001b[0m\u001b[0;34m\u001b[0m\u001b[0;34m\u001b[0m\u001b[0m\n\u001b[1;32m   4310\u001b[0m             \u001b[0maxis\u001b[0m\u001b[0;34m=\u001b[0m\u001b[0maxis\u001b[0m\u001b[0;34m,\u001b[0m\u001b[0;34m\u001b[0m\u001b[0;34m\u001b[0m\u001b[0m\n",
      "\u001b[0;32m/opt/homebrew/anaconda3/lib/python3.8/site-packages/pandas/core/generic.py\u001b[0m in \u001b[0;36mdrop\u001b[0;34m(self, labels, axis, index, columns, level, inplace, errors)\u001b[0m\n\u001b[1;32m   4151\u001b[0m         \u001b[0;32mfor\u001b[0m \u001b[0maxis\u001b[0m\u001b[0;34m,\u001b[0m \u001b[0mlabels\u001b[0m \u001b[0;32min\u001b[0m \u001b[0maxes\u001b[0m\u001b[0;34m.\u001b[0m\u001b[0mitems\u001b[0m\u001b[0;34m(\u001b[0m\u001b[0;34m)\u001b[0m\u001b[0;34m:\u001b[0m\u001b[0;34m\u001b[0m\u001b[0;34m\u001b[0m\u001b[0m\n\u001b[1;32m   4152\u001b[0m             \u001b[0;32mif\u001b[0m \u001b[0mlabels\u001b[0m \u001b[0;32mis\u001b[0m \u001b[0;32mnot\u001b[0m \u001b[0;32mNone\u001b[0m\u001b[0;34m:\u001b[0m\u001b[0;34m\u001b[0m\u001b[0;34m\u001b[0m\u001b[0m\n\u001b[0;32m-> 4153\u001b[0;31m                 \u001b[0mobj\u001b[0m \u001b[0;34m=\u001b[0m \u001b[0mobj\u001b[0m\u001b[0;34m.\u001b[0m\u001b[0m_drop_axis\u001b[0m\u001b[0;34m(\u001b[0m\u001b[0mlabels\u001b[0m\u001b[0;34m,\u001b[0m \u001b[0maxis\u001b[0m\u001b[0;34m,\u001b[0m \u001b[0mlevel\u001b[0m\u001b[0;34m=\u001b[0m\u001b[0mlevel\u001b[0m\u001b[0;34m,\u001b[0m \u001b[0merrors\u001b[0m\u001b[0;34m=\u001b[0m\u001b[0merrors\u001b[0m\u001b[0;34m)\u001b[0m\u001b[0;34m\u001b[0m\u001b[0;34m\u001b[0m\u001b[0m\n\u001b[0m\u001b[1;32m   4154\u001b[0m \u001b[0;34m\u001b[0m\u001b[0m\n\u001b[1;32m   4155\u001b[0m         \u001b[0;32mif\u001b[0m \u001b[0minplace\u001b[0m\u001b[0;34m:\u001b[0m\u001b[0;34m\u001b[0m\u001b[0;34m\u001b[0m\u001b[0m\n",
      "\u001b[0;32m/opt/homebrew/anaconda3/lib/python3.8/site-packages/pandas/core/generic.py\u001b[0m in \u001b[0;36m_drop_axis\u001b[0;34m(self, labels, axis, level, errors)\u001b[0m\n\u001b[1;32m   4186\u001b[0m                 \u001b[0mnew_axis\u001b[0m \u001b[0;34m=\u001b[0m \u001b[0maxis\u001b[0m\u001b[0;34m.\u001b[0m\u001b[0mdrop\u001b[0m\u001b[0;34m(\u001b[0m\u001b[0mlabels\u001b[0m\u001b[0;34m,\u001b[0m \u001b[0mlevel\u001b[0m\u001b[0;34m=\u001b[0m\u001b[0mlevel\u001b[0m\u001b[0;34m,\u001b[0m \u001b[0merrors\u001b[0m\u001b[0;34m=\u001b[0m\u001b[0merrors\u001b[0m\u001b[0;34m)\u001b[0m\u001b[0;34m\u001b[0m\u001b[0;34m\u001b[0m\u001b[0m\n\u001b[1;32m   4187\u001b[0m             \u001b[0;32melse\u001b[0m\u001b[0;34m:\u001b[0m\u001b[0;34m\u001b[0m\u001b[0;34m\u001b[0m\u001b[0m\n\u001b[0;32m-> 4188\u001b[0;31m                 \u001b[0mnew_axis\u001b[0m \u001b[0;34m=\u001b[0m \u001b[0maxis\u001b[0m\u001b[0;34m.\u001b[0m\u001b[0mdrop\u001b[0m\u001b[0;34m(\u001b[0m\u001b[0mlabels\u001b[0m\u001b[0;34m,\u001b[0m \u001b[0merrors\u001b[0m\u001b[0;34m=\u001b[0m\u001b[0merrors\u001b[0m\u001b[0;34m)\u001b[0m\u001b[0;34m\u001b[0m\u001b[0;34m\u001b[0m\u001b[0m\n\u001b[0m\u001b[1;32m   4189\u001b[0m             \u001b[0mresult\u001b[0m \u001b[0;34m=\u001b[0m \u001b[0mself\u001b[0m\u001b[0;34m.\u001b[0m\u001b[0mreindex\u001b[0m\u001b[0;34m(\u001b[0m\u001b[0;34m**\u001b[0m\u001b[0;34m{\u001b[0m\u001b[0maxis_name\u001b[0m\u001b[0;34m:\u001b[0m \u001b[0mnew_axis\u001b[0m\u001b[0;34m}\u001b[0m\u001b[0;34m)\u001b[0m\u001b[0;34m\u001b[0m\u001b[0;34m\u001b[0m\u001b[0m\n\u001b[1;32m   4190\u001b[0m \u001b[0;34m\u001b[0m\u001b[0m\n",
      "\u001b[0;32m/opt/homebrew/anaconda3/lib/python3.8/site-packages/pandas/core/indexes/base.py\u001b[0m in \u001b[0;36mdrop\u001b[0;34m(self, labels, errors)\u001b[0m\n\u001b[1;32m   5589\u001b[0m         \u001b[0;32mif\u001b[0m \u001b[0mmask\u001b[0m\u001b[0;34m.\u001b[0m\u001b[0many\u001b[0m\u001b[0;34m(\u001b[0m\u001b[0;34m)\u001b[0m\u001b[0;34m:\u001b[0m\u001b[0;34m\u001b[0m\u001b[0;34m\u001b[0m\u001b[0m\n\u001b[1;32m   5590\u001b[0m             \u001b[0;32mif\u001b[0m \u001b[0merrors\u001b[0m \u001b[0;34m!=\u001b[0m \u001b[0;34m\"ignore\"\u001b[0m\u001b[0;34m:\u001b[0m\u001b[0;34m\u001b[0m\u001b[0;34m\u001b[0m\u001b[0m\n\u001b[0;32m-> 5591\u001b[0;31m                 \u001b[0;32mraise\u001b[0m \u001b[0mKeyError\u001b[0m\u001b[0;34m(\u001b[0m\u001b[0;34mf\"{labels[mask]} not found in axis\"\u001b[0m\u001b[0;34m)\u001b[0m\u001b[0;34m\u001b[0m\u001b[0;34m\u001b[0m\u001b[0m\n\u001b[0m\u001b[1;32m   5592\u001b[0m             \u001b[0mindexer\u001b[0m \u001b[0;34m=\u001b[0m \u001b[0mindexer\u001b[0m\u001b[0;34m[\u001b[0m\u001b[0;34m~\u001b[0m\u001b[0mmask\u001b[0m\u001b[0;34m]\u001b[0m\u001b[0;34m\u001b[0m\u001b[0;34m\u001b[0m\u001b[0m\n\u001b[1;32m   5593\u001b[0m         \u001b[0;32mreturn\u001b[0m \u001b[0mself\u001b[0m\u001b[0;34m.\u001b[0m\u001b[0mdelete\u001b[0m\u001b[0;34m(\u001b[0m\u001b[0mindexer\u001b[0m\u001b[0;34m)\u001b[0m\u001b[0;34m\u001b[0m\u001b[0;34m\u001b[0m\u001b[0m\n",
      "\u001b[0;31mKeyError\u001b[0m: \"['LOCAL_FIRE_REPORT_ID' 'LOCAL_INCIDENT_ID' 'FIRE_CODE' 'FIRE_NAME'\\n 'ICS_209_PLUS_INCIDENT_JOIN_ID' 'ICS_209_PLUS_COMPLEX_JOIN_ID' 'MTBS_ID'\\n 'MTBS_FIRE_NAME' 'COMPLEX_NAME' 'DISCOVERY_TIME'\\n 'NWCG_CAUSE_AGE_CATEGORY' 'CONT_TIME' 'COUNTY' 'FIPS_CODE' 'FIPS_NAME'] not found in axis\""
     ]
    }
   ],
   "source": [
    "df = wrangle_fires()\n",
    "df.head()"
   ]
  },
  {
   "cell_type": "markdown",
   "id": "81ea91ba",
   "metadata": {},
   "source": [
    "---\n",
    "# Explore\n",
    "---"
   ]
  },
  {
   "cell_type": "code",
   "execution_count": null,
   "id": "0b1f0e33",
   "metadata": {},
   "outputs": [],
   "source": [
    "# Creating a time-series dataframe\n",
    "time_df = df\n",
    "time_df = time_df.set_index('discovery_date').sort_index()\n",
    "time_df.head()"
   ]
  },
  {
   "cell_type": "code",
   "execution_count": null,
   "id": "6762b01f",
   "metadata": {},
   "outputs": [],
   "source": [
    "# plot number of fires by year\n",
    "plt.figure(figsize = (20,8))\n",
    "sns.countplot(data= df, x= 'fire_year')\n",
    "plt.legend([],[], frameon=False)\n",
    "plt.title('Number of Fires per Year', fontdict={'fontsize': 24});\n"
   ]
  },
  {
   "cell_type": "code",
   "execution_count": null,
   "id": "1f5a68e8",
   "metadata": {},
   "outputs": [],
   "source": [
    "# plot number of fires by month\n",
    "time_df['month'] = time_df.index.month_name()\n",
    "\n",
    "plt.figure(figsize = (20,8))\n",
    "sns.countplot(data= time_df, x= 'month')\n",
    "plt.legend([],[], frameon=False)\n",
    "plt.title('Total Fires for each Month', fontdict={'fontsize': 24});"
   ]
  },
  {
   "cell_type": "code",
   "execution_count": null,
   "id": "00d70c43",
   "metadata": {},
   "outputs": [],
   "source": [
    "# plot number of fires by state\n",
    "plt.figure(figsize=(10,20))\n",
    "sns.countplot(data= df, y= 'state', order= df.state.value_counts().index)\n",
    "plt.title('Total Fires for each State', fontdict={'fontsize': 24});"
   ]
  },
  {
   "cell_type": "code",
   "execution_count": null,
   "id": "3c93725a",
   "metadata": {},
   "outputs": [],
   "source": [
    "# plot number of fires per 6-month period over the years\n",
    "num_fires_by_month = time_df.resample('M').fire_year.count()\n",
    "\n",
    "plt.figure(figsize = (20,8))\n",
    "num_fires_by_month.resample('6M').mean().plot(marker='o')\n",
    "plt.title('Monthly Average Count of Fires by Year', fontdict={'fontsize': 24});"
   ]
  },
  {
   "cell_type": "code",
   "execution_count": null,
   "id": "ea4f93cc",
   "metadata": {},
   "outputs": [],
   "source": [
    "# plot number of fires per year over the years\n",
    "plt.figure(figsize = (20,8))\n",
    "num_fires_by_month.resample('Y').mean().plot(marker='o')\n",
    "plt.title('Yearly Average Count of Fires by Year', fontdict={'fontsize': 24});"
   ]
  },
  {
   "cell_type": "code",
   "execution_count": null,
   "id": "e514da03",
   "metadata": {},
   "outputs": [],
   "source": [
    "# Largest acres burned in a month?\n",
    "size_fires_by_month = time_df.resample('M').fire_size.sum()\n",
    "size_fires_by_month.idxmax()\n",
    "size_fires_by_month.max()"
   ]
  },
  {
   "cell_type": "code",
   "execution_count": null,
   "id": "79f1bd6d",
   "metadata": {},
   "outputs": [],
   "source": [
    "# plot acreage burned by wildfires over the years\n",
    "plt.figure(figsize = (20,8))\n",
    "df.groupby('fire_year').fire_size.sum().plot()\n",
    "plt.title('Acreage Burned By Wildfires', fontdict={'fontsize': 24});"
   ]
  },
  {
   "cell_type": "code",
   "execution_count": null,
   "id": "7f364239",
   "metadata": {},
   "outputs": [],
   "source": [
    "# Lori \n",
    "# Make a list of top five wildfire states \n",
    "top_five_wildfire_states = df.state.value_counts().head(5).index.to_list()\n",
    "\n",
    "# Create the dataframe for the chart\n",
    "num_fires_by_year = time_df[time_df.state.isin(top_five_wildfire_states)]\\\n",
    ".groupby(['fire_year', 'state']).count().reset_index()\\\n",
    ".iloc[:, 0:3].rename(columns={'general_cause':'num_fires', 'fire_year':'year'})\n",
    "\n",
    "# Plot findings\n",
    "plt.figure(figsize = (20,8))\n",
    "sns.lineplot(data=num_fires_by_year, x='year', y='num_fires', hue='state')\n",
    "plt.title('Number of Wildfires in the Top Five Wildfire States by Year', fontdict={'fontsize': 24});"
   ]
  },
  {
   "cell_type": "code",
   "execution_count": null,
   "id": "0c5055be",
   "metadata": {},
   "outputs": [],
   "source": [
    "# Lori\n",
    "time_df['year'] = time_df.index.year\n",
    "top_causes_of_wildfires = time_df.general_cause.value_counts().head()\n",
    "\n",
    "# create a new dataframe that groups by year and gets a count by year of the top causes for wildfires\n",
    "num_causes_by_year = time_df[time_df.general_cause.isin(top_causes_of_wildfires[1:].index.to_list())]\\\n",
    ".groupby(['year', 'general_cause']).count().reset_index().iloc[:, 0:3]\\\n",
    ".rename(columns={'fire_year':'num_occurrences'})\n",
    "num_causes_by_year\n"
   ]
  },
  {
   "cell_type": "code",
   "execution_count": null,
   "id": "b4e61337",
   "metadata": {},
   "outputs": [],
   "source": [
    "# Lori\n",
    "# plot trends over the years by the top four causes of wildfires, excluding observations where cause was not specified\n",
    "plt.figure(figsize = (20,8))\n",
    "sns.lineplot(data=num_causes_by_year, x='year', y='num_occurrences', hue='general_cause')\n",
    "plt.title('Number of Wildfires By Cause', fontdict={'fontsize': 24});\n"
   ]
  },
  {
   "cell_type": "code",
   "execution_count": null,
   "id": "623ab7a2",
   "metadata": {},
   "outputs": [],
   "source": [
    "natural = num_causes_by_year[num_causes_by_year.general_cause == \"Natural\"]\n",
    "arson = num_causes_by_year[num_causes_by_year.general_cause == \"Arson/incendiarism\"]\n",
    "debris = num_causes_by_year[num_causes_by_year.general_cause == \"Debris and open burning\"]\n",
    "equipment = num_causes_by_year[num_causes_by_year.general_cause == \"Equipment and vehicle use\"]\n",
    "\n",
    "natural = natural.set_index(\"year\")\n",
    "arson = arson.set_index(\"year\")\n",
    "equipment = equipment.set_index(\"year\")\n",
    "debris = debris.set_index(\"year\")\n",
    "\n",
    "fig, ax = plt.subplots(figsize = (20,8))\n",
    "\n",
    "labels = arson.index\n",
    "\n",
    "ax.bar(labels, arson.num_occurrences, label=\"Arson/incendiarism\")\n",
    "ax.bar(labels, natural.num_occurrences, label=\"Natural Causes\", bottom=arson.num_occurrences)\n",
    "ax.bar(labels, debris.num_occurrences, label=\"Debris & Open Burning\", bottom=natural.num_occurrences + arson.num_occurrences)\n",
    "ax.bar(labels, equipment.num_occurrences, label=\"Equipment & Vehicle Use\", bottom=debris.num_occurrences + natural.num_occurrences + arson.num_occurrences)\n",
    "\n",
    "ax.legend()\n",
    "ax.set_ylabel(\"n occurrences\")\n",
    "ax.set_title(\"Top Causes Of Wildfires Across The U.S.\", fontdict={'fontsize': 24});\n"
   ]
  },
  {
   "cell_type": "markdown",
   "id": "eb313fdf",
   "metadata": {},
   "source": [
    "#### Number of Months in a year, that had an average days_fire_existed greater than zero\n",
    "- 1992: 1\n",
    "- 1993: 0 \n",
    "- 1994: 3\n",
    "- 1995: 1\n",
    "- 1996: 3\n",
    "- 1997: 1\n",
    "- 1998: 2\n",
    "- 1999: 3\n",
    "- 2000: 3\n",
    "- 2001: 2\n",
    "- 2002: 5\n",
    "- 2003: 4\n",
    "- 2004: 4\n",
    "- 2005: 7\n",
    "- 2006: 6\n",
    "- 2007: 3\n",
    "- 2008: 9\n",
    "- 2009: 6\n",
    "- 2010: 5\n",
    "- 2011: 4\n",
    "- 2012: 7\n",
    "- 2013: 6\n",
    "- 2014: 5\n",
    "- 2015: 4\n",
    "- 2016: 4\n",
    "- 2017: 6\n",
    "- 2018: 6"
   ]
  },
  {
   "cell_type": "markdown",
   "id": "56de1f18",
   "metadata": {},
   "source": [
    "### While this could certainly be explained better as a chart, this list of number represents an increase in the length of time it takes to contain a fire. In 1992, the length of time it took to contain a fire was averaged. This data shows that in 1992, most fires were contained the same day they were discovered (represeted as an average of 0 days). There was only one month out of 1992 that had an average above this, wherein the average was 1 day. This means for that month, it took more than a day to contain a fire (on average). Notice in the list, this is what the '1' represents for 1992.\n",
    "### Now as you move down the list through the years, the number of months in a year with an average above 0 days increases. By 2005, there is an month with an average of 10 days. This means, in that month, the average time it took to contain a fire was 10 days!\n",
    "### The takeaway from this list, is that fires are taking much longer for firemen to contain when comparing 1992 to 2018. In 1992, there was only one month of that year that had a fire containment average above zero days. By 2018, we see there are six months of that year that had a fire containment average above zero days.  "
   ]
  },
  {
   "cell_type": "code",
   "execution_count": null,
   "id": "4fb825af",
   "metadata": {},
   "outputs": [],
   "source": [
    "# Jeanette\n",
    "# Dropping data that has nulls in containment_date\n",
    "clean_df = df[df.containment_date.isnull() == False]\n",
    "\n",
    "# Creating a column to see how many days before a fire was contained\n",
    "clean_df['days_fire_existed'] = df.containment_date - df.discovery_date\n",
    "\n",
    "# 2005 had fires that took much longer to contain. Idaho shows some fires lasting YEARS!\n",
    "clean_df[(clean_df.discovery_date == '2005-08') & (clean_df.days_fire_existed > '29 days')]"
   ]
  },
  {
   "cell_type": "markdown",
   "id": "f9138407",
   "metadata": {},
   "source": [
    "### While investigating a certain date, we found that there were some fires that lasted well over a year. It's difficult to say why these fires were considered uncontained for so long, and yet burned very little acres. There is a chance these Idaho fires represent the coal mines that caught on fire and were left to burn, however there is no way to prove these fires represent those fires or a different set of fires entirely. "
   ]
  },
  {
   "cell_type": "code",
   "execution_count": null,
   "id": "6f79eebf",
   "metadata": {},
   "outputs": [],
   "source": [
    "# Jeanette\n",
    "# Making a texas dataframe\n",
    "texas = df[df.state == 'TX']\n",
    "\n",
    "# Let's look at how many fires Texas has had over the years\n",
    "plt.figure(figsize = (20,8))\n",
    "sns.countplot(data= texas , x= 'fire_year', hue='fire_year'  )\n",
    "plt.legend([],[], frameon=False)\n",
    "plt.title('Texas Wildfires have Increased in Number', fontdict={'fontsize': 24});"
   ]
  },
  {
   "cell_type": "markdown",
   "id": "6710c391",
   "metadata": {},
   "source": [
    "### The chart above shows that the number of fires in Texas was clearly less before 2005. There is a significant increase in the fires between 2005 and 2011. After 2011, it seems the number of fires in a year decreases, but we don't see the smaller numbers as seen before 2005. The \"new normal\" of fires per year in Texas seems to be between 7,500 and 10,000. This could be a result of climate change getting worse. Unfortunately, it could also be a result of poor reporting in Texas before the year 2005."
   ]
  },
  {
   "cell_type": "code",
   "execution_count": null,
   "id": "7346aa84",
   "metadata": {},
   "outputs": [],
   "source": [
    "# Jeanette\n",
    "# Total Acres burned in Texas per year\n",
    "plt.figure(figsize = (20,8))\n",
    "texas.groupby('fire_year').fire_size.sum().plot()\n",
    "plt.title('Texas Acres Burned', fontdict={'fontsize': 24});"
   ]
  },
  {
   "cell_type": "markdown",
   "id": "7f5f3581",
   "metadata": {},
   "source": [
    "### This is another visualization for Texas fires, showing the number of acres burned. When compared with the visual above showing the number of fires, it's no surprise to see that the most acres burned was between 2005 and 2012. While the number of fires after 2012 is higher that the 1990's, this chart shows the acres burned is still averaging the same with only a slight increase. Perhaps this means a better response time by firemen? Despite the increase in number of fires, the acres burned seems to be managed. "
   ]
  },
  {
   "cell_type": "code",
   "execution_count": null,
   "id": "753346ed",
   "metadata": {},
   "outputs": [],
   "source": [
    "# Jeanette\n",
    "# Are humans the main cause of wildfires?\n",
    "human_cause = ['Debris and open burning', \n",
    "               'Arson/incendiarism', \n",
    "               'Equipment and vehicle use', \n",
    "               'Recreation and ceremony', \n",
    "               'Misuse of fire by a minor', \n",
    "               'Smoking', \n",
    "               'Power generation/transmission/distribution', \n",
    "               'Fireworks', \n",
    "               'Railroad operations and maintenance', \n",
    "               'Firearms and explosives use']                            \n",
    "                                       \n",
    "\n",
    "other_cause = ['Missing data/not specified/undetermined', \n",
    "               'Natural', \n",
    "               'Other causes']\n",
    "human_fires = 0\n",
    "for cause in human_cause:\n",
    "    human_fires += clean_df[clean_df.general_cause == cause ].shape[0]\n",
    "\n",
    "\n",
    "other_fires = 0\n",
    "for cause in other_cause:\n",
    "    other_fires += clean_df[clean_df.general_cause == cause ].shape[0]\n",
    "\n",
    "print('Total Human Caused Fires:', human_fires)\n",
    "print('Total Other Caused Fires:', other_fires)\n"
   ]
  },
  {
   "cell_type": "markdown",
   "id": "6947e04c",
   "metadata": {},
   "source": [
    "### A lot of these fires have thier `general_cause` labled as 'Missing data/not specified/undetermined'. Despite this, the data clearly shows that humans are the main cause of wildfires, not nature. While climate change plays a big role in make these fires worse, the cause of the fire is still in the hands of humans. "
   ]
  },
  {
   "cell_type": "code",
   "execution_count": null,
   "id": "ddc27cf5",
   "metadata": {},
   "outputs": [],
   "source": [
    "# Kristine\n",
    "# plotted data for cause of wildfire and # of fires\n",
    "fig = plt.figure(figsize=(10, 8))\n",
    "ax = df.general_cause.value_counts().plot.bar(width=.7, ec='black', color='red')\n",
    "ax.set(title='# of Fires vs cause', ylabel='Number of Fires', xlabel='cause')\n",
    "plt.savefig(\"Dist.png\")"
   ]
  },
  {
   "cell_type": "markdown",
   "id": "af08b7db",
   "metadata": {},
   "source": [
    "#### * The chart above shows a visual of the distribution of fires categorized by cause from largest to smallest number of fires in each category. \n",
    "\n",
    "- Aside from missing/undertermined causes, Debris and open burning, Natural, Arson are the top three causes for most wildfires.  Human interaction is prevalent however in majority of causes altogether.\n",
    "\n",
    "*Largest cause of wildfires is \"missing data/not specified/undetermined\"*"
   ]
  },
  {
   "cell_type": "code",
   "execution_count": null,
   "id": "6eb620cb",
   "metadata": {},
   "outputs": [],
   "source": [
    "# Kristine\n",
    "# fire size over span of years\n",
    "plt.figure(figsize = (20,8))\n",
    "firesizeyear=sns.barplot(x=\"fire_year\", y=\"fire_size\", data= df ,color='red')\n",
    "firesizeyear.set_title('Fire Size Per Year', fontdict={'fontsize': 24})\n",
    "firesizeyear.set_xticklabels(firesizeyear.get_xticklabels(),rotation=90);"
   ]
  },
  {
   "cell_type": "markdown",
   "id": "799c5d93",
   "metadata": {},
   "source": [
    "#### * The chart above shows a visual of the distribution of fire size over each recorded year*\n",
    "\n",
    "- Although fire size changes from highs and lows as time progresses, the overall size after 2000 seems to have an upward trajectory."
   ]
  },
  {
   "cell_type": "code",
   "execution_count": null,
   "id": "4c7a7574",
   "metadata": {
    "scrolled": false
   },
   "outputs": [],
   "source": [
    "# add new column for day of the week\n",
    "df['day_of_week']= df['discovery_date'].dt.day_name()\n",
    "print(df['day_of_week'])"
   ]
  },
  {
   "cell_type": "code",
   "execution_count": null,
   "id": "ff35b641",
   "metadata": {},
   "outputs": [],
   "source": [
    "# Kristine\n",
    "# add new column for day of the week\n",
    "df['day_of_week']= df['discovery_date'].dt.day_name()\n",
    "\n",
    "# create dataframe for the count of fires occuring per each day of the week\n",
    "day_of_week = df.groupby(['day_of_week']).size().reset_index(name = 'count').sort_values('count')\n",
    "\n",
    "\n",
    "# plot the number of fires per day of week to visualize\n",
    "plt.figure(figsize=(20,8))\n",
    "g = sns.barplot(data = day_of_week, y = 'count', x = 'day_of_week')\n",
    "plt.xlabel('Day of the week')\n",
    "plt.ylabel('Number of wildfires')\n",
    "g.axes.set_title('Number of Fires for Day of the Week',fontsize=20);"
   ]
  },
  {
   "cell_type": "code",
   "execution_count": null,
   "id": "c1af834f",
   "metadata": {},
   "outputs": [],
   "source": [
    "# Kristine\n",
    "# create dataframe for number of fires during each day of the week \n",
    "# that was caused specifically by \"debris and open burning\"\n",
    "debris_over_weekday = df[df['general_cause'] == 'Debris and open burning'].groupby(['day_of_week']).size().reset_index(name = 'count').sort_values('count')\n",
    "\n",
    "# plot number of fires caused by debris and open burning over days of the week\n",
    "plt.figure(figsize=(20,8))\n",
    "g = sns.barplot(data = debris_over_weekday, y = 'count', x = 'day_of_week')\n",
    "plt.xlabel('Day of week')\n",
    "plt.ylabel('Number of wildfire cases due to Debris')\n",
    "g.axes.set_title('Number of Wildfire Per Day of Week Caused by Debris and Open Burning',fontsize=24);"
   ]
  },
  {
   "cell_type": "markdown",
   "id": "66580782",
   "metadata": {},
   "source": [
    "#### * As predicted, the weekends are the most vulnerable days for wildfires to occur. Saturday, Sunday, and Monday have the highest recorded fires. Furthermore, fires caused by Debris and open burning is the most prevalent cause on Saturdays*"
   ]
  },
  {
   "cell_type": "code",
   "execution_count": null,
   "id": "3005703e",
   "metadata": {},
   "outputs": [],
   "source": [
    "# # Sophia\n",
    "# # plot fires in Texas\n",
    "# plt.figure(figsize=(15,15))\n",
    "# sns.scatterplot(x='longitude', y='latitude', data=df[df.state=='TX'], size='fire_size_class', hue='fire_year', palette='flare', alpha=0.5);\n",
    "# # light to dark, oldest to newest\n"
   ]
  },
  {
   "cell_type": "code",
   "execution_count": null,
   "id": "2be2a470",
   "metadata": {
    "scrolled": false
   },
   "outputs": [],
   "source": [
    "# Sophia\n",
    "# create new column\n",
    "texas['days_uncontrolled'] = texas.containment_date - texas.discovery_date\n",
    "\n",
    "# look at value counts for uncontrolled windows\n",
    "texas.days_uncontrolled.value_counts().sort_index()"
   ]
  },
  {
   "cell_type": "code",
   "execution_count": null,
   "id": "b8678a71",
   "metadata": {},
   "outputs": [],
   "source": [
    "# Sophia\n",
    "# plot fires across us\n",
    "plt.figure(figsize=(20,12))\n",
    "sns.scatterplot(x='longitude', y='latitude', data= df, size='fire_size', hue='fire_year', palette='flare', alpha=0.5);\n",
    "plt.title('All Fires in the US', fontdict={'fontsize': 24});\n"
   ]
  },
  {
   "cell_type": "code",
   "execution_count": null,
   "id": "a6ba7064",
   "metadata": {
    "scrolled": false
   },
   "outputs": [],
   "source": [
    "# Sophia\n",
    "# print max and min for num fires/year\n",
    "for year in list(range(1992, 2019)):\n",
    "    print(year)\n",
    "    print('Fewest fires:', df[df.fire_year == year].groupby('state').fire_size.count().idxmin(), df[df.fire_year == year].groupby('state').fire_size.count().min())\n",
    "    print('Most fires:',df[df.fire_year == year].groupby('state').fire_size.count().idxmax(), df[df.fire_year == year].groupby('state').fire_size.count().max())\n",
    "    print()\n",
    "    "
   ]
  },
  {
   "cell_type": "code",
   "execution_count": null,
   "id": "b4f83fc9",
   "metadata": {},
   "outputs": [],
   "source": []
  },
  {
   "cell_type": "code",
   "execution_count": null,
   "id": "244a63d6",
   "metadata": {},
   "outputs": [],
   "source": []
  },
  {
   "cell_type": "code",
   "execution_count": null,
   "id": "f3e7b730",
   "metadata": {},
   "outputs": [],
   "source": []
  },
  {
   "cell_type": "code",
   "execution_count": null,
   "id": "c4a5f0f9",
   "metadata": {},
   "outputs": [],
   "source": []
  },
  {
   "cell_type": "markdown",
   "id": "d1d60330",
   "metadata": {},
   "source": [
    "---\n",
    "# Conclusion\n",
    "---\n",
    "\n",
    "Summary goes here"
   ]
  }
 ],
 "metadata": {
  "kernelspec": {
   "display_name": "Python 3",
   "language": "python",
   "name": "python3"
  },
  "language_info": {
   "codemirror_mode": {
    "name": "ipython",
    "version": 3
   },
   "file_extension": ".py",
   "mimetype": "text/x-python",
   "name": "python",
   "nbconvert_exporter": "python",
   "pygments_lexer": "ipython3",
   "version": "3.8.8"
  }
 },
 "nbformat": 4,
 "nbformat_minor": 5
}
