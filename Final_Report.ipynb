{
 "cells": [
  {
   "cell_type": "markdown",
   "id": "6bcf2f9c",
   "metadata": {},
   "source": [
    "\n",
    "<img width= \"300\" src=\"https://cdn.discordapp.com/attachments/392490318798389248/945695517004951633/jeanettes_fireart.png\" alt=\"US Fires Logo\">\n",
    "\n",
    "# Analyzing US Wildfires: Final Report\n",
    "\n",
    "### by Lori Ainslie, Jeanette Schulz, Kristine Cabanela, and Sophia Stewart \n",
    "### Last Updated: 22 February 2022"
   ]
  },
  {
   "cell_type": "code",
   "execution_count": 1,
   "id": "48ef0d2d",
   "metadata": {},
   "outputs": [],
   "source": [
    "# Data Science Libraries\n",
    "import pandas as pd\n",
    "import numpy as np\n",
    "import seaborn as sns\n",
    "import matplotlib.pyplot as plt\n",
    "\n",
    "# Group-made functions\n",
    "from wrangle import *\n",
    "\n",
    "# Blocking Warning Boxes\n",
    "import warnings\n",
    "warnings.filterwarnings(\"ignore\")\n",
    "\n",
    "# Remove Limits On Viewing Dataframes\n",
    "pd.set_option('display.max_columns', None)\n"
   ]
  },
  {
   "cell_type": "markdown",
   "id": "1e0603e1",
   "metadata": {},
   "source": [
    "---\n",
    "# Acquire\n",
    "---"
   ]
  },
  {
   "cell_type": "code",
   "execution_count": 2,
   "id": "35df121a",
   "metadata": {},
   "outputs": [],
   "source": [
    "# code here"
   ]
  },
  {
   "cell_type": "markdown",
   "id": "e8d6015b",
   "metadata": {},
   "source": [
    "---\n",
    "# Prepare\n",
    "---"
   ]
  },
  {
   "cell_type": "code",
   "execution_count": 3,
   "id": "99f0c159",
   "metadata": {},
   "outputs": [],
   "source": [
    "# code here"
   ]
  },
  {
   "cell_type": "markdown",
   "id": "81ea91ba",
   "metadata": {},
   "source": [
    "---\n",
    "# Explore\n",
    "---"
   ]
  },
  {
   "cell_type": "code",
   "execution_count": 4,
   "id": "52c06edb",
   "metadata": {},
   "outputs": [],
   "source": [
    "# code here"
   ]
  },
  {
   "cell_type": "code",
   "execution_count": null,
   "id": "6762b01f",
   "metadata": {},
   "outputs": [],
   "source": [
    "# plot counts by year\n",
    "sns.countplot(data=df, x='year')"
   ]
  },
  {
   "cell_type": "code",
   "execution_count": null,
   "id": "1f5a68e8",
   "metadata": {},
   "outputs": [],
   "source": [
    "# plot counts by month\n",
    "sns.countplot(data=df, x='month')"
   ]
  },
  {
   "cell_type": "code",
   "execution_count": null,
   "id": "00d70c43",
   "metadata": {},
   "outputs": [],
   "source": [
    "# plot counts by state\n",
    "plt.figure(figsize=(10,20))\n",
    "sns.countplot(data=df, y='state', order=df.state.value_counts().index)"
   ]
  },
  {
   "cell_type": "code",
   "execution_count": null,
   "id": "3c93725a",
   "metadata": {},
   "outputs": [],
   "source": [
    "# plot number of fires over the years resampled by 6 months\n",
    "num_fires_by_month.resample('6M').mean().plot(marker='o')"
   ]
  },
  {
   "cell_type": "code",
   "execution_count": null,
   "id": "ea4f93cc",
   "metadata": {},
   "outputs": [],
   "source": [
    "# plot number of fires over the years resampled by a year\n",
    "num_fires_by_month.resample('Y').mean().plot(marker='o')"
   ]
  },
  {
   "cell_type": "code",
   "execution_count": null,
   "id": "e514da03",
   "metadata": {},
   "outputs": [],
   "source": [
    "size_fires_by_month = df.resample('M').fire_size.sum()\n",
    "size_fires_by_month.idxmax()\n",
    "size_fires_by_month.max()"
   ]
  },
  {
   "cell_type": "code",
   "execution_count": null,
   "id": "79f1bd6d",
   "metadata": {},
   "outputs": [],
   "source": [
    "# plot monthly summed size of fires over the years\n",
    "df.groupby('year').fire_size.sum().plot()"
   ]
  },
  {
   "cell_type": "code",
   "execution_count": null,
   "id": "7f364239",
   "metadata": {},
   "outputs": [],
   "source": [
    "sns.lineplot(data=num_fires_by_year, x='year', y='num_fires', hue='state')"
   ]
  },
  {
   "cell_type": "code",
   "execution_count": null,
   "id": "b4e61337",
   "metadata": {},
   "outputs": [],
   "source": [
    "# plot trends over the years by the top four causes of wildfires, excluding observations where cause was not specified\n",
    "sns.lineplot(data=num_causes_by_year, x='year', y='num_occurrences', hue='general_cause')"
   ]
  },
  {
   "cell_type": "code",
   "execution_count": null,
   "id": "623ab7a2",
   "metadata": {},
   "outputs": [],
   "source": [
    "natural = num_causes_by_year[num_causes_by_year.general_cause == \"Natural\"]\n",
    "arson = num_causes_by_year[num_causes_by_year.general_cause == \"Arson/incendiarism\"]\n",
    "debris = num_causes_by_year[num_causes_by_year.general_cause == \"Debris and open burning\"]\n",
    "equipment = num_causes_by_year[num_causes_by_year.general_cause == \"Equipment and vehicle use\"]\n",
    "\n",
    "natural = natural.set_index(\"year\")\n",
    "arson = arson.set_index(\"year\")\n",
    "equipment = equipment.set_index(\"year\")\n",
    "debris = debris.set_index(\"year\")\n",
    "\n",
    "fig, ax = plt.subplots()\n",
    "labels = arson.index\n",
    "\n",
    "ax.bar(labels, arson.num_occurrences, label=\"Arson/incendiarism\")\n",
    "ax.bar(labels, natural.num_occurrences, label=\"Natural Causes\", bottom=arson.num_occurrences)\n",
    "ax.bar(labels, debris.num_occurrences, label=\"Debris & Open Burning\", bottom=natural.num_occurrences + arson.num_occurrences)\n",
    "ax.bar(labels, equipment.num_occurrences, label=\"Equipment & Vehicle Use\", bottom=debris.num_occurrences + natural.num_occurrences + arson.num_occurrences)\n",
    "\n",
    "ax.legend()\n",
    "ax.set_ylabel(\"n occurrences\")\n",
    "ax.set_title(\"Top Causes Of Wildfires Across The U.S.\")"
   ]
  },
  {
   "cell_type": "markdown",
   "id": "eb313fdf",
   "metadata": {},
   "source": [
    "#### Number of Months in a year, that had an average days_fire_existed greater than zero\n",
    "- 1992: 1\n",
    "- 1993: 0 \n",
    "- 1994: 3\n",
    "- 1995: 1\n",
    "- 1996: 3\n",
    "- 1997: 1\n",
    "- 1998: 2\n",
    "- 1999: 3\n",
    "- 2000: 3\n",
    "- 2001: 2\n",
    "- 2002: 5\n",
    "- 2003: 4\n",
    "- 2004: 4\n",
    "- 2005: 7\n",
    "- 2006: 6\n",
    "- 2007: 3\n",
    "- 2008: 9\n",
    "- 2009: 6\n",
    "- 2010: 5\n",
    "- 2011: 4\n",
    "- 2012: 7\n",
    "- 2013: 6\n",
    "- 2014: 5\n",
    "- 2015: 4\n",
    "- 2016: 4\n",
    "- 2017: 6\n",
    "- 2018: 6"
   ]
  },
  {
   "cell_type": "code",
   "execution_count": null,
   "id": "4fb825af",
   "metadata": {},
   "outputs": [],
   "source": [
    "# What happened in November of 2013?\n",
    "clean_df[(clean_df.discovery_date == '2005-08') & (clean_df.days_fire_existed > '29 days')]"
   ]
  },
  {
   "cell_type": "code",
   "execution_count": null,
   "id": "6f79eebf",
   "metadata": {},
   "outputs": [],
   "source": [
    "# Let's look at how many fires Texas has had over the years\n",
    "plt.figure(figsize = (20,8))\n",
    "sns.countplot(data= texas , x= 'fire_year', hue='fire_year'  )\n",
    "plt.legend([],[], frameon=False)\n",
    "plt.title('Texas Wildfires have Increased in Number', fontdict={'fontsize': 24});"
   ]
  },
  {
   "cell_type": "code",
   "execution_count": null,
   "id": "7346aa84",
   "metadata": {},
   "outputs": [],
   "source": [
    "# Total Acres burned in Texas per year\n",
    "plt.figure(figsize = (20,8))\n",
    "texas.groupby('fire_year').fire_size.sum().plot()\n",
    "plt.title('Texas Acres Burned', fontdict={'fontsize': 24});"
   ]
  },
  {
   "cell_type": "code",
   "execution_count": null,
   "id": "ddc27cf5",
   "metadata": {},
   "outputs": [],
   "source": [
    "# plotted data for cause of wildfire and # of fires\n",
    "\n",
    "fig = plt.figure(figsize=(10, 8))\n",
    "ax = fires.general_cause.value_counts().plot.bar(width=.7, ec='black', color='red')\n",
    "ax.set(title='# of Fires vs cause', ylabel='Number of Fires', xlabel='cause')\n",
    "plt.savefig(\"Dist.png\")"
   ]
  },
  {
   "cell_type": "code",
   "execution_count": null,
   "id": "6eb620cb",
   "metadata": {},
   "outputs": [],
   "source": [
    "# fire size over span of years\n",
    "firesizeyear=sns.barplot(x=\"fire_year\", y=\"fire_size\", data=fires,color='red')\n",
    "firesizeyear.set_title('fire size per year')\n",
    "firesizeyear.set_xticklabels(firesizeyear.get_xticklabels(),rotation=90)"
   ]
  },
  {
   "cell_type": "code",
   "execution_count": null,
   "id": "ff35b641",
   "metadata": {},
   "outputs": [],
   "source": [
    "# plot the number of fires per day of week to visualize\n",
    "\n",
    "plt.figure(figsize=(14,5))\n",
    "g = sns.barplot(data = day_of_week, y = 'count', x = 'day_of_week')\n",
    "plt.xlabel('Day of the week')\n",
    "plt.ylabel('Number of wildfires')\n",
    "g.axes.set_title('# of fires for day of the week',fontsize=20)"
   ]
  },
  {
   "cell_type": "code",
   "execution_count": null,
   "id": "c1af834f",
   "metadata": {},
   "outputs": [],
   "source": [
    "# plot number of fires caused by debris and open burning over days of the week\n",
    "\n",
    "\n",
    "plt.figure(figsize=(14,5))\n",
    "g = sns.barplot(data = debris_over_weekday, y = 'count', x = 'day_of_week')\n",
    "plt.xlabel('Day of week')\n",
    "plt.ylabel('Number of wildfire cases due to Debris')\n",
    "g.axes.set_title('# of wildfire per day of week caused by debris and open burning',fontsize=20)"
   ]
  },
  {
   "cell_type": "code",
   "execution_count": null,
   "id": "3005703e",
   "metadata": {},
   "outputs": [],
   "source": [
    "# plot fires in Texas\n",
    "plt.figure(figsize=(15,15))\n",
    "sns.scatterplot(x='longitude', y='latitude', data=fires[fires.state=='TX'], size='fire_size_class', hue='fire_year', palette='flare', alpha=0.5);\n",
    "# light to dark, oldest to newest"
   ]
  },
  {
   "cell_type": "code",
   "execution_count": null,
   "id": "2be2a470",
   "metadata": {},
   "outputs": [],
   "source": [
    "# look at value counts for uncontrolled windows\n",
    "tx_fires.days_uncontrolled.value_counts().sort_index()"
   ]
  },
  {
   "cell_type": "code",
   "execution_count": null,
   "id": "b8678a71",
   "metadata": {},
   "outputs": [],
   "source": [
    "# plot fires across us\n",
    "plt.figure(figsize=(15,15))\n",
    "sns.scatterplot(x='longitude', y='latitude', data=fires, size='fire_size', hue='fire_year', palette='flare', alpha=0.5);"
   ]
  },
  {
   "cell_type": "code",
   "execution_count": null,
   "id": "a6ba7064",
   "metadata": {},
   "outputs": [],
   "source": [
    "# print max and min for num fires/year\n",
    "for year in list(range(1992, 2019)):\n",
    "    print(year)\n",
    "    print('Fewest fires:',fires[fires.fire_year == year].groupby('state').fire_size.count().idxmin(3), fires[fires.fire_year == year].groupby('state').fire_size.count().min())\n",
    "    print('Most fires:',fires[fires.fire_year == year].groupby('state').fire_size.count().idxmax(), fires[fires.fire_year == year].groupby('state').fire_size.count().max())\n",
    "    print()"
   ]
  },
  {
   "cell_type": "code",
   "execution_count": null,
   "id": "bebee193",
   "metadata": {},
   "outputs": [],
   "source": []
  },
  {
   "cell_type": "code",
   "execution_count": null,
   "id": "91d59a99",
   "metadata": {},
   "outputs": [],
   "source": []
  },
  {
   "cell_type": "code",
   "execution_count": null,
   "id": "8d279500",
   "metadata": {},
   "outputs": [],
   "source": []
  },
  {
   "cell_type": "code",
   "execution_count": null,
   "id": "b4f83fc9",
   "metadata": {},
   "outputs": [],
   "source": []
  },
  {
   "cell_type": "code",
   "execution_count": null,
   "id": "244a63d6",
   "metadata": {},
   "outputs": [],
   "source": []
  },
  {
   "cell_type": "code",
   "execution_count": null,
   "id": "f3e7b730",
   "metadata": {},
   "outputs": [],
   "source": []
  },
  {
   "cell_type": "code",
   "execution_count": null,
   "id": "c4a5f0f9",
   "metadata": {},
   "outputs": [],
   "source": []
  },
  {
   "cell_type": "markdown",
   "id": "d1d60330",
   "metadata": {},
   "source": [
    "---\n",
    "# Conclusion\n",
    "---\n",
    "\n",
    "Summary goes here"
   ]
  }
 ],
 "metadata": {
  "kernelspec": {
   "display_name": "Python 3",
   "language": "python",
   "name": "python3"
  },
  "language_info": {
   "codemirror_mode": {
    "name": "ipython",
    "version": 3
   },
   "file_extension": ".py",
   "mimetype": "text/x-python",
   "name": "python",
   "nbconvert_exporter": "python",
   "pygments_lexer": "ipython3",
   "version": "3.8.8"
  }
 },
 "nbformat": 4,
 "nbformat_minor": 5
}
